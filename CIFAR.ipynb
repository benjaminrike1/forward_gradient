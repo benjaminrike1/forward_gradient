{
  "cells": [
    {
      "cell_type": "markdown",
      "metadata": {
        "id": "SpgPiFcBm1hX"
      },
      "source": [
        "# CIFAR-10\n",
        "\n",
        "This notebook contains our experiements comparing forward gradient and backpropagation for Convolutional nets on the CIFAR-10 dataset"
      ]
    },
    {
      "cell_type": "markdown",
      "metadata": {
        "id": "JmBQQnpWoJrd"
      },
      "source": [
        "#### Setup"
      ]
    },
    {
      "cell_type": "code",
      "execution_count": 1,
      "metadata": {
        "colab": {
          "base_uri": "https://localhost:8080/"
        },
        "id": "XnA7qJ4F78Gr",
        "outputId": "eb88d89e-ed69-412c-becc-8fdda9e7f3f0"
      },
      "outputs": [
        {
          "name": "stdout",
          "output_type": "stream",
          "text": [
            "Looking in indexes: https://pypi.org/simple, https://us-python.pkg.dev/colab-wheels/public/simple/\n",
            "Looking in links: https://download.pytorch.org/whl/nightly/cpu/torch_nightly.html\n",
            "Requirement already satisfied: torch in /usr/local/lib/python3.7/dist-packages (1.11.0+cu113)\n",
            "Collecting torch\n",
            "  Downloading https://download.pytorch.org/whl/nightly/cpu/torch-1.13.0.dev20220612%2Bcpu-cp37-cp37m-linux_x86_64.whl (190.8 MB)\n",
            "\u001b[K     |████████████████████████████████| 190.8 MB 68 kB/s \n",
            "\u001b[?25hRequirement already satisfied: typing-extensions in /usr/local/lib/python3.7/dist-packages (from torch) (4.2.0)\n",
            "Installing collected packages: torch\n",
            "  Attempting uninstall: torch\n",
            "    Found existing installation: torch 1.11.0+cu113\n",
            "    Uninstalling torch-1.11.0+cu113:\n",
            "      Successfully uninstalled torch-1.11.0+cu113\n",
            "\u001b[31mERROR: pip's dependency resolver does not currently take into account all the packages that are installed. This behaviour is the source of the following dependency conflicts.\n",
            "torchvision 0.12.0+cu113 requires torch==1.11.0, but you have torch 1.13.0.dev20220612+cpu which is incompatible.\n",
            "torchtext 0.12.0 requires torch==1.11.0, but you have torch 1.13.0.dev20220612+cpu which is incompatible.\n",
            "torchaudio 0.11.0+cu113 requires torch==1.11.0, but you have torch 1.13.0.dev20220612+cpu which is incompatible.\u001b[0m\n",
            "Successfully installed torch-1.13.0.dev20220612+cpu\n",
            "Looking in indexes: https://pypi.org/simple, https://us-python.pkg.dev/colab-wheels/public/simple/\n",
            "Collecting functorch\n",
            "  Downloading functorch-0.1.1-cp37-cp37m-manylinux1_x86_64.whl (21.4 MB)\n",
            "\u001b[K     |████████████████████████████████| 21.4 MB 1.5 MB/s \n",
            "\u001b[?25hCollecting torch<1.12,>=1.11\n",
            "  Downloading torch-1.11.0-cp37-cp37m-manylinux1_x86_64.whl (750.6 MB)\n",
            "\u001b[K     |████████████████████████████████| 750.6 MB 11 kB/s \n",
            "\u001b[?25hRequirement already satisfied: typing-extensions in /usr/local/lib/python3.7/dist-packages (from torch<1.12,>=1.11->functorch) (4.2.0)\n",
            "Installing collected packages: torch, functorch\n",
            "  Attempting uninstall: torch\n",
            "    Found existing installation: torch 1.13.0.dev20220612+cpu\n",
            "    Uninstalling torch-1.13.0.dev20220612+cpu:\n",
            "      Successfully uninstalled torch-1.13.0.dev20220612+cpu\n",
            "Successfully installed functorch-0.1.1 torch-1.11.0\n",
            "--> Restarting colab instance\n"
          ]
        },
        {
          "data": {
            "text/plain": [
              "{'restart': True, 'status': 'ok'}"
            ]
          },
          "execution_count": 1,
          "metadata": {},
          "output_type": "execute_result"
        }
      ],
      "source": [
        "# Run once\n",
        "# CPU only: !pip install torch==1.11.0 torchvision==0.12.0 torchaudio==0.11.0 -f https://download.pytorch.org/whl/cpu/torch_stable.html\n",
        "!pip install --pre torch -f https://download.pytorch.org/whl/nightly/cpu/torch_nightly.html --upgrade\n",
        "!pip install functorch\n",
        "print(\"--> Restarting colab instance\") \n",
        "get_ipython().kernel.do_shutdown(True)"
      ]
    },
    {
      "cell_type": "code",
      "execution_count": 1,
      "metadata": {
        "colab": {
          "base_uri": "https://localhost:8080/"
        },
        "id": "w16dKpsQbsXH",
        "outputId": "a93ea05e-554c-4970-9f36-125bb7577db2"
      },
      "outputs": [
        {
          "name": "stdout",
          "output_type": "stream",
          "text": [
            "Cloning into 'forward_gradient'...\n",
            "remote: Enumerating objects: 109, done.\u001b[K\n",
            "remote: Counting objects: 100% (109/109), done.\u001b[K\n",
            "remote: Compressing objects: 100% (80/80), done.\u001b[K\n",
            "remote: Total 109 (delta 52), reused 74 (delta 28), pack-reused 0\u001b[K\n",
            "Receiving objects: 100% (109/109), 1.94 MiB | 4.91 MiB/s, done.\n",
            "Resolving deltas: 100% (52/52), done.\n"
          ]
        }
      ],
      "source": [
        "!git clone https://github.com/benjaminrike1/forward_gradient"
      ]
    },
    {
      "cell_type": "code",
      "execution_count": 2,
      "metadata": {
        "colab": {
          "base_uri": "https://localhost:8080/"
        },
        "id": "H7a4RrKbmuKQ",
        "outputId": "1dad6b69-c9ed-42c3-dbe3-5da76b9e6d84"
      },
      "outputs": [
        {
          "name": "stdout",
          "output_type": "stream",
          "text": [
            "/content/forward_gradient\n"
          ]
        }
      ],
      "source": [
        "cd forward_gradient"
      ]
    },
    {
      "cell_type": "code",
      "execution_count": 3,
      "metadata": {
        "colab": {
          "base_uri": "https://localhost:8080/"
        },
        "id": "ngzkoQhx8SHI",
        "outputId": "d721bbd9-192c-42a1-a642-6a60040e974c"
      },
      "outputs": [
        {
          "name": "stderr",
          "output_type": "stream",
          "text": [
            "/usr/local/lib/python3.7/dist-packages/torchvision/io/image.py:13: UserWarning: Failed to load image Python extension: libtorch_cuda_cu.so: cannot open shared object file: No such file or directory\n",
            "  warn(f\"Failed to load image Python extension: {e}\")\n"
          ]
        }
      ],
      "source": [
        "import torch\n",
        "import torch.nn as nn\n",
        "import torch.nn.functional as F\n",
        "\n",
        "import torchvision\n",
        "import functorch as ft\n",
        "\n",
        "import numpy as np\n",
        "from functools import partial\n",
        "\n",
        "import matplotlib.pyplot as plt\n",
        "import seaborn as sns\n",
        "\n",
        "from loss import functional_xent, softmax, clamp_probs, _xent\n",
        "from optimizers import ForwardSGD, ForwardAdam\n",
        "from models import Net, ConvNet, CifarNet\n",
        "\n",
        "torch.manual_seed(0)\n",
        "device = torch.device(\"cuda\" if torch.cuda.is_available() else \"cpu\")\n"
      ]
    },
    {
      "cell_type": "markdown",
      "metadata": {
        "id": "Vvt5q3XaqbUc"
      },
      "source": [
        "## CIFAR dataset"
      ]
    },
    {
      "cell_type": "markdown",
      "metadata": {
        "id": "Vy2UKEhnqexi"
      },
      "source": [
        "Importing the data from torchvision."
      ]
    },
    {
      "cell_type": "code",
      "execution_count": 4,
      "metadata": {
        "colab": {
          "base_uri": "https://localhost:8080/"
        },
        "id": "fnfSMWT8qajP",
        "outputId": "72e5ee9f-f739-4106-ef5e-213dc9a804bf"
      },
      "outputs": [
        {
          "name": "stdout",
          "output_type": "stream",
          "text": [
            "Files already downloaded and verified\n",
            "Files already downloaded and verified\n"
          ]
        }
      ],
      "source": [
        "transform = torchvision.transforms.Compose([\n",
        "    torchvision.transforms.ToTensor()\n",
        "])\n",
        "\n",
        "\n",
        "cifar_train = torchvision.datasets.CIFAR10(\n",
        "    '/tmp/data',\n",
        "    train=True, \n",
        "    download=True, \n",
        "    transform=transform\n",
        ")\n",
        "# splitting into training and validation set\n",
        "train, val = torch.utils.data.random_split(cifar_train, [40000, 10000])\n",
        "\n",
        "train_data_loader = torch.utils.data.DataLoader(train, \n",
        "                                          batch_size=64, \n",
        "                                          shuffle=True)\n",
        "\n",
        "val_data_loader = torch.utils.data.DataLoader(val, \n",
        "                                          batch_size=64, \n",
        "                                          shuffle=True)\n",
        "\n",
        "mnist_test = torchvision.datasets.CIFAR10(\n",
        "    '/tmp/data',\n",
        "    train=False, \n",
        "    download=True, \n",
        "    transform=transform\n",
        ")\n",
        "test_data_loader = torch.utils.data.DataLoader(mnist_test, \n",
        "                                              batch_size=64,\n",
        "                                              shuffle=True)"
      ]
    },
    {
      "cell_type": "markdown",
      "metadata": {
        "id": "kSye81ShLb53"
      },
      "source": [
        "# Convolutional Neural Network\n",
        "\n",
        "We use a CNN for the modeling. The CNN follows the VGG architecture, but do only have three blocks and two fully connected layers whereas VGG has five blocks and three fully connected layers, Code can be found in `models.py` and information about the model in `report.pdf`."
      ]
    },
    {
      "cell_type": "markdown",
      "metadata": {
        "id": "O_S-PkJALZcx"
      },
      "source": [
        "## SGD"
      ]
    },
    {
      "cell_type": "markdown",
      "metadata": {
        "id": "ZSEsCszoLZdD"
      },
      "source": [
        "### Learning rate optimization\n",
        "\n",
        "The final search for learning rate is in a quite small interval as we earlier tried a wider search, but wanted to reduce the width to find a better optimum."
      ]
    },
    {
      "cell_type": "markdown",
      "metadata": {
        "id": "G6ev3OMeLZdE"
      },
      "source": [
        "Searching for best learning rate and learning rate decay for forward gradient."
      ]
    },
    {
      "cell_type": "code",
      "execution_count": 15,
      "metadata": {
        "colab": {
          "base_uri": "https://localhost:8080/"
        },
        "id": "TXvxySDJLZdE",
        "outputId": "1dd6ee17-e49b-4de3-d2ad-fb9de6a802fc"
      },
      "outputs": [
        {
          "name": "stdout",
          "output_type": "stream",
          "text": [
            "Validation loss for lr = 0.000000, decay = 0.000001: 2.303\n",
            "Validation loss for lr = 0.000000, decay = 0.000001: 2.303\n",
            "Validation loss for lr = 0.000001, decay = 0.000001: 2.303\n",
            "Validation loss for lr = 0.000002, decay = 0.000001: 2.303\n",
            "Validation loss for lr = 0.000007, decay = 0.000001: 2.303\n",
            "Validation loss for lr = 0.000019, decay = 0.000001: 2.303\n",
            "Validation loss for lr = 0.000053, decay = 0.000001: 2.303\n",
            "Validation loss for lr = 0.000152, decay = 0.000001: 2.303\n",
            "Validation loss for lr = 0.000433, decay = 0.000001: 2.302\n",
            "Validation loss for lr = 0.001233, decay = 0.000001: 14.380\n",
            "Validation loss for lr = 0.003511, decay = 0.000001: 14.394\n",
            "Validation loss for lr = 0.010000, decay = 0.000001: 14.354\n"
          ]
        }
      ],
      "source": [
        "torch.manual_seed(42) # setting seed for reproducibility\n",
        "\n",
        "# learning rate and decays grid search for forward gradient\n",
        "learning_rates = np.logspace(-7, -2, 12)\n",
        "decays = [1e-6]\n",
        "\n",
        "epochs = 20\n",
        "\n",
        "for gamma in learning_rates:\n",
        "  for lambda_ in decays:\n",
        "    net = CifarNet().to(device) # defining net\n",
        "\n",
        "    # making the net functional to run the code in functorch\n",
        "    # for evaluating the Jacobian-vector product\n",
        "    func, params = ft.make_functional(net)\n",
        "\n",
        "    # removing requires gradient as it will not be used\n",
        "    # for the forward AD\n",
        "    for param in params:\n",
        "        param.requires_grad_(False)\n",
        "\n",
        "    # defining our optimizer\n",
        "    opt = ForwardSGD(func, functional_xent, params, lr=gamma, momentum = False, decay=lambda_)\n",
        "\n",
        "    # training\n",
        "    for e in range(epochs):\n",
        "      for i, (image, label) in enumerate(train_data_loader):\n",
        "        image, label = image.to(device), label.to(device)\n",
        "        params, loss, jvp = opt.step(image, label) # one optimization step\n",
        "\n",
        "    # evaluating on the val set\n",
        "    test_losses = []\n",
        "    for i, (image, label) in enumerate(val_data_loader):\n",
        "      batch_loss = []\n",
        "      with torch.no_grad():\n",
        "        image, label = image.to(device), label.to(device)\n",
        "        val_loss = functional_xent(params, func,image, label)\n",
        "        batch_loss.append(val_loss.item())\n",
        "      test_losses.append(np.mean(batch_loss))\n",
        "    print(f\"Validation loss for lr = {format(gamma,'.6f')}, decay = {format(lambda_,'.6f')}: {format(np.mean(test_losses),'.3f')}\")"
      ]
    },
    {
      "cell_type": "markdown",
      "metadata": {
        "id": "sUUbHs1eLZdF"
      },
      "source": [
        "Searching for best learning rate and learning rate decay for backpropagation."
      ]
    },
    {
      "cell_type": "code",
      "execution_count": 14,
      "metadata": {
        "colab": {
          "base_uri": "https://localhost:8080/"
        },
        "id": "odUiL5vGLZdF",
        "outputId": "19972de6-7884-43e3-8044-492c5a84a3c6"
      },
      "outputs": [
        {
          "name": "stdout",
          "output_type": "stream",
          "text": [
            "Validation loss for lr = 0.010000, decay = 0.000000: 1.826\n",
            "Validation loss for lr = 0.025119, decay = 0.000000: 1.246\n",
            "Validation loss for lr = 0.063096, decay = 0.000000: 1.245\n",
            "Validation loss for lr = 0.158489, decay = 0.000000: 1.196\n",
            "Validation loss for lr = 0.398107, decay = 0.000000: 1.068\n",
            "Validation loss for lr = 1.000000, decay = 0.000000: 2.306\n"
          ]
        }
      ],
      "source": [
        "torch.manual_seed(42) # setting seed for reporducibility\n",
        "\n",
        "# defining learning rates and decays for grid search\n",
        "learning_rates = np.logspace(-2, 0, 6)\n",
        "decays = [0]\n",
        "\n",
        "criterion = nn.CrossEntropyLoss() # loss function\n",
        "for gamma in learning_rates:\n",
        "  for lambda_ in decays:\n",
        "    lr_new = gamma\n",
        "    net = CifarNet().to(device) # defining net\n",
        "\n",
        "    # storing losses\n",
        "    losses = []\n",
        "    steps = 0\n",
        "    for epoch in range(epochs):\n",
        "      # going over training set in batches\n",
        "      for i, (image, label) in enumerate(train_data_loader):\n",
        "        steps += 1\n",
        "        backprop = torch.optim.SGD(net.parameters(), lr=lr_new) # backprop SGD\n",
        "        image, label = image.to(device), label.to(device)\n",
        "\n",
        "        # optimizing\n",
        "        backprop.zero_grad()\n",
        "        outputs = net(image)\n",
        "        loss = criterion(outputs, label)\n",
        "        loss.backward()\n",
        "        backprop.step()\n",
        "        losses.append(loss.item())\n",
        "\n",
        "        # learning rate decay\n",
        "        lr_new = gamma * np.exp(-steps*lambda_)\n",
        "\n",
        "    # evaluating on the val set\n",
        "    test_losses = []\n",
        "    for i, (image, label) in enumerate(val_data_loader):\n",
        "      batch_loss = []\n",
        "      with torch.no_grad():\n",
        "        image, label = image.to(device), label.to(device)\n",
        "        val_loss = criterion(net(image), label)\n",
        "        batch_loss.append(val_loss.item())\n",
        "      test_losses.append(np.mean(batch_loss))\n",
        "    print(f\"Validation loss for lr = {format(gamma,'.6f')}, decay = {format(lambda_,'.6f')}: {format(np.mean(test_losses),'.3f')}\")"
      ]
    },
    {
      "cell_type": "markdown",
      "metadata": {
        "id": "IT5eD2MZLZdG"
      },
      "source": [
        "### Modeling"
      ]
    },
    {
      "cell_type": "markdown",
      "metadata": {
        "id": "-wwRWd0yLZdG"
      },
      "source": [
        "We first run forward gradient for the optimal hyperparameters."
      ]
    },
    {
      "cell_type": "code",
      "execution_count": null,
      "metadata": {
        "colab": {
          "base_uri": "https://localhost:8080/"
        },
        "id": "Gz0-4gC_LZdI",
        "outputId": "3a8b99dc-6fac-4fc6-eafd-899b62a09ba4"
      },
      "outputs": [
        {
          "name": "stdout",
          "output_type": "stream",
          "text": [
            "Test loss in epoch 1: 2.296\n",
            "Test loss in epoch 2: 2.298\n",
            "Test loss in epoch 3: 2.298\n",
            "Test loss in epoch 4: 2.298\n",
            "Test loss in epoch 5: 2.299\n",
            "Test loss in epoch 6: 2.296\n",
            "Test loss in epoch 7: 2.294\n",
            "Test loss in epoch 8: 2.290\n",
            "Test loss in epoch 9: 2.297\n",
            "Test loss in epoch 10: 2.299\n",
            "Test loss in epoch 11: 2.291\n",
            "Test loss in epoch 12: 2.289\n",
            "Test loss in epoch 13: 2.273\n",
            "Test loss in epoch 14: 2.262\n",
            "Test loss in epoch 15: 2.251\n",
            "Test loss in epoch 16: 2.196\n",
            "Test loss in epoch 17: 2.184\n",
            "Test loss in epoch 18: 2.132\n",
            "Test loss in epoch 19: 2.043\n",
            "Test loss in epoch 20: 1.838\n",
            "Test loss in epoch 21: 1.700\n",
            "Test loss in epoch 22: 1.619\n",
            "Test loss in epoch 23: 1.237\n",
            "Test loss in epoch 24: 1.109\n",
            "Test loss in epoch 25: 1.153\n",
            "Test loss in epoch 26: 0.922\n",
            "Test loss in epoch 27: 0.729\n",
            "Test loss in epoch 28: 0.846\n",
            "Test loss in epoch 29: 0.675\n",
            "Test loss in epoch 30: 0.783\n",
            "Test loss in epoch 31: 0.747\n",
            "Test loss in epoch 32: 0.655\n",
            "Test loss in epoch 33: 0.787\n",
            "Test loss in epoch 34: 0.661\n",
            "Test loss in epoch 35: 0.334\n",
            "Test loss in epoch 36: 0.579\n",
            "Test loss in epoch 37: 0.681\n",
            "Test loss in epoch 38: 0.597\n",
            "Test loss in epoch 39: 0.375\n",
            "Test loss in epoch 40: 0.532\n",
            "Test loss in epoch 41: 0.582\n",
            "Test loss in epoch 42: 0.609\n",
            "Test loss in epoch 43: 0.336\n",
            "Test loss in epoch 44: 0.852\n",
            "Test loss in epoch 45: 0.983\n",
            "Test loss in epoch 46: 1.103\n",
            "Test loss in epoch 47: 0.594\n",
            "Test loss in epoch 48: 1.437\n",
            "Test loss in epoch 49: 0.851\n",
            "Test loss in epoch 50: 0.548\n"
          ]
        }
      ],
      "source": [
        "torch.manual_seed(42) # setting seed for reproducibility\n",
        "\n",
        "net = CifarNet().to(device) # defining net\n",
        "\n",
        "# using best lr and decay found in the optimizations below\n",
        "lr = 0.000398\n",
        "decay = 1e-5\n",
        "# making the net functional to run the code in functorch\n",
        "# for evaluating the Jacobian-vector product\n",
        "func, params = ft.make_functional(net)\n",
        "\n",
        "# removing requires gradient as it will not be used\n",
        "# for the forward AD\n",
        "for param in params:\n",
        "    param.requires_grad_(False)\n",
        "\n",
        "# defining our optimizer\n",
        "opt = ForwardSGD(func, functional_xent, params, lr=lr, momentum = False, decay=decay, clip = 1)\n",
        "\n",
        "# training for e epochs\n",
        "losses_fwd = []\n",
        "norms = []\n",
        "epochs = 50\n",
        "test_losses_fwd = []\n",
        "for e in range(epochs):\n",
        "  for j, (image, label) in enumerate(train_data_loader):\n",
        "    image, label = image.to(device), label.to(device)\n",
        "    params, loss, norm = opt.step(image, label)\n",
        "    try:\n",
        "      norms.append(norm.item())\n",
        "    except:\n",
        "      norms.append(norm)\n",
        "    losses_fwd.append(loss.item())\n",
        "\n",
        "  # evaluating on the test set\n",
        "  for i, (image, label) in enumerate(test_data_loader):\n",
        "    with torch.no_grad():\n",
        "      batch_loss = []\n",
        "      image, label = image.to(device), label.to(device)\n",
        "      test_loss = functional_xent(params, func, image, label)\n",
        "      batch_loss.append(test_loss.item())\n",
        "  test_losses_fwd.append(np.mean(batch_loss))\n",
        "  print(f\"Test loss in epoch {e+1}: {format(test_losses_fwd[-1], '.3f')}\")\n"
      ]
    },
    {
      "cell_type": "markdown",
      "metadata": {
        "id": "OCYxr--mLZdJ"
      },
      "source": [
        "Backpropagation:"
      ]
    },
    {
      "cell_type": "code",
      "execution_count": 18,
      "metadata": {
        "colab": {
          "base_uri": "https://localhost:8080/",
          "height": 398
        },
        "id": "hDgs-JJPLZdJ",
        "outputId": "823661ab-0d6f-4392-e9e0-a518f2f1e11d"
      },
      "outputs": [
        {
          "name": "stdout",
          "output_type": "stream",
          "text": [
            "Test loss in epoch 1: 2.2031121253967285\n"
          ]
        },
        {
          "ename": "KeyboardInterrupt",
          "evalue": "ignored",
          "output_type": "error",
          "traceback": [
            "\u001b[0;31m---------------------------------------------------------------------------\u001b[0m",
            "\u001b[0;31mKeyboardInterrupt\u001b[0m                         Traceback (most recent call last)",
            "\u001b[0;32m<ipython-input-18-ed522146c026>\u001b[0m in \u001b[0;36m<module>\u001b[0;34m()\u001b[0m\n\u001b[1;32m     14\u001b[0m \u001b[0;32mfor\u001b[0m \u001b[0me\u001b[0m \u001b[0;32min\u001b[0m \u001b[0mrange\u001b[0m\u001b[0;34m(\u001b[0m\u001b[0mepochs\u001b[0m\u001b[0;34m)\u001b[0m\u001b[0;34m:\u001b[0m\u001b[0;34m\u001b[0m\u001b[0;34m\u001b[0m\u001b[0m\n\u001b[1;32m     15\u001b[0m   \u001b[0;31m# going over training set in batches\u001b[0m\u001b[0;34m\u001b[0m\u001b[0;34m\u001b[0m\u001b[0;34m\u001b[0m\u001b[0m\n\u001b[0;32m---> 16\u001b[0;31m   \u001b[0;32mfor\u001b[0m \u001b[0mi\u001b[0m\u001b[0;34m,\u001b[0m \u001b[0;34m(\u001b[0m\u001b[0mimage\u001b[0m\u001b[0;34m,\u001b[0m \u001b[0mlabel\u001b[0m\u001b[0;34m)\u001b[0m \u001b[0;32min\u001b[0m \u001b[0menumerate\u001b[0m\u001b[0;34m(\u001b[0m\u001b[0mtrain_data_loader\u001b[0m\u001b[0;34m)\u001b[0m\u001b[0;34m:\u001b[0m\u001b[0;34m\u001b[0m\u001b[0;34m\u001b[0m\u001b[0m\n\u001b[0m\u001b[1;32m     17\u001b[0m     \u001b[0msteps\u001b[0m \u001b[0;34m+=\u001b[0m \u001b[0;36m1\u001b[0m\u001b[0;34m\u001b[0m\u001b[0;34m\u001b[0m\u001b[0m\n\u001b[1;32m     18\u001b[0m     \u001b[0mbackprop\u001b[0m \u001b[0;34m=\u001b[0m \u001b[0mtorch\u001b[0m\u001b[0;34m.\u001b[0m\u001b[0moptim\u001b[0m\u001b[0;34m.\u001b[0m\u001b[0mSGD\u001b[0m\u001b[0;34m(\u001b[0m\u001b[0mnet\u001b[0m\u001b[0;34m.\u001b[0m\u001b[0mparameters\u001b[0m\u001b[0;34m(\u001b[0m\u001b[0;34m)\u001b[0m\u001b[0;34m,\u001b[0m \u001b[0mlr\u001b[0m\u001b[0;34m=\u001b[0m\u001b[0mlr_new\u001b[0m\u001b[0;34m)\u001b[0m \u001b[0;31m# normal SGD in torch\u001b[0m\u001b[0;34m\u001b[0m\u001b[0;34m\u001b[0m\u001b[0m\n",
            "\u001b[0;32m/usr/local/lib/python3.7/dist-packages/torch/utils/data/dataloader.py\u001b[0m in \u001b[0;36m__next__\u001b[0;34m(self)\u001b[0m\n\u001b[1;32m    528\u001b[0m             \u001b[0;32mif\u001b[0m \u001b[0mself\u001b[0m\u001b[0;34m.\u001b[0m\u001b[0m_sampler_iter\u001b[0m \u001b[0;32mis\u001b[0m \u001b[0;32mNone\u001b[0m\u001b[0;34m:\u001b[0m\u001b[0;34m\u001b[0m\u001b[0;34m\u001b[0m\u001b[0m\n\u001b[1;32m    529\u001b[0m                 \u001b[0mself\u001b[0m\u001b[0;34m.\u001b[0m\u001b[0m_reset\u001b[0m\u001b[0;34m(\u001b[0m\u001b[0;34m)\u001b[0m\u001b[0;34m\u001b[0m\u001b[0;34m\u001b[0m\u001b[0m\n\u001b[0;32m--> 530\u001b[0;31m             \u001b[0mdata\u001b[0m \u001b[0;34m=\u001b[0m \u001b[0mself\u001b[0m\u001b[0;34m.\u001b[0m\u001b[0m_next_data\u001b[0m\u001b[0;34m(\u001b[0m\u001b[0;34m)\u001b[0m\u001b[0;34m\u001b[0m\u001b[0;34m\u001b[0m\u001b[0m\n\u001b[0m\u001b[1;32m    531\u001b[0m             \u001b[0mself\u001b[0m\u001b[0;34m.\u001b[0m\u001b[0m_num_yielded\u001b[0m \u001b[0;34m+=\u001b[0m \u001b[0;36m1\u001b[0m\u001b[0;34m\u001b[0m\u001b[0;34m\u001b[0m\u001b[0m\n\u001b[1;32m    532\u001b[0m             \u001b[0;32mif\u001b[0m \u001b[0mself\u001b[0m\u001b[0;34m.\u001b[0m\u001b[0m_dataset_kind\u001b[0m \u001b[0;34m==\u001b[0m \u001b[0m_DatasetKind\u001b[0m\u001b[0;34m.\u001b[0m\u001b[0mIterable\u001b[0m \u001b[0;32mand\u001b[0m\u001b[0;31m \u001b[0m\u001b[0;31m\\\u001b[0m\u001b[0;34m\u001b[0m\u001b[0;34m\u001b[0m\u001b[0m\n",
            "\u001b[0;32m/usr/local/lib/python3.7/dist-packages/torch/utils/data/dataloader.py\u001b[0m in \u001b[0;36m_next_data\u001b[0;34m(self)\u001b[0m\n\u001b[1;32m    568\u001b[0m     \u001b[0;32mdef\u001b[0m \u001b[0m_next_data\u001b[0m\u001b[0;34m(\u001b[0m\u001b[0mself\u001b[0m\u001b[0;34m)\u001b[0m\u001b[0;34m:\u001b[0m\u001b[0;34m\u001b[0m\u001b[0;34m\u001b[0m\u001b[0m\n\u001b[1;32m    569\u001b[0m         \u001b[0mindex\u001b[0m \u001b[0;34m=\u001b[0m \u001b[0mself\u001b[0m\u001b[0;34m.\u001b[0m\u001b[0m_next_index\u001b[0m\u001b[0;34m(\u001b[0m\u001b[0;34m)\u001b[0m  \u001b[0;31m# may raise StopIteration\u001b[0m\u001b[0;34m\u001b[0m\u001b[0;34m\u001b[0m\u001b[0m\n\u001b[0;32m--> 570\u001b[0;31m         \u001b[0mdata\u001b[0m \u001b[0;34m=\u001b[0m \u001b[0mself\u001b[0m\u001b[0;34m.\u001b[0m\u001b[0m_dataset_fetcher\u001b[0m\u001b[0;34m.\u001b[0m\u001b[0mfetch\u001b[0m\u001b[0;34m(\u001b[0m\u001b[0mindex\u001b[0m\u001b[0;34m)\u001b[0m  \u001b[0;31m# may raise StopIteration\u001b[0m\u001b[0;34m\u001b[0m\u001b[0;34m\u001b[0m\u001b[0m\n\u001b[0m\u001b[1;32m    571\u001b[0m         \u001b[0;32mif\u001b[0m \u001b[0mself\u001b[0m\u001b[0;34m.\u001b[0m\u001b[0m_pin_memory\u001b[0m\u001b[0;34m:\u001b[0m\u001b[0;34m\u001b[0m\u001b[0;34m\u001b[0m\u001b[0m\n\u001b[1;32m    572\u001b[0m             \u001b[0mdata\u001b[0m \u001b[0;34m=\u001b[0m \u001b[0m_utils\u001b[0m\u001b[0;34m.\u001b[0m\u001b[0mpin_memory\u001b[0m\u001b[0;34m.\u001b[0m\u001b[0mpin_memory\u001b[0m\u001b[0;34m(\u001b[0m\u001b[0mdata\u001b[0m\u001b[0;34m)\u001b[0m\u001b[0;34m\u001b[0m\u001b[0;34m\u001b[0m\u001b[0m\n",
            "\u001b[0;32m/usr/local/lib/python3.7/dist-packages/torch/utils/data/_utils/fetch.py\u001b[0m in \u001b[0;36mfetch\u001b[0;34m(self, possibly_batched_index)\u001b[0m\n\u001b[1;32m     47\u001b[0m     \u001b[0;32mdef\u001b[0m \u001b[0mfetch\u001b[0m\u001b[0;34m(\u001b[0m\u001b[0mself\u001b[0m\u001b[0;34m,\u001b[0m \u001b[0mpossibly_batched_index\u001b[0m\u001b[0;34m)\u001b[0m\u001b[0;34m:\u001b[0m\u001b[0;34m\u001b[0m\u001b[0;34m\u001b[0m\u001b[0m\n\u001b[1;32m     48\u001b[0m         \u001b[0;32mif\u001b[0m \u001b[0mself\u001b[0m\u001b[0;34m.\u001b[0m\u001b[0mauto_collation\u001b[0m\u001b[0;34m:\u001b[0m\u001b[0;34m\u001b[0m\u001b[0;34m\u001b[0m\u001b[0m\n\u001b[0;32m---> 49\u001b[0;31m             \u001b[0mdata\u001b[0m \u001b[0;34m=\u001b[0m \u001b[0;34m[\u001b[0m\u001b[0mself\u001b[0m\u001b[0;34m.\u001b[0m\u001b[0mdataset\u001b[0m\u001b[0;34m[\u001b[0m\u001b[0midx\u001b[0m\u001b[0;34m]\u001b[0m \u001b[0;32mfor\u001b[0m \u001b[0midx\u001b[0m \u001b[0;32min\u001b[0m \u001b[0mpossibly_batched_index\u001b[0m\u001b[0;34m]\u001b[0m\u001b[0;34m\u001b[0m\u001b[0;34m\u001b[0m\u001b[0m\n\u001b[0m\u001b[1;32m     50\u001b[0m         \u001b[0;32melse\u001b[0m\u001b[0;34m:\u001b[0m\u001b[0;34m\u001b[0m\u001b[0;34m\u001b[0m\u001b[0m\n\u001b[1;32m     51\u001b[0m             \u001b[0mdata\u001b[0m \u001b[0;34m=\u001b[0m \u001b[0mself\u001b[0m\u001b[0;34m.\u001b[0m\u001b[0mdataset\u001b[0m\u001b[0;34m[\u001b[0m\u001b[0mpossibly_batched_index\u001b[0m\u001b[0;34m]\u001b[0m\u001b[0;34m\u001b[0m\u001b[0;34m\u001b[0m\u001b[0m\n",
            "\u001b[0;32m/usr/local/lib/python3.7/dist-packages/torch/utils/data/_utils/fetch.py\u001b[0m in \u001b[0;36m<listcomp>\u001b[0;34m(.0)\u001b[0m\n\u001b[1;32m     47\u001b[0m     \u001b[0;32mdef\u001b[0m \u001b[0mfetch\u001b[0m\u001b[0;34m(\u001b[0m\u001b[0mself\u001b[0m\u001b[0;34m,\u001b[0m \u001b[0mpossibly_batched_index\u001b[0m\u001b[0;34m)\u001b[0m\u001b[0;34m:\u001b[0m\u001b[0;34m\u001b[0m\u001b[0;34m\u001b[0m\u001b[0m\n\u001b[1;32m     48\u001b[0m         \u001b[0;32mif\u001b[0m \u001b[0mself\u001b[0m\u001b[0;34m.\u001b[0m\u001b[0mauto_collation\u001b[0m\u001b[0;34m:\u001b[0m\u001b[0;34m\u001b[0m\u001b[0;34m\u001b[0m\u001b[0m\n\u001b[0;32m---> 49\u001b[0;31m             \u001b[0mdata\u001b[0m \u001b[0;34m=\u001b[0m \u001b[0;34m[\u001b[0m\u001b[0mself\u001b[0m\u001b[0;34m.\u001b[0m\u001b[0mdataset\u001b[0m\u001b[0;34m[\u001b[0m\u001b[0midx\u001b[0m\u001b[0;34m]\u001b[0m \u001b[0;32mfor\u001b[0m \u001b[0midx\u001b[0m \u001b[0;32min\u001b[0m \u001b[0mpossibly_batched_index\u001b[0m\u001b[0;34m]\u001b[0m\u001b[0;34m\u001b[0m\u001b[0;34m\u001b[0m\u001b[0m\n\u001b[0m\u001b[1;32m     50\u001b[0m         \u001b[0;32melse\u001b[0m\u001b[0;34m:\u001b[0m\u001b[0;34m\u001b[0m\u001b[0;34m\u001b[0m\u001b[0m\n\u001b[1;32m     51\u001b[0m             \u001b[0mdata\u001b[0m \u001b[0;34m=\u001b[0m \u001b[0mself\u001b[0m\u001b[0;34m.\u001b[0m\u001b[0mdataset\u001b[0m\u001b[0;34m[\u001b[0m\u001b[0mpossibly_batched_index\u001b[0m\u001b[0;34m]\u001b[0m\u001b[0;34m\u001b[0m\u001b[0;34m\u001b[0m\u001b[0m\n",
            "\u001b[0;32m/usr/local/lib/python3.7/dist-packages/torch/utils/data/dataset.py\u001b[0m in \u001b[0;36m__getitem__\u001b[0;34m(self, idx)\u001b[0m\n\u001b[1;32m    469\u001b[0m         \u001b[0;32mif\u001b[0m \u001b[0misinstance\u001b[0m\u001b[0;34m(\u001b[0m\u001b[0midx\u001b[0m\u001b[0;34m,\u001b[0m \u001b[0mlist\u001b[0m\u001b[0;34m)\u001b[0m\u001b[0;34m:\u001b[0m\u001b[0;34m\u001b[0m\u001b[0;34m\u001b[0m\u001b[0m\n\u001b[1;32m    470\u001b[0m             \u001b[0;32mreturn\u001b[0m \u001b[0mself\u001b[0m\u001b[0;34m.\u001b[0m\u001b[0mdataset\u001b[0m\u001b[0;34m[\u001b[0m\u001b[0;34m[\u001b[0m\u001b[0mself\u001b[0m\u001b[0;34m.\u001b[0m\u001b[0mindices\u001b[0m\u001b[0;34m[\u001b[0m\u001b[0mi\u001b[0m\u001b[0;34m]\u001b[0m \u001b[0;32mfor\u001b[0m \u001b[0mi\u001b[0m \u001b[0;32min\u001b[0m \u001b[0midx\u001b[0m\u001b[0;34m]\u001b[0m\u001b[0;34m]\u001b[0m\u001b[0;34m\u001b[0m\u001b[0;34m\u001b[0m\u001b[0m\n\u001b[0;32m--> 471\u001b[0;31m         \u001b[0;32mreturn\u001b[0m \u001b[0mself\u001b[0m\u001b[0;34m.\u001b[0m\u001b[0mdataset\u001b[0m\u001b[0;34m[\u001b[0m\u001b[0mself\u001b[0m\u001b[0;34m.\u001b[0m\u001b[0mindices\u001b[0m\u001b[0;34m[\u001b[0m\u001b[0midx\u001b[0m\u001b[0;34m]\u001b[0m\u001b[0;34m]\u001b[0m\u001b[0;34m\u001b[0m\u001b[0;34m\u001b[0m\u001b[0m\n\u001b[0m\u001b[1;32m    472\u001b[0m \u001b[0;34m\u001b[0m\u001b[0m\n\u001b[1;32m    473\u001b[0m     \u001b[0;32mdef\u001b[0m \u001b[0m__len__\u001b[0m\u001b[0;34m(\u001b[0m\u001b[0mself\u001b[0m\u001b[0;34m)\u001b[0m\u001b[0;34m:\u001b[0m\u001b[0;34m\u001b[0m\u001b[0;34m\u001b[0m\u001b[0m\n",
            "\u001b[0;32m/usr/local/lib/python3.7/dist-packages/torchvision/datasets/cifar.py\u001b[0m in \u001b[0;36m__getitem__\u001b[0;34m(self, index)\u001b[0m\n\u001b[1;32m    116\u001b[0m \u001b[0;34m\u001b[0m\u001b[0m\n\u001b[1;32m    117\u001b[0m         \u001b[0;32mif\u001b[0m \u001b[0mself\u001b[0m\u001b[0;34m.\u001b[0m\u001b[0mtransform\u001b[0m \u001b[0;32mis\u001b[0m \u001b[0;32mnot\u001b[0m \u001b[0;32mNone\u001b[0m\u001b[0;34m:\u001b[0m\u001b[0;34m\u001b[0m\u001b[0;34m\u001b[0m\u001b[0m\n\u001b[0;32m--> 118\u001b[0;31m             \u001b[0mimg\u001b[0m \u001b[0;34m=\u001b[0m \u001b[0mself\u001b[0m\u001b[0;34m.\u001b[0m\u001b[0mtransform\u001b[0m\u001b[0;34m(\u001b[0m\u001b[0mimg\u001b[0m\u001b[0;34m)\u001b[0m\u001b[0;34m\u001b[0m\u001b[0;34m\u001b[0m\u001b[0m\n\u001b[0m\u001b[1;32m    119\u001b[0m \u001b[0;34m\u001b[0m\u001b[0m\n\u001b[1;32m    120\u001b[0m         \u001b[0;32mif\u001b[0m \u001b[0mself\u001b[0m\u001b[0;34m.\u001b[0m\u001b[0mtarget_transform\u001b[0m \u001b[0;32mis\u001b[0m \u001b[0;32mnot\u001b[0m \u001b[0;32mNone\u001b[0m\u001b[0;34m:\u001b[0m\u001b[0;34m\u001b[0m\u001b[0;34m\u001b[0m\u001b[0m\n",
            "\u001b[0;32m/usr/local/lib/python3.7/dist-packages/torchvision/transforms/transforms.py\u001b[0m in \u001b[0;36m__call__\u001b[0;34m(self, img)\u001b[0m\n\u001b[1;32m     93\u001b[0m     \u001b[0;32mdef\u001b[0m \u001b[0m__call__\u001b[0m\u001b[0;34m(\u001b[0m\u001b[0mself\u001b[0m\u001b[0;34m,\u001b[0m \u001b[0mimg\u001b[0m\u001b[0;34m)\u001b[0m\u001b[0;34m:\u001b[0m\u001b[0;34m\u001b[0m\u001b[0;34m\u001b[0m\u001b[0m\n\u001b[1;32m     94\u001b[0m         \u001b[0;32mfor\u001b[0m \u001b[0mt\u001b[0m \u001b[0;32min\u001b[0m \u001b[0mself\u001b[0m\u001b[0;34m.\u001b[0m\u001b[0mtransforms\u001b[0m\u001b[0;34m:\u001b[0m\u001b[0;34m\u001b[0m\u001b[0;34m\u001b[0m\u001b[0m\n\u001b[0;32m---> 95\u001b[0;31m             \u001b[0mimg\u001b[0m \u001b[0;34m=\u001b[0m \u001b[0mt\u001b[0m\u001b[0;34m(\u001b[0m\u001b[0mimg\u001b[0m\u001b[0;34m)\u001b[0m\u001b[0;34m\u001b[0m\u001b[0;34m\u001b[0m\u001b[0m\n\u001b[0m\u001b[1;32m     96\u001b[0m         \u001b[0;32mreturn\u001b[0m \u001b[0mimg\u001b[0m\u001b[0;34m\u001b[0m\u001b[0;34m\u001b[0m\u001b[0m\n\u001b[1;32m     97\u001b[0m \u001b[0;34m\u001b[0m\u001b[0m\n",
            "\u001b[0;32m/usr/local/lib/python3.7/dist-packages/torchvision/transforms/transforms.py\u001b[0m in \u001b[0;36m__call__\u001b[0;34m(self, pic)\u001b[0m\n\u001b[1;32m    133\u001b[0m             \u001b[0mTensor\u001b[0m\u001b[0;34m:\u001b[0m \u001b[0mConverted\u001b[0m \u001b[0mimage\u001b[0m\u001b[0;34m.\u001b[0m\u001b[0;34m\u001b[0m\u001b[0;34m\u001b[0m\u001b[0m\n\u001b[1;32m    134\u001b[0m         \"\"\"\n\u001b[0;32m--> 135\u001b[0;31m         \u001b[0;32mreturn\u001b[0m \u001b[0mF\u001b[0m\u001b[0;34m.\u001b[0m\u001b[0mto_tensor\u001b[0m\u001b[0;34m(\u001b[0m\u001b[0mpic\u001b[0m\u001b[0;34m)\u001b[0m\u001b[0;34m\u001b[0m\u001b[0;34m\u001b[0m\u001b[0m\n\u001b[0m\u001b[1;32m    136\u001b[0m \u001b[0;34m\u001b[0m\u001b[0m\n\u001b[1;32m    137\u001b[0m     \u001b[0;32mdef\u001b[0m \u001b[0m__repr__\u001b[0m\u001b[0;34m(\u001b[0m\u001b[0mself\u001b[0m\u001b[0;34m)\u001b[0m \u001b[0;34m->\u001b[0m \u001b[0mstr\u001b[0m\u001b[0;34m:\u001b[0m\u001b[0;34m\u001b[0m\u001b[0;34m\u001b[0m\u001b[0m\n",
            "\u001b[0;32m/usr/local/lib/python3.7/dist-packages/torchvision/transforms/functional.py\u001b[0m in \u001b[0;36mto_tensor\u001b[0;34m(pic)\u001b[0m\n\u001b[1;32m    151\u001b[0m     \u001b[0mimg\u001b[0m \u001b[0;34m=\u001b[0m \u001b[0mimg\u001b[0m\u001b[0;34m.\u001b[0m\u001b[0mview\u001b[0m\u001b[0;34m(\u001b[0m\u001b[0mpic\u001b[0m\u001b[0;34m.\u001b[0m\u001b[0msize\u001b[0m\u001b[0;34m[\u001b[0m\u001b[0;36m1\u001b[0m\u001b[0;34m]\u001b[0m\u001b[0;34m,\u001b[0m \u001b[0mpic\u001b[0m\u001b[0;34m.\u001b[0m\u001b[0msize\u001b[0m\u001b[0;34m[\u001b[0m\u001b[0;36m0\u001b[0m\u001b[0;34m]\u001b[0m\u001b[0;34m,\u001b[0m \u001b[0mlen\u001b[0m\u001b[0;34m(\u001b[0m\u001b[0mpic\u001b[0m\u001b[0;34m.\u001b[0m\u001b[0mgetbands\u001b[0m\u001b[0;34m(\u001b[0m\u001b[0;34m)\u001b[0m\u001b[0;34m)\u001b[0m\u001b[0;34m)\u001b[0m\u001b[0;34m\u001b[0m\u001b[0;34m\u001b[0m\u001b[0m\n\u001b[1;32m    152\u001b[0m     \u001b[0;31m# put it from HWC to CHW format\u001b[0m\u001b[0;34m\u001b[0m\u001b[0;34m\u001b[0m\u001b[0;34m\u001b[0m\u001b[0m\n\u001b[0;32m--> 153\u001b[0;31m     \u001b[0mimg\u001b[0m \u001b[0;34m=\u001b[0m \u001b[0mimg\u001b[0m\u001b[0;34m.\u001b[0m\u001b[0mpermute\u001b[0m\u001b[0;34m(\u001b[0m\u001b[0;34m(\u001b[0m\u001b[0;36m2\u001b[0m\u001b[0;34m,\u001b[0m \u001b[0;36m0\u001b[0m\u001b[0;34m,\u001b[0m \u001b[0;36m1\u001b[0m\u001b[0;34m)\u001b[0m\u001b[0;34m)\u001b[0m\u001b[0;34m.\u001b[0m\u001b[0mcontiguous\u001b[0m\u001b[0;34m(\u001b[0m\u001b[0;34m)\u001b[0m\u001b[0;34m\u001b[0m\u001b[0;34m\u001b[0m\u001b[0m\n\u001b[0m\u001b[1;32m    154\u001b[0m     \u001b[0;32mif\u001b[0m \u001b[0misinstance\u001b[0m\u001b[0;34m(\u001b[0m\u001b[0mimg\u001b[0m\u001b[0;34m,\u001b[0m \u001b[0mtorch\u001b[0m\u001b[0;34m.\u001b[0m\u001b[0mByteTensor\u001b[0m\u001b[0;34m)\u001b[0m\u001b[0;34m:\u001b[0m\u001b[0;34m\u001b[0m\u001b[0;34m\u001b[0m\u001b[0m\n\u001b[1;32m    155\u001b[0m         \u001b[0;32mreturn\u001b[0m \u001b[0mimg\u001b[0m\u001b[0;34m.\u001b[0m\u001b[0mto\u001b[0m\u001b[0;34m(\u001b[0m\u001b[0mdtype\u001b[0m\u001b[0;34m=\u001b[0m\u001b[0mdefault_float_dtype\u001b[0m\u001b[0;34m)\u001b[0m\u001b[0;34m.\u001b[0m\u001b[0mdiv\u001b[0m\u001b[0;34m(\u001b[0m\u001b[0;36m255\u001b[0m\u001b[0;34m)\u001b[0m\u001b[0;34m\u001b[0m\u001b[0;34m\u001b[0m\u001b[0m\n",
            "\u001b[0;31mKeyboardInterrupt\u001b[0m: "
          ]
        }
      ],
      "source": [
        "torch.manual_seed(42) # setting seed for reproducibility\n",
        "\n",
        "lr = 0.4\n",
        "decay = 0\n",
        "epochs = 25\n",
        "lr_new = lr\n",
        "criterion = nn.CrossEntropyLoss() # loss function\n",
        "net = CifarNet().to(device) # defining net\n",
        "\n",
        "# storing losses\n",
        "losses = []\n",
        "test_losses = []\n",
        "steps = 0\n",
        "for e in range(epochs):\n",
        "  # going over training set in batches\n",
        "  for i, (image, label) in enumerate(train_data_loader):\n",
        "    steps += 1\n",
        "    backprop = torch.optim.SGD(net.parameters(), lr=lr_new) # normal SGD in torch\n",
        "    image, label = image.to(device), label.to(device)\n",
        "    backprop.zero_grad()\n",
        "    outputs = net(image)\n",
        "    loss = criterion(outputs, label)\n",
        "    loss.backward()\n",
        "    backprop.step()\n",
        "    losses.append(loss.item())\n",
        "    lr_new = lr * np.exp(-steps*decay)\n",
        "  \n",
        "  # testing on test set\n",
        "  for i, (image, label) in enumerate(test_data_loader):\n",
        "    with torch.no_grad():\n",
        "      batch_loss = []\n",
        "      image, label = image.to(device), label.to(device)\n",
        "      test_loss = criterion(net(image), label)\n",
        "      batch_loss.append(test_loss.item())\n",
        "  test_losses.append(np.mean(batch_loss))\n",
        "  print(f\"Test loss in epoch {e+1}: {(test_losses[-1])}\")"
      ]
    },
    {
      "cell_type": "markdown",
      "metadata": {
        "id": "chXujDXQLZdJ"
      },
      "source": [
        "#### Comparing results"
      ]
    },
    {
      "cell_type": "code",
      "execution_count": null,
      "metadata": {
        "colab": {
          "base_uri": "https://localhost:8080/",
          "height": 530
        },
        "id": "njaXMYnwLZdK",
        "outputId": "4207bcdf-fabd-4819-8e78-f337f92c59ea"
      },
      "outputs": [
        {
          "data": {
            "text/plain": [
              "<matplotlib.legend.Legend at 0x7f24e16e7450>"
            ]
          },
          "execution_count": 22,
          "metadata": {},
          "output_type": "execute_result"
        },
        {
          "data": {
            "image/png": "[encoded data removed]",
            "text/plain": [
              "<Figure size 1152x576 with 2 Axes>"
            ]
          },
          "metadata": {
            "needs_background": "light"
          },
          "output_type": "display_data"
        }
      ],
      "source": [
        "fig, ax = plt.subplots(1,2,figsize=(16,8))\n",
        "\n",
        "ax[0].plot(losses, color='r', label=\"Backprop\", alpha=.7)\n",
        "ax[0].set_xlabel(\"Iterations\")\n",
        "ax[0].set_ylabel(\"Loss\")\n",
        "ax[0].plot(losses_fwd[:], color='b', label='Forward gradient', alpha=.7)\n",
        "ax[0].set_title(\"Training loss for backprop and forward gradient\")\n",
        "ax[0].legend()\n",
        "\n",
        "ax[1].plot(test_losses, color='r', label=\"Backprop\", alpha=.7)\n",
        "ax[1].set_xlabel(\"Epochs\")\n",
        "ax[1].set_ylabel(\"Loss\")\n",
        "ax[1].plot(test_losses_fwd, color='b', label='Forward gradient', alpha=.7)\n",
        "ax[1].set_title(\"Validation loss for backprop and forward gradient\")\n",
        "ax[1].legend()"
      ]
    },
    {
      "cell_type": "markdown",
      "metadata": {
        "id": "TkQCPFQ0ZH5Q"
      },
      "source": [
        "## SGD with Nesterov momentum\n",
        "\n",
        "We now incorporate SGD with Nesterov momentum."
      ]
    },
    {
      "cell_type": "markdown",
      "metadata": {
        "id": "M14-FCx3ZH5n"
      },
      "source": [
        "### Learning rate optimization\n",
        "\n",
        "The final search for learning rate is in a quite small interval as we earlier tried a wider search, but wanted to reduce the width to find a better optimum."
      ]
    },
    {
      "cell_type": "markdown",
      "metadata": {
        "id": "CHIK0xnEZH5o"
      },
      "source": [
        "Searching for best learning rate and momentum for forward gradient."
      ]
    },
    {
      "cell_type": "code",
      "execution_count": 20,
      "metadata": {
        "colab": {
          "base_uri": "https://localhost:8080/",
          "height": 600
        },
        "id": "NkHhxVVpZH5o",
        "outputId": "98d9a850-5353-4052-f718-6b44acd79543"
      },
      "outputs": [
        {
          "name": "stdout",
          "output_type": "stream",
          "text": [
            "Validation loss for lr = 0.000010, Momentum = 0.100000: 2.303\n",
            "Validation loss for lr = 0.000010, Momentum = 0.366667: 2.303\n",
            "Validation loss for lr = 0.000010, Momentum = 0.633333: 2.303\n",
            "Validation loss for lr = 0.000010, Momentum = 0.900000: 2.302\n",
            "Validation loss for lr = 0.000046, Momentum = 0.100000: 2.303\n",
            "Validation loss for lr = 0.000046, Momentum = 0.366667: 2.303\n",
            "Validation loss for lr = 0.000046, Momentum = 0.633333: 2.303\n",
            "Validation loss for lr = 0.000046, Momentum = 0.900000: 2.303\n",
            "Validation loss for lr = 0.000215, Momentum = 0.100000: 2.303\n",
            "Validation loss for lr = 0.000215, Momentum = 0.366667: 2.303\n",
            "Validation loss for lr = 0.000215, Momentum = 0.633333: 2.302\n",
            "Validation loss for lr = 0.000215, Momentum = 0.900000: 14.313\n",
            "Validation loss for lr = 0.001000, Momentum = 0.100000: 2.315\n",
            "Validation loss for lr = 0.001000, Momentum = 0.366667: 14.294\n"
          ]
        },
        {
          "ename": "KeyboardInterrupt",
          "evalue": "ignored",
          "output_type": "error",
          "traceback": [
            "\u001b[0;31m---------------------------------------------------------------------------\u001b[0m",
            "\u001b[0;31mKeyboardInterrupt\u001b[0m                         Traceback (most recent call last)",
            "\u001b[0;32m<ipython-input-20-34f2a1707b17>\u001b[0m in \u001b[0;36m<module>\u001b[0;34m()\u001b[0m\n\u001b[1;32m     28\u001b[0m       \u001b[0;32mfor\u001b[0m \u001b[0mi\u001b[0m\u001b[0;34m,\u001b[0m \u001b[0;34m(\u001b[0m\u001b[0mimage\u001b[0m\u001b[0;34m,\u001b[0m \u001b[0mlabel\u001b[0m\u001b[0;34m)\u001b[0m \u001b[0;32min\u001b[0m \u001b[0menumerate\u001b[0m\u001b[0;34m(\u001b[0m\u001b[0mtrain_data_loader\u001b[0m\u001b[0;34m)\u001b[0m\u001b[0;34m:\u001b[0m\u001b[0;34m\u001b[0m\u001b[0;34m\u001b[0m\u001b[0m\n\u001b[1;32m     29\u001b[0m         \u001b[0mimage\u001b[0m\u001b[0;34m,\u001b[0m \u001b[0mlabel\u001b[0m \u001b[0;34m=\u001b[0m \u001b[0mimage\u001b[0m\u001b[0;34m.\u001b[0m\u001b[0mto\u001b[0m\u001b[0;34m(\u001b[0m\u001b[0mdevice\u001b[0m\u001b[0;34m)\u001b[0m\u001b[0;34m,\u001b[0m \u001b[0mlabel\u001b[0m\u001b[0;34m.\u001b[0m\u001b[0mto\u001b[0m\u001b[0;34m(\u001b[0m\u001b[0mdevice\u001b[0m\u001b[0;34m)\u001b[0m\u001b[0;34m\u001b[0m\u001b[0;34m\u001b[0m\u001b[0m\n\u001b[0;32m---> 30\u001b[0;31m         \u001b[0mparams\u001b[0m\u001b[0;34m,\u001b[0m \u001b[0mloss\u001b[0m\u001b[0;34m,\u001b[0m \u001b[0mjvp\u001b[0m \u001b[0;34m=\u001b[0m \u001b[0mopt\u001b[0m\u001b[0;34m.\u001b[0m\u001b[0mstep\u001b[0m\u001b[0;34m(\u001b[0m\u001b[0mimage\u001b[0m\u001b[0;34m,\u001b[0m \u001b[0mlabel\u001b[0m\u001b[0;34m)\u001b[0m \u001b[0;31m# one optimization step\u001b[0m\u001b[0;34m\u001b[0m\u001b[0;34m\u001b[0m\u001b[0m\n\u001b[0m\u001b[1;32m     31\u001b[0m \u001b[0;34m\u001b[0m\u001b[0m\n\u001b[1;32m     32\u001b[0m     \u001b[0;31m# evaluating on the val set\u001b[0m\u001b[0;34m\u001b[0m\u001b[0;34m\u001b[0m\u001b[0;34m\u001b[0m\u001b[0m\n",
            "\u001b[0;32m/content/forward_gradient/optimizers.py\u001b[0m in \u001b[0;36mstep\u001b[0;34m(self, image, label)\u001b[0m\n\u001b[1;32m     43\u001b[0m         \u001b[0mloss\u001b[0m\u001b[0;34m,\u001b[0m \u001b[0mjvp\u001b[0m \u001b[0;34m=\u001b[0m \u001b[0mft\u001b[0m\u001b[0;34m.\u001b[0m\u001b[0mjvp\u001b[0m\u001b[0;34m(\u001b[0m\u001b[0mf\u001b[0m\u001b[0;34m,\u001b[0m \u001b[0;34m(\u001b[0m\u001b[0mlook_ahead_params\u001b[0m\u001b[0;34m,\u001b[0m \u001b[0;34m)\u001b[0m\u001b[0;34m,\u001b[0m \u001b[0;34m(\u001b[0m\u001b[0mtangents\u001b[0m\u001b[0;34m,\u001b[0m \u001b[0;34m)\u001b[0m\u001b[0;34m)\u001b[0m\u001b[0;34m\u001b[0m\u001b[0;34m\u001b[0m\u001b[0m\n\u001b[1;32m     44\u001b[0m \u001b[0;34m\u001b[0m\u001b[0m\n\u001b[0;32m---> 45\u001b[0;31m       \u001b[0;32mif\u001b[0m \u001b[0mself\u001b[0m\u001b[0;34m.\u001b[0m\u001b[0mclip\u001b[0m \u001b[0;32mand\u001b[0m \u001b[0;34m(\u001b[0m\u001b[0mself\u001b[0m\u001b[0;34m.\u001b[0m\u001b[0mclip\u001b[0m\u001b[0;34m<\u001b[0m\u001b[0mtorch\u001b[0m\u001b[0;34m.\u001b[0m\u001b[0mabs\u001b[0m\u001b[0;34m(\u001b[0m\u001b[0mjvp\u001b[0m\u001b[0;34m)\u001b[0m\u001b[0;34m)\u001b[0m\u001b[0;34m:\u001b[0m\u001b[0;34m\u001b[0m\u001b[0;34m\u001b[0m\u001b[0m\n\u001b[0m\u001b[1;32m     46\u001b[0m         \u001b[0;32mif\u001b[0m \u001b[0mself\u001b[0m\u001b[0;34m.\u001b[0m\u001b[0mclip\u001b[0m \u001b[0;34m<\u001b[0m \u001b[0mjvp\u001b[0m\u001b[0;34m:\u001b[0m\u001b[0;34m\u001b[0m\u001b[0;34m\u001b[0m\u001b[0m\n\u001b[1;32m     47\u001b[0m           \u001b[0mjvp\u001b[0m \u001b[0;34m=\u001b[0m \u001b[0mself\u001b[0m\u001b[0;34m.\u001b[0m\u001b[0mclip\u001b[0m\u001b[0;34m\u001b[0m\u001b[0;34m\u001b[0m\u001b[0m\n",
            "\u001b[0;31mKeyboardInterrupt\u001b[0m: "
          ]
        }
      ],
      "source": [
        "torch.manual_seed(42) # setting seed for reproducibility\n",
        "\n",
        "# learning rate and momentum grid search for forward gradient\n",
        "learning_rates = np.logspace(-5, -3, 4)\n",
        "momentums = np.linspace(0.1, 0.9, 4)\n",
        "\n",
        "epochs = 10\n",
        "\n",
        "for gamma in learning_rates:\n",
        "  for momentum in momentums:\n",
        "    net = CifarNet().to(device) # defining net\n",
        "\n",
        "    # making the net functional to run the code in functorch\n",
        "    # for evaluating the Jacobian-vector product\n",
        "    func, params = ft.make_functional(net)\n",
        "\n",
        "    # removing requires gradient as it will not be used\n",
        "    # for the forward AD\n",
        "    for param in params:\n",
        "        param.requires_grad_(False)\n",
        "\n",
        "    # defining our optimizer\n",
        "    opt = ForwardSGD(func, functional_xent, params, lr=gamma,\n",
        "                     momentum = momentum, nesterov = True, decay=1e-6, clip=1)\n",
        "\n",
        "    # training\n",
        "    for e in range(epochs):\n",
        "      for i, (image, label) in enumerate(train_data_loader):\n",
        "        image, label = image.to(device), label.to(device)\n",
        "        params, loss, jvp = opt.step(image, label) # one optimization step\n",
        "\n",
        "    # evaluating on the val set\n",
        "    test_losses = []\n",
        "    for i, (image, label) in enumerate(val_data_loader):\n",
        "      batch_loss = []\n",
        "      with torch.no_grad():\n",
        "        image, label = image.to(device), label.to(device)\n",
        "        val_loss = functional_xent(params, func,image, label)\n",
        "        batch_loss.append(val_loss.item())\n",
        "      test_losses.append(np.mean(batch_loss))\n",
        "    print(f\"Validation loss for lr = {format(gamma,'.6f')}, Momentum = {format(momentum,'.6f')}: {format(np.mean(test_losses),'.3f')}\")"
      ]
    },
    {
      "cell_type": "markdown",
      "metadata": {
        "id": "VYnzGdWMZH5p"
      },
      "source": [
        "Searching for best learning rate and momentum for backpropagation."
      ]
    },
    {
      "cell_type": "code",
      "execution_count": 11,
      "metadata": {
        "colab": {
          "base_uri": "https://localhost:8080/"
        },
        "id": "SkQgBqzVZH5q",
        "outputId": "f1e4d25c-3e62-44b3-e00b-548e45120fef"
      },
      "outputs": [
        {
          "name": "stdout",
          "output_type": "stream",
          "text": [
            "Validation loss for lr = 0.010000, Momentum = 0.700000: 1.162\n",
            "Validation loss for lr = 0.010000, Momentum = 0.783333: 1.182\n",
            "Validation loss for lr = 0.010000, Momentum = 0.866667: 1.334\n",
            "Validation loss for lr = 0.010000, Momentum = 0.950000: 1.075\n",
            "Validation loss for lr = 0.031623, Momentum = 0.700000: 1.251\n",
            "Validation loss for lr = 0.031623, Momentum = 0.783333: 0.999\n",
            "Validation loss for lr = 0.031623, Momentum = 0.866667: 1.290\n",
            "Validation loss for lr = 0.031623, Momentum = 0.950000: 1.321\n",
            "Validation loss for lr = 0.100000, Momentum = 0.700000: 1.117\n",
            "Validation loss for lr = 0.100000, Momentum = 0.783333: 1.156\n",
            "Validation loss for lr = 0.100000, Momentum = 0.866667: 2.307\n",
            "Validation loss for lr = 0.100000, Momentum = 0.950000: 2.312\n",
            "Validation loss for lr = 0.316228, Momentum = 0.700000: 2.305\n",
            "Validation loss for lr = 0.316228, Momentum = 0.783333: 2.304\n",
            "Validation loss for lr = 0.316228, Momentum = 0.866667: 2.317\n",
            "Validation loss for lr = 0.316228, Momentum = 0.950000: 2.325\n",
            "Validation loss for lr = 1.000000, Momentum = 0.700000: 2.305\n",
            "Validation loss for lr = 1.000000, Momentum = 0.783333: 2.331\n",
            "Validation loss for lr = 1.000000, Momentum = 0.866667: 2.327\n",
            "Validation loss for lr = 1.000000, Momentum = 0.950000: 2.334\n"
          ]
        }
      ],
      "source": [
        "torch.manual_seed(42) # setting seed for reporducibility\n",
        "\n",
        "# defining learning rates and decays for grid search\n",
        "learning_rates = np.logspace(-2, 0, 5)\n",
        "momentums = np.linspace(0.7, 0.95, 4)\n",
        "\n",
        "criterion = nn.CrossEntropyLoss() # loss function\n",
        "for gamma in learning_rates:\n",
        "  for momentum in momentums:\n",
        "    net = CifarNet().to(device) # defining net\n",
        "    backprop = torch.optim.SGD(net.parameters(), lr=gamma,\n",
        "                                   momentum = momentum, nesterov = True) # backprop SGD\n",
        "    # storing losses\n",
        "    losses = []\n",
        "    for epoch in range(epochs):\n",
        "      # going over training set in batches\n",
        "      for i, (image, label) in enumerate(train_data_loader):\n",
        "        image, label = image.to(device), label.to(device)\n",
        "\n",
        "        # optimizing\n",
        "        backprop.zero_grad()\n",
        "        outputs = net(image)\n",
        "        loss = criterion(outputs, label)\n",
        "        loss.backward()\n",
        "        backprop.step()\n",
        "        losses.append(loss.item())\n",
        "\n",
        "    # evaluating on the val set\n",
        "    test_losses = []\n",
        "    for i, (image, label) in enumerate(val_data_loader):\n",
        "      batch_loss = []\n",
        "      with torch.no_grad():\n",
        "        image, label = image.to(device), label.to(device)\n",
        "        val_loss = criterion(net(image), label)\n",
        "        batch_loss.append(val_loss.item())\n",
        "      test_losses.append(np.mean(batch_loss))\n",
        "    print(f\"Validation loss for lr = {format(gamma,'.6f')}, Momentum = {format(momentum,'.6f')}: {format(np.mean(test_losses),'.3f')}\")"
      ]
    },
    {
      "cell_type": "markdown",
      "metadata": {
        "id": "KsHp6O-1ZH5r"
      },
      "source": [
        "### Modeling"
      ]
    },
    {
      "cell_type": "markdown",
      "metadata": {
        "id": "USJNbhMLZH5r"
      },
      "source": [
        "We first run forward gradient for the optimal hyperparameters."
      ]
    },
    {
      "cell_type": "code",
      "execution_count": null,
      "metadata": {
        "colab": {
          "base_uri": "https://localhost:8080/"
        },
        "id": "-UFGnwtMZH5r",
        "outputId": "bff749ba-6d79-46e4-d631-2c1da4d14bfb"
      },
      "outputs": [
        {
          "name": "stdout",
          "output_type": "stream",
          "text": [
            "Test loss in epoch 1: nan\n",
            "Test loss in epoch 2: nan\n",
            "Test loss in epoch 3: nan\n",
            "Test loss in epoch 4: nan\n",
            "Test loss in epoch 5: nan\n",
            "Test loss in epoch 6: nan\n",
            "Test loss in epoch 7: nan\n",
            "Test loss in epoch 8: nan\n",
            "Test loss in epoch 9: nan\n",
            "Test loss in epoch 10: nan\n",
            "Test loss in epoch 11: nan\n",
            "Test loss in epoch 12: nan\n",
            "Test loss in epoch 13: nan\n",
            "Test loss in epoch 14: nan\n",
            "Test loss in epoch 15: nan\n",
            "Test loss in epoch 16: nan\n",
            "Test loss in epoch 17: nan\n",
            "Test loss in epoch 18: nan\n",
            "Test loss in epoch 19: nan\n",
            "Test loss in epoch 20: nan\n",
            "Test loss in epoch 21: nan\n",
            "Test loss in epoch 22: nan\n",
            "Test loss in epoch 23: nan\n",
            "Test loss in epoch 24: nan\n",
            "Test loss in epoch 25: nan\n"
          ]
        }
      ],
      "source": [
        "# for reproducible purposes\n",
        "torch.manual_seed(42)\n",
        "\n",
        "net = ConvNet().to(device) # defining net\n",
        "\n",
        "# using best lr and decay found in the optimizations below\n",
        "lr = 0.001000\n",
        "momentum = 1.637\n",
        "# making the net functional to run the code in functorch\n",
        "# for evaluating the Jacobian-vector product\n",
        "func, params = ft.make_functional(net)\n",
        "\n",
        "# removing requires gradient as it will not be used\n",
        "# for the forward AD\n",
        "for param in params:\n",
        "    param.requires_grad_(False)\n",
        "\n",
        "# defining our optimizer\n",
        "opt = ForwardSGD(func, functional_xent, params, lr=lr, momentum = momentum, nesterov = True, clip = 1)\n",
        "\n",
        "# running the code for e epochs\n",
        "losses_fwd = []\n",
        "epochs = 25\n",
        "test_losses_fwd = []\n",
        "for e in range(epochs):\n",
        "  # training\n",
        "  for j, (image, label) in enumerate(train_data_loader):\n",
        "    image, label = image.to(device), label.to(device)\n",
        "    params, loss, jvp = opt.step(image, label)\n",
        "    losses_fwd.append(loss.item())\n",
        "  # evaluating on the test set\n",
        "  for i, (image, label) in enumerate(test_data_loader):\n",
        "    with torch.no_grad():\n",
        "      batch_loss = []\n",
        "      image, label = image.to(device), label.to(device)\n",
        "      test_loss = functional_xent(params, func, image, label)\n",
        "      batch_loss.append(test_loss.item())\n",
        "  test_losses_fwd.append(np.mean(batch_loss))\n",
        "  print(f\"Test loss in epoch {e+1}: {(test_losses_fwd[-1])}\")\n"
      ]
    },
    {
      "cell_type": "markdown",
      "metadata": {
        "id": "L7be6NA4ZH5s"
      },
      "source": [
        "Backpropagation:"
      ]
    },
    {
      "cell_type": "code",
      "execution_count": null,
      "metadata": {
        "colab": {
          "base_uri": "https://localhost:8080/"
        },
        "id": "ahBD1Zo7ZH5s",
        "outputId": "79c22151-6042-433d-c857-fb61047c1932"
      },
      "outputs": [
        {
          "name": "stdout",
          "output_type": "stream",
          "text": [
            "Test loss in epoch 1: 0.015787575393915176\n",
            "Test loss in epoch 2: 0.0021923540625721216\n",
            "Test loss in epoch 3: 0.012933120131492615\n",
            "Test loss in epoch 4: 0.0043885838240385056\n",
            "Test loss in epoch 5: 0.018080079928040504\n",
            "Test loss in epoch 6: 0.001556247123517096\n",
            "Test loss in epoch 7: 0.02679319493472576\n",
            "Test loss in epoch 8: 0.0007720048888586462\n",
            "Test loss in epoch 9: 0.0035625125747174025\n",
            "Test loss in epoch 10: 0.0015093664405867457\n",
            "Test loss in epoch 11: 0.1028296947479248\n",
            "Test loss in epoch 12: 1.1324813158353209e-06\n",
            "Test loss in epoch 13: 4.7683133743703365e-06\n",
            "Test loss in epoch 14: 4.573308979161084e-05\n",
            "Test loss in epoch 15: 7.538141653640196e-05\n",
            "Test loss in epoch 16: 1.3411033705779118e-07\n",
            "Test loss in epoch 17: 0.005310583859682083\n",
            "Test loss in epoch 18: 5.401881935540587e-05\n",
            "Test loss in epoch 19: 0.039031077176332474\n",
            "Test loss in epoch 20: 6.201769429026172e-05\n",
            "Test loss in epoch 21: 6.243384632398374e-06\n",
            "Test loss in epoch 22: 1.0675915291358251e-05\n",
            "Test loss in epoch 23: 0.05180671811103821\n",
            "Test loss in epoch 24: 3.5760047467192635e-05\n",
            "Test loss in epoch 25: 2.0024124751216732e-05\n",
            "Test loss in epoch 26: 0.00010131284943781793\n",
            "Test loss in epoch 27: 4.254163286532275e-06\n",
            "Test loss in epoch 28: 3.5017637856071815e-07\n",
            "Test loss in epoch 29: 2.3841823804104934e-07\n",
            "Test loss in epoch 30: 0.0\n",
            "Test loss in epoch 31: 3.427817136980593e-05\n",
            "Test loss in epoch 32: 0.0\n",
            "Test loss in epoch 33: 0.05359970033168793\n",
            "Test loss in epoch 34: 4.470347292340193e-08\n",
            "Test loss in epoch 35: 1.4901144140821998e-07\n",
            "Test loss in epoch 36: 0.0005798422498628497\n",
            "Test loss in epoch 37: 0.004604888614267111\n",
            "Test loss in epoch 38: 3.4793326904036803e-06\n",
            "Test loss in epoch 39: 0.0\n",
            "Test loss in epoch 40: 5.792382944491692e-05\n",
            "Test loss in epoch 41: 0.017222093418240547\n",
            "Test loss in epoch 42: 7.450580152834618e-09\n",
            "Test loss in epoch 43: 4.3958274886790605e-07\n",
            "Test loss in epoch 44: 7.450580152834618e-09\n",
            "Test loss in epoch 45: 1.0728743973231758e-06\n",
            "Test loss in epoch 46: 0.00012836103269364685\n",
            "Test loss in epoch 47: 1.713631121447179e-07\n",
            "Test loss in epoch 48: 0.004484991542994976\n",
            "Test loss in epoch 49: 1.147383500210708e-06\n",
            "Test loss in epoch 50: 0.0\n"
          ]
        }
      ],
      "source": [
        "torch.manual_seed(42) # setting seed for reproducibility\n",
        "\n",
        "lr = 0.030000\n",
        "momentum = 0.783\n",
        "epochs = 50\n",
        "lr_new = lr\n",
        "criterion = nn.CrossEntropyLoss() # loss function\n",
        "net = ConvNet().to(device) # defining net\n",
        "backprop = torch.optim.SGD(net.parameters(), lr=lr_new,\n",
        "                               momentum = momentum, nesterov = True) # normal SGD in torch\n",
        "\n",
        "# storing losses\n",
        "losses = []\n",
        "test_losses = []\n",
        "for e in range(epochs):\n",
        "  # going over training set in batches\n",
        "  for i, (image, label) in enumerate(train_data_loader):\n",
        "    image, label = image.to(device), label.to(device)\n",
        "    backprop.zero_grad()\n",
        "    outputs = net(image)\n",
        "    loss = criterion(outputs, label)\n",
        "    loss.backward()\n",
        "    backprop.step()\n",
        "    losses.append(loss.item())\n",
        "  \n",
        "  # testing on test set\n",
        "  for i, (image, label) in enumerate(test_data_loader):\n",
        "    with torch.no_grad():\n",
        "      batch_loss = []\n",
        "      image, label = image.to(device), label.to(device)\n",
        "      test_loss = criterion(net(image), label)\n",
        "      batch_loss.append(test_loss.item())\n",
        "  test_losses.append(np.mean(batch_loss))\n",
        "  print(f\"Test loss in epoch {e+1}: {(test_losses[-1])}\")"
      ]
    },
    {
      "cell_type": "markdown",
      "metadata": {
        "id": "7M0UhU8RZH5s"
      },
      "source": [
        "#### Comparing results"
      ]
    },
    {
      "cell_type": "code",
      "execution_count": null,
      "metadata": {
        "colab": {
          "base_uri": "https://localhost:8080/",
          "height": 530
        },
        "id": "p3Kfs77DZH5t",
        "outputId": "a7bd5f2b-57fa-4fa8-dab5-cc1fa4cfa6c7"
      },
      "outputs": [
        {
          "data": {
            "text/plain": [
              "<matplotlib.legend.Legend at 0x7f1d6caa6790>"
            ]
          },
          "execution_count": 20,
          "metadata": {},
          "output_type": "execute_result"
        },
        {
          "data": {
            "image/png": "[encoded data removed]",
            "text/plain": [
              "<Figure size 1152x576 with 2 Axes>"
            ]
          },
          "metadata": {
            "needs_background": "light"
          },
          "output_type": "display_data"
        }
      ],
      "source": [
        "fig, ax = plt.subplots(1,2,figsize=(16,8))\n",
        "\n",
        "ax[0].plot(losses, color='r', label=\"Backprop\", alpha=.7)\n",
        "ax[0].set_xlabel(\"Iterations\")\n",
        "ax[0].set_ylabel(\"Loss\")\n",
        "ax[0].plot(losses_fwd[:], color='b', label='Forward gradient', alpha=.7)\n",
        "ax[0].set_title(\"Training loss for backprop and forward gradient\")\n",
        "ax[0].legend()\n",
        "\n",
        "ax[1].plot(test_losses, color='r', label=\"Backprop\", alpha=.7)\n",
        "ax[1].set_xlabel(\"Epochs\")\n",
        "ax[1].set_ylabel(\"Loss\")\n",
        "ax[1].plot(test_losses_fwd, color='b', label='Forward gradient', alpha=.7)\n",
        "ax[1].set_title(\"Validation loss for backprop and forward gradient\")\n",
        "ax[1].legend()"
      ]
    },
    {
      "cell_type": "code",
      "execution_count": null,
      "metadata": {
        "id": "mx3n4GqKwlPz"
      },
      "outputs": [],
      "source": []
    }
  ],
  "metadata": {
    "accelerator": "GPU",
    "colab": {
      "collapsed_sections": [
        "Vvt5q3XaqbUc"
      ],
      "name": "CIFAR2.ipynb",
      "provenance": []
    },
    "kernelspec": {
      "display_name": "Python 3",
      "name": "python3"
    },
    "language_info": {
      "name": "python"
    }
  },
  "nbformat": 4,
  "nbformat_minor": 0
}

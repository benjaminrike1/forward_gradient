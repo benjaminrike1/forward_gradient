{
  "nbformat": 4,
  "nbformat_minor": 0,
  "metadata": {
    "colab": {
      "name": "CIFAR2.ipynb",
      "provenance": [],
      "collapsed_sections": [
        "Vvt5q3XaqbUc"
      ]
    },
    "kernelspec": {
      "name": "python3",
      "display_name": "Python 3"
    },
    "language_info": {
      "name": "python"
    },
    "accelerator": "GPU",
    "widgets": {
      "application/vnd.jupyter.widget-state+json": {
        "56357713694c4b9c8a3ca6fbf58f7eb7": {
          "model_module": "@jupyter-widgets/controls",
          "model_name": "HBoxModel",
          "model_module_version": "1.5.0",
          "state": {
            "_dom_classes": [],
            "_model_module": "@jupyter-widgets/controls",
            "_model_module_version": "1.5.0",
            "_model_name": "HBoxModel",
            "_view_count": null,
            "_view_module": "@jupyter-widgets/controls",
            "_view_module_version": "1.5.0",
            "_view_name": "HBoxView",
            "box_style": "",
            "children": [
              "IPY_MODEL_77979ec5354544ff82547d4642e7fe66",
              "IPY_MODEL_99e141b971c94faca54669997b3498b6",
              "IPY_MODEL_85c3f488c9b04773928e24da4cbf77e8"
            ],
            "layout": "IPY_MODEL_0087c512f3a64d3eb79dfb207b0fd925"
          }
        },
        "77979ec5354544ff82547d4642e7fe66": {
          "model_module": "@jupyter-widgets/controls",
          "model_name": "HTMLModel",
          "model_module_version": "1.5.0",
          "state": {
            "_dom_classes": [],
            "_model_module": "@jupyter-widgets/controls",
            "_model_module_version": "1.5.0",
            "_model_name": "HTMLModel",
            "_view_count": null,
            "_view_module": "@jupyter-widgets/controls",
            "_view_module_version": "1.5.0",
            "_view_name": "HTMLView",
            "description": "",
            "description_tooltip": null,
            "layout": "IPY_MODEL_83980494359e444481289fe4f3675573",
            "placeholder": "​",
            "style": "IPY_MODEL_6e0fac8323584b18bf67a1080f7ee650",
            "value": ""
          }
        },
        "99e141b971c94faca54669997b3498b6": {
          "model_module": "@jupyter-widgets/controls",
          "model_name": "FloatProgressModel",
          "model_module_version": "1.5.0",
          "state": {
            "_dom_classes": [],
            "_model_module": "@jupyter-widgets/controls",
            "_model_module_version": "1.5.0",
            "_model_name": "FloatProgressModel",
            "_view_count": null,
            "_view_module": "@jupyter-widgets/controls",
            "_view_module_version": "1.5.0",
            "_view_name": "ProgressView",
            "bar_style": "success",
            "description": "",
            "description_tooltip": null,
            "layout": "IPY_MODEL_b3560f755659429f98892f725aec584a",
            "max": 170498071,
            "min": 0,
            "orientation": "horizontal",
            "style": "IPY_MODEL_4d869f92389d4d8296847ee81c7553a7",
            "value": 170498071
          }
        },
        "85c3f488c9b04773928e24da4cbf77e8": {
          "model_module": "@jupyter-widgets/controls",
          "model_name": "HTMLModel",
          "model_module_version": "1.5.0",
          "state": {
            "_dom_classes": [],
            "_model_module": "@jupyter-widgets/controls",
            "_model_module_version": "1.5.0",
            "_model_name": "HTMLModel",
            "_view_count": null,
            "_view_module": "@jupyter-widgets/controls",
            "_view_module_version": "1.5.0",
            "_view_name": "HTMLView",
            "description": "",
            "description_tooltip": null,
            "layout": "IPY_MODEL_f4fe81e29d5a44778d3a53aace868cc2",
            "placeholder": "​",
            "style": "IPY_MODEL_f0f27255b2024de0ad9cb844281934af",
            "value": " 170499072/? [00:04&lt;00:00, 44205690.42it/s]"
          }
        },
        "0087c512f3a64d3eb79dfb207b0fd925": {
          "model_module": "@jupyter-widgets/base",
          "model_name": "LayoutModel",
          "model_module_version": "1.2.0",
          "state": {
            "_model_module": "@jupyter-widgets/base",
            "_model_module_version": "1.2.0",
            "_model_name": "LayoutModel",
            "_view_count": null,
            "_view_module": "@jupyter-widgets/base",
            "_view_module_version": "1.2.0",
            "_view_name": "LayoutView",
            "align_content": null,
            "align_items": null,
            "align_self": null,
            "border": null,
            "bottom": null,
            "display": null,
            "flex": null,
            "flex_flow": null,
            "grid_area": null,
            "grid_auto_columns": null,
            "grid_auto_flow": null,
            "grid_auto_rows": null,
            "grid_column": null,
            "grid_gap": null,
            "grid_row": null,
            "grid_template_areas": null,
            "grid_template_columns": null,
            "grid_template_rows": null,
            "height": null,
            "justify_content": null,
            "justify_items": null,
            "left": null,
            "margin": null,
            "max_height": null,
            "max_width": null,
            "min_height": null,
            "min_width": null,
            "object_fit": null,
            "object_position": null,
            "order": null,
            "overflow": null,
            "overflow_x": null,
            "overflow_y": null,
            "padding": null,
            "right": null,
            "top": null,
            "visibility": null,
            "width": null
          }
        },
        "83980494359e444481289fe4f3675573": {
          "model_module": "@jupyter-widgets/base",
          "model_name": "LayoutModel",
          "model_module_version": "1.2.0",
          "state": {
            "_model_module": "@jupyter-widgets/base",
            "_model_module_version": "1.2.0",
            "_model_name": "LayoutModel",
            "_view_count": null,
            "_view_module": "@jupyter-widgets/base",
            "_view_module_version": "1.2.0",
            "_view_name": "LayoutView",
            "align_content": null,
            "align_items": null,
            "align_self": null,
            "border": null,
            "bottom": null,
            "display": null,
            "flex": null,
            "flex_flow": null,
            "grid_area": null,
            "grid_auto_columns": null,
            "grid_auto_flow": null,
            "grid_auto_rows": null,
            "grid_column": null,
            "grid_gap": null,
            "grid_row": null,
            "grid_template_areas": null,
            "grid_template_columns": null,
            "grid_template_rows": null,
            "height": null,
            "justify_content": null,
            "justify_items": null,
            "left": null,
            "margin": null,
            "max_height": null,
            "max_width": null,
            "min_height": null,
            "min_width": null,
            "object_fit": null,
            "object_position": null,
            "order": null,
            "overflow": null,
            "overflow_x": null,
            "overflow_y": null,
            "padding": null,
            "right": null,
            "top": null,
            "visibility": null,
            "width": null
          }
        },
        "6e0fac8323584b18bf67a1080f7ee650": {
          "model_module": "@jupyter-widgets/controls",
          "model_name": "DescriptionStyleModel",
          "model_module_version": "1.5.0",
          "state": {
            "_model_module": "@jupyter-widgets/controls",
            "_model_module_version": "1.5.0",
            "_model_name": "DescriptionStyleModel",
            "_view_count": null,
            "_view_module": "@jupyter-widgets/base",
            "_view_module_version": "1.2.0",
            "_view_name": "StyleView",
            "description_width": ""
          }
        },
        "b3560f755659429f98892f725aec584a": {
          "model_module": "@jupyter-widgets/base",
          "model_name": "LayoutModel",
          "model_module_version": "1.2.0",
          "state": {
            "_model_module": "@jupyter-widgets/base",
            "_model_module_version": "1.2.0",
            "_model_name": "LayoutModel",
            "_view_count": null,
            "_view_module": "@jupyter-widgets/base",
            "_view_module_version": "1.2.0",
            "_view_name": "LayoutView",
            "align_content": null,
            "align_items": null,
            "align_self": null,
            "border": null,
            "bottom": null,
            "display": null,
            "flex": null,
            "flex_flow": null,
            "grid_area": null,
            "grid_auto_columns": null,
            "grid_auto_flow": null,
            "grid_auto_rows": null,
            "grid_column": null,
            "grid_gap": null,
            "grid_row": null,
            "grid_template_areas": null,
            "grid_template_columns": null,
            "grid_template_rows": null,
            "height": null,
            "justify_content": null,
            "justify_items": null,
            "left": null,
            "margin": null,
            "max_height": null,
            "max_width": null,
            "min_height": null,
            "min_width": null,
            "object_fit": null,
            "object_position": null,
            "order": null,
            "overflow": null,
            "overflow_x": null,
            "overflow_y": null,
            "padding": null,
            "right": null,
            "top": null,
            "visibility": null,
            "width": null
          }
        },
        "4d869f92389d4d8296847ee81c7553a7": {
          "model_module": "@jupyter-widgets/controls",
          "model_name": "ProgressStyleModel",
          "model_module_version": "1.5.0",
          "state": {
            "_model_module": "@jupyter-widgets/controls",
            "_model_module_version": "1.5.0",
            "_model_name": "ProgressStyleModel",
            "_view_count": null,
            "_view_module": "@jupyter-widgets/base",
            "_view_module_version": "1.2.0",
            "_view_name": "StyleView",
            "bar_color": null,
            "description_width": ""
          }
        },
        "f4fe81e29d5a44778d3a53aace868cc2": {
          "model_module": "@jupyter-widgets/base",
          "model_name": "LayoutModel",
          "model_module_version": "1.2.0",
          "state": {
            "_model_module": "@jupyter-widgets/base",
            "_model_module_version": "1.2.0",
            "_model_name": "LayoutModel",
            "_view_count": null,
            "_view_module": "@jupyter-widgets/base",
            "_view_module_version": "1.2.0",
            "_view_name": "LayoutView",
            "align_content": null,
            "align_items": null,
            "align_self": null,
            "border": null,
            "bottom": null,
            "display": null,
            "flex": null,
            "flex_flow": null,
            "grid_area": null,
            "grid_auto_columns": null,
            "grid_auto_flow": null,
            "grid_auto_rows": null,
            "grid_column": null,
            "grid_gap": null,
            "grid_row": null,
            "grid_template_areas": null,
            "grid_template_columns": null,
            "grid_template_rows": null,
            "height": null,
            "justify_content": null,
            "justify_items": null,
            "left": null,
            "margin": null,
            "max_height": null,
            "max_width": null,
            "min_height": null,
            "min_width": null,
            "object_fit": null,
            "object_position": null,
            "order": null,
            "overflow": null,
            "overflow_x": null,
            "overflow_y": null,
            "padding": null,
            "right": null,
            "top": null,
            "visibility": null,
            "width": null
          }
        },
        "f0f27255b2024de0ad9cb844281934af": {
          "model_module": "@jupyter-widgets/controls",
          "model_name": "DescriptionStyleModel",
          "model_module_version": "1.5.0",
          "state": {
            "_model_module": "@jupyter-widgets/controls",
            "_model_module_version": "1.5.0",
            "_model_name": "DescriptionStyleModel",
            "_view_count": null,
            "_view_module": "@jupyter-widgets/base",
            "_view_module_version": "1.2.0",
            "_view_name": "StyleView",
            "description_width": ""
          }
        }
      }
    }
  },
  "cells": [
    {
      "cell_type": "markdown",
      "source": [
        "# CIFAR-10\n",
        "\n",
        "This notebook contains our experiements comparing forward gradient and backpropagation for Convolutional nets on the CIFAR-10 dataset"
      ],
      "metadata": {
        "id": "SpgPiFcBm1hX"
      }
    },
    {
      "cell_type": "markdown",
      "source": [
        "#### Setup"
      ],
      "metadata": {
        "id": "JmBQQnpWoJrd"
      }
    },
    {
      "cell_type": "code",
      "execution_count": 1,
      "metadata": {
        "colab": {
          "base_uri": "https://localhost:8080/"
        },
        "id": "XnA7qJ4F78Gr",
        "outputId": "e3c1549e-eb67-491d-c03e-7a4096bd8bc6"
      },
      "outputs": [
        {
          "output_type": "stream",
          "name": "stdout",
          "text": [
            "Looking in indexes: https://pypi.org/simple, https://us-python.pkg.dev/colab-wheels/public/simple/\n",
            "Looking in links: https://download.pytorch.org/whl/nightly/cpu/torch_nightly.html\n",
            "Requirement already satisfied: torch in /usr/local/lib/python3.7/dist-packages (1.11.0+cu113)\n",
            "Collecting torch\n",
            "  Downloading https://download.pytorch.org/whl/nightly/cpu/torch-1.13.0.dev20220613%2Bcpu-cp37-cp37m-linux_x86_64.whl (190.8 MB)\n",
            "\u001b[K     |████████████████████████████████| 190.8 MB 81 kB/s \n",
            "\u001b[?25hRequirement already satisfied: typing-extensions in /usr/local/lib/python3.7/dist-packages (from torch) (4.2.0)\n",
            "Installing collected packages: torch\n",
            "  Attempting uninstall: torch\n",
            "    Found existing installation: torch 1.11.0+cu113\n",
            "    Uninstalling torch-1.11.0+cu113:\n",
            "      Successfully uninstalled torch-1.11.0+cu113\n",
            "\u001b[31mERROR: pip's dependency resolver does not currently take into account all the packages that are installed. This behaviour is the source of the following dependency conflicts.\n",
            "torchvision 0.12.0+cu113 requires torch==1.11.0, but you have torch 1.13.0.dev20220613+cpu which is incompatible.\n",
            "torchtext 0.12.0 requires torch==1.11.0, but you have torch 1.13.0.dev20220613+cpu which is incompatible.\n",
            "torchaudio 0.11.0+cu113 requires torch==1.11.0, but you have torch 1.13.0.dev20220613+cpu which is incompatible.\u001b[0m\n",
            "Successfully installed torch-1.13.0.dev20220613+cpu\n",
            "Looking in indexes: https://pypi.org/simple, https://us-python.pkg.dev/colab-wheels/public/simple/\n",
            "Collecting functorch\n",
            "  Downloading functorch-0.1.1-cp37-cp37m-manylinux1_x86_64.whl (21.4 MB)\n",
            "\u001b[K     |████████████████████████████████| 21.4 MB 102.9 MB/s \n",
            "\u001b[?25hCollecting torch<1.12,>=1.11\n",
            "  Downloading torch-1.11.0-cp37-cp37m-manylinux1_x86_64.whl (750.6 MB)\n",
            "\u001b[K     |████████████████████████████████| 750.6 MB 11 kB/s \n",
            "\u001b[?25hRequirement already satisfied: typing-extensions in /usr/local/lib/python3.7/dist-packages (from torch<1.12,>=1.11->functorch) (4.2.0)\n",
            "Installing collected packages: torch, functorch\n",
            "  Attempting uninstall: torch\n",
            "    Found existing installation: torch 1.13.0.dev20220613+cpu\n",
            "    Uninstalling torch-1.13.0.dev20220613+cpu:\n",
            "      Successfully uninstalled torch-1.13.0.dev20220613+cpu\n",
            "Successfully installed functorch-0.1.1 torch-1.11.0\n",
            "--> Restarting colab instance\n"
          ]
        },
        {
          "output_type": "execute_result",
          "data": {
            "text/plain": [
              "{'restart': True, 'status': 'ok'}"
            ]
          },
          "metadata": {},
          "execution_count": 1
        }
      ],
      "source": [
        "# Run once\n",
        "# CPU only: !pip install torch==1.11.0 torchvision==0.12.0 torchaudio==0.11.0 -f https://download.pytorch.org/whl/cpu/torch_stable.html\n",
        "!pip install --pre torch -f https://download.pytorch.org/whl/nightly/cpu/torch_nightly.html --upgrade\n",
        "!pip install functorch\n",
        "print(\"--> Restarting colab instance\") \n",
        "get_ipython().kernel.do_shutdown(True)"
      ]
    },
    {
      "cell_type": "code",
      "source": [
        "!git clone https://github.com/benjaminrike1/forward_gradient"
      ],
      "metadata": {
        "colab": {
          "base_uri": "https://localhost:8080/"
        },
        "id": "w16dKpsQbsXH",
        "outputId": "a2f25fd5-2e42-4987-b7ce-7b9a7ae6c6e3"
      },
      "execution_count": 1,
      "outputs": [
        {
          "output_type": "stream",
          "name": "stdout",
          "text": [
            "Cloning into 'forward_gradient'...\n",
            "remote: Enumerating objects: 115, done.\u001b[K\n",
            "remote: Counting objects: 100% (115/115), done.\u001b[K\n",
            "remote: Compressing objects: 100% (84/84), done.\u001b[K\n",
            "remote: Total 115 (delta 56), reused 78 (delta 30), pack-reused 0\u001b[K\n",
            "Receiving objects: 100% (115/115), 2.04 MiB | 27.82 MiB/s, done.\n",
            "Resolving deltas: 100% (56/56), done.\n"
          ]
        }
      ]
    },
    {
      "cell_type": "code",
      "source": [
        "cd forward_gradient"
      ],
      "metadata": {
        "colab": {
          "base_uri": "https://localhost:8080/"
        },
        "id": "H7a4RrKbmuKQ",
        "outputId": "68f631c6-c28e-45da-aa9c-0f768ba8e904"
      },
      "execution_count": 2,
      "outputs": [
        {
          "output_type": "stream",
          "name": "stdout",
          "text": [
            "/content/forward_gradient\n"
          ]
        }
      ]
    },
    {
      "cell_type": "code",
      "execution_count": 3,
      "metadata": {
        "colab": {
          "base_uri": "https://localhost:8080/"
        },
        "id": "ngzkoQhx8SHI",
        "outputId": "61bcf0df-9b47-4200-e7c0-3f4f8cdb21f5"
      },
      "outputs": [
        {
          "output_type": "stream",
          "name": "stderr",
          "text": [
            "/usr/local/lib/python3.7/dist-packages/torchvision/io/image.py:13: UserWarning: Failed to load image Python extension: libtorch_cuda_cu.so: cannot open shared object file: No such file or directory\n",
            "  warn(f\"Failed to load image Python extension: {e}\")\n"
          ]
        }
      ],
      "source": [
        "import torch\n",
        "import torch.nn as nn\n",
        "import torch.nn.functional as F\n",
        "\n",
        "import torchvision\n",
        "import functorch as ft\n",
        "\n",
        "import numpy as np\n",
        "from functools import partial\n",
        "\n",
        "import matplotlib.pyplot as plt\n",
        "import seaborn as sns\n",
        "\n",
        "from loss import functional_xent, softmax, clamp_probs, _xent\n",
        "from optimizers import ForwardSGD, ForwardAdam\n",
        "from models import Net, ConvNet, CifarNet\n",
        "\n",
        "torch.manual_seed(0)\n",
        "device = torch.device(\"cuda\" if torch.cuda.is_available() else \"cpu\")\n"
      ]
    },
    {
      "cell_type": "markdown",
      "source": [
        "## CIFAR dataset"
      ],
      "metadata": {
        "id": "Vvt5q3XaqbUc"
      }
    },
    {
      "cell_type": "markdown",
      "source": [
        "Importing the data from torchvision."
      ],
      "metadata": {
        "id": "Vy2UKEhnqexi"
      }
    },
    {
      "cell_type": "code",
      "source": [
        "transform = torchvision.transforms.Compose([\n",
        "    torchvision.transforms.ToTensor()\n",
        "])\n",
        "\n",
        "\n",
        "cifar_train = torchvision.datasets.CIFAR10(\n",
        "    '/tmp/data',\n",
        "    train=True, \n",
        "    download=True, \n",
        "    transform=transform\n",
        ")\n",
        "# splitting into training and validation set\n",
        "train, val = torch.utils.data.random_split(cifar_train, [40000, 10000])\n",
        "\n",
        "train_data_loader = torch.utils.data.DataLoader(train, \n",
        "                                          batch_size=64, \n",
        "                                          shuffle=True)\n",
        "\n",
        "val_data_loader = torch.utils.data.DataLoader(val, \n",
        "                                          batch_size=64, \n",
        "                                          shuffle=True)\n",
        "\n",
        "mnist_test = torchvision.datasets.CIFAR10(\n",
        "    '/tmp/data',\n",
        "    train=False, \n",
        "    download=True, \n",
        "    transform=transform\n",
        ")\n",
        "test_data_loader = torch.utils.data.DataLoader(mnist_test, \n",
        "                                              batch_size=64,\n",
        "                                              shuffle=True)"
      ],
      "metadata": {
        "id": "fnfSMWT8qajP",
        "colab": {
          "base_uri": "https://localhost:8080/",
          "height": 0,
          "referenced_widgets": [
            "56357713694c4b9c8a3ca6fbf58f7eb7",
            "77979ec5354544ff82547d4642e7fe66",
            "99e141b971c94faca54669997b3498b6",
            "85c3f488c9b04773928e24da4cbf77e8",
            "0087c512f3a64d3eb79dfb207b0fd925",
            "83980494359e444481289fe4f3675573",
            "6e0fac8323584b18bf67a1080f7ee650",
            "b3560f755659429f98892f725aec584a",
            "4d869f92389d4d8296847ee81c7553a7",
            "f4fe81e29d5a44778d3a53aace868cc2",
            "f0f27255b2024de0ad9cb844281934af"
          ]
        },
        "outputId": "73b585f2-8ab2-40b4-b969-faac0d705bd0"
      },
      "execution_count": 4,
      "outputs": [
        {
          "output_type": "stream",
          "name": "stdout",
          "text": [
            "Downloading https://www.cs.toronto.edu/~kriz/cifar-10-python.tar.gz to /tmp/data/cifar-10-python.tar.gz\n"
          ]
        },
        {
          "output_type": "display_data",
          "data": {
            "text/plain": [
              "  0%|          | 0/170498071 [00:00<?, ?it/s]"
            ],
            "application/vnd.jupyter.widget-view+json": {
              "version_major": 2,
              "version_minor": 0,
              "model_id": "56357713694c4b9c8a3ca6fbf58f7eb7"
            }
          },
          "metadata": {}
        },
        {
          "output_type": "stream",
          "name": "stdout",
          "text": [
            "Extracting /tmp/data/cifar-10-python.tar.gz to /tmp/data\n",
            "Files already downloaded and verified\n"
          ]
        }
      ]
    },
    {
      "cell_type": "markdown",
      "source": [
        "# Convolutional Neural Network\n",
        "\n",
        "We use a CNN for the modeling. The CNN follows the VGG architecture, but do only have three blocks and two fully connected layers whereas VGG has five blocks and three fully connected layers, Code can be found in `models.py` and information about the model in `report.pdf`."
      ],
      "metadata": {
        "id": "kSye81ShLb53"
      }
    },
    {
      "cell_type": "markdown",
      "source": [
        "## SGD"
      ],
      "metadata": {
        "id": "O_S-PkJALZcx"
      }
    },
    {
      "cell_type": "markdown",
      "source": [
        "### Learning rate optimization\n",
        "\n",
        "The final search for learning rate is in a quite small interval as we earlier tried a wider search, but wanted to reduce the width to find a better optimum."
      ],
      "metadata": {
        "id": "ZSEsCszoLZdD"
      }
    },
    {
      "cell_type": "markdown",
      "source": [
        "Searching for best learning rate and learning rate decay for forward gradient."
      ],
      "metadata": {
        "id": "G6ev3OMeLZdE"
      }
    },
    {
      "cell_type": "code",
      "source": [
        "torch.manual_seed(42) # setting seed for reproducibility\n",
        "\n",
        "# learning rate and decays grid search for forward gradient\n",
        "learning_rates = np.logspace(-7, -2, 12)\n",
        "decays = [1e-6]\n",
        "\n",
        "epochs = 20\n",
        "\n",
        "for gamma in learning_rates:\n",
        "  for lambda_ in decays:\n",
        "    net = CifarNet().to(device) # defining net\n",
        "\n",
        "    # making the net functional to run the code in functorch\n",
        "    # for evaluating the Jacobian-vector product\n",
        "    func, params = ft.make_functional(net)\n",
        "\n",
        "    # removing requires gradient as it will not be used\n",
        "    # for the forward AD\n",
        "    for param in params:\n",
        "        param.requires_grad_(False)\n",
        "\n",
        "    # defining our optimizer\n",
        "    opt = ForwardSGD(func, functional_xent, params, lr=gamma, momentum = False, decay=lambda_)\n",
        "\n",
        "    # training\n",
        "    for e in range(epochs):\n",
        "      for i, (image, label) in enumerate(train_data_loader):\n",
        "        image, label = image.to(device), label.to(device)\n",
        "        params, loss, jvp = opt.step(image, label) # one optimization step\n",
        "\n",
        "    # evaluating on the val set\n",
        "    test_losses = []\n",
        "    for i, (image, label) in enumerate(val_data_loader):\n",
        "      batch_loss = []\n",
        "      with torch.no_grad():\n",
        "        image, label = image.to(device), label.to(device)\n",
        "        val_loss = functional_xent(params, func,image, label)\n",
        "        batch_loss.append(val_loss.item())\n",
        "      test_losses.append(np.mean(batch_loss))\n",
        "    print(f\"Validation loss for lr = {format(gamma,'.6f')}, decay = {format(lambda_,'.6f')}: {format(np.mean(test_losses),'.3f')}\")"
      ],
      "metadata": {
        "colab": {
          "base_uri": "https://localhost:8080/"
        },
        "outputId": "1dd6ee17-e49b-4de3-d2ad-fb9de6a802fc",
        "id": "TXvxySDJLZdE"
      },
      "execution_count": null,
      "outputs": [
        {
          "output_type": "stream",
          "name": "stdout",
          "text": [
            "Validation loss for lr = 0.000000, decay = 0.000001: 2.303\n",
            "Validation loss for lr = 0.000000, decay = 0.000001: 2.303\n",
            "Validation loss for lr = 0.000001, decay = 0.000001: 2.303\n",
            "Validation loss for lr = 0.000002, decay = 0.000001: 2.303\n",
            "Validation loss for lr = 0.000007, decay = 0.000001: 2.303\n",
            "Validation loss for lr = 0.000019, decay = 0.000001: 2.303\n",
            "Validation loss for lr = 0.000053, decay = 0.000001: 2.303\n",
            "Validation loss for lr = 0.000152, decay = 0.000001: 2.303\n",
            "Validation loss for lr = 0.000433, decay = 0.000001: 2.302\n",
            "Validation loss for lr = 0.001233, decay = 0.000001: 14.380\n",
            "Validation loss for lr = 0.003511, decay = 0.000001: 14.394\n",
            "Validation loss for lr = 0.010000, decay = 0.000001: 14.354\n"
          ]
        }
      ]
    },
    {
      "cell_type": "markdown",
      "source": [
        "Searching for best learning rate and learning rate decay for backpropagation."
      ],
      "metadata": {
        "id": "sUUbHs1eLZdF"
      }
    },
    {
      "cell_type": "code",
      "source": [
        "torch.manual_seed(42) # setting seed for reporducibility\n",
        "\n",
        "# defining learning rates and decays for grid search\n",
        "learning_rates = np.logspace(-4, -2, 4)\n",
        "decays = [1e-4]\n",
        "epochs = 20\n",
        "criterion = nn.CrossEntropyLoss() # loss function\n",
        "for gamma in learning_rates:\n",
        "  for lambda_ in decays:\n",
        "    lr_new = gamma\n",
        "    net = CifarNet().to(device) # defining net\n",
        "\n",
        "    # storing losses\n",
        "    losses = []\n",
        "    steps = 0\n",
        "    for epoch in range(epochs):\n",
        "      # going over training set in batches\n",
        "      for i, (image, label) in enumerate(train_data_loader):\n",
        "        steps += 1\n",
        "        backprop = torch.optim.SGD(net.parameters(), lr=lr_new) # backprop SGD\n",
        "        image, label = image.to(device), label.to(device)\n",
        "\n",
        "        # optimizing\n",
        "        backprop.zero_grad()\n",
        "        outputs = net(image)\n",
        "        loss = criterion(outputs, label)\n",
        "        loss.backward()\n",
        "        backprop.step()\n",
        "        losses.append(loss.item())\n",
        "\n",
        "        # learning rate decay\n",
        "        lr_new = gamma * np.exp(-steps*lambda_)\n",
        "\n",
        "    # evaluating on the val set\n",
        "    test_losses = []\n",
        "    for i, (image, label) in enumerate(val_data_loader):\n",
        "      batch_loss = []\n",
        "      with torch.no_grad():\n",
        "        image, label = image.to(device), label.to(device)\n",
        "        val_loss = criterion(net(image), label)\n",
        "        batch_loss.append(val_loss.item())\n",
        "      test_losses.append(np.mean(batch_loss))\n",
        "    print(f\"Validation loss for lr = {format(gamma,'.6f')}, decay = {format(lambda_,'.6f')}: {format(np.mean(test_losses),'.3f')}\")"
      ],
      "metadata": {
        "colab": {
          "base_uri": "https://localhost:8080/"
        },
        "outputId": "f7585e9b-aa2c-4c85-b29e-faa623b7dbe4",
        "id": "odUiL5vGLZdF"
      },
      "execution_count": 6,
      "outputs": [
        {
          "output_type": "stream",
          "name": "stdout",
          "text": [
            "Validation loss for lr = 0.000100, decay = 0.000001: 2.303\n",
            "Validation loss for lr = 0.000464, decay = 0.000001: 2.302\n",
            "Validation loss for lr = 0.002154, decay = 0.000001: 2.300\n",
            "Validation loss for lr = 0.010000, decay = 0.000001: 1.260\n"
          ]
        }
      ]
    },
    {
      "cell_type": "markdown",
      "source": [
        "### Modeling"
      ],
      "metadata": {
        "id": "IT5eD2MZLZdG"
      }
    },
    {
      "cell_type": "markdown",
      "source": [
        "We first run forward gradient for the optimal hyperparameters."
      ],
      "metadata": {
        "id": "-wwRWd0yLZdG"
      }
    },
    {
      "cell_type": "code",
      "source": [
        "torch.manual_seed(42) # setting seed for reproducibility\n",
        "\n",
        "net = CifarNet().to(device) # defining net\n",
        "\n",
        "# using best lr and decay found in the optimizations below\n",
        "lr = 0.000433\n",
        "decay = 1e-6\n",
        "# making the net functional to run the code in functorch\n",
        "# for evaluating the Jacobian-vector product\n",
        "func, params = ft.make_functional(net)\n",
        "\n",
        "# removing requires gradient as it will not be used\n",
        "# for the forward AD\n",
        "for param in params:\n",
        "    param.requires_grad_(False)\n",
        "\n",
        "# defining our optimizer\n",
        "opt = ForwardSGD(func, functional_xent, params, lr=lr, momentum = False, decay=decay, clip = 1)\n",
        "\n",
        "# training for e epochs\n",
        "losses_fwd = []\n",
        "norms = []\n",
        "epochs = 100\n",
        "test_losses_fwd = []\n",
        "for e in range(epochs):\n",
        "  for j, (image, label) in enumerate(train_data_loader):\n",
        "    image, label = image.to(device), label.to(device)\n",
        "    params, loss, norm = opt.step(image, label)\n",
        "    try:\n",
        "      norms.append(norm.item())\n",
        "    except:\n",
        "      norms.append(norm)\n",
        "    losses_fwd.append(loss.item())\n",
        "\n",
        "  # evaluating on the test set\n",
        "  for i, (image, label) in enumerate(test_data_loader):\n",
        "    with torch.no_grad():\n",
        "      batch_loss = []\n",
        "      image, label = image.to(device), label.to(device)\n",
        "      test_loss = functional_xent(params, func, image, label)\n",
        "      batch_loss.append(test_loss.item())\n",
        "  test_losses_fwd.append(np.mean(batch_loss))\n",
        "  print(f\"Test loss in epoch {e+1}: {format(test_losses_fwd[-1], '.3f')}\")\n"
      ],
      "metadata": {
        "colab": {
          "base_uri": "https://localhost:8080/"
        },
        "outputId": "5d77a0f5-5191-4922-fab3-eb61d803d883",
        "id": "Gz0-4gC_LZdI"
      },
      "execution_count": 11,
      "outputs": [
        {
          "output_type": "stream",
          "name": "stdout",
          "text": [
            "Test loss in epoch 1: 2.302\n",
            "Test loss in epoch 2: 2.299\n",
            "Test loss in epoch 3: 2.299\n",
            "Test loss in epoch 4: 2.300\n",
            "Test loss in epoch 5: 2.301\n",
            "Test loss in epoch 6: 2.300\n",
            "Test loss in epoch 7: 2.304\n",
            "Test loss in epoch 8: 2.307\n",
            "Test loss in epoch 9: 2.300\n",
            "Test loss in epoch 10: 2.303\n",
            "Test loss in epoch 11: 2.307\n",
            "Test loss in epoch 12: 2.304\n",
            "Test loss in epoch 13: 2.308\n",
            "Test loss in epoch 14: 2.302\n",
            "Test loss in epoch 15: 2.303\n",
            "Test loss in epoch 16: 2.302\n",
            "Test loss in epoch 17: 2.304\n",
            "Test loss in epoch 18: 2.304\n",
            "Test loss in epoch 19: 2.308\n",
            "Test loss in epoch 20: 2.301\n",
            "Test loss in epoch 21: 2.301\n",
            "Test loss in epoch 22: 2.304\n",
            "Test loss in epoch 23: 2.302\n",
            "Test loss in epoch 24: 2.305\n",
            "Test loss in epoch 25: 2.302\n",
            "Test loss in epoch 26: 2.300\n",
            "Test loss in epoch 27: 2.305\n",
            "Test loss in epoch 28: 2.303\n",
            "Test loss in epoch 29: 2.300\n",
            "Test loss in epoch 30: 2.299\n",
            "Test loss in epoch 31: 2.304\n",
            "Test loss in epoch 32: 2.301\n",
            "Test loss in epoch 33: 2.302\n",
            "Test loss in epoch 34: 2.298\n",
            "Test loss in epoch 35: 2.302\n",
            "Test loss in epoch 36: 2.306\n",
            "Test loss in epoch 37: 2.308\n",
            "Test loss in epoch 38: 2.305\n",
            "Test loss in epoch 39: 2.299\n",
            "Test loss in epoch 40: 2.304\n",
            "Test loss in epoch 41: 2.299\n",
            "Test loss in epoch 42: 2.308\n",
            "Test loss in epoch 43: 2.294\n",
            "Test loss in epoch 44: 2.294\n",
            "Test loss in epoch 45: 2.300\n",
            "Test loss in epoch 46: 2.294\n",
            "Test loss in epoch 47: 2.286\n",
            "Test loss in epoch 48: 2.296\n",
            "Test loss in epoch 49: 2.272\n",
            "Test loss in epoch 50: 2.270\n",
            "Test loss in epoch 51: 2.229\n",
            "Test loss in epoch 52: 2.287\n",
            "Test loss in epoch 53: 2.280\n",
            "Test loss in epoch 54: 2.285\n",
            "Test loss in epoch 55: 2.286\n",
            "Test loss in epoch 56: 2.277\n",
            "Test loss in epoch 57: 2.127\n",
            "Test loss in epoch 58: 2.007\n",
            "Test loss in epoch 59: 2.091\n",
            "Test loss in epoch 60: 2.277\n",
            "Test loss in epoch 61: 2.160\n",
            "Test loss in epoch 62: 2.100\n",
            "Test loss in epoch 63: 2.399\n",
            "Test loss in epoch 64: 1.967\n",
            "Test loss in epoch 65: 2.084\n",
            "Test loss in epoch 66: 2.169\n",
            "Test loss in epoch 67: 1.879\n",
            "Test loss in epoch 68: 2.184\n",
            "Test loss in epoch 69: 2.047\n",
            "Test loss in epoch 70: 2.099\n",
            "Test loss in epoch 71: 2.630\n",
            "Test loss in epoch 72: 2.196\n",
            "Test loss in epoch 73: 2.435\n",
            "Test loss in epoch 74: 3.036\n",
            "Test loss in epoch 75: 2.997\n",
            "Test loss in epoch 76: 2.557\n",
            "Test loss in epoch 77: 3.287\n",
            "Test loss in epoch 78: 3.860\n",
            "Test loss in epoch 79: 4.666\n",
            "Test loss in epoch 80: 2.939\n",
            "Test loss in epoch 81: 3.749\n",
            "Test loss in epoch 82: 4.387\n",
            "Test loss in epoch 83: 3.486\n",
            "Test loss in epoch 84: 4.033\n",
            "Test loss in epoch 85: 2.643\n",
            "Test loss in epoch 86: 3.389\n",
            "Test loss in epoch 87: 5.617\n",
            "Test loss in epoch 88: 5.641\n",
            "Test loss in epoch 89: 4.880\n",
            "Test loss in epoch 90: 7.600\n",
            "Test loss in epoch 91: 5.253\n",
            "Test loss in epoch 92: 5.894\n",
            "Test loss in epoch 93: 7.579\n",
            "Test loss in epoch 94: 6.567\n",
            "Test loss in epoch 95: 10.088\n",
            "Test loss in epoch 96: 5.613\n",
            "Test loss in epoch 97: 6.127\n",
            "Test loss in epoch 98: 5.219\n",
            "Test loss in epoch 99: 4.346\n",
            "Test loss in epoch 100: 6.955\n"
          ]
        }
      ]
    },
    {
      "cell_type": "markdown",
      "source": [
        "Backpropagation:"
      ],
      "metadata": {
        "id": "OCYxr--mLZdJ"
      }
    },
    {
      "cell_type": "code",
      "source": [
        "torch.manual_seed(42) # setting seed for reproducibility\n",
        "\n",
        "lr = 1e-2\n",
        "decay = 1e-4\n",
        "epochs = 100\n",
        "lr_new = lr\n",
        "criterion = nn.CrossEntropyLoss() # loss function\n",
        "net = CifarNet().to(device) # defining net\n",
        "\n",
        "# storing losses\n",
        "losses = []\n",
        "test_losses = []\n",
        "steps = 0\n",
        "for e in range(epochs):\n",
        "  # going over training set in batches\n",
        "  for i, (image, label) in enumerate(train_data_loader):\n",
        "    steps += 1\n",
        "    backprop = torch.optim.SGD(net.parameters(), lr=lr_new) # normal SGD in torch\n",
        "    image, label = image.to(device), label.to(device)\n",
        "    backprop.zero_grad()\n",
        "    outputs = net(image)\n",
        "    loss = criterion(outputs, label)\n",
        "    loss.backward()\n",
        "    backprop.step()\n",
        "    losses.append(loss.item())\n",
        "    lr_new = lr * np.exp(-steps*decay)\n",
        "  \n",
        "  # testing on test set\n",
        "  for i, (image, label) in enumerate(test_data_loader):\n",
        "    with torch.no_grad():\n",
        "      batch_loss = []\n",
        "      image, label = image.to(device), label.to(device)\n",
        "      test_loss = criterion(net(image), label)\n",
        "      batch_loss.append(test_loss.item())\n",
        "  test_losses.append(np.mean(batch_loss))\n",
        "  print(f\"Test loss in epoch {e+1}: {(test_losses[-1])}\")"
      ],
      "metadata": {
        "colab": {
          "base_uri": "https://localhost:8080/"
        },
        "outputId": "7ec4b451-a88e-46c8-fdf4-dd7f3c578380",
        "id": "hDgs-JJPLZdJ"
      },
      "execution_count": 12,
      "outputs": [
        {
          "output_type": "stream",
          "name": "stdout",
          "text": [
            "Test loss in epoch 1: 2.3031558990478516\n",
            "Test loss in epoch 2: 2.300645589828491\n",
            "Test loss in epoch 3: 2.3015296459198\n",
            "Test loss in epoch 4: 2.3002700805664062\n",
            "Test loss in epoch 5: 2.299867868423462\n",
            "Test loss in epoch 6: 2.2971816062927246\n",
            "Test loss in epoch 7: 2.2986018657684326\n",
            "Test loss in epoch 8: 2.274179697036743\n",
            "Test loss in epoch 9: 2.126858711242676\n",
            "Test loss in epoch 10: 1.8456233739852905\n",
            "Test loss in epoch 11: 1.8201780319213867\n",
            "Test loss in epoch 12: 1.5900312662124634\n",
            "Test loss in epoch 13: 1.5695379972457886\n",
            "Test loss in epoch 14: 1.253920555114746\n",
            "Test loss in epoch 15: 1.461121916770935\n",
            "Test loss in epoch 16: 1.532792329788208\n",
            "Test loss in epoch 17: 1.4207061529159546\n",
            "Test loss in epoch 18: 1.8584564924240112\n",
            "Test loss in epoch 19: 1.3575530052185059\n",
            "Test loss in epoch 20: 1.7688192129135132\n",
            "Test loss in epoch 21: 1.678882122039795\n",
            "Test loss in epoch 22: 1.7847189903259277\n",
            "Test loss in epoch 23: 1.1862244606018066\n",
            "Test loss in epoch 24: 1.4104552268981934\n",
            "Test loss in epoch 25: 1.037331223487854\n",
            "Test loss in epoch 26: 1.9015662670135498\n",
            "Test loss in epoch 27: 1.436181664466858\n",
            "Test loss in epoch 28: 2.1066651344299316\n",
            "Test loss in epoch 29: 0.9882847666740417\n",
            "Test loss in epoch 30: 1.1767030954360962\n",
            "Test loss in epoch 31: 1.2299171686172485\n",
            "Test loss in epoch 32: 1.4434878826141357\n",
            "Test loss in epoch 33: 1.5600671768188477\n",
            "Test loss in epoch 34: 1.5307550430297852\n",
            "Test loss in epoch 35: 1.519883394241333\n",
            "Test loss in epoch 36: 1.0854932069778442\n",
            "Test loss in epoch 37: 1.2773442268371582\n",
            "Test loss in epoch 38: 1.6911661624908447\n",
            "Test loss in epoch 39: 1.0565921068191528\n",
            "Test loss in epoch 40: 1.1391537189483643\n",
            "Test loss in epoch 41: 1.1514748334884644\n",
            "Test loss in epoch 42: 1.4755419492721558\n",
            "Test loss in epoch 43: 1.2878694534301758\n",
            "Test loss in epoch 44: 1.0801578760147095\n",
            "Test loss in epoch 45: 1.4233307838439941\n",
            "Test loss in epoch 46: 0.9120634198188782\n",
            "Test loss in epoch 47: 0.9865080118179321\n",
            "Test loss in epoch 48: 2.1254334449768066\n",
            "Test loss in epoch 49: 1.1618273258209229\n",
            "Test loss in epoch 50: 1.2709360122680664\n",
            "Test loss in epoch 51: 1.3065000772476196\n",
            "Test loss in epoch 52: 1.2941254377365112\n",
            "Test loss in epoch 53: 0.9960159659385681\n",
            "Test loss in epoch 54: 1.0419597625732422\n",
            "Test loss in epoch 55: 1.049721598625183\n",
            "Test loss in epoch 56: 1.374048113822937\n",
            "Test loss in epoch 57: 1.6025886535644531\n",
            "Test loss in epoch 58: 1.4955472946166992\n",
            "Test loss in epoch 59: 1.0683211088180542\n",
            "Test loss in epoch 60: 1.1259526014328003\n",
            "Test loss in epoch 61: 1.6131212711334229\n",
            "Test loss in epoch 62: 1.2113757133483887\n",
            "Test loss in epoch 63: 2.084030866622925\n",
            "Test loss in epoch 64: 1.4202237129211426\n",
            "Test loss in epoch 65: 1.7662358283996582\n",
            "Test loss in epoch 66: 0.7158403396606445\n",
            "Test loss in epoch 67: 1.4024728536605835\n",
            "Test loss in epoch 68: 1.3655294179916382\n",
            "Test loss in epoch 69: 0.8731039762496948\n",
            "Test loss in epoch 70: 0.8354188203811646\n",
            "Test loss in epoch 71: 1.200839638710022\n",
            "Test loss in epoch 72: 1.0668365955352783\n",
            "Test loss in epoch 73: 1.4237855672836304\n",
            "Test loss in epoch 74: 2.083780527114868\n",
            "Test loss in epoch 75: 1.2266998291015625\n",
            "Test loss in epoch 76: 0.7903774976730347\n",
            "Test loss in epoch 77: 1.9086264371871948\n",
            "Test loss in epoch 78: 1.3685396909713745\n",
            "Test loss in epoch 79: 1.333800196647644\n",
            "Test loss in epoch 80: 0.8539746403694153\n",
            "Test loss in epoch 81: 1.7738080024719238\n",
            "Test loss in epoch 82: 1.9796301126480103\n",
            "Test loss in epoch 83: 0.9729021787643433\n",
            "Test loss in epoch 84: 1.3566495180130005\n",
            "Test loss in epoch 85: 0.7924110293388367\n",
            "Test loss in epoch 86: 1.1137208938598633\n",
            "Test loss in epoch 87: 1.1989890336990356\n",
            "Test loss in epoch 88: 0.9008071422576904\n",
            "Test loss in epoch 89: 1.3163015842437744\n",
            "Test loss in epoch 90: 1.6745097637176514\n",
            "Test loss in epoch 91: 0.5845789909362793\n",
            "Test loss in epoch 92: 1.024437665939331\n",
            "Test loss in epoch 93: 2.0070629119873047\n",
            "Test loss in epoch 94: 1.3179259300231934\n",
            "Test loss in epoch 95: 1.6938804388046265\n",
            "Test loss in epoch 96: 1.5477675199508667\n",
            "Test loss in epoch 97: 1.2444089651107788\n",
            "Test loss in epoch 98: 0.9831479787826538\n",
            "Test loss in epoch 99: 1.9625109434127808\n",
            "Test loss in epoch 100: 1.6835640668869019\n"
          ]
        }
      ]
    },
    {
      "cell_type": "markdown",
      "source": [
        "#### Comparing results"
      ],
      "metadata": {
        "id": "chXujDXQLZdJ"
      }
    },
    {
      "cell_type": "code",
      "source": [
        "fig, ax = plt.subplots(1,2,figsize=(16,5))\n",
        "\n",
        "ax[0].plot(losses, color='r', label=\"Backprop\", alpha=.7)\n",
        "ax[0].set_xlabel(\"Iterations\")\n",
        "ax[0].set_ylabel(\"Loss\")\n",
        "ax[0].plot(losses_fwd[:], color='b', label='Forward gradient', alpha=.7)\n",
        "ax[0].set_title(\"Training loss for backprop and forward gradient\")\n",
        "ax[0].legend()\n",
        "\n",
        "ax[1].plot(test_losses, color='r', label=\"Backprop\", alpha=.7)\n",
        "ax[1].set_xlabel(\"Epochs\")\n",
        "ax[1].set_ylabel(\"Loss\")\n",
        "ax[1].plot(test_losses_fwd, color='b', label='Forward gradient', alpha=.7)\n",
        "ax[1].set_title(\"Validation loss for backprop and forward gradient\")\n",
        "ax[1].legend()"
      ],
      "metadata": {
        "colab": {
          "base_uri": "https://localhost:8080/",
          "height": 367
        },
        "outputId": "f30df03f-5adf-41b9-e606-3b66f92a64fe",
        "id": "njaXMYnwLZdK"
      },
      "execution_count": 15,
      "outputs": [
        {
          "output_type": "execute_result",
          "data": {
            "text/plain": [
              "<matplotlib.legend.Legend at 0x7fa8a10cb6d0>"
            ]
          },
          "metadata": {},
          "execution_count": 15
        },
        {
          "output_type": "display_data",
          "data": {
            "text/plain": [
              "<Figure size 1152x360 with 2 Axes>"
            ],
            "image/png": "[encoded data removed]"
          },
          "metadata": {
            "needs_background": "light"
          }
        }
      ]
    },
    {
      "cell_type": "markdown",
      "source": [
        "As we see, the forward gradient struggles to learn at all before the loss suddenly explodes upwards. Therefore, we don't attempt the other optimization algorithms at the CIFAR dataset."
      ],
      "metadata": {
        "id": "zA5hA5rJuGXp"
      }
    },
    {
      "cell_type": "code",
      "source": [
        ""
      ],
      "metadata": {
        "id": "ss7iJXF5uPmF"
      },
      "execution_count": null,
      "outputs": []
    }
  ]
}
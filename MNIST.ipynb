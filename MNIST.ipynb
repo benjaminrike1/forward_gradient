{
  "nbformat": 4,
  "nbformat_minor": 0,
  "metadata": {
    "colab": {
      "name": "MNIST.ipynb",
      "provenance": [],
      "collapsed_sections": [
        "Vvt5q3XaqbUc",
        "_qH5VOIWwAQG",
        "ixUBfiPVvy3v",
        "ZSEsCszoLZdD",
        "IT5eD2MZLZdG"
      ]
    },
    "kernelspec": {
      "name": "python3",
      "display_name": "Python 3"
    },
    "language_info": {
      "name": "python"
    },
    "accelerator": "GPU"
  },
  "cells": [
    {
      "cell_type": "markdown",
      "source": [
        "# MNIST\n",
        "\n",
        "This notebook contains our experiements comparing forward gradient and backpropagation with neural networks and Convolutional nets for the MNIST dataset"
      ],
      "metadata": {
        "id": "SpgPiFcBm1hX"
      }
    },
    {
      "cell_type": "markdown",
      "source": [
        "#### Setup"
      ],
      "metadata": {
        "id": "JmBQQnpWoJrd"
      }
    },
    {
      "cell_type": "code",
      "execution_count": 1,
      "metadata": {
        "colab": {
          "base_uri": "https://localhost:8080/"
        },
        "id": "XnA7qJ4F78Gr",
        "outputId": "962b4cff-8ce4-498c-b198-cc0440a7b3f4"
      },
      "outputs": [
        {
          "output_type": "stream",
          "name": "stdout",
          "text": [
            "Looking in indexes: https://pypi.org/simple, https://us-python.pkg.dev/colab-wheels/public/simple/\n",
            "Looking in links: https://download.pytorch.org/whl/nightly/cpu/torch_nightly.html\n",
            "Requirement already satisfied: torch in /usr/local/lib/python3.7/dist-packages (1.11.0+cu113)\n",
            "Collecting torch\n",
            "  Downloading https://download.pytorch.org/whl/nightly/cpu/torch-1.13.0.dev20220612%2Bcpu-cp37-cp37m-linux_x86_64.whl (190.8 MB)\n",
            "\u001b[K     |████████████████████████████████| 190.8 MB 75 kB/s \n",
            "\u001b[?25hRequirement already satisfied: typing-extensions in /usr/local/lib/python3.7/dist-packages (from torch) (4.2.0)\n",
            "Installing collected packages: torch\n",
            "  Attempting uninstall: torch\n",
            "    Found existing installation: torch 1.11.0+cu113\n",
            "    Uninstalling torch-1.11.0+cu113:\n",
            "      Successfully uninstalled torch-1.11.0+cu113\n",
            "\u001b[31mERROR: pip's dependency resolver does not currently take into account all the packages that are installed. This behaviour is the source of the following dependency conflicts.\n",
            "torchvision 0.12.0+cu113 requires torch==1.11.0, but you have torch 1.13.0.dev20220612+cpu which is incompatible.\n",
            "torchtext 0.12.0 requires torch==1.11.0, but you have torch 1.13.0.dev20220612+cpu which is incompatible.\n",
            "torchaudio 0.11.0+cu113 requires torch==1.11.0, but you have torch 1.13.0.dev20220612+cpu which is incompatible.\u001b[0m\n",
            "Successfully installed torch-1.13.0.dev20220612+cpu\n",
            "Looking in indexes: https://pypi.org/simple, https://us-python.pkg.dev/colab-wheels/public/simple/\n",
            "Collecting functorch\n",
            "  Downloading functorch-0.1.1-cp37-cp37m-manylinux1_x86_64.whl (21.4 MB)\n",
            "\u001b[K     |████████████████████████████████| 21.4 MB 69.4 MB/s \n",
            "\u001b[?25hCollecting torch<1.12,>=1.11\n",
            "  Downloading torch-1.11.0-cp37-cp37m-manylinux1_x86_64.whl (750.6 MB)\n",
            "\u001b[K     |████████████████████████████████| 750.6 MB 12 kB/s \n",
            "\u001b[?25hRequirement already satisfied: typing-extensions in /usr/local/lib/python3.7/dist-packages (from torch<1.12,>=1.11->functorch) (4.2.0)\n",
            "Installing collected packages: torch, functorch\n",
            "  Attempting uninstall: torch\n",
            "    Found existing installation: torch 1.13.0.dev20220612+cpu\n",
            "    Uninstalling torch-1.13.0.dev20220612+cpu:\n",
            "      Successfully uninstalled torch-1.13.0.dev20220612+cpu\n",
            "Successfully installed functorch-0.1.1 torch-1.11.0\n",
            "--> Restarting colab instance\n"
          ]
        },
        {
          "output_type": "execute_result",
          "data": {
            "text/plain": [
              "{'restart': True, 'status': 'ok'}"
            ]
          },
          "metadata": {},
          "execution_count": 1
        }
      ],
      "source": [
        "# Run once\n",
        "# CPU only: !pip install torch==1.11.0 torchvision==0.12.0 torchaudio==0.11.0 -f https://download.pytorch.org/whl/cpu/torch_stable.html\n",
        "!pip install --pre torch -f https://download.pytorch.org/whl/nightly/cpu/torch_nightly.html --upgrade\n",
        "!pip install functorch\n",
        "print(\"--> Restarting colab instance\") \n",
        "get_ipython().kernel.do_shutdown(True)"
      ]
    },
    {
      "cell_type": "code",
      "source": [
        "!git clone https://github.com/benjaminrike1/forward_gradient"
      ],
      "metadata": {
        "colab": {
          "base_uri": "https://localhost:8080/"
        },
        "id": "w16dKpsQbsXH",
        "outputId": "2d961bf5-5780-4d4f-b92b-1a53d1228a60"
      },
      "execution_count": 1,
      "outputs": [
        {
          "output_type": "stream",
          "name": "stdout",
          "text": [
            "Cloning into 'forward_gradient'...\n",
            "remote: Enumerating objects: 96, done.\u001b[K\n",
            "remote: Counting objects: 100% (96/96), done.\u001b[K\n",
            "remote: Compressing objects: 100% (71/71), done.\u001b[K\n",
            "remote: Total 96 (delta 44), reused 66 (delta 24), pack-reused 0\u001b[K\n",
            "Unpacking objects: 100% (96/96), done.\n"
          ]
        }
      ]
    },
    {
      "cell_type": "code",
      "source": [
        "cd forward_gradient"
      ],
      "metadata": {
        "colab": {
          "base_uri": "https://localhost:8080/"
        },
        "id": "H7a4RrKbmuKQ",
        "outputId": "5840af76-2990-4642-b9d0-a91fb80e848c"
      },
      "execution_count": 1,
      "outputs": [
        {
          "output_type": "stream",
          "name": "stdout",
          "text": [
            "/content/forward_gradient\n"
          ]
        }
      ]
    },
    {
      "cell_type": "code",
      "execution_count": 2,
      "metadata": {
        "colab": {
          "base_uri": "https://localhost:8080/"
        },
        "id": "ngzkoQhx8SHI",
        "outputId": "6f22439c-7628-4076-e068-910781438373"
      },
      "outputs": [
        {
          "output_type": "stream",
          "name": "stderr",
          "text": [
            "/usr/local/lib/python3.7/dist-packages/torchvision/io/image.py:13: UserWarning: Failed to load image Python extension: libtorch_cuda_cu.so: cannot open shared object file: No such file or directory\n",
            "  warn(f\"Failed to load image Python extension: {e}\")\n"
          ]
        }
      ],
      "source": [
        "import torch\n",
        "import torch.nn as nn\n",
        "import torch.nn.functional as F\n",
        "\n",
        "import torchvision\n",
        "import functorch as ft\n",
        "\n",
        "import numpy as np\n",
        "from functools import partial\n",
        "\n",
        "import matplotlib.pyplot as plt\n",
        "import seaborn as sns\n",
        "\n",
        "from loss import functional_xent, softmax, clamp_probs, _xent\n",
        "from optimizers import ForwardSGD, ForwardAdam\n",
        "from models import Net, ConvNet, LogisticRegression\n",
        "\n",
        "torch.manual_seed(0)\n",
        "device = torch.device(\"cuda\" if torch.cuda.is_available() else \"cpu\")\n"
      ]
    },
    {
      "cell_type": "markdown",
      "source": [
        "## MNIST"
      ],
      "metadata": {
        "id": "Vvt5q3XaqbUc"
      }
    },
    {
      "cell_type": "markdown",
      "source": [
        "Importing the data from torchvision."
      ],
      "metadata": {
        "id": "Vy2UKEhnqexi"
      }
    },
    {
      "cell_type": "code",
      "source": [
        "# transforming images to tensors\n",
        "transform = torchvision.transforms.Compose([\n",
        "    torchvision.transforms.ToTensor()\n",
        "])\n",
        "\n",
        "\n",
        "mnist_train = torchvision.datasets.MNIST(\n",
        "    '/tmp/data',\n",
        "    train=True, \n",
        "    download=True, \n",
        "    transform=transform\n",
        ")\n",
        "\n",
        "# splitting into training and validation set\n",
        "train, val = torch.utils.data.random_split(mnist_train, [50000, 10000])\n",
        "\n",
        "train_data_loader = torch.utils.data.DataLoader(train, \n",
        "                                          batch_size=64, \n",
        "                                          shuffle=True)\n",
        "\n",
        "val_data_loader = torch.utils.data.DataLoader(val, \n",
        "                                          batch_size=64, \n",
        "                                          shuffle=True)\n",
        "\n",
        "# loading test set\n",
        "mnist_test = torchvision.datasets.MNIST(\n",
        "    '/tmp/data',\n",
        "    train=False, \n",
        "    download=True, \n",
        "    transform=transform\n",
        ")\n",
        "test_data_loader = torch.utils.data.DataLoader(mnist_test, \n",
        "                                              batch_size=64,\n",
        "                                              shuffle=True)"
      ],
      "metadata": {
        "id": "fnfSMWT8qajP"
      },
      "execution_count": 3,
      "outputs": []
    },
    {
      "cell_type": "markdown",
      "source": [
        "# Neural Network\n",
        "\n",
        "We first use a vanilla feedforward network for the optimization. The net can be found in `models.py`"
      ],
      "metadata": {
        "id": "xnoi5RW9qm5U"
      }
    },
    {
      "cell_type": "markdown",
      "source": [
        "## SGD"
      ],
      "metadata": {
        "id": "_qH5VOIWwAQG"
      }
    },
    {
      "cell_type": "markdown",
      "source": [
        "### Learning rate optimization\n",
        "\n",
        "The final search for learning rate is in a quite small interval as we earlier tried a wider search, but wanted to reduce the width to find a better optimum."
      ],
      "metadata": {
        "id": "ixUBfiPVvy3v"
      }
    },
    {
      "cell_type": "markdown",
      "source": [
        "Searching for best learning rate and learning rate decay for forward gradient."
      ],
      "metadata": {
        "id": "C2uEbFKbIy73"
      }
    },
    {
      "cell_type": "code",
      "source": [
        "torch.manual_seed(42) # setting seed for reproducibility\n",
        "\n",
        "# learning rate and decays grid search for forward gradient\n",
        "learning_rates = np.logspace(-4, -3, 4)\n",
        "decays = np.append(np.logspace(-6, -5, 2), 0)\n",
        "\n",
        "epochs = 10\n",
        "\n",
        "for gamma in learning_rates:\n",
        "  for lambda_ in decays:\n",
        "    net = Net().to(device) # defining net\n",
        "\n",
        "    # making the net functional to run the code in functorch\n",
        "    # for evaluating the Jacobian-vector product\n",
        "    func, params = ft.make_functional(net)\n",
        "\n",
        "    # removing requires gradient as it will not be used\n",
        "    # for the forward AD\n",
        "    for param in params:\n",
        "        param.requires_grad_(False)\n",
        "\n",
        "    # defining our optimizer\n",
        "    opt = ForwardSGD(func, functional_xent, params, lr=gamma, momentum = False, decay=lambda_)\n",
        "\n",
        "    # training\n",
        "    for e in range(epochs):\n",
        "      for i, (image, label) in enumerate(train_data_loader):\n",
        "        image, label = image.to(device), label.to(device)\n",
        "        params, loss, jvp = opt.step(image, label) # one optimization step\n",
        "\n",
        "    # evaluating on the val set\n",
        "    test_losses = []\n",
        "    for i, (image, label) in enumerate(val_data_loader):\n",
        "      batch_loss = []\n",
        "      with torch.no_grad():\n",
        "        image, label = image.to(device), label.to(device)\n",
        "        val_loss = functional_xent(params, func,image, label)\n",
        "        batch_loss.append(val_loss.item())\n",
        "      test_losses.append(np.mean(batch_loss))\n",
        "    print(f\"Validation loss for lr = {format(gamma,'.6f')}, decay = {format(lambda_,'.6f')}: {format(np.mean(test_losses),'.3f')}\")"
      ],
      "metadata": {
        "id": "b1G1P4OWwEk2",
        "colab": {
          "base_uri": "https://localhost:8080/"
        },
        "outputId": "e52ac814-5f0d-4c9c-8636-3ca8e33794ab"
      },
      "execution_count": 4,
      "outputs": [
        {
          "output_type": "stream",
          "name": "stdout",
          "text": [
            "Validation loss for lr = 0.000100, decay = 0.000001: 2.251\n",
            "Validation loss for lr = 0.000100, decay = 0.000010: 2.242\n",
            "Validation loss for lr = 0.000100, decay = 0.000000: 2.249\n",
            "Validation loss for lr = 0.000215, decay = 0.000001: 2.141\n",
            "Validation loss for lr = 0.000215, decay = 0.000010: 2.141\n",
            "Validation loss for lr = 0.000215, decay = 0.000000: 2.140\n",
            "Validation loss for lr = 0.000464, decay = 0.000001: 11.586\n",
            "Validation loss for lr = 0.000464, decay = 0.000010: 1.126\n",
            "Validation loss for lr = 0.000464, decay = 0.000000: 1.562\n",
            "Validation loss for lr = 0.001000, decay = 0.000001: 14.514\n",
            "Validation loss for lr = 0.001000, decay = 0.000010: 14.127\n",
            "Validation loss for lr = 0.001000, decay = 0.000000: 13.713\n"
          ]
        }
      ]
    },
    {
      "cell_type": "markdown",
      "source": [
        "Searching for best learning rate and learning rate decay for backpropagation."
      ],
      "metadata": {
        "id": "Waw7JQjzI4Zy"
      }
    },
    {
      "cell_type": "code",
      "source": [
        "torch.manual_seed(42) # setting seed for reporducibility\n",
        "\n",
        "# defining learning rates and decays for grid search\n",
        "learning_rates = np.logspace(-3, -1, 4)\n",
        "decays = np.append(np.logspace(-6, -5, 2), 0)\n",
        "\n",
        "criterion = nn.CrossEntropyLoss() # loss function\n",
        "for gamma in learning_rates:\n",
        "  for lambda_ in decays:\n",
        "    lr_new = gamma\n",
        "    net = Net().to(device) # defining net\n",
        "\n",
        "    # storing losses\n",
        "    losses = []\n",
        "    steps = 0\n",
        "    for epoch in range(epochs):\n",
        "      # going over training set in batches\n",
        "      for i, (image, label) in enumerate(train_data_loader):\n",
        "        steps += 1\n",
        "        backprop = torch.optim.SGD(net.parameters(), lr=lr_new) # backprop SGD\n",
        "        image, label = image.to(device), label.to(device)\n",
        "\n",
        "        # optimizing\n",
        "        backprop.zero_grad()\n",
        "        outputs = net(image)\n",
        "        loss = criterion(outputs, label)\n",
        "        loss.backward()\n",
        "        backprop.step()\n",
        "        losses.append(loss.item())\n",
        "\n",
        "        # learning rate decay\n",
        "        lr_new = gamma * np.exp(-steps*lambda_)\n",
        "\n",
        "    # evaluating on the val set\n",
        "    test_losses = []\n",
        "    for i, (image, label) in enumerate(val_data_loader):\n",
        "      batch_loss = []\n",
        "      with torch.no_grad():\n",
        "        image, label = image.to(device), label.to(device)\n",
        "        val_loss = criterion(net(image), label)\n",
        "        batch_loss.append(val_loss.item())\n",
        "      test_losses.append(np.mean(batch_loss))\n",
        "    print(f\"Validation loss for lr = {format(gamma,'.6f')}, decay = {format(lambda_,'.6f')}: {format(np.mean(test_losses),'.3f')}\")"
      ],
      "metadata": {
        "colab": {
          "base_uri": "https://localhost:8080/"
        },
        "id": "cmHuS91UjuMk",
        "outputId": "4f0bbb8c-0617-4bef-9bca-410a29ff0976"
      },
      "execution_count": 5,
      "outputs": [
        {
          "output_type": "stream",
          "name": "stdout",
          "text": [
            "Validation loss for lr = 0.001000, decay = 0.000001: 0.742\n",
            "Validation loss for lr = 0.001000, decay = 0.000010: 0.737\n",
            "Validation loss for lr = 0.001000, decay = 0.000000: 0.745\n",
            "Validation loss for lr = 0.004642, decay = 0.000001: 0.310\n",
            "Validation loss for lr = 0.004642, decay = 0.000010: 0.312\n",
            "Validation loss for lr = 0.004642, decay = 0.000000: 0.304\n",
            "Validation loss for lr = 0.021544, decay = 0.000001: 0.150\n",
            "Validation loss for lr = 0.021544, decay = 0.000010: 0.148\n",
            "Validation loss for lr = 0.021544, decay = 0.000000: 0.149\n",
            "Validation loss for lr = 0.100000, decay = 0.000001: 0.071\n",
            "Validation loss for lr = 0.100000, decay = 0.000010: 0.079\n",
            "Validation loss for lr = 0.100000, decay = 0.000000: 0.070\n"
          ]
        }
      ]
    },
    {
      "cell_type": "markdown",
      "source": [
        "### Modeling"
      ],
      "metadata": {
        "id": "Zm-4Tf1FJHhe"
      }
    },
    {
      "cell_type": "markdown",
      "source": [
        "We first run forward gradient for the optimal hyperparameters."
      ],
      "metadata": {
        "id": "tZoeCtSnJPpp"
      }
    },
    {
      "cell_type": "code",
      "source": [
        "# for reproducible purposes\n",
        "torch.manual_seed(42)\n",
        "\n",
        "net = Net().to(device) # defining net\n",
        "\n",
        "# using best lr and decay found in the optimizations below\n",
        "lr = 0.000464\n",
        "decay = 1e-5\n",
        "# making the net functional to run the code in functorch\n",
        "# for evaluating the Jacobian-vector product\n",
        "func, params = ft.make_functional(net)\n",
        "\n",
        "# removing requires gradient as it will not be used\n",
        "# for the forward AD\n",
        "for param in params:\n",
        "    param.requires_grad_(False)\n",
        "\n",
        "# defining our optimizer\n",
        "opt = ForwardSGD(func, functional_xent, params, lr=lr, momentum = False, decay=decay)\n",
        "\n",
        "# running the code for e epochs\n",
        "losses_fwd = []\n",
        "norms = []\n",
        "epochs = 25\n",
        "test_losses_fwd = []\n",
        "for e in range(epochs):\n",
        "  # training\n",
        "  for j, (image, label) in enumerate(train_data_loader):\n",
        "    image, label = image.to(device), label.to(device)\n",
        "    params, loss, norm = opt.step(image, label)\n",
        "    try:\n",
        "      norms.append(np.abs(norm.item()))\n",
        "    except:\n",
        "      norms.append(np.abs(norm))\n",
        "    losses_fwd.append(loss.item())\n",
        "  # evaluating on the test set\n",
        "  for i, (image, label) in enumerate(test_data_loader):\n",
        "    with torch.no_grad():\n",
        "      batch_loss = []\n",
        "      image, label = image.to(device), label.to(device)\n",
        "      test_loss = functional_xent(params, func, image, label)\n",
        "      batch_loss.append(test_loss.item())\n",
        "  test_losses_fwd.append(np.mean(batch_loss))\n",
        "  print(f\"Test loss in epoch {e+1}: {(test_losses_fwd[-1])}\")\n"
      ],
      "metadata": {
        "id": "D7BcefWeqh_P",
        "colab": {
          "base_uri": "https://localhost:8080/"
        },
        "outputId": "232fb167-4bdb-49be-8c1e-ac1ab5ca126e"
      },
      "execution_count": 6,
      "outputs": [
        {
          "output_type": "stream",
          "name": "stdout",
          "text": [
            "Test loss in epoch 1: 2.276754379272461\n",
            "Test loss in epoch 2: 2.229856491088867\n",
            "Test loss in epoch 3: 2.245063066482544\n",
            "Test loss in epoch 4: 2.1505117416381836\n",
            "Test loss in epoch 5: 2.007540225982666\n",
            "Test loss in epoch 6: 1.9714754819869995\n",
            "Test loss in epoch 7: 1.8052902221679688\n",
            "Test loss in epoch 8: 1.4845551252365112\n",
            "Test loss in epoch 9: 1.513105869293213\n",
            "Test loss in epoch 10: 0.7407682538032532\n",
            "Test loss in epoch 11: 1.9370222091674805\n",
            "Test loss in epoch 12: 12.953187942504883\n",
            "Test loss in epoch 13: 13.771442413330078\n",
            "Test loss in epoch 14: 14.945985794067383\n",
            "Test loss in epoch 15: 10.55512809753418\n",
            "Test loss in epoch 16: 12.953187942504883\n",
            "Test loss in epoch 17: 12.953187942504883\n",
            "Test loss in epoch 18: 15.942384719848633\n",
            "Test loss in epoch 19: 12.953187942504883\n",
            "Test loss in epoch 20: 14.945985794067383\n",
            "Test loss in epoch 21: 10.960390090942383\n",
            "Test loss in epoch 22: 10.960390090942383\n",
            "Test loss in epoch 23: 14.945985794067383\n",
            "Test loss in epoch 24: 13.949586868286133\n",
            "Test loss in epoch 25: 14.945985794067383\n"
          ]
        }
      ]
    },
    {
      "cell_type": "code",
      "source": [
        "plt.plot(norms)\n",
        "plt.xlabel(\"Iteration\")\n",
        "plt.ylabel(\"Jacobian vector norm (L2)\")\n",
        "plt.title(\"Jacobian vector norm per iteration\")"
      ],
      "metadata": {
        "colab": {
          "base_uri": "https://localhost:8080/",
          "height": 312
        },
        "id": "_kFD16L8vBSj",
        "outputId": "3b1a1f71-3ae7-4b8d-f597-3cde6aaf51c0"
      },
      "execution_count": 7,
      "outputs": [
        {
          "output_type": "execute_result",
          "data": {
            "text/plain": [
              "Text(0.5, 1.0, 'Jacobian vector norm per iteration')"
            ]
          },
          "metadata": {},
          "execution_count": 7
        },
        {
          "output_type": "display_data",
          "data": {
            "text/plain": [
              "<Figure size 432x288 with 1 Axes>"
            ],
            "image/png": "[encoded data removed]"
          },
          "metadata": {
            "needs_background": "light"
          }
        }
      ]
    },
    {
      "cell_type": "code",
      "source": [
        "print(np.max(norms[:10000])); print(np.max(norms)); print(np.max(norms[:11000]))\n",
        "print(np.mean(norms[:10000]))\n",
        "print(np.std(norms[:10000]))"
      ],
      "metadata": {
        "colab": {
          "base_uri": "https://localhost:8080/"
        },
        "id": "zLCr2cf0xrMf",
        "outputId": "b46f14aa-1527-4209-8516-135ec4adb3aa"
      },
      "execution_count": 8,
      "outputs": [
        {
          "output_type": "stream",
          "name": "stdout",
          "text": [
            "87.86993408203125\n",
            "416.6250915527344\n",
            "134.16180419921875\n",
            "3.340167948278336\n",
            "7.877840072580223\n"
          ]
        }
      ]
    },
    {
      "cell_type": "markdown",
      "source": [
        "As can be seen, we deal with exploding gradients. To mitigate this, we utilize gradient clipping. Specifically, we impose that the norm of the Jacobian vector product must be less than 1."
      ],
      "metadata": {
        "id": "_y1k5q-S_cjW"
      }
    },
    {
      "cell_type": "code",
      "source": [
        "torch.manual_seed(42) # setting seed for reproducibility\n",
        "\n",
        "net = Net().to(device) # defining net\n",
        "\n",
        "# using best lr and decay found in the optimizations below\n",
        "lr = 0.000464\n",
        "decay = 1e-5\n",
        "# making the net functional to run the code in functorch\n",
        "# for evaluating the Jacobian-vector product\n",
        "func, params = ft.make_functional(net)\n",
        "\n",
        "# removing requires gradient as it will not be used\n",
        "# for the forward AD\n",
        "for param in params:\n",
        "    param.requires_grad_(False)\n",
        "\n",
        "# defining our optimizer\n",
        "opt = ForwardSGD(func, functional_xent, params, lr=lr, momentum = False, decay=decay, clip = 1)\n",
        "\n",
        "# training for e epochs\n",
        "losses_fwd = []\n",
        "norms = []\n",
        "epochs = 50\n",
        "test_losses_fwd = []\n",
        "for e in range(epochs):\n",
        "  for j, (image, label) in enumerate(train_data_loader):\n",
        "    image, label = image.to(device), label.to(device)\n",
        "    params, loss, norm = opt.step(image, label)\n",
        "    try:\n",
        "      norms.append(norm.item())\n",
        "    except:\n",
        "      norms.append(norm)\n",
        "    losses_fwd.append(loss.item())\n",
        "\n",
        "  # evaluating on the test set\n",
        "  for i, (image, label) in enumerate(test_data_loader):\n",
        "    with torch.no_grad():\n",
        "      batch_loss = []\n",
        "      image, label = image.to(device), label.to(device)\n",
        "      test_loss = functional_xent(params, func, image, label)\n",
        "      batch_loss.append(test_loss.item())\n",
        "  test_losses_fwd.append(np.mean(batch_loss))\n",
        "  print(f\"Test loss in epoch {e+1}: {format(test_losses_fwd[-1], '.3f')}\")\n"
      ],
      "metadata": {
        "colab": {
          "base_uri": "https://localhost:8080/"
        },
        "id": "zLfRPaSuyHEQ",
        "outputId": "999c33ac-7f5e-4061-ff4f-8120e45b1b58"
      },
      "execution_count": 9,
      "outputs": [
        {
          "output_type": "stream",
          "name": "stdout",
          "text": [
            "Test loss in epoch 1: 2.276\n",
            "Test loss in epoch 2: 2.231\n",
            "Test loss in epoch 3: 2.251\n",
            "Test loss in epoch 4: 2.168\n",
            "Test loss in epoch 5: 2.067\n",
            "Test loss in epoch 6: 2.077\n",
            "Test loss in epoch 7: 1.972\n",
            "Test loss in epoch 8: 1.864\n",
            "Test loss in epoch 9: 1.827\n",
            "Test loss in epoch 10: 1.727\n",
            "Test loss in epoch 11: 1.633\n",
            "Test loss in epoch 12: 1.595\n",
            "Test loss in epoch 13: 1.352\n",
            "Test loss in epoch 14: 1.484\n",
            "Test loss in epoch 15: 1.221\n",
            "Test loss in epoch 16: 1.196\n",
            "Test loss in epoch 17: 1.058\n",
            "Test loss in epoch 18: 1.439\n",
            "Test loss in epoch 19: 0.909\n",
            "Test loss in epoch 20: 0.928\n",
            "Test loss in epoch 21: 0.734\n",
            "Test loss in epoch 22: 0.572\n",
            "Test loss in epoch 23: 1.564\n",
            "Test loss in epoch 24: 0.655\n",
            "Test loss in epoch 25: 0.538\n",
            "Test loss in epoch 26: 0.617\n",
            "Test loss in epoch 27: 0.857\n",
            "Test loss in epoch 28: 0.624\n",
            "Test loss in epoch 29: 0.566\n",
            "Test loss in epoch 30: 0.486\n",
            "Test loss in epoch 31: 0.551\n",
            "Test loss in epoch 32: 0.589\n",
            "Test loss in epoch 33: 0.572\n",
            "Test loss in epoch 34: 0.400\n",
            "Test loss in epoch 35: 0.249\n",
            "Test loss in epoch 36: 0.641\n",
            "Test loss in epoch 37: 0.365\n",
            "Test loss in epoch 38: 0.552\n",
            "Test loss in epoch 39: 0.810\n",
            "Test loss in epoch 40: 0.512\n",
            "Test loss in epoch 41: 0.556\n",
            "Test loss in epoch 42: 0.392\n",
            "Test loss in epoch 43: 0.152\n",
            "Test loss in epoch 44: 0.259\n",
            "Test loss in epoch 45: 0.261\n",
            "Test loss in epoch 46: 0.785\n",
            "Test loss in epoch 47: 0.257\n",
            "Test loss in epoch 48: 0.730\n",
            "Test loss in epoch 49: 0.411\n",
            "Test loss in epoch 50: 0.332\n"
          ]
        }
      ]
    },
    {
      "cell_type": "markdown",
      "source": [
        "Backpropagation:"
      ],
      "metadata": {
        "id": "G4WpUezcqr4V"
      }
    },
    {
      "cell_type": "code",
      "source": [
        "torch.manual_seed(42) # setting seed for reproducibility\n",
        "\n",
        "lr = 0.100000\n",
        "decay = 0\n",
        "epochs = 50\n",
        "lr_new = lr\n",
        "criterion = nn.CrossEntropyLoss() # loss function\n",
        "net = Net().to(device) # defining net\n",
        "\n",
        "# storing losses\n",
        "losses = []\n",
        "test_losses = []\n",
        "steps = 0\n",
        "for e in range(epochs):\n",
        "  # going over training set in batches\n",
        "  for i, (image, label) in enumerate(train_data_loader):\n",
        "    steps += 1\n",
        "    backprop = torch.optim.SGD(net.parameters(), lr=lr_new) # normal SGD in torch\n",
        "    image, label = image.to(device), label.to(device)\n",
        "    backprop.zero_grad()\n",
        "    outputs = net(image)\n",
        "    loss = criterion(outputs, label)\n",
        "    loss.backward()\n",
        "    backprop.step()\n",
        "    losses.append(loss.item())\n",
        "    lr_new = lr * np.exp(-steps*decay)\n",
        "  \n",
        "  # testing on test set\n",
        "  for i, (image, label) in enumerate(test_data_loader):\n",
        "    with torch.no_grad():\n",
        "      batch_loss = []\n",
        "      image, label = image.to(device), label.to(device)\n",
        "      test_loss = criterion(net(image), label)\n",
        "      batch_loss.append(test_loss.item())\n",
        "  test_losses.append(np.mean(batch_loss))\n",
        "  print(f\"Test loss in epoch {e+1}: {(test_losses[-1])}\")"
      ],
      "metadata": {
        "id": "Id8vMur6qrcM",
        "colab": {
          "base_uri": "https://localhost:8080/"
        },
        "outputId": "588ca7e7-513c-4c28-b28b-752d1a126e19"
      },
      "execution_count": 10,
      "outputs": [
        {
          "output_type": "stream",
          "name": "stdout",
          "text": [
            "Test loss in epoch 1: 0.21089600026607513\n",
            "Test loss in epoch 2: 0.018330974504351616\n",
            "Test loss in epoch 3: 0.043267495930194855\n",
            "Test loss in epoch 4: 0.09450326859951019\n",
            "Test loss in epoch 5: 0.053974270820617676\n",
            "Test loss in epoch 6: 0.0013429009122774005\n",
            "Test loss in epoch 7: 0.0017417690251022577\n",
            "Test loss in epoch 8: 0.12855468690395355\n",
            "Test loss in epoch 9: 0.003445312613621354\n",
            "Test loss in epoch 10: 0.0485224723815918\n",
            "Test loss in epoch 11: 0.0038545248098671436\n",
            "Test loss in epoch 12: 0.017548387870192528\n",
            "Test loss in epoch 13: 0.005903841461986303\n",
            "Test loss in epoch 14: 0.1460621953010559\n",
            "Test loss in epoch 15: 0.0064318617805838585\n",
            "Test loss in epoch 16: 0.12599988281726837\n",
            "Test loss in epoch 17: 0.005304242949932814\n",
            "Test loss in epoch 18: 0.38441839814186096\n",
            "Test loss in epoch 19: 0.01203002780675888\n",
            "Test loss in epoch 20: 0.003206605091691017\n",
            "Test loss in epoch 21: 0.272867888212204\n",
            "Test loss in epoch 22: 0.0017718407325446606\n",
            "Test loss in epoch 23: 0.6106453537940979\n",
            "Test loss in epoch 24: 0.036790646612644196\n",
            "Test loss in epoch 25: 1.0065509741252754e-05\n",
            "Test loss in epoch 26: 0.0033710619900375605\n",
            "Test loss in epoch 27: 0.010113983415067196\n",
            "Test loss in epoch 28: 0.0001362396578770131\n",
            "Test loss in epoch 29: 0.0003773012140300125\n",
            "Test loss in epoch 30: 0.0001319766161032021\n",
            "Test loss in epoch 31: 0.1859734207391739\n",
            "Test loss in epoch 32: 0.00011783600348280743\n",
            "Test loss in epoch 33: 0.030262522399425507\n",
            "Test loss in epoch 34: 0.0244895052164793\n",
            "Test loss in epoch 35: 0.0003982692724093795\n",
            "Test loss in epoch 36: 0.008728638291358948\n",
            "Test loss in epoch 37: 0.0005693186540156603\n",
            "Test loss in epoch 38: 0.0009540148312225938\n",
            "Test loss in epoch 39: 0.00041991943726316094\n",
            "Test loss in epoch 40: 0.13044047355651855\n",
            "Test loss in epoch 41: 1.6270583728328347e-05\n",
            "Test loss in epoch 42: 0.000789920159149915\n",
            "Test loss in epoch 43: 2.3682758182985708e-05\n",
            "Test loss in epoch 44: 5.468562903843122e-06\n",
            "Test loss in epoch 45: 1.5571608855680097e-06\n",
            "Test loss in epoch 46: 0.0021592460107058287\n",
            "Test loss in epoch 47: 6.254876643652096e-05\n",
            "Test loss in epoch 48: 0.0045629097148776054\n",
            "Test loss in epoch 49: 0.5331766605377197\n",
            "Test loss in epoch 50: 1.8743665350484662e-05\n"
          ]
        }
      ]
    },
    {
      "cell_type": "markdown",
      "source": [
        "#### Comparing results"
      ],
      "metadata": {
        "id": "j7wyih5wrNzK"
      }
    },
    {
      "cell_type": "code",
      "source": [
        "fig, ax = plt.subplots(1,2,figsize=(16,8))\n",
        "\n",
        "ax[0].plot(losses, color='r', label=\"Backprop\", alpha=.7)\n",
        "ax[0].set_xlabel(\"Iterations\")\n",
        "ax[0].set_ylabel(\"Loss\")\n",
        "ax[0].plot(losses_fwd[:], color='b', label='Forward gradient', alpha=.7)\n",
        "ax[0].set_title(\"Training loss for backprop and forward gradient\")\n",
        "ax[0].legend()\n",
        "\n",
        "ax[1].plot(test_losses, color='r', label=\"Backprop\", alpha=.7)\n",
        "ax[1].set_xlabel(\"Epochs\")\n",
        "ax[1].set_ylabel(\"Loss\")\n",
        "ax[1].plot(test_losses_fwd, color='b', label='Forward gradient', alpha=.7)\n",
        "ax[1].set_title(\"Test loss for backprop and forward gradient\")\n",
        "ax[1].legend()"
      ],
      "metadata": {
        "id": "d1Az9_GcrQC9",
        "colab": {
          "base_uri": "https://localhost:8080/",
          "height": 530
        },
        "outputId": "21c68bd7-00e0-4544-b1c7-fefba7d0a33e"
      },
      "execution_count": 11,
      "outputs": [
        {
          "output_type": "execute_result",
          "data": {
            "text/plain": [
              "<matplotlib.legend.Legend at 0x7f24e1ae5050>"
            ]
          },
          "metadata": {},
          "execution_count": 11
        },
        {
          "output_type": "display_data",
          "data": {
            "text/plain": [
              "<Figure size 1152x576 with 2 Axes>"
            ],
            "image/png": "[encoded data removed]"
          },
          "metadata": {
            "needs_background": "light"
          }
        }
      ]
    },
    {
      "cell_type": "markdown",
      "source": [
        "## SGD with Nesterov momentum\n",
        "\n",
        "We now incorporate SGD with Nesterov momentum."
      ],
      "metadata": {
        "id": "W8s201wxL4Tm"
      }
    },
    {
      "cell_type": "markdown",
      "source": [
        "### Learning rate optimization\n",
        "\n",
        "The final search for learning rate is in a quite small interval as we earlier tried a wider search, but wanted to reduce the width to find a better optimum."
      ],
      "metadata": {
        "id": "2PgR4xV8L4Tn"
      }
    },
    {
      "cell_type": "markdown",
      "source": [
        "Searching for best learning rate and momentum for forward gradient."
      ],
      "metadata": {
        "id": "SJGZi2-XL4To"
      }
    },
    {
      "cell_type": "code",
      "source": [
        "torch.manual_seed(42) # setting seed for reproducibility\n",
        "\n",
        "# learning rate and momentum grid search for forward gradient\n",
        "learning_rates = np.logspace(-4, -3, 4)\n",
        "momentums = np.linspace(0.1, 0.9, 4)\n",
        "\n",
        "epochs = 10\n",
        "\n",
        "for gamma in learning_rates:\n",
        "  for momentum in momentums:\n",
        "    net = Net().to(device) # defining net\n",
        "\n",
        "    # making the net functional to run the code in functorch\n",
        "    # for evaluating the Jacobian-vector product\n",
        "    func, params = ft.make_functional(net)\n",
        "\n",
        "    # removing requires gradient as it will not be used\n",
        "    # for the forward AD\n",
        "    for param in params:\n",
        "        param.requires_grad_(False)\n",
        "\n",
        "    # defining our optimizer\n",
        "    opt = ForwardSGD(func, functional_xent, params, lr=gamma,\n",
        "                     momentum = momentum, nesterov = True, decay=0, clip=1)\n",
        "\n",
        "    # training\n",
        "    for e in range(epochs):\n",
        "      for i, (image, label) in enumerate(train_data_loader):\n",
        "        image, label = image.to(device), label.to(device)\n",
        "        params, loss, jvp = opt.step(image, label) # one optimization step\n",
        "\n",
        "    # evaluating on the val set\n",
        "    test_losses = []\n",
        "    for i, (image, label) in enumerate(val_data_loader):\n",
        "      batch_loss = []\n",
        "      with torch.no_grad():\n",
        "        image, label = image.to(device), label.to(device)\n",
        "        val_loss = functional_xent(params, func,image, label)\n",
        "        batch_loss.append(val_loss.item())\n",
        "      test_losses.append(np.mean(batch_loss))\n",
        "    print(f\"Validation loss for lr = {format(gamma,'.5f')}, momentum = {format(momentum,'.3f')}: {format(np.mean(test_losses),'.3f')}\")"
      ],
      "metadata": {
        "colab": {
          "base_uri": "https://localhost:8080/"
        },
        "outputId": "977b3ea9-4b63-4a9f-9fda-10db65eca299",
        "id": "FU90751EL4To"
      },
      "execution_count": 4,
      "outputs": [
        {
          "output_type": "stream",
          "name": "stdout",
          "text": [
            "Validation loss for lr = 0.00010, momentum = 0.100: 2.246\n",
            "Validation loss for lr = 0.00010, momentum = 0.367: 2.201\n",
            "Validation loss for lr = 0.00010, momentum = 0.633: 2.088\n",
            "Validation loss for lr = 0.00010, momentum = 0.900: 0.850\n",
            "Validation loss for lr = 0.00022, momentum = 0.100: 2.126\n",
            "Validation loss for lr = 0.00022, momentum = 0.367: 1.958\n",
            "Validation loss for lr = 0.00022, momentum = 0.633: 1.341\n",
            "Validation loss for lr = 0.00022, momentum = 0.900: 4.585\n",
            "Validation loss for lr = 0.00046, momentum = 0.100: 1.542\n",
            "Validation loss for lr = 0.00046, momentum = 0.367: 1.005\n",
            "Validation loss for lr = 0.00046, momentum = 0.633: 1.332\n",
            "Validation loss for lr = 0.00046, momentum = 0.900: 10.618\n",
            "Validation loss for lr = 0.00100, momentum = 0.100: 1.007\n",
            "Validation loss for lr = 0.00100, momentum = 0.367: 2.318\n",
            "Validation loss for lr = 0.00100, momentum = 0.633: 6.078\n",
            "Validation loss for lr = 0.00100, momentum = 0.900: 12.087\n"
          ]
        }
      ]
    },
    {
      "cell_type": "markdown",
      "source": [
        "Searching for best learning rate and momentum for backpropagation."
      ],
      "metadata": {
        "id": "gGE2XBLzL4Tq"
      }
    },
    {
      "cell_type": "code",
      "source": [
        "torch.manual_seed(42) # setting seed for reporducibility\n",
        "\n",
        "# defining learning rates and decays for grid search\n",
        "learning_rates = np.logspace(-3, -1, 4)\n",
        "momentums = np.linspace(0.5, 0.9, 4)\n",
        "\n",
        "criterion = nn.CrossEntropyLoss() # loss function\n",
        "for gamma in learning_rates:\n",
        "  for momentum in momentums:\n",
        "    net = Net().to(device) # defining net\n",
        "    backprop = torch.optim.SGD(net.parameters(), lr=gamma,\n",
        "                                   momentum = momentum, nesterov = True) # backprop SGD\n",
        "\n",
        "    # storing losses\n",
        "    losses = []\n",
        "    for epoch in range(epochs):\n",
        "      # going over training set in batches\n",
        "      for i, (image, label) in enumerate(train_data_loader):\n",
        "        image, label = image.to(device), label.to(device)\n",
        "\n",
        "        # optimizing\n",
        "        backprop.zero_grad()\n",
        "        outputs = net(image)\n",
        "        loss = criterion(outputs, label)\n",
        "        loss.backward()\n",
        "        backprop.step()\n",
        "        losses.append(loss.item())\n",
        "\n",
        "    # evaluating on the val set\n",
        "    test_losses = []\n",
        "    for i, (image, label) in enumerate(val_data_loader):\n",
        "      batch_loss = []\n",
        "      with torch.no_grad():\n",
        "        image, label = image.to(device), label.to(device)\n",
        "        val_loss = criterion(net(image), label)\n",
        "        batch_loss.append(val_loss.item())\n",
        "      test_losses.append(np.mean(batch_loss))\n",
        "    print(f\"Validation loss for lr = {format(gamma,'.4f')}, momentum = {format(momentum,'.3f')}: {format(np.mean(test_losses),'.3f')}\")"
      ],
      "metadata": {
        "colab": {
          "base_uri": "https://localhost:8080/"
        },
        "outputId": "56b39692-d2e5-4cdb-e400-df6a971a2f6a",
        "id": "qS9wgdThL4Tr"
      },
      "execution_count": 7,
      "outputs": [
        {
          "output_type": "stream",
          "name": "stdout",
          "text": [
            "Validation loss for lr = 0.0010, momentum = 0.500: 0.432\n",
            "Validation loss for lr = 0.0010, momentum = 0.633: 0.367\n",
            "Validation loss for lr = 0.0010, momentum = 0.767: 0.317\n",
            "Validation loss for lr = 0.0010, momentum = 0.900: 0.230\n",
            "Validation loss for lr = 0.0046, momentum = 0.500: 0.237\n",
            "Validation loss for lr = 0.0046, momentum = 0.633: 0.201\n",
            "Validation loss for lr = 0.0046, momentum = 0.767: 0.157\n",
            "Validation loss for lr = 0.0046, momentum = 0.900: 0.088\n",
            "Validation loss for lr = 0.0215, momentum = 0.500: 0.100\n",
            "Validation loss for lr = 0.0215, momentum = 0.633: 0.085\n",
            "Validation loss for lr = 0.0215, momentum = 0.767: 0.075\n",
            "Validation loss for lr = 0.0215, momentum = 0.900: 0.070\n",
            "Validation loss for lr = 0.1000, momentum = 0.500: 0.068\n",
            "Validation loss for lr = 0.1000, momentum = 0.633: 0.077\n",
            "Validation loss for lr = 0.1000, momentum = 0.767: 0.073\n",
            "Validation loss for lr = 0.1000, momentum = 0.900: 0.114\n"
          ]
        }
      ]
    },
    {
      "cell_type": "markdown",
      "source": [
        "### Modeling"
      ],
      "metadata": {
        "id": "82X4mLK6L4Ts"
      }
    },
    {
      "cell_type": "markdown",
      "source": [
        "We first run forward gradient for the optimal hyperparameters."
      ],
      "metadata": {
        "id": "hPwJVZehL4Ts"
      }
    },
    {
      "cell_type": "code",
      "source": [
        "# for reproducible purposes\n",
        "torch.manual_seed(42)\n",
        "\n",
        "net = Net().to(device) # defining net\n",
        "\n",
        "# using best lr and decay found in the optimizations below\n",
        "lr = 0.0010\n",
        "momentum = 0.100\n",
        "# making the net functional to run the code in functorch\n",
        "# for evaluating the Jacobian-vector product\n",
        "func, params = ft.make_functional(net)\n",
        "\n",
        "# removing requires gradient as it will not be used\n",
        "# for the forward AD\n",
        "for param in params:\n",
        "    param.requires_grad_(False)\n",
        "\n",
        "# defining our optimizer\n",
        "opt = ForwardSGD(func, functional_xent, params, lr=lr, momentum = momentum, nesterov = True, clip = 1)\n",
        "\n",
        "# running the code for e epochs\n",
        "losses_fwd = []\n",
        "epochs = 50\n",
        "test_losses_fwd = []\n",
        "for e in range(epochs):\n",
        "  # training\n",
        "  for j, (image, label) in enumerate(train_data_loader):\n",
        "    image, label = image.to(device), label.to(device)\n",
        "    params, loss, jvp = opt.step(image, label)\n",
        "    losses_fwd.append(loss.item())\n",
        "  # evaluating on the test set\n",
        "  for i, (image, label) in enumerate(test_data_loader):\n",
        "    with torch.no_grad():\n",
        "      batch_loss = []\n",
        "      image, label = image.to(device), label.to(device)\n",
        "      test_loss = functional_xent(params, func, image, label)\n",
        "      batch_loss.append(test_loss.item())\n",
        "  test_losses_fwd.append(np.mean(batch_loss))\n",
        "  print(f\"Test loss in epoch {e+1}: {(test_losses_fwd[-1])}\")\n"
      ],
      "metadata": {
        "colab": {
          "base_uri": "https://localhost:8080/"
        },
        "outputId": "76fc615b-fea0-4fd5-edca-1b7c01100e75",
        "id": "O3wTtIghL4Tt"
      },
      "execution_count": 13,
      "outputs": [
        {
          "output_type": "stream",
          "name": "stdout",
          "text": [
            "Test loss in epoch 1: 2.216801881790161\n",
            "Test loss in epoch 2: 2.031440258026123\n",
            "Test loss in epoch 3: 1.8496930599212646\n",
            "Test loss in epoch 4: 1.397027611732483\n",
            "Test loss in epoch 5: 1.0669891834259033\n",
            "Test loss in epoch 6: 0.7267148494720459\n",
            "Test loss in epoch 7: 0.6018703579902649\n",
            "Test loss in epoch 8: 0.8449952602386475\n",
            "Test loss in epoch 9: 0.9118472337722778\n",
            "Test loss in epoch 10: 1.1807867288589478\n",
            "Test loss in epoch 11: 1.665630578994751\n",
            "Test loss in epoch 12: 1.0540037155151367\n",
            "Test loss in epoch 13: 1.056373119354248\n",
            "Test loss in epoch 14: 2.9946846961975098\n",
            "Test loss in epoch 15: 1.7153407335281372\n",
            "Test loss in epoch 16: 1.2769749164581299\n",
            "Test loss in epoch 17: 1.1939730644226074\n",
            "Test loss in epoch 18: 3.3517301082611084\n",
            "Test loss in epoch 19: 1.6443243026733398\n",
            "Test loss in epoch 20: 2.147191286087036\n",
            "Test loss in epoch 21: 2.6215574741363525\n",
            "Test loss in epoch 22: 1.6366945505142212\n",
            "Test loss in epoch 23: 4.838977336883545\n",
            "Test loss in epoch 24: 1.4220160245895386\n",
            "Test loss in epoch 25: 0.6364649534225464\n",
            "Test loss in epoch 26: 3.5375242233276367\n",
            "Test loss in epoch 27: 2.652493476867676\n",
            "Test loss in epoch 28: 1.4569422006607056\n",
            "Test loss in epoch 29: 1.90218186378479\n",
            "Test loss in epoch 30: 2.6628618240356445\n",
            "Test loss in epoch 31: 1.4986987113952637\n",
            "Test loss in epoch 32: 3.9203014373779297\n",
            "Test loss in epoch 33: 2.4505581855773926\n",
            "Test loss in epoch 34: 1.194888710975647\n",
            "Test loss in epoch 35: 3.0272765159606934\n",
            "Test loss in epoch 36: 4.637307167053223\n",
            "Test loss in epoch 37: 3.439122200012207\n",
            "Test loss in epoch 38: 4.344974994659424\n",
            "Test loss in epoch 39: 4.884273052215576\n",
            "Test loss in epoch 40: 3.104783058166504\n",
            "Test loss in epoch 41: 7.553707599639893\n",
            "Test loss in epoch 42: 3.4160094261169434\n",
            "Test loss in epoch 43: 3.2471747398376465\n",
            "Test loss in epoch 44: 3.79555606842041\n",
            "Test loss in epoch 45: 2.2529468536376953\n",
            "Test loss in epoch 46: 5.328786849975586\n",
            "Test loss in epoch 47: 2.2521746158599854\n",
            "Test loss in epoch 48: 6.718274116516113\n",
            "Test loss in epoch 49: 3.8835630416870117\n",
            "Test loss in epoch 50: 3.0486207008361816\n"
          ]
        }
      ]
    },
    {
      "cell_type": "markdown",
      "source": [
        "Backpropagation:"
      ],
      "metadata": {
        "id": "_Kz_nhv7L4Tx"
      }
    },
    {
      "cell_type": "code",
      "source": [
        "torch.manual_seed(42) # setting seed for reproducibility\n",
        "\n",
        "lr = 0.1\n",
        "momentum = 0.500\n",
        "epochs = 50\n",
        "lr_new = lr\n",
        "criterion = nn.CrossEntropyLoss() # loss function\n",
        "net = Net().to(device) # defining net\n",
        "backprop = torch.optim.SGD(net.parameters(), lr=lr_new,\n",
        "                               momentum = momentum, nesterov = True) # normal SGD in torch\n",
        "\n",
        "# storing losses\n",
        "losses = []\n",
        "test_losses = []\n",
        "for e in range(epochs):\n",
        "  # going over training set in batches\n",
        "  for i, (image, label) in enumerate(train_data_loader):\n",
        "    image, label = image.to(device), label.to(device)\n",
        "    backprop.zero_grad()\n",
        "    outputs = net(image)\n",
        "    loss = criterion(outputs, label)\n",
        "    loss.backward()\n",
        "    backprop.step()\n",
        "    losses.append(loss.item())\n",
        "  \n",
        "  # testing on test set\n",
        "  for i, (image, label) in enumerate(test_data_loader):\n",
        "    with torch.no_grad():\n",
        "      batch_loss = []\n",
        "      image, label = image.to(device), label.to(device)\n",
        "      test_loss = criterion(net(image), label)\n",
        "      batch_loss.append(test_loss.item())\n",
        "  test_losses.append(np.mean(batch_loss))\n",
        "  print(f\"Test loss in epoch {e+1}: {(test_losses[-1])}\")"
      ],
      "metadata": {
        "colab": {
          "base_uri": "https://localhost:8080/"
        },
        "outputId": "611084e3-c3f1-4d8b-843f-b00370543ca4",
        "id": "NdH9zmOhL4Ty"
      },
      "execution_count": 6,
      "outputs": [
        {
          "output_type": "stream",
          "name": "stdout",
          "text": [
            "Test loss in epoch 1: 0.1315249800682068\n",
            "Test loss in epoch 2: 0.027862874791026115\n",
            "Test loss in epoch 3: 0.015424213372170925\n",
            "Test loss in epoch 4: 0.07659266144037247\n",
            "Test loss in epoch 5: 0.07654809951782227\n",
            "Test loss in epoch 6: 0.001847417326644063\n",
            "Test loss in epoch 7: 0.0005271852132864296\n",
            "Test loss in epoch 8: 0.1853225827217102\n",
            "Test loss in epoch 9: 0.00035277678398415446\n",
            "Test loss in epoch 10: 0.03044058382511139\n",
            "Test loss in epoch 11: 0.0014210273511707783\n",
            "Test loss in epoch 12: 0.0026413039304316044\n",
            "Test loss in epoch 13: 0.0003972149279434234\n",
            "Test loss in epoch 14: 0.1844155192375183\n",
            "Test loss in epoch 15: 0.02047288976609707\n",
            "Test loss in epoch 16: 0.13774517178535461\n",
            "Test loss in epoch 17: 0.0028007777873426676\n",
            "Test loss in epoch 18: 0.4754335880279541\n",
            "Test loss in epoch 19: 0.0006850249483250082\n",
            "Test loss in epoch 20: 0.0031849120277911425\n",
            "Test loss in epoch 21: 0.31692641973495483\n",
            "Test loss in epoch 22: 0.00020110580953769386\n",
            "Test loss in epoch 23: 0.5706037282943726\n",
            "Test loss in epoch 24: 0.06032004579901695\n",
            "Test loss in epoch 25: 5.66243272714928e-07\n",
            "Test loss in epoch 26: 0.003842685604467988\n",
            "Test loss in epoch 27: 0.02526336908340454\n",
            "Test loss in epoch 28: 3.385885793250054e-05\n",
            "Test loss in epoch 29: 7.624081627000123e-05\n",
            "Test loss in epoch 30: 2.6200610591331497e-05\n",
            "Test loss in epoch 31: 0.1766405552625656\n",
            "Test loss in epoch 32: 4.261667072569253e-06\n",
            "Test loss in epoch 33: 0.026638679206371307\n",
            "Test loss in epoch 34: 0.0050215465016663074\n",
            "Test loss in epoch 35: 8.066622103797272e-05\n",
            "Test loss in epoch 36: 0.011710288003087044\n",
            "Test loss in epoch 37: 3.959516834584065e-05\n",
            "Test loss in epoch 38: 0.00010487023973837495\n",
            "Test loss in epoch 39: 0.00029873568564653397\n",
            "Test loss in epoch 40: 0.016523588448762894\n",
            "Test loss in epoch 41: 4.261622052581515e-06\n",
            "Test loss in epoch 42: 0.0001557046634843573\n",
            "Test loss in epoch 43: 2.523819603084121e-05\n",
            "Test loss in epoch 44: 4.2468258243388846e-07\n",
            "Test loss in epoch 45: 4.4703338630824874e-07\n",
            "Test loss in epoch 46: 0.00014949592878110707\n",
            "Test loss in epoch 47: 1.557767973281443e-05\n",
            "Test loss in epoch 48: 0.0039092376828193665\n",
            "Test loss in epoch 49: 0.6672232747077942\n",
            "Test loss in epoch 50: 1.4020844901097007e-05\n"
          ]
        }
      ]
    },
    {
      "cell_type": "markdown",
      "source": [
        "#### Comparing results"
      ],
      "metadata": {
        "id": "6VxF-ju4L4Tz"
      }
    },
    {
      "cell_type": "code",
      "source": [
        "fig, ax = plt.subplots(1,2,figsize=(16,8))\n",
        "\n",
        "ax[0].plot(losses, color='r', label=\"Backprop\", alpha=.7)\n",
        "ax[0].set_xlabel(\"Iterations\")\n",
        "ax[0].set_ylabel(\"Loss\")\n",
        "ax[0].plot(losses_fwd, color='b', label='Forward gradient', alpha=.7)\n",
        "ax[0].set_title(\"Training loss for backprop and forward gradient\")\n",
        "ax[0].legend()\n",
        "\n",
        "ax[1].plot(test_losses, color='r', label=\"Backprop\", alpha=.7)\n",
        "ax[1].set_xlabel(\"Epochs\")\n",
        "ax[1].set_ylabel(\"Loss\")\n",
        "ax[1].plot(test_losses_fwd, color='b', label='Forward gradient', alpha=.7)\n",
        "ax[1].set_title(\"Validation loss for backprop and forward gradient\")\n",
        "ax[1].legend()"
      ],
      "metadata": {
        "colab": {
          "base_uri": "https://localhost:8080/",
          "height": 530
        },
        "outputId": "51509519-3ac7-4d46-aadc-f4ca2ddd0691",
        "id": "LkPEMYx8L4Tz"
      },
      "execution_count": 16,
      "outputs": [
        {
          "output_type": "execute_result",
          "data": {
            "text/plain": [
              "<matplotlib.legend.Legend at 0x7f1d6ca61a90>"
            ]
          },
          "metadata": {},
          "execution_count": 16
        },
        {
          "output_type": "display_data",
          "data": {
            "text/plain": [
              "<Figure size 1152x576 with 2 Axes>"
            ],
            "image/png": "[encoded data removed]"
          },
          "metadata": {
            "needs_background": "light"
          }
        }
      ]
    },
    {
      "cell_type": "markdown",
      "source": [
        "# Convolutional Neural Network\n",
        "\n",
        "We then use a CNN. Code can be found in `models.py`."
      ],
      "metadata": {
        "id": "kSye81ShLb53"
      }
    },
    {
      "cell_type": "markdown",
      "source": [
        "## SGD"
      ],
      "metadata": {
        "id": "O_S-PkJALZcx"
      }
    },
    {
      "cell_type": "markdown",
      "source": [
        "### Learning rate optimization\n",
        "\n",
        "The final search for learning rate is in a quite small interval as we earlier tried a wider search, but wanted to reduce the width to find a better optimum."
      ],
      "metadata": {
        "id": "ZSEsCszoLZdD"
      }
    },
    {
      "cell_type": "markdown",
      "source": [
        "Searching for best learning rate and learning rate decay for forward gradient."
      ],
      "metadata": {
        "id": "G6ev3OMeLZdE"
      }
    },
    {
      "cell_type": "code",
      "source": [
        "torch.manual_seed(42) # setting seed for reproducibility\n",
        "\n",
        "# learning rate and decays grid search for forward gradient\n",
        "learning_rates = np.logspace(-5, -3, 6)\n",
        "decays = [1e-5, 1e-6]\n",
        "\n",
        "epochs = 10\n",
        "\n",
        "for gamma in learning_rates:\n",
        "  for lambda_ in decays:\n",
        "    net = ConvNet().to(device) # defining net\n",
        "\n",
        "    # making the net functional to run the code in functorch\n",
        "    # for evaluating the Jacobian-vector product\n",
        "    func, params = ft.make_functional(net)\n",
        "\n",
        "    # removing requires gradient as it will not be used\n",
        "    # for the forward AD\n",
        "    for param in params:\n",
        "        param.requires_grad_(False)\n",
        "\n",
        "    # defining our optimizer\n",
        "    opt = ForwardSGD(func, functional_xent, params, lr=gamma, momentum = False, decay=lambda_)\n",
        "\n",
        "    # training\n",
        "    for e in range(epochs):\n",
        "      for i, (image, label) in enumerate(train_data_loader):\n",
        "        image, label = image.to(device), label.to(device)\n",
        "        params, loss, jvp = opt.step(image, label) # one optimization step\n",
        "\n",
        "    # evaluating on the val set\n",
        "    test_losses = []\n",
        "    for i, (image, label) in enumerate(val_data_loader):\n",
        "      batch_loss = []\n",
        "      with torch.no_grad():\n",
        "        image, label = image.to(device), label.to(device)\n",
        "        val_loss = functional_xent(params, func,image, label)\n",
        "        batch_loss.append(val_loss.item())\n",
        "      test_losses.append(np.mean(batch_loss))\n",
        "    print(f\"Validation loss for lr = {format(gamma,'.6f')}, decay = {format(lambda_,'.6f')}: {format(np.mean(test_losses),'.3f')}\")"
      ],
      "metadata": {
        "colab": {
          "base_uri": "https://localhost:8080/"
        },
        "outputId": "6d558c8a-bb6f-4a4c-bf00-0848478773ed",
        "id": "TXvxySDJLZdE"
      },
      "execution_count": 18,
      "outputs": [
        {
          "output_type": "stream",
          "name": "stdout",
          "text": [
            "Validation loss for lr = 0.000010, decay = 0.000010: 2.303\n",
            "Validation loss for lr = 0.000010, decay = 0.000001: 2.302\n",
            "Validation loss for lr = 0.000025, decay = 0.000010: 2.302\n",
            "Validation loss for lr = 0.000025, decay = 0.000001: 2.304\n",
            "Validation loss for lr = 0.000063, decay = 0.000010: 2.301\n",
            "Validation loss for lr = 0.000063, decay = 0.000001: 2.302\n",
            "Validation loss for lr = 0.000158, decay = 0.000010: 2.301\n",
            "Validation loss for lr = 0.000158, decay = 0.000001: 2.299\n",
            "Validation loss for lr = 0.000398, decay = 0.000010: 2.275\n",
            "Validation loss for lr = 0.000398, decay = 0.000001: 2.284\n",
            "Validation loss for lr = 0.001000, decay = 0.000010: 14.432\n",
            "Validation loss for lr = 0.001000, decay = 0.000001: 14.368\n"
          ]
        }
      ]
    },
    {
      "cell_type": "markdown",
      "source": [
        "Searching for best learning rate and learning rate decay for backpropagation."
      ],
      "metadata": {
        "id": "sUUbHs1eLZdF"
      }
    },
    {
      "cell_type": "code",
      "source": [
        "torch.manual_seed(42) # setting seed for reporducibility\n",
        "\n",
        "# defining learning rates and decays for grid search\n",
        "learning_rates = np.logspace(-3, -1, 6)\n",
        "decays = [0]\n",
        "\n",
        "criterion = nn.CrossEntropyLoss() # loss function\n",
        "for gamma in learning_rates:\n",
        "  for lambda_ in decays:\n",
        "    lr_new = gamma\n",
        "    net = ConvNet().to(device) # defining net\n",
        "\n",
        "    # storing losses\n",
        "    losses = []\n",
        "    steps = 0\n",
        "    for epoch in range(epochs):\n",
        "      # going over training set in batches\n",
        "      for i, (image, label) in enumerate(train_data_loader):\n",
        "        steps += 1\n",
        "        backprop = torch.optim.SGD(net.parameters(), lr=lr_new) # backprop SGD\n",
        "        image, label = image.to(device), label.to(device)\n",
        "\n",
        "        # optimizing\n",
        "        backprop.zero_grad()\n",
        "        outputs = net(image)\n",
        "        loss = criterion(outputs, label)\n",
        "        loss.backward()\n",
        "        backprop.step()\n",
        "        losses.append(loss.item())\n",
        "\n",
        "        # learning rate decay\n",
        "        lr_new = gamma * np.exp(-steps*lambda_)\n",
        "\n",
        "    # evaluating on the val set\n",
        "    test_losses = []\n",
        "    for i, (image, label) in enumerate(val_data_loader):\n",
        "      batch_loss = []\n",
        "      with torch.no_grad():\n",
        "        image, label = image.to(device), label.to(device)\n",
        "        val_loss = criterion(net(image), label)\n",
        "        batch_loss.append(val_loss.item())\n",
        "      test_losses.append(np.mean(batch_loss))\n",
        "    print(f\"Validation loss for lr = {format(gamma,'.6f')}, decay = {format(lambda_,'.6f')}: {format(np.mean(test_losses),'.3f')}\")"
      ],
      "metadata": {
        "colab": {
          "base_uri": "https://localhost:8080/"
        },
        "outputId": "839d3c49-67db-41c1-de50-bb5eb4cfdb73",
        "id": "odUiL5vGLZdF"
      },
      "execution_count": 19,
      "outputs": [
        {
          "output_type": "stream",
          "name": "stdout",
          "text": [
            "Validation loss for lr = 0.001000, decay = 0.000000: 0.447\n",
            "Validation loss for lr = 0.002512, decay = 0.000000: 0.199\n",
            "Validation loss for lr = 0.006310, decay = 0.000000: 0.060\n",
            "Validation loss for lr = 0.015849, decay = 0.000000: 0.049\n",
            "Validation loss for lr = 0.039811, decay = 0.000000: 0.091\n",
            "Validation loss for lr = 0.100000, decay = 0.000000: 0.041\n"
          ]
        }
      ]
    },
    {
      "cell_type": "markdown",
      "source": [
        "### Modeling"
      ],
      "metadata": {
        "id": "IT5eD2MZLZdG"
      }
    },
    {
      "cell_type": "markdown",
      "source": [
        "We first run forward gradient for the optimal hyperparameters."
      ],
      "metadata": {
        "id": "-wwRWd0yLZdG"
      }
    },
    {
      "cell_type": "code",
      "source": [
        "torch.manual_seed(42) # setting seed for reproducibility\n",
        "\n",
        "net = ConvNet().to(device) # defining net\n",
        "\n",
        "# using best lr and decay found in the optimizations below\n",
        "lr = 0.000398\n",
        "decay = 1e-5\n",
        "# making the net functional to run the code in functorch\n",
        "# for evaluating the Jacobian-vector product\n",
        "func, params = ft.make_functional(net)\n",
        "\n",
        "# removing requires gradient as it will not be used\n",
        "# for the forward AD\n",
        "for param in params:\n",
        "    param.requires_grad_(False)\n",
        "\n",
        "# defining our optimizer\n",
        "opt = ForwardSGD(func, functional_xent, params, lr=lr, momentum = False, decay=decay, clip = 1)\n",
        "\n",
        "# training for e epochs\n",
        "losses_fwd = []\n",
        "norms = []\n",
        "epochs = 50\n",
        "test_losses_fwd = []\n",
        "for e in range(epochs):\n",
        "  for j, (image, label) in enumerate(train_data_loader):\n",
        "    image, label = image.to(device), label.to(device)\n",
        "    params, loss, norm = opt.step(image, label)\n",
        "    try:\n",
        "      norms.append(norm.item())\n",
        "    except:\n",
        "      norms.append(norm)\n",
        "    losses_fwd.append(loss.item())\n",
        "\n",
        "  # evaluating on the test set\n",
        "  for i, (image, label) in enumerate(test_data_loader):\n",
        "    with torch.no_grad():\n",
        "      batch_loss = []\n",
        "      image, label = image.to(device), label.to(device)\n",
        "      test_loss = functional_xent(params, func, image, label)\n",
        "      batch_loss.append(test_loss.item())\n",
        "  test_losses_fwd.append(np.mean(batch_loss))\n",
        "  print(f\"Test loss in epoch {e+1}: {format(test_losses_fwd[-1], '.3f')}\")\n"
      ],
      "metadata": {
        "colab": {
          "base_uri": "https://localhost:8080/"
        },
        "outputId": "3a8b99dc-6fac-4fc6-eafd-899b62a09ba4",
        "id": "Gz0-4gC_LZdI"
      },
      "execution_count": 20,
      "outputs": [
        {
          "output_type": "stream",
          "name": "stdout",
          "text": [
            "Test loss in epoch 1: 2.296\n",
            "Test loss in epoch 2: 2.298\n",
            "Test loss in epoch 3: 2.298\n",
            "Test loss in epoch 4: 2.298\n",
            "Test loss in epoch 5: 2.299\n",
            "Test loss in epoch 6: 2.296\n",
            "Test loss in epoch 7: 2.294\n",
            "Test loss in epoch 8: 2.290\n",
            "Test loss in epoch 9: 2.297\n",
            "Test loss in epoch 10: 2.299\n",
            "Test loss in epoch 11: 2.291\n",
            "Test loss in epoch 12: 2.289\n",
            "Test loss in epoch 13: 2.273\n",
            "Test loss in epoch 14: 2.262\n",
            "Test loss in epoch 15: 2.251\n",
            "Test loss in epoch 16: 2.196\n",
            "Test loss in epoch 17: 2.184\n",
            "Test loss in epoch 18: 2.132\n",
            "Test loss in epoch 19: 2.043\n",
            "Test loss in epoch 20: 1.838\n",
            "Test loss in epoch 21: 1.700\n",
            "Test loss in epoch 22: 1.619\n",
            "Test loss in epoch 23: 1.237\n",
            "Test loss in epoch 24: 1.109\n",
            "Test loss in epoch 25: 1.153\n",
            "Test loss in epoch 26: 0.922\n",
            "Test loss in epoch 27: 0.729\n",
            "Test loss in epoch 28: 0.846\n",
            "Test loss in epoch 29: 0.675\n",
            "Test loss in epoch 30: 0.783\n",
            "Test loss in epoch 31: 0.747\n",
            "Test loss in epoch 32: 0.655\n",
            "Test loss in epoch 33: 0.787\n",
            "Test loss in epoch 34: 0.661\n",
            "Test loss in epoch 35: 0.334\n",
            "Test loss in epoch 36: 0.579\n",
            "Test loss in epoch 37: 0.681\n",
            "Test loss in epoch 38: 0.597\n",
            "Test loss in epoch 39: 0.375\n",
            "Test loss in epoch 40: 0.532\n",
            "Test loss in epoch 41: 0.582\n",
            "Test loss in epoch 42: 0.609\n",
            "Test loss in epoch 43: 0.336\n",
            "Test loss in epoch 44: 0.852\n",
            "Test loss in epoch 45: 0.983\n",
            "Test loss in epoch 46: 1.103\n",
            "Test loss in epoch 47: 0.594\n",
            "Test loss in epoch 48: 1.437\n",
            "Test loss in epoch 49: 0.851\n",
            "Test loss in epoch 50: 0.548\n"
          ]
        }
      ]
    },
    {
      "cell_type": "markdown",
      "source": [
        "Backpropagation:"
      ],
      "metadata": {
        "id": "OCYxr--mLZdJ"
      }
    },
    {
      "cell_type": "code",
      "source": [
        "torch.manual_seed(42) # setting seed for reproducibility\n",
        "\n",
        "lr = 0.1\n",
        "decay = 0\n",
        "epochs = 50\n",
        "lr_new = lr\n",
        "criterion = nn.CrossEntropyLoss() # loss function\n",
        "net = ConvNet().to(device) # defining net\n",
        "\n",
        "# storing losses\n",
        "losses = []\n",
        "test_losses = []\n",
        "steps = 0\n",
        "for e in range(epochs):\n",
        "  # going over training set in batches\n",
        "  for i, (image, label) in enumerate(train_data_loader):\n",
        "    steps += 1\n",
        "    backprop = torch.optim.SGD(net.parameters(), lr=lr_new) # normal SGD in torch\n",
        "    image, label = image.to(device), label.to(device)\n",
        "    backprop.zero_grad()\n",
        "    outputs = net(image)\n",
        "    loss = criterion(outputs, label)\n",
        "    loss.backward()\n",
        "    backprop.step()\n",
        "    losses.append(loss.item())\n",
        "    lr_new = lr * np.exp(-steps*decay)\n",
        "  \n",
        "  # testing on test set\n",
        "  for i, (image, label) in enumerate(test_data_loader):\n",
        "    with torch.no_grad():\n",
        "      batch_loss = []\n",
        "      image, label = image.to(device), label.to(device)\n",
        "      test_loss = criterion(net(image), label)\n",
        "      batch_loss.append(test_loss.item())\n",
        "  test_losses.append(np.mean(batch_loss))\n",
        "  print(f\"Test loss in epoch {e+1}: {(test_losses[-1])}\")"
      ],
      "metadata": {
        "colab": {
          "base_uri": "https://localhost:8080/"
        },
        "outputId": "5c8772f1-8827-4472-f9d7-719db0aa2fd8",
        "id": "hDgs-JJPLZdJ"
      },
      "execution_count": 21,
      "outputs": [
        {
          "output_type": "stream",
          "name": "stdout",
          "text": [
            "Test loss in epoch 1: 0.011456367559731007\n",
            "Test loss in epoch 2: 0.000898439553566277\n",
            "Test loss in epoch 3: 0.08411397784948349\n",
            "Test loss in epoch 4: 0.07168854027986526\n",
            "Test loss in epoch 5: 0.0018400436965748668\n",
            "Test loss in epoch 6: 0.00031653069891035557\n",
            "Test loss in epoch 7: 0.0018646365497261286\n",
            "Test loss in epoch 8: 3.0781575333094224e-05\n",
            "Test loss in epoch 9: 0.0026352398563176394\n",
            "Test loss in epoch 10: 1.7440714145777747e-05\n",
            "Test loss in epoch 11: 0.057991791516542435\n",
            "Test loss in epoch 12: 1.3655467228090856e-05\n",
            "Test loss in epoch 13: 1.4901159417490817e-08\n",
            "Test loss in epoch 14: 9.102375770453364e-05\n",
            "Test loss in epoch 15: 9.39462915994227e-06\n",
            "Test loss in epoch 16: 3.9487952108174795e-07\n",
            "Test loss in epoch 17: 4.650418122764677e-05\n",
            "Test loss in epoch 18: 0.00023462824174202979\n",
            "Test loss in epoch 19: 0.009191622026264668\n",
            "Test loss in epoch 20: 9.23866139146412e-07\n",
            "Test loss in epoch 21: 6.857820699224249e-05\n",
            "Test loss in epoch 22: 2.7864550702361157e-06\n",
            "Test loss in epoch 23: 0.023174162954092026\n",
            "Test loss in epoch 24: 1.713631121447179e-07\n",
            "Test loss in epoch 25: 7.346020720433444e-05\n",
            "Test loss in epoch 26: 1.2069825743310503e-06\n",
            "Test loss in epoch 27: 1.1383509445295203e-05\n",
            "Test loss in epoch 28: 1.533887188998051e-05\n",
            "Test loss in epoch 29: 5.9604616353681195e-08\n",
            "Test loss in epoch 30: 0.0\n",
            "Test loss in epoch 31: 4.0380841710430104e-06\n",
            "Test loss in epoch 32: 0.0\n",
            "Test loss in epoch 33: 0.0011697087902575731\n",
            "Test loss in epoch 34: 0.0\n",
            "Test loss in epoch 35: 2.7417536330176517e-06\n",
            "Test loss in epoch 36: 8.605595212429762e-05\n",
            "Test loss in epoch 37: 0.29730451107025146\n",
            "Test loss in epoch 38: 0.0\n",
            "Test loss in epoch 39: 0.0\n",
            "Test loss in epoch 40: 1.586954226695525e-06\n",
            "Test loss in epoch 41: 0.08480363339185715\n",
            "Test loss in epoch 42: 1.1175862368872913e-07\n",
            "Test loss in epoch 43: 7.674050834793888e-07\n",
            "Test loss in epoch 44: 2.2351738238057806e-08\n",
            "Test loss in epoch 45: 7.450580152834618e-09\n",
            "Test loss in epoch 46: 0.0001592396729392931\n",
            "Test loss in epoch 47: 0.0\n",
            "Test loss in epoch 48: 0.0016337363049387932\n",
            "Test loss in epoch 49: 3.024211218871642e-05\n",
            "Test loss in epoch 50: 0.0\n"
          ]
        }
      ]
    },
    {
      "cell_type": "markdown",
      "source": [
        "#### Comparing results"
      ],
      "metadata": {
        "id": "chXujDXQLZdJ"
      }
    },
    {
      "cell_type": "code",
      "source": [
        "fig, ax = plt.subplots(1,2,figsize=(16,8))\n",
        "\n",
        "ax[0].plot(losses, color='r', label=\"Backprop\", alpha=.7)\n",
        "ax[0].set_xlabel(\"Iterations\")\n",
        "ax[0].set_ylabel(\"Loss\")\n",
        "ax[0].plot(losses_fwd[:], color='b', label='Forward gradient', alpha=.7)\n",
        "ax[0].set_title(\"Training loss for backprop and forward gradient\")\n",
        "ax[0].legend()\n",
        "\n",
        "ax[1].plot(test_losses, color='r', label=\"Backprop\", alpha=.7)\n",
        "ax[1].set_xlabel(\"Epochs\")\n",
        "ax[1].set_ylabel(\"Loss\")\n",
        "ax[1].plot(test_losses_fwd, color='b', label='Forward gradient', alpha=.7)\n",
        "ax[1].set_title(\"Validation loss for backprop and forward gradient\")\n",
        "ax[1].legend()"
      ],
      "metadata": {
        "colab": {
          "base_uri": "https://localhost:8080/",
          "height": 530
        },
        "outputId": "4207bcdf-fabd-4819-8e78-f337f92c59ea",
        "id": "njaXMYnwLZdK"
      },
      "execution_count": 22,
      "outputs": [
        {
          "output_type": "execute_result",
          "data": {
            "text/plain": [
              "<matplotlib.legend.Legend at 0x7f24e16e7450>"
            ]
          },
          "metadata": {},
          "execution_count": 22
        },
        {
          "output_type": "display_data",
          "data": {
            "text/plain": [
              "<Figure size 1152x576 with 2 Axes>"
            ],
            "image/png": "[encoded data removed]"
          },
          "metadata": {
            "needs_background": "light"
          }
        }
      ]
    },
    {
      "cell_type": "markdown",
      "source": [
        "## SGD with Nesterov momentum\n",
        "\n",
        "We now incorporate SGD with Nesterov momentum."
      ],
      "metadata": {
        "id": "TkQCPFQ0ZH5Q"
      }
    },
    {
      "cell_type": "markdown",
      "source": [
        "### Learning rate optimization\n",
        "\n",
        "The final search for learning rate is in a quite small interval as we earlier tried a wider search, but wanted to reduce the width to find a better optimum."
      ],
      "metadata": {
        "id": "M14-FCx3ZH5n"
      }
    },
    {
      "cell_type": "markdown",
      "source": [
        "Searching for best learning rate and momentum for forward gradient."
      ],
      "metadata": {
        "id": "CHIK0xnEZH5o"
      }
    },
    {
      "cell_type": "code",
      "source": [
        "torch.manual_seed(42) # setting seed for reproducibility\n",
        "\n",
        "# learning rate and momentum grid search for forward gradient\n",
        "learning_rates = np.logspace(-5, -3, 4)\n",
        "momentums = np.linspace(0.1, 0.9, 4)\n",
        "\n",
        "epochs = 10\n",
        "\n",
        "for gamma in learning_rates:\n",
        "  for momentum in momentums:\n",
        "    net = ConvNet().to(device) # defining net\n",
        "\n",
        "    # making the net functional to run the code in functorch\n",
        "    # for evaluating the Jacobian-vector product\n",
        "    func, params = ft.make_functional(net)\n",
        "\n",
        "    # removing requires gradient as it will not be used\n",
        "    # for the forward AD\n",
        "    for param in params:\n",
        "        param.requires_grad_(False)\n",
        "\n",
        "    # defining our optimizer\n",
        "    opt = ForwardSGD(func, functional_xent, params, lr=gamma,\n",
        "                     momentum = momentum, nesterov = True, decay=1e-4, clip=1)\n",
        "\n",
        "    # training\n",
        "    for e in range(epochs):\n",
        "      for i, (image, label) in enumerate(train_data_loader):\n",
        "        image, label = image.to(device), label.to(device)\n",
        "        params, loss, jvp = opt.step(image, label) # one optimization step\n",
        "\n",
        "    # evaluating on the val set\n",
        "    test_losses = []\n",
        "    for i, (image, label) in enumerate(val_data_loader):\n",
        "      batch_loss = []\n",
        "      with torch.no_grad():\n",
        "        image, label = image.to(device), label.to(device)\n",
        "        val_loss = functional_xent(params, func,image, label)\n",
        "        batch_loss.append(val_loss.item())\n",
        "      test_losses.append(np.mean(batch_loss))\n",
        "    print(f\"Validation loss for lr = {format(gamma,'.6f')}, Momentum = {format(momentum,'.6f')}: {format(np.mean(test_losses),'.3f')}\")"
      ],
      "metadata": {
        "colab": {
          "base_uri": "https://localhost:8080/"
        },
        "outputId": "a3fe4246-e877-44db-c572-68fd9ce7f896",
        "id": "NkHhxVVpZH5o"
      },
      "execution_count": 17,
      "outputs": [
        {
          "output_type": "stream",
          "name": "stdout",
          "text": [
            "Validation loss for lr = 0.000010, Momentum = 0.100000: 2.303\n",
            "Validation loss for lr = 0.000010, Momentum = 0.366667: 2.302\n",
            "Validation loss for lr = 0.000010, Momentum = 0.633333: 2.302\n",
            "Validation loss for lr = 0.000010, Momentum = 0.900000: 2.303\n",
            "Validation loss for lr = 0.000046, Momentum = 0.100000: 2.301\n",
            "Validation loss for lr = 0.000046, Momentum = 0.366667: 2.302\n",
            "Validation loss for lr = 0.000046, Momentum = 0.633333: 2.301\n",
            "Validation loss for lr = 0.000046, Momentum = 0.900000: 2.272\n",
            "Validation loss for lr = 0.000215, Momentum = 0.100000: 2.294\n",
            "Validation loss for lr = 0.000215, Momentum = 0.366667: 2.289\n",
            "Validation loss for lr = 0.000215, Momentum = 0.633333: 2.226\n",
            "Validation loss for lr = 0.000215, Momentum = 0.900000: 10.599\n",
            "Validation loss for lr = 0.001000, Momentum = 0.100000: 1.637\n",
            "Validation loss for lr = 0.001000, Momentum = 0.366667: 5.886\n",
            "Validation loss for lr = 0.001000, Momentum = 0.633333: 10.869\n",
            "Validation loss for lr = 0.001000, Momentum = 0.900000: 11.780\n"
          ]
        }
      ]
    },
    {
      "cell_type": "markdown",
      "source": [
        "Searching for best learning rate and momentum for backpropagation."
      ],
      "metadata": {
        "id": "VYnzGdWMZH5p"
      }
    },
    {
      "cell_type": "code",
      "source": [
        "torch.manual_seed(42) # setting seed for reporducibility\n",
        "\n",
        "# defining learning rates and decays for grid search\n",
        "learning_rates = np.logspace(-2, -1, 3)\n",
        "momentums = np.linspace(0.7, 0.95, 4)\n",
        "\n",
        "criterion = nn.CrossEntropyLoss() # loss function\n",
        "for gamma in learning_rates:\n",
        "  for momentum in momentums:\n",
        "    net = ConvNet().to(device) # defining net\n",
        "    backprop = torch.optim.SGD(net.parameters(), lr=gamma,\n",
        "                                   momentum = momentum, nesterov = True) # backprop SGD\n",
        "    # storing losses\n",
        "    losses = []\n",
        "    for epoch in range(epochs):\n",
        "      # going over training set in batches\n",
        "      for i, (image, label) in enumerate(train_data_loader):\n",
        "        image, label = image.to(device), label.to(device)\n",
        "\n",
        "        # optimizing\n",
        "        backprop.zero_grad()\n",
        "        outputs = net(image)\n",
        "        loss = criterion(outputs, label)\n",
        "        loss.backward()\n",
        "        backprop.step()\n",
        "        losses.append(loss.item())\n",
        "\n",
        "    # evaluating on the val set\n",
        "    test_losses = []\n",
        "    for i, (image, label) in enumerate(val_data_loader):\n",
        "      batch_loss = []\n",
        "      with torch.no_grad():\n",
        "        image, label = image.to(device), label.to(device)\n",
        "        val_loss = criterion(net(image), label)\n",
        "        batch_loss.append(val_loss.item())\n",
        "      test_losses.append(np.mean(batch_loss))\n",
        "    print(f\"Validation loss for lr = {format(gamma,'.6f')}, Momentum = {format(momentum,'.6f')}: {format(np.mean(test_losses),'.3f')}\")"
      ],
      "metadata": {
        "colab": {
          "base_uri": "https://localhost:8080/"
        },
        "outputId": "8d0c4c87-fb31-42ac-d133-05e3b49fd10f",
        "id": "SkQgBqzVZH5q"
      },
      "execution_count": 8,
      "outputs": [
        {
          "output_type": "stream",
          "name": "stdout",
          "text": [
            "Validation loss for lr = 0.010000, Momentum = 0.700000: 0.065\n",
            "Validation loss for lr = 0.010000, Momentum = 0.783333: 0.038\n",
            "Validation loss for lr = 0.010000, Momentum = 0.866667: 0.039\n",
            "Validation loss for lr = 0.010000, Momentum = 0.950000: 0.067\n",
            "Validation loss for lr = 0.031623, Momentum = 0.700000: 0.047\n",
            "Validation loss for lr = 0.031623, Momentum = 0.783333: 0.044\n",
            "Validation loss for lr = 0.031623, Momentum = 0.866667: 0.040\n",
            "Validation loss for lr = 0.031623, Momentum = 0.950000: 0.067\n",
            "Validation loss for lr = 0.100000, Momentum = 0.700000: 0.039\n",
            "Validation loss for lr = 0.100000, Momentum = 0.783333: 0.033\n",
            "Validation loss for lr = 0.100000, Momentum = 0.866667: 2.305\n",
            "Validation loss for lr = 0.100000, Momentum = 0.950000: 2.309\n"
          ]
        }
      ]
    },
    {
      "cell_type": "markdown",
      "source": [
        "### Modeling"
      ],
      "metadata": {
        "id": "KsHp6O-1ZH5r"
      }
    },
    {
      "cell_type": "markdown",
      "source": [
        "We first run forward gradient for the optimal hyperparameters."
      ],
      "metadata": {
        "id": "USJNbhMLZH5r"
      }
    },
    {
      "cell_type": "code",
      "source": [
        "# for reproducible purposes\n",
        "torch.manual_seed(42)\n",
        "\n",
        "net = ConvNet().to(device) # defining net\n",
        "\n",
        "# using best lr and decay found in the optimizations below\n",
        "lr = 0.001000\n",
        "momentum = 1.637\n",
        "# making the net functional to run the code in functorch\n",
        "# for evaluating the Jacobian-vector product\n",
        "func, params = ft.make_functional(net)\n",
        "\n",
        "# removing requires gradient as it will not be used\n",
        "# for the forward AD\n",
        "for param in params:\n",
        "    param.requires_grad_(False)\n",
        "\n",
        "# defining our optimizer\n",
        "opt = ForwardSGD(func, functional_xent, params, lr=lr, momentum = momentum, nesterov = True, clip = 1)\n",
        "\n",
        "# running the code for e epochs\n",
        "losses_fwd = []\n",
        "epochs = 25\n",
        "test_losses_fwd = []\n",
        "for e in range(epochs):\n",
        "  # training\n",
        "  for j, (image, label) in enumerate(train_data_loader):\n",
        "    image, label = image.to(device), label.to(device)\n",
        "    params, loss, jvp = opt.step(image, label)\n",
        "    losses_fwd.append(loss.item())\n",
        "  # evaluating on the test set\n",
        "  for i, (image, label) in enumerate(test_data_loader):\n",
        "    with torch.no_grad():\n",
        "      batch_loss = []\n",
        "      image, label = image.to(device), label.to(device)\n",
        "      test_loss = functional_xent(params, func, image, label)\n",
        "      batch_loss.append(test_loss.item())\n",
        "  test_losses_fwd.append(np.mean(batch_loss))\n",
        "  print(f\"Test loss in epoch {e+1}: {(test_losses_fwd[-1])}\")\n"
      ],
      "metadata": {
        "colab": {
          "base_uri": "https://localhost:8080/"
        },
        "outputId": "bff749ba-6d79-46e4-d631-2c1da4d14bfb",
        "id": "-UFGnwtMZH5r"
      },
      "execution_count": 18,
      "outputs": [
        {
          "output_type": "stream",
          "name": "stdout",
          "text": [
            "Test loss in epoch 1: nan\n",
            "Test loss in epoch 2: nan\n",
            "Test loss in epoch 3: nan\n",
            "Test loss in epoch 4: nan\n",
            "Test loss in epoch 5: nan\n",
            "Test loss in epoch 6: nan\n",
            "Test loss in epoch 7: nan\n",
            "Test loss in epoch 8: nan\n",
            "Test loss in epoch 9: nan\n",
            "Test loss in epoch 10: nan\n",
            "Test loss in epoch 11: nan\n",
            "Test loss in epoch 12: nan\n",
            "Test loss in epoch 13: nan\n",
            "Test loss in epoch 14: nan\n",
            "Test loss in epoch 15: nan\n",
            "Test loss in epoch 16: nan\n",
            "Test loss in epoch 17: nan\n",
            "Test loss in epoch 18: nan\n",
            "Test loss in epoch 19: nan\n",
            "Test loss in epoch 20: nan\n",
            "Test loss in epoch 21: nan\n",
            "Test loss in epoch 22: nan\n",
            "Test loss in epoch 23: nan\n",
            "Test loss in epoch 24: nan\n",
            "Test loss in epoch 25: nan\n"
          ]
        }
      ]
    },
    {
      "cell_type": "markdown",
      "source": [
        "Backpropagation:"
      ],
      "metadata": {
        "id": "L7be6NA4ZH5s"
      }
    },
    {
      "cell_type": "code",
      "source": [
        "torch.manual_seed(42) # setting seed for reproducibility\n",
        "\n",
        "lr = 0.010000\n",
        "momentum = 0.783\n",
        "epochs = 50\n",
        "lr_new = lr\n",
        "criterion = nn.CrossEntropyLoss() # loss function\n",
        "net = ConvNet().to(device) # defining net\n",
        "backprop = torch.optim.SGD(net.parameters(), lr=lr_new,\n",
        "                               momentum = momentum, nesterov = True) # normal SGD in torch\n",
        "\n",
        "# storing losses\n",
        "losses = []\n",
        "test_losses = []\n",
        "for e in range(epochs):\n",
        "  # going over training set in batches\n",
        "  for i, (image, label) in enumerate(train_data_loader):\n",
        "    image, label = image.to(device), label.to(device)\n",
        "    backprop.zero_grad()\n",
        "    outputs = net(image)\n",
        "    loss = criterion(outputs, label)\n",
        "    loss.backward()\n",
        "    backprop.step()\n",
        "    losses.append(loss.item())\n",
        "  \n",
        "  # testing on test set\n",
        "  for i, (image, label) in enumerate(test_data_loader):\n",
        "    with torch.no_grad():\n",
        "      batch_loss = []\n",
        "      image, label = image.to(device), label.to(device)\n",
        "      test_loss = criterion(net(image), label)\n",
        "      batch_loss.append(test_loss.item())\n",
        "  test_losses.append(np.mean(batch_loss))\n",
        "  print(f\"Test loss in epoch {e+1}: {(test_losses[-1])}\")"
      ],
      "metadata": {
        "colab": {
          "base_uri": "https://localhost:8080/"
        },
        "outputId": "79c22151-6042-433d-c857-fb61047c1932",
        "id": "ahBD1Zo7ZH5s"
      },
      "execution_count": 19,
      "outputs": [
        {
          "output_type": "stream",
          "name": "stdout",
          "text": [
            "Test loss in epoch 1: 0.015787575393915176\n",
            "Test loss in epoch 2: 0.0021923540625721216\n",
            "Test loss in epoch 3: 0.012933120131492615\n",
            "Test loss in epoch 4: 0.0043885838240385056\n",
            "Test loss in epoch 5: 0.018080079928040504\n",
            "Test loss in epoch 6: 0.001556247123517096\n",
            "Test loss in epoch 7: 0.02679319493472576\n",
            "Test loss in epoch 8: 0.0007720048888586462\n",
            "Test loss in epoch 9: 0.0035625125747174025\n",
            "Test loss in epoch 10: 0.0015093664405867457\n",
            "Test loss in epoch 11: 0.1028296947479248\n",
            "Test loss in epoch 12: 1.1324813158353209e-06\n",
            "Test loss in epoch 13: 4.7683133743703365e-06\n",
            "Test loss in epoch 14: 4.573308979161084e-05\n",
            "Test loss in epoch 15: 7.538141653640196e-05\n",
            "Test loss in epoch 16: 1.3411033705779118e-07\n",
            "Test loss in epoch 17: 0.005310583859682083\n",
            "Test loss in epoch 18: 5.401881935540587e-05\n",
            "Test loss in epoch 19: 0.039031077176332474\n",
            "Test loss in epoch 20: 6.201769429026172e-05\n",
            "Test loss in epoch 21: 6.243384632398374e-06\n",
            "Test loss in epoch 22: 1.0675915291358251e-05\n",
            "Test loss in epoch 23: 0.05180671811103821\n",
            "Test loss in epoch 24: 3.5760047467192635e-05\n",
            "Test loss in epoch 25: 2.0024124751216732e-05\n",
            "Test loss in epoch 26: 0.00010131284943781793\n",
            "Test loss in epoch 27: 4.254163286532275e-06\n",
            "Test loss in epoch 28: 3.5017637856071815e-07\n",
            "Test loss in epoch 29: 2.3841823804104934e-07\n",
            "Test loss in epoch 30: 0.0\n",
            "Test loss in epoch 31: 3.427817136980593e-05\n",
            "Test loss in epoch 32: 0.0\n",
            "Test loss in epoch 33: 0.05359970033168793\n",
            "Test loss in epoch 34: 4.470347292340193e-08\n",
            "Test loss in epoch 35: 1.4901144140821998e-07\n",
            "Test loss in epoch 36: 0.0005798422498628497\n",
            "Test loss in epoch 37: 0.004604888614267111\n",
            "Test loss in epoch 38: 3.4793326904036803e-06\n",
            "Test loss in epoch 39: 0.0\n",
            "Test loss in epoch 40: 5.792382944491692e-05\n",
            "Test loss in epoch 41: 0.017222093418240547\n",
            "Test loss in epoch 42: 7.450580152834618e-09\n",
            "Test loss in epoch 43: 4.3958274886790605e-07\n",
            "Test loss in epoch 44: 7.450580152834618e-09\n",
            "Test loss in epoch 45: 1.0728743973231758e-06\n",
            "Test loss in epoch 46: 0.00012836103269364685\n",
            "Test loss in epoch 47: 1.713631121447179e-07\n",
            "Test loss in epoch 48: 0.004484991542994976\n",
            "Test loss in epoch 49: 1.147383500210708e-06\n",
            "Test loss in epoch 50: 0.0\n"
          ]
        }
      ]
    },
    {
      "cell_type": "markdown",
      "source": [
        "#### Comparing results"
      ],
      "metadata": {
        "id": "7M0UhU8RZH5s"
      }
    },
    {
      "cell_type": "code",
      "source": [
        "fig, ax = plt.subplots(1,2,figsize=(16,8))\n",
        "\n",
        "ax[0].plot(losses, color='r', label=\"Backprop\", alpha=.7)\n",
        "ax[0].set_xlabel(\"Iterations\")\n",
        "ax[0].set_ylabel(\"Loss\")\n",
        "ax[0].plot(losses_fwd[:], color='b', label='Forward gradient', alpha=.7)\n",
        "ax[0].set_title(\"Training loss for backprop and forward gradient\")\n",
        "ax[0].legend()\n",
        "\n",
        "ax[1].plot(test_losses, color='r', label=\"Backprop\", alpha=.7)\n",
        "ax[1].set_xlabel(\"Epochs\")\n",
        "ax[1].set_ylabel(\"Loss\")\n",
        "ax[1].plot(test_losses_fwd, color='b', label='Forward gradient', alpha=.7)\n",
        "ax[1].set_title(\"Validation loss for backprop and forward gradient\")\n",
        "ax[1].legend()"
      ],
      "metadata": {
        "colab": {
          "base_uri": "https://localhost:8080/",
          "height": 530
        },
        "outputId": "a7bd5f2b-57fa-4fa8-dab5-cc1fa4cfa6c7",
        "id": "p3Kfs77DZH5t"
      },
      "execution_count": 20,
      "outputs": [
        {
          "output_type": "execute_result",
          "data": {
            "text/plain": [
              "<matplotlib.legend.Legend at 0x7f1d6caa6790>"
            ]
          },
          "metadata": {},
          "execution_count": 20
        },
        {
          "output_type": "display_data",
          "data": {
            "text/plain": [
              "<Figure size 1152x576 with 2 Axes>"
            ],
            "image/png": "[encoded data removed]"
          },
          "metadata": {
            "needs_background": "light"
          }
        }
      ]
    },
    {
      "cell_type": "code",
      "source": [
        ""
      ],
      "metadata": {
        "id": "mx3n4GqKwlPz"
      },
      "execution_count": null,
      "outputs": []
    }
  ]
}
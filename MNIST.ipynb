{
  "cells": [
    {
      "cell_type": "markdown",
      "metadata": {
        "id": "SpgPiFcBm1hX"
      },
      "source": [
        "# MNIST\n",
        "\n",
        "This notebook contains our experiements comparing forward gradient and backpropagation with neural networks and Convolutional nets for the MNIST dataset"
      ]
    },
    {
      "cell_type": "markdown",
      "metadata": {
        "id": "JmBQQnpWoJrd"
      },
      "source": [
        "#### Setup"
      ]
    },
    {
      "cell_type": "code",
      "execution_count": 1,
      "metadata": {
        "colab": {
          "base_uri": "https://localhost:8080/"
        },
        "id": "XnA7qJ4F78Gr",
        "outputId": "d08640a3-00f3-4804-c7c0-ef2cfed1ca08"
      },
      "outputs": [
        {
          "name": "stdout",
          "output_type": "stream",
          "text": [
            "Looking in indexes: https://pypi.org/simple, https://us-python.pkg.dev/colab-wheels/public/simple/\n",
            "Looking in links: https://download.pytorch.org/whl/nightly/cpu/torch_nightly.html\n",
            "Requirement already satisfied: torch in /usr/local/lib/python3.7/dist-packages (1.11.0+cu113)\n",
            "Collecting torch\n",
            "  Downloading https://download.pytorch.org/whl/nightly/cpu/torch-1.13.0.dev20220612%2Bcpu-cp37-cp37m-linux_x86_64.whl (190.8 MB)\n",
            "\u001b[K     |████████████████████████████████| 190.8 MB 48 kB/s \n",
            "\u001b[?25hRequirement already satisfied: typing-extensions in /usr/local/lib/python3.7/dist-packages (from torch) (4.2.0)\n",
            "Installing collected packages: torch\n",
            "  Attempting uninstall: torch\n",
            "    Found existing installation: torch 1.11.0+cu113\n",
            "    Uninstalling torch-1.11.0+cu113:\n",
            "      Successfully uninstalled torch-1.11.0+cu113\n",
            "\u001b[31mERROR: pip's dependency resolver does not currently take into account all the packages that are installed. This behaviour is the source of the following dependency conflicts.\n",
            "torchvision 0.12.0+cu113 requires torch==1.11.0, but you have torch 1.13.0.dev20220612+cpu which is incompatible.\n",
            "torchtext 0.12.0 requires torch==1.11.0, but you have torch 1.13.0.dev20220612+cpu which is incompatible.\n",
            "torchaudio 0.11.0+cu113 requires torch==1.11.0, but you have torch 1.13.0.dev20220612+cpu which is incompatible.\u001b[0m\n",
            "Successfully installed torch-1.13.0.dev20220612+cpu\n",
            "Looking in indexes: https://pypi.org/simple, https://us-python.pkg.dev/colab-wheels/public/simple/\n",
            "Collecting functorch\n",
            "  Downloading functorch-0.1.1-cp37-cp37m-manylinux1_x86_64.whl (21.4 MB)\n",
            "\u001b[K     |████████████████████████████████| 21.4 MB 1.4 MB/s \n",
            "\u001b[?25hCollecting torch<1.12,>=1.11\n",
            "  Downloading torch-1.11.0-cp37-cp37m-manylinux1_x86_64.whl (750.6 MB)\n",
            "\u001b[K     |████████████████████████████████| 750.6 MB 12 kB/s \n",
            "\u001b[?25hRequirement already satisfied: typing-extensions in /usr/local/lib/python3.7/dist-packages (from torch<1.12,>=1.11->functorch) (4.2.0)\n",
            "Installing collected packages: torch, functorch\n",
            "  Attempting uninstall: torch\n",
            "    Found existing installation: torch 1.13.0.dev20220612+cpu\n",
            "    Uninstalling torch-1.13.0.dev20220612+cpu:\n",
            "      Successfully uninstalled torch-1.13.0.dev20220612+cpu\n",
            "Successfully installed functorch-0.1.1 torch-1.11.0\n",
            "--> Restarting colab instance\n"
          ]
        },
        {
          "data": {
            "text/plain": [
              "{'restart': True, 'status': 'ok'}"
            ]
          },
          "execution_count": 1,
          "metadata": {},
          "output_type": "execute_result"
        }
      ],
      "source": [
        "# Run once\n",
        "# CPU only: !pip install torch==1.11.0 torchvision==0.12.0 torchaudio==0.11.0 -f https://download.pytorch.org/whl/cpu/torch_stable.html\n",
        "!pip install --pre torch -f https://download.pytorch.org/whl/nightly/cpu/torch_nightly.html --upgrade\n",
        "!pip install functorch\n",
        "print(\"--> Restarting colab instance\") \n",
        "get_ipython().kernel.do_shutdown(True)"
      ]
    },
    {
      "cell_type": "code",
      "execution_count": 1,
      "metadata": {
        "colab": {
          "base_uri": "https://localhost:8080/"
        },
        "id": "w16dKpsQbsXH",
        "outputId": "da102301-15d5-452e-dc19-ae24fd3f37b6"
      },
      "outputs": [
        {
          "name": "stdout",
          "output_type": "stream",
          "text": [
            "Cloning into 'forward_gradient'...\n",
            "remote: Enumerating objects: 112, done.\u001b[K\n",
            "remote: Counting objects: 100% (112/112), done.\u001b[K\n",
            "remote: Compressing objects: 100% (82/82), done.\u001b[K\n",
            "remote: Total 112 (delta 54), reused 76 (delta 29), pack-reused 0\u001b[K\n",
            "Receiving objects: 100% (112/112), 1.94 MiB | 14.51 MiB/s, done.\n",
            "Resolving deltas: 100% (54/54), done.\n"
          ]
        }
      ],
      "source": [
        "!git clone https://github.com/benjaminrike1/forward_gradient"
      ]
    },
    {
      "cell_type": "code",
      "execution_count": 2,
      "metadata": {
        "colab": {
          "base_uri": "https://localhost:8080/"
        },
        "id": "H7a4RrKbmuKQ",
        "outputId": "8dbcb12b-b93c-420a-b68f-cacb0b02665e"
      },
      "outputs": [
        {
          "name": "stdout",
          "output_type": "stream",
          "text": [
            "/content/forward_gradient\n"
          ]
        }
      ],
      "source": [
        "cd forward_gradient"
      ]
    },
    {
      "cell_type": "code",
      "execution_count": 3,
      "metadata": {
        "colab": {
          "base_uri": "https://localhost:8080/"
        },
        "id": "ngzkoQhx8SHI",
        "outputId": "cb2aa8e7-705a-49cb-fb09-f2d1ea4560b2"
      },
      "outputs": [
        {
          "name": "stderr",
          "output_type": "stream",
          "text": [
            "/usr/local/lib/python3.7/dist-packages/torchvision/io/image.py:13: UserWarning: Failed to load image Python extension: libtorch_cuda_cu.so: cannot open shared object file: No such file or directory\n",
            "  warn(f\"Failed to load image Python extension: {e}\")\n"
          ]
        }
      ],
      "source": [
        "import torch\n",
        "import torch.nn as nn\n",
        "import torch.nn.functional as F\n",
        "\n",
        "import torchvision\n",
        "import functorch as ft\n",
        "\n",
        "import numpy as np\n",
        "from functools import partial\n",
        "\n",
        "import matplotlib.pyplot as plt\n",
        "import seaborn as sns\n",
        "\n",
        "from loss import functional_xent, softmax, clamp_probs, _xent\n",
        "from optimizers import ForwardSGD, ForwardAdam\n",
        "from models import Net, ConvNet\n",
        "\n",
        "torch.manual_seed(0)\n",
        "device = torch.device(\"cuda\" if torch.cuda.is_available() else \"cpu\")\n"
      ]
    },
    {
      "cell_type": "markdown",
      "metadata": {
        "id": "Vvt5q3XaqbUc"
      },
      "source": [
        "## MNIST"
      ]
    },
    {
      "cell_type": "markdown",
      "metadata": {
        "id": "Vy2UKEhnqexi"
      },
      "source": [
        "Importing the data from torchvision."
      ]
    },
    {
      "cell_type": "code",
      "execution_count": 4,
      "metadata": {
        "colab": {
          "base_uri": "https://localhost:8080/",
          "height": 0,
          "referenced_widgets": [
            "858f89c68ea844b281237850d355719d",
            "ca0fb2ca98984a38b090ca6426e2e247",
            "5afa5c78be01446581373559ed21208a",
            "8f864976509541b0a670b9ac7af6a165",
            "6daa11c5f117470a969874655a8fe314",
            "de8b5bf9b9284c9f9fb1096da78e380b",
            "9acdfb26b5634ac5a8bc527f2371fb6b",
            "0228aee4912e4664ad724db89110851a",
            "3cf67734e261438585013bddf6f67b97",
            "a66c7047aeed430a817368941fe902be",
            "2f7f1706a87b4abdb882ef0dd2e95443",
            "972fd9de985a4c1e9bb6e922a6ac7180",
            "339f36ad609e4f44b5919facd5e81e45",
            "06926aa1fbe2426e8e5ecc1233e1b37e",
            "facfe4bc39e341d78edd41f870f87774",
            "066462e0701c49b1839b28480761ce66",
            "ef8478d3e6f34d7d81763659af0ff3fe",
            "b2d658fefbc5435b801dc489f833f57d",
            "5d53ecb326e64fff9e7ef5878098d6c1",
            "053749491af44f50af75d47624f9521c",
            "0e32b483bc2b4b8b906fbda899dfc20c",
            "0923a53cf70744fcae49da13e6733ea3",
            "37d71db432af4490ad7ba825af632c16",
            "0df138b2d73d47a0bc8350af73359436",
            "ab20151aea0e40e4bee3821178d9e3ce",
            "e05962e084f742b6910093081d5ab4bc",
            "191540f352cb43edac2824553e00507a",
            "282de52e451b4a53837bdaa098fda8e7",
            "17bb4b9be38a4f48aa360116cf569499",
            "f426ba0a8e9744f79132d43c9e9d2b38",
            "3b4f95260b664d0abc31b5f122e3faca",
            "0f6e0d3105124b36917b6a845d81a0be",
            "30768df70889412dbbfe072584abc074",
            "f439fa392798465cac21b210afb7099c",
            "e296cdeea678440abfde291efbc0fc25",
            "1afbdef4cebb46da9d4ba8131d49e26e",
            "00d7f3bba1f04cc6ab57a395e9cea9bc",
            "26092981618b4c2ea7bc1c99417eb06d",
            "b6ef853baf984a3f932fbb26d2001634",
            "a534d83e54954acba970a097b795b32f",
            "861b246a55ca49f6a89b20a0814930e0",
            "5d874caf39c4408281dd9c6d251f644b",
            "d07a3d9688cf41719b012b6b940d9e54",
            "fd665a19029d450abf229cccd48014df"
          ]
        },
        "id": "fnfSMWT8qajP",
        "outputId": "28bb0bc4-84fa-4494-9bfe-a007d4fe2c19"
      },
      "outputs": [
        {
          "name": "stdout",
          "output_type": "stream",
          "text": [
            "Downloading http://yann.lecun.com/exdb/mnist/train-images-idx3-ubyte.gz\n",
            "Downloading http://yann.lecun.com/exdb/mnist/train-images-idx3-ubyte.gz to /tmp/data/MNIST/raw/train-images-idx3-ubyte.gz\n"
          ]
        },
        {
          "data": {
            "application/vnd.jupyter.widget-view+json": {
              "model_id": "858f89c68ea844b281237850d355719d",
              "version_major": 2,
              "version_minor": 0
            },
            "text/plain": [
              "  0%|          | 0/9912422 [00:00<?, ?it/s]"
            ]
          },
          "metadata": {},
          "output_type": "display_data"
        },
        {
          "name": "stdout",
          "output_type": "stream",
          "text": [
            "Extracting /tmp/data/MNIST/raw/train-images-idx3-ubyte.gz to /tmp/data/MNIST/raw\n",
            "\n",
            "Downloading http://yann.lecun.com/exdb/mnist/train-labels-idx1-ubyte.gz\n",
            "Downloading http://yann.lecun.com/exdb/mnist/train-labels-idx1-ubyte.gz to /tmp/data/MNIST/raw/train-labels-idx1-ubyte.gz\n"
          ]
        },
        {
          "data": {
            "application/vnd.jupyter.widget-view+json": {
              "model_id": "972fd9de985a4c1e9bb6e922a6ac7180",
              "version_major": 2,
              "version_minor": 0
            },
            "text/plain": [
              "  0%|          | 0/28881 [00:00<?, ?it/s]"
            ]
          },
          "metadata": {},
          "output_type": "display_data"
        },
        {
          "name": "stdout",
          "output_type": "stream",
          "text": [
            "Extracting /tmp/data/MNIST/raw/train-labels-idx1-ubyte.gz to /tmp/data/MNIST/raw\n",
            "\n",
            "Downloading http://yann.lecun.com/exdb/mnist/t10k-images-idx3-ubyte.gz\n",
            "Downloading http://yann.lecun.com/exdb/mnist/t10k-images-idx3-ubyte.gz to /tmp/data/MNIST/raw/t10k-images-idx3-ubyte.gz\n"
          ]
        },
        {
          "data": {
            "application/vnd.jupyter.widget-view+json": {
              "model_id": "37d71db432af4490ad7ba825af632c16",
              "version_major": 2,
              "version_minor": 0
            },
            "text/plain": [
              "  0%|          | 0/1648877 [00:00<?, ?it/s]"
            ]
          },
          "metadata": {},
          "output_type": "display_data"
        },
        {
          "name": "stdout",
          "output_type": "stream",
          "text": [
            "Extracting /tmp/data/MNIST/raw/t10k-images-idx3-ubyte.gz to /tmp/data/MNIST/raw\n",
            "\n",
            "Downloading http://yann.lecun.com/exdb/mnist/t10k-labels-idx1-ubyte.gz\n",
            "Downloading http://yann.lecun.com/exdb/mnist/t10k-labels-idx1-ubyte.gz to /tmp/data/MNIST/raw/t10k-labels-idx1-ubyte.gz\n"
          ]
        },
        {
          "data": {
            "application/vnd.jupyter.widget-view+json": {
              "model_id": "f439fa392798465cac21b210afb7099c",
              "version_major": 2,
              "version_minor": 0
            },
            "text/plain": [
              "  0%|          | 0/4542 [00:00<?, ?it/s]"
            ]
          },
          "metadata": {},
          "output_type": "display_data"
        },
        {
          "name": "stdout",
          "output_type": "stream",
          "text": [
            "Extracting /tmp/data/MNIST/raw/t10k-labels-idx1-ubyte.gz to /tmp/data/MNIST/raw\n",
            "\n"
          ]
        }
      ],
      "source": [
        "# transforming images to tensors\n",
        "transform = torchvision.transforms.Compose([\n",
        "    torchvision.transforms.ToTensor()\n",
        "])\n",
        "\n",
        "\n",
        "mnist_train = torchvision.datasets.MNIST(\n",
        "    '/tmp/data',\n",
        "    train=True, \n",
        "    download=True, \n",
        "    transform=transform\n",
        ")\n",
        "\n",
        "# splitting into training and validation set\n",
        "train, val = torch.utils.data.random_split(mnist_train, [50000, 10000])\n",
        "\n",
        "train_data_loader = torch.utils.data.DataLoader(train, \n",
        "                                          batch_size=64, \n",
        "                                          shuffle=True)\n",
        "\n",
        "val_data_loader = torch.utils.data.DataLoader(val, \n",
        "                                          batch_size=64, \n",
        "                                          shuffle=True)\n",
        "\n",
        "# loading test set\n",
        "mnist_test = torchvision.datasets.MNIST(\n",
        "    '/tmp/data',\n",
        "    train=False, \n",
        "    download=True, \n",
        "    transform=transform\n",
        ")\n",
        "test_data_loader = torch.utils.data.DataLoader(mnist_test, \n",
        "                                              batch_size=64,\n",
        "                                              shuffle=True)"
      ]
    },
    {
      "cell_type": "markdown",
      "metadata": {
        "id": "xnoi5RW9qm5U"
      },
      "source": [
        "# Neural Network\n",
        "\n",
        "We first use a vanilla feedforward network for the optimization. The net can be found in `models.py`"
      ]
    },
    {
      "cell_type": "markdown",
      "metadata": {
        "id": "_qH5VOIWwAQG"
      },
      "source": [
        "## SGD"
      ]
    },
    {
      "cell_type": "markdown",
      "metadata": {
        "id": "ixUBfiPVvy3v"
      },
      "source": [
        "### Learning rate optimization\n",
        "\n",
        "The final search for learning rate is in a quite small interval as we earlier tried a wider search, but wanted to reduce the width to find a better optimum."
      ]
    },
    {
      "cell_type": "markdown",
      "metadata": {
        "id": "C2uEbFKbIy73"
      },
      "source": [
        "Searching for best learning rate and learning rate decay for forward gradient."
      ]
    },
    {
      "cell_type": "code",
      "execution_count": null,
      "metadata": {
        "colab": {
          "base_uri": "https://localhost:8080/"
        },
        "id": "b1G1P4OWwEk2",
        "outputId": "e52ac814-5f0d-4c9c-8636-3ca8e33794ab"
      },
      "outputs": [
        {
          "name": "stdout",
          "output_type": "stream",
          "text": [
            "Validation loss for lr = 0.000100, decay = 0.000001: 2.251\n",
            "Validation loss for lr = 0.000100, decay = 0.000010: 2.242\n",
            "Validation loss for lr = 0.000100, decay = 0.000000: 2.249\n",
            "Validation loss for lr = 0.000215, decay = 0.000001: 2.141\n",
            "Validation loss for lr = 0.000215, decay = 0.000010: 2.141\n",
            "Validation loss for lr = 0.000215, decay = 0.000000: 2.140\n",
            "Validation loss for lr = 0.000464, decay = 0.000001: 11.586\n",
            "Validation loss for lr = 0.000464, decay = 0.000010: 1.126\n",
            "Validation loss for lr = 0.000464, decay = 0.000000: 1.562\n",
            "Validation loss for lr = 0.001000, decay = 0.000001: 14.514\n",
            "Validation loss for lr = 0.001000, decay = 0.000010: 14.127\n",
            "Validation loss for lr = 0.001000, decay = 0.000000: 13.713\n"
          ]
        }
      ],
      "source": [
        "torch.manual_seed(42) # setting seed for reproducibility\n",
        "\n",
        "# learning rate and decays grid search for forward gradient\n",
        "learning_rates = np.logspace(-4, -3, 4)\n",
        "decays = np.append(np.logspace(-6, -5, 2), 0)\n",
        "\n",
        "epochs = 10\n",
        "\n",
        "for gamma in learning_rates:\n",
        "  for lambda_ in decays:\n",
        "    net = Net().to(device) # defining net\n",
        "\n",
        "    # making the net functional to run the code in functorch\n",
        "    # for evaluating the Jacobian-vector product\n",
        "    func, params = ft.make_functional(net)\n",
        "\n",
        "    # removing requires gradient as it will not be used\n",
        "    # for the forward AD\n",
        "    for param in params:\n",
        "        param.requires_grad_(False)\n",
        "\n",
        "    # defining our optimizer\n",
        "    opt = ForwardSGD(func, functional_xent, params, lr=gamma, momentum = False, decay=lambda_)\n",
        "\n",
        "    # training\n",
        "    for e in range(epochs):\n",
        "      for i, (image, label) in enumerate(train_data_loader):\n",
        "        image, label = image.to(device), label.to(device)\n",
        "        params, loss, jvp = opt.step(image, label) # one optimization step\n",
        "\n",
        "    # evaluating on the val set\n",
        "    test_losses = []\n",
        "    for i, (image, label) in enumerate(val_data_loader):\n",
        "      batch_loss = []\n",
        "      with torch.no_grad():\n",
        "        image, label = image.to(device), label.to(device)\n",
        "        val_loss = functional_xent(params, func,image, label)\n",
        "        batch_loss.append(val_loss.item())\n",
        "      test_losses.append(np.mean(batch_loss))\n",
        "    print(f\"Validation loss for lr = {format(gamma,'.6f')}, decay = {format(lambda_,'.6f')}: {format(np.mean(test_losses),'.3f')}\")"
      ]
    },
    {
      "cell_type": "markdown",
      "metadata": {
        "id": "Waw7JQjzI4Zy"
      },
      "source": [
        "Searching for best learning rate and learning rate decay for backpropagation."
      ]
    },
    {
      "cell_type": "code",
      "execution_count": null,
      "metadata": {
        "colab": {
          "base_uri": "https://localhost:8080/"
        },
        "id": "cmHuS91UjuMk",
        "outputId": "4f0bbb8c-0617-4bef-9bca-410a29ff0976"
      },
      "outputs": [
        {
          "name": "stdout",
          "output_type": "stream",
          "text": [
            "Validation loss for lr = 0.001000, decay = 0.000001: 0.742\n",
            "Validation loss for lr = 0.001000, decay = 0.000010: 0.737\n",
            "Validation loss for lr = 0.001000, decay = 0.000000: 0.745\n",
            "Validation loss for lr = 0.004642, decay = 0.000001: 0.310\n",
            "Validation loss for lr = 0.004642, decay = 0.000010: 0.312\n",
            "Validation loss for lr = 0.004642, decay = 0.000000: 0.304\n",
            "Validation loss for lr = 0.021544, decay = 0.000001: 0.150\n",
            "Validation loss for lr = 0.021544, decay = 0.000010: 0.148\n",
            "Validation loss for lr = 0.021544, decay = 0.000000: 0.149\n",
            "Validation loss for lr = 0.100000, decay = 0.000001: 0.071\n",
            "Validation loss for lr = 0.100000, decay = 0.000010: 0.079\n",
            "Validation loss for lr = 0.100000, decay = 0.000000: 0.070\n"
          ]
        }
      ],
      "source": [
        "torch.manual_seed(42) # setting seed for reporducibility\n",
        "\n",
        "# defining learning rates and decays for grid search\n",
        "learning_rates = np.logspace(-3, -1, 4)\n",
        "decays = np.append(np.logspace(-6, -5, 2), 0)\n",
        "\n",
        "criterion = nn.CrossEntropyLoss() # loss function\n",
        "for gamma in learning_rates:\n",
        "  for lambda_ in decays:\n",
        "    lr_new = gamma\n",
        "    net = Net().to(device) # defining net\n",
        "\n",
        "    # storing losses\n",
        "    losses = []\n",
        "    steps = 0\n",
        "    for epoch in range(epochs):\n",
        "      # going over training set in batches\n",
        "      for i, (image, label) in enumerate(train_data_loader):\n",
        "        steps += 1\n",
        "        backprop = torch.optim.SGD(net.parameters(), lr=lr_new) # backprop SGD\n",
        "        image, label = image.to(device), label.to(device)\n",
        "\n",
        "        # optimizing\n",
        "        backprop.zero_grad()\n",
        "        outputs = net(image)\n",
        "        loss = criterion(outputs, label)\n",
        "        loss.backward()\n",
        "        backprop.step()\n",
        "        losses.append(loss.item())\n",
        "\n",
        "        # learning rate decay\n",
        "        lr_new = gamma * np.exp(-steps*lambda_)\n",
        "\n",
        "    # evaluating on the val set\n",
        "    test_losses = []\n",
        "    for i, (image, label) in enumerate(val_data_loader):\n",
        "      batch_loss = []\n",
        "      with torch.no_grad():\n",
        "        image, label = image.to(device), label.to(device)\n",
        "        val_loss = criterion(net(image), label)\n",
        "        batch_loss.append(val_loss.item())\n",
        "      test_losses.append(np.mean(batch_loss))\n",
        "    print(f\"Validation loss for lr = {format(gamma,'.6f')}, decay = {format(lambda_,'.6f')}: {format(np.mean(test_losses),'.3f')}\")"
      ]
    },
    {
      "cell_type": "markdown",
      "metadata": {
        "id": "Zm-4Tf1FJHhe"
      },
      "source": [
        "### Modeling"
      ]
    },
    {
      "cell_type": "markdown",
      "metadata": {
        "id": "tZoeCtSnJPpp"
      },
      "source": [
        "We first run forward gradient for the optimal hyperparameters."
      ]
    },
    {
      "cell_type": "code",
      "execution_count": null,
      "metadata": {
        "colab": {
          "base_uri": "https://localhost:8080/"
        },
        "id": "D7BcefWeqh_P",
        "outputId": "232fb167-4bdb-49be-8c1e-ac1ab5ca126e"
      },
      "outputs": [
        {
          "name": "stdout",
          "output_type": "stream",
          "text": [
            "Test loss in epoch 1: 2.276754379272461\n",
            "Test loss in epoch 2: 2.229856491088867\n",
            "Test loss in epoch 3: 2.245063066482544\n",
            "Test loss in epoch 4: 2.1505117416381836\n",
            "Test loss in epoch 5: 2.007540225982666\n",
            "Test loss in epoch 6: 1.9714754819869995\n",
            "Test loss in epoch 7: 1.8052902221679688\n",
            "Test loss in epoch 8: 1.4845551252365112\n",
            "Test loss in epoch 9: 1.513105869293213\n",
            "Test loss in epoch 10: 0.7407682538032532\n",
            "Test loss in epoch 11: 1.9370222091674805\n",
            "Test loss in epoch 12: 12.953187942504883\n",
            "Test loss in epoch 13: 13.771442413330078\n",
            "Test loss in epoch 14: 14.945985794067383\n",
            "Test loss in epoch 15: 10.55512809753418\n",
            "Test loss in epoch 16: 12.953187942504883\n",
            "Test loss in epoch 17: 12.953187942504883\n",
            "Test loss in epoch 18: 15.942384719848633\n",
            "Test loss in epoch 19: 12.953187942504883\n",
            "Test loss in epoch 20: 14.945985794067383\n",
            "Test loss in epoch 21: 10.960390090942383\n",
            "Test loss in epoch 22: 10.960390090942383\n",
            "Test loss in epoch 23: 14.945985794067383\n",
            "Test loss in epoch 24: 13.949586868286133\n",
            "Test loss in epoch 25: 14.945985794067383\n"
          ]
        }
      ],
      "source": [
        "# for reproducible purposes\n",
        "torch.manual_seed(42)\n",
        "\n",
        "net = Net().to(device) # defining net\n",
        "\n",
        "# using best lr and decay found in the optimizations below\n",
        "lr = 0.000464\n",
        "decay = 1e-5\n",
        "# making the net functional to run the code in functorch\n",
        "# for evaluating the Jacobian-vector product\n",
        "func, params = ft.make_functional(net)\n",
        "\n",
        "# removing requires gradient as it will not be used\n",
        "# for the forward AD\n",
        "for param in params:\n",
        "    param.requires_grad_(False)\n",
        "\n",
        "# defining our optimizer\n",
        "opt = ForwardSGD(func, functional_xent, params, lr=lr, momentum = False, decay=decay)\n",
        "\n",
        "# running the code for e epochs\n",
        "losses_fwd = []\n",
        "norms = []\n",
        "epochs = 25\n",
        "test_losses_fwd = []\n",
        "for e in range(epochs):\n",
        "  # training\n",
        "  for j, (image, label) in enumerate(train_data_loader):\n",
        "    image, label = image.to(device), label.to(device)\n",
        "    params, loss, norm = opt.step(image, label)\n",
        "    try:\n",
        "      norms.append(np.abs(norm.item()))\n",
        "    except:\n",
        "      norms.append(np.abs(norm))\n",
        "    losses_fwd.append(loss.item())\n",
        "  # evaluating on the test set\n",
        "  for i, (image, label) in enumerate(test_data_loader):\n",
        "    with torch.no_grad():\n",
        "      batch_loss = []\n",
        "      image, label = image.to(device), label.to(device)\n",
        "      test_loss = functional_xent(params, func, image, label)\n",
        "      batch_loss.append(test_loss.item())\n",
        "  test_losses_fwd.append(np.mean(batch_loss))\n",
        "  print(f\"Test loss in epoch {e+1}: {(test_losses_fwd[-1])}\")\n"
      ]
    },
    {
      "cell_type": "code",
      "execution_count": null,
      "metadata": {
        "colab": {
          "base_uri": "https://localhost:8080/",
          "height": 312
        },
        "id": "_kFD16L8vBSj",
        "outputId": "3b1a1f71-3ae7-4b8d-f597-3cde6aaf51c0"
      },
      "outputs": [
        {
          "data": {
            "text/plain": [
              "Text(0.5, 1.0, 'Jacobian vector norm per iteration')"
            ]
          },
          "execution_count": 7,
          "metadata": {},
          "output_type": "execute_result"
        },
        {
          "data": {
            "image/png": "[encoded data removed]",
            "text/plain": [
              "<Figure size 432x288 with 1 Axes>"
            ]
          },
          "metadata": {
            "needs_background": "light"
          },
          "output_type": "display_data"
        }
      ],
      "source": [
        "plt.plot(norms)\n",
        "plt.xlabel(\"Iteration\")\n",
        "plt.ylabel(\"Jacobian vector norm (L2)\")\n",
        "plt.title(\"Jacobian vector norm per iteration\")"
      ]
    },
    {
      "cell_type": "code",
      "execution_count": null,
      "metadata": {
        "colab": {
          "base_uri": "https://localhost:8080/"
        },
        "id": "zLCr2cf0xrMf",
        "outputId": "b46f14aa-1527-4209-8516-135ec4adb3aa"
      },
      "outputs": [
        {
          "name": "stdout",
          "output_type": "stream",
          "text": [
            "87.86993408203125\n",
            "416.6250915527344\n",
            "134.16180419921875\n",
            "3.340167948278336\n",
            "7.877840072580223\n"
          ]
        }
      ],
      "source": [
        "print(np.max(norms[:10000])); print(np.max(norms)); print(np.max(norms[:11000]))\n",
        "print(np.mean(norms[:10000]))\n",
        "print(np.std(norms[:10000]))"
      ]
    },
    {
      "cell_type": "markdown",
      "metadata": {
        "id": "_y1k5q-S_cjW"
      },
      "source": [
        "As can be seen, we deal with exploding gradients. To mitigate this, we utilize gradient clipping. Specifically, we impose that the norm of the Jacobian vector product must be less than 1."
      ]
    },
    {
      "cell_type": "code",
      "execution_count": null,
      "metadata": {
        "colab": {
          "base_uri": "https://localhost:8080/"
        },
        "id": "zLfRPaSuyHEQ",
        "outputId": "999c33ac-7f5e-4061-ff4f-8120e45b1b58"
      },
      "outputs": [
        {
          "name": "stdout",
          "output_type": "stream",
          "text": [
            "Test loss in epoch 1: 2.276\n",
            "Test loss in epoch 2: 2.231\n",
            "Test loss in epoch 3: 2.251\n",
            "Test loss in epoch 4: 2.168\n",
            "Test loss in epoch 5: 2.067\n",
            "Test loss in epoch 6: 2.077\n",
            "Test loss in epoch 7: 1.972\n",
            "Test loss in epoch 8: 1.864\n",
            "Test loss in epoch 9: 1.827\n",
            "Test loss in epoch 10: 1.727\n",
            "Test loss in epoch 11: 1.633\n",
            "Test loss in epoch 12: 1.595\n",
            "Test loss in epoch 13: 1.352\n",
            "Test loss in epoch 14: 1.484\n",
            "Test loss in epoch 15: 1.221\n",
            "Test loss in epoch 16: 1.196\n",
            "Test loss in epoch 17: 1.058\n",
            "Test loss in epoch 18: 1.439\n",
            "Test loss in epoch 19: 0.909\n",
            "Test loss in epoch 20: 0.928\n",
            "Test loss in epoch 21: 0.734\n",
            "Test loss in epoch 22: 0.572\n",
            "Test loss in epoch 23: 1.564\n",
            "Test loss in epoch 24: 0.655\n",
            "Test loss in epoch 25: 0.538\n",
            "Test loss in epoch 26: 0.617\n",
            "Test loss in epoch 27: 0.857\n",
            "Test loss in epoch 28: 0.624\n",
            "Test loss in epoch 29: 0.566\n",
            "Test loss in epoch 30: 0.486\n",
            "Test loss in epoch 31: 0.551\n",
            "Test loss in epoch 32: 0.589\n",
            "Test loss in epoch 33: 0.572\n",
            "Test loss in epoch 34: 0.400\n",
            "Test loss in epoch 35: 0.249\n",
            "Test loss in epoch 36: 0.641\n",
            "Test loss in epoch 37: 0.365\n",
            "Test loss in epoch 38: 0.552\n",
            "Test loss in epoch 39: 0.810\n",
            "Test loss in epoch 40: 0.512\n",
            "Test loss in epoch 41: 0.556\n",
            "Test loss in epoch 42: 0.392\n",
            "Test loss in epoch 43: 0.152\n",
            "Test loss in epoch 44: 0.259\n",
            "Test loss in epoch 45: 0.261\n",
            "Test loss in epoch 46: 0.785\n",
            "Test loss in epoch 47: 0.257\n",
            "Test loss in epoch 48: 0.730\n",
            "Test loss in epoch 49: 0.411\n",
            "Test loss in epoch 50: 0.332\n"
          ]
        }
      ],
      "source": [
        "torch.manual_seed(42) # setting seed for reproducibility\n",
        "\n",
        "net = Net().to(device) # defining net\n",
        "\n",
        "# using best lr and decay found in the optimizations below\n",
        "lr = 0.000464\n",
        "decay = 1e-5\n",
        "# making the net functional to run the code in functorch\n",
        "# for evaluating the Jacobian-vector product\n",
        "func, params = ft.make_functional(net)\n",
        "\n",
        "# removing requires gradient as it will not be used\n",
        "# for the forward AD\n",
        "for param in params:\n",
        "    param.requires_grad_(False)\n",
        "\n",
        "# defining our optimizer\n",
        "opt = ForwardSGD(func, functional_xent, params, lr=lr, momentum = False, decay=decay, clip = 1)\n",
        "\n",
        "# training for e epochs\n",
        "losses_fwd = []\n",
        "norms = []\n",
        "epochs = 50\n",
        "test_losses_fwd = []\n",
        "for e in range(epochs):\n",
        "  for j, (image, label) in enumerate(train_data_loader):\n",
        "    image, label = image.to(device), label.to(device)\n",
        "    params, loss, norm = opt.step(image, label)\n",
        "    try:\n",
        "      norms.append(norm.item())\n",
        "    except:\n",
        "      norms.append(norm)\n",
        "    losses_fwd.append(loss.item())\n",
        "\n",
        "  # evaluating on the test set\n",
        "  for i, (image, label) in enumerate(test_data_loader):\n",
        "    with torch.no_grad():\n",
        "      batch_loss = []\n",
        "      image, label = image.to(device), label.to(device)\n",
        "      test_loss = functional_xent(params, func, image, label)\n",
        "      batch_loss.append(test_loss.item())\n",
        "  test_losses_fwd.append(np.mean(batch_loss))\n",
        "  print(f\"Test loss in epoch {e+1}: {format(test_losses_fwd[-1], '.3f')}\")\n"
      ]
    },
    {
      "cell_type": "markdown",
      "metadata": {
        "id": "G4WpUezcqr4V"
      },
      "source": [
        "Backpropagation:"
      ]
    },
    {
      "cell_type": "code",
      "execution_count": null,
      "metadata": {
        "colab": {
          "base_uri": "https://localhost:8080/"
        },
        "id": "Id8vMur6qrcM",
        "outputId": "588ca7e7-513c-4c28-b28b-752d1a126e19"
      },
      "outputs": [
        {
          "name": "stdout",
          "output_type": "stream",
          "text": [
            "Test loss in epoch 1: 0.21089600026607513\n",
            "Test loss in epoch 2: 0.018330974504351616\n",
            "Test loss in epoch 3: 0.043267495930194855\n",
            "Test loss in epoch 4: 0.09450326859951019\n",
            "Test loss in epoch 5: 0.053974270820617676\n",
            "Test loss in epoch 6: 0.0013429009122774005\n",
            "Test loss in epoch 7: 0.0017417690251022577\n",
            "Test loss in epoch 8: 0.12855468690395355\n",
            "Test loss in epoch 9: 0.003445312613621354\n",
            "Test loss in epoch 10: 0.0485224723815918\n",
            "Test loss in epoch 11: 0.0038545248098671436\n",
            "Test loss in epoch 12: 0.017548387870192528\n",
            "Test loss in epoch 13: 0.005903841461986303\n",
            "Test loss in epoch 14: 0.1460621953010559\n",
            "Test loss in epoch 15: 0.0064318617805838585\n",
            "Test loss in epoch 16: 0.12599988281726837\n",
            "Test loss in epoch 17: 0.005304242949932814\n",
            "Test loss in epoch 18: 0.38441839814186096\n",
            "Test loss in epoch 19: 0.01203002780675888\n",
            "Test loss in epoch 20: 0.003206605091691017\n",
            "Test loss in epoch 21: 0.272867888212204\n",
            "Test loss in epoch 22: 0.0017718407325446606\n",
            "Test loss in epoch 23: 0.6106453537940979\n",
            "Test loss in epoch 24: 0.036790646612644196\n",
            "Test loss in epoch 25: 1.0065509741252754e-05\n",
            "Test loss in epoch 26: 0.0033710619900375605\n",
            "Test loss in epoch 27: 0.010113983415067196\n",
            "Test loss in epoch 28: 0.0001362396578770131\n",
            "Test loss in epoch 29: 0.0003773012140300125\n",
            "Test loss in epoch 30: 0.0001319766161032021\n",
            "Test loss in epoch 31: 0.1859734207391739\n",
            "Test loss in epoch 32: 0.00011783600348280743\n",
            "Test loss in epoch 33: 0.030262522399425507\n",
            "Test loss in epoch 34: 0.0244895052164793\n",
            "Test loss in epoch 35: 0.0003982692724093795\n",
            "Test loss in epoch 36: 0.008728638291358948\n",
            "Test loss in epoch 37: 0.0005693186540156603\n",
            "Test loss in epoch 38: 0.0009540148312225938\n",
            "Test loss in epoch 39: 0.00041991943726316094\n",
            "Test loss in epoch 40: 0.13044047355651855\n",
            "Test loss in epoch 41: 1.6270583728328347e-05\n",
            "Test loss in epoch 42: 0.000789920159149915\n",
            "Test loss in epoch 43: 2.3682758182985708e-05\n",
            "Test loss in epoch 44: 5.468562903843122e-06\n",
            "Test loss in epoch 45: 1.5571608855680097e-06\n",
            "Test loss in epoch 46: 0.0021592460107058287\n",
            "Test loss in epoch 47: 6.254876643652096e-05\n",
            "Test loss in epoch 48: 0.0045629097148776054\n",
            "Test loss in epoch 49: 0.5331766605377197\n",
            "Test loss in epoch 50: 1.8743665350484662e-05\n"
          ]
        }
      ],
      "source": [
        "torch.manual_seed(42) # setting seed for reproducibility\n",
        "\n",
        "lr = 0.100000\n",
        "decay = 0\n",
        "epochs = 50\n",
        "lr_new = lr\n",
        "criterion = nn.CrossEntropyLoss() # loss function\n",
        "net = Net().to(device) # defining net\n",
        "\n",
        "# storing losses\n",
        "losses = []\n",
        "test_losses = []\n",
        "steps = 0\n",
        "for e in range(epochs):\n",
        "  # going over training set in batches\n",
        "  for i, (image, label) in enumerate(train_data_loader):\n",
        "    steps += 1\n",
        "    backprop = torch.optim.SGD(net.parameters(), lr=lr_new) # normal SGD in torch\n",
        "    image, label = image.to(device), label.to(device)\n",
        "    backprop.zero_grad()\n",
        "    outputs = net(image)\n",
        "    loss = criterion(outputs, label)\n",
        "    loss.backward()\n",
        "    backprop.step()\n",
        "    losses.append(loss.item())\n",
        "    lr_new = lr * np.exp(-steps*decay)\n",
        "  \n",
        "  # testing on test set\n",
        "  for i, (image, label) in enumerate(test_data_loader):\n",
        "    with torch.no_grad():\n",
        "      batch_loss = []\n",
        "      image, label = image.to(device), label.to(device)\n",
        "      test_loss = criterion(net(image), label)\n",
        "      batch_loss.append(test_loss.item())\n",
        "  test_losses.append(np.mean(batch_loss))\n",
        "  print(f\"Test loss in epoch {e+1}: {(test_losses[-1])}\")"
      ]
    },
    {
      "cell_type": "markdown",
      "metadata": {
        "id": "j7wyih5wrNzK"
      },
      "source": [
        "#### Comparing results"
      ]
    },
    {
      "cell_type": "code",
      "execution_count": null,
      "metadata": {
        "colab": {
          "base_uri": "https://localhost:8080/",
          "height": 530
        },
        "id": "d1Az9_GcrQC9",
        "outputId": "21c68bd7-00e0-4544-b1c7-fefba7d0a33e"
      },
      "outputs": [
        {
          "data": {
            "text/plain": [
              "<matplotlib.legend.Legend at 0x7f24e1ae5050>"
            ]
          },
          "execution_count": 11,
          "metadata": {},
          "output_type": "execute_result"
        },
        {
          "data": {
            "image/png": "[encoded data removed]",
            "text/plain": [
              "<Figure size 1152x576 with 2 Axes>"
            ]
          },
          "metadata": {
            "needs_background": "light"
          },
          "output_type": "display_data"
        }
      ],
      "source": [
        "fig, ax = plt.subplots(1,2,figsize=(16,8))\n",
        "\n",
        "ax[0].plot(losses, color='r', label=\"Backprop\", alpha=.7)\n",
        "ax[0].set_xlabel(\"Iterations\")\n",
        "ax[0].set_ylabel(\"Loss\")\n",
        "ax[0].plot(losses_fwd[:], color='b', label='Forward gradient', alpha=.7)\n",
        "ax[0].set_title(\"Training loss for backprop and forward gradient\")\n",
        "ax[0].legend()\n",
        "\n",
        "ax[1].plot(test_losses, color='r', label=\"Backprop\", alpha=.7)\n",
        "ax[1].set_xlabel(\"Epochs\")\n",
        "ax[1].set_ylabel(\"Loss\")\n",
        "ax[1].plot(test_losses_fwd, color='b', label='Forward gradient', alpha=.7)\n",
        "ax[1].set_title(\"Test loss for backprop and forward gradient\")\n",
        "ax[1].legend()"
      ]
    },
    {
      "cell_type": "markdown",
      "metadata": {
        "id": "W8s201wxL4Tm"
      },
      "source": [
        "## SGD with Nesterov momentum\n",
        "\n",
        "We now incorporate SGD with Nesterov momentum."
      ]
    },
    {
      "cell_type": "markdown",
      "metadata": {
        "id": "2PgR4xV8L4Tn"
      },
      "source": [
        "### Learning rate optimization\n",
        "\n",
        "The final search for learning rate is in a quite small interval as we earlier tried a wider search, but wanted to reduce the width to find a better optimum."
      ]
    },
    {
      "cell_type": "markdown",
      "metadata": {
        "id": "SJGZi2-XL4To"
      },
      "source": [
        "Searching for best learning rate and momentum for forward gradient."
      ]
    },
    {
      "cell_type": "code",
      "execution_count": 5,
      "metadata": {
        "colab": {
          "base_uri": "https://localhost:8080/"
        },
        "id": "FU90751EL4To",
        "outputId": "fde4b44e-e8fb-4f11-c032-10ef3f8bbbe7"
      },
      "outputs": [
        {
          "name": "stdout",
          "output_type": "stream",
          "text": [
            "Validation loss for lr = 0.00010, momentum = 0.100: 2.173\n",
            "Validation loss for lr = 0.00010, momentum = 0.367: 2.035\n",
            "Validation loss for lr = 0.00010, momentum = 0.633: 1.590\n",
            "Validation loss for lr = 0.00010, momentum = 0.900: 1.303\n",
            "Validation loss for lr = 0.00032, momentum = 0.100: 1.177\n",
            "Validation loss for lr = 0.00032, momentum = 0.367: 0.771\n",
            "Validation loss for lr = 0.00032, momentum = 0.633: 0.918\n",
            "Validation loss for lr = 0.00032, momentum = 0.900: 8.816\n",
            "Validation loss for lr = 0.00100, momentum = 0.100: 1.753\n",
            "Validation loss for lr = 0.00100, momentum = 0.367: 4.272\n",
            "Validation loss for lr = 0.00100, momentum = 0.633: 7.465\n",
            "Validation loss for lr = 0.00100, momentum = 0.900: 11.404\n"
          ]
        }
      ],
      "source": [
        "torch.manual_seed(42) # setting seed for reproducibility\n",
        "\n",
        "# learning rate and momentum grid search for forward gradient\n",
        "learning_rates = np.logspace(-4, -3, 3)\n",
        "momentums = np.linspace(0.1, 0.9, 4)\n",
        "\n",
        "epochs = 20\n",
        "\n",
        "for gamma in learning_rates:\n",
        "  for momentum in momentums:\n",
        "    net = Net().to(device) # defining net\n",
        "\n",
        "    # making the net functional to run the code in functorch\n",
        "    # for evaluating the Jacobian-vector product\n",
        "    func, params = ft.make_functional(net)\n",
        "\n",
        "    # removing requires gradient as it will not be used\n",
        "    # for the forward AD\n",
        "    for param in params:\n",
        "        param.requires_grad_(False)\n",
        "\n",
        "    # defining our optimizer\n",
        "    opt = ForwardSGD(func, functional_xent, params, lr=gamma,\n",
        "                     momentum = momentum, nesterov = True, decay=1e-6, clip=1)\n",
        "\n",
        "    # training\n",
        "    for e in range(epochs):\n",
        "      for i, (image, label) in enumerate(train_data_loader):\n",
        "        image, label = image.to(device), label.to(device)\n",
        "        params, loss, jvp = opt.step(image, label) # one optimization step\n",
        "\n",
        "    # evaluating on the val set\n",
        "    test_losses = []\n",
        "    for i, (image, label) in enumerate(val_data_loader):\n",
        "      batch_loss = []\n",
        "      with torch.no_grad():\n",
        "        image, label = image.to(device), label.to(device)\n",
        "        val_loss = functional_xent(params, func,image, label)\n",
        "        batch_loss.append(val_loss.item())\n",
        "      test_losses.append(np.mean(batch_loss))\n",
        "    print(f\"Validation loss for lr = {format(gamma,'.5f')}, momentum = {format(momentum,'.3f')}: {format(np.mean(test_losses),'.3f')}\")"
      ]
    },
    {
      "cell_type": "markdown",
      "metadata": {
        "id": "gGE2XBLzL4Tq"
      },
      "source": [
        "Searching for best learning rate and momentum for backpropagation."
      ]
    },
    {
      "cell_type": "code",
      "execution_count": null,
      "metadata": {
        "colab": {
          "base_uri": "https://localhost:8080/"
        },
        "id": "qS9wgdThL4Tr",
        "outputId": "56b39692-d2e5-4cdb-e400-df6a971a2f6a"
      },
      "outputs": [
        {
          "name": "stdout",
          "output_type": "stream",
          "text": [
            "Validation loss for lr = 0.0010, momentum = 0.500: 0.432\n",
            "Validation loss for lr = 0.0010, momentum = 0.633: 0.367\n",
            "Validation loss for lr = 0.0010, momentum = 0.767: 0.317\n",
            "Validation loss for lr = 0.0010, momentum = 0.900: 0.230\n",
            "Validation loss for lr = 0.0046, momentum = 0.500: 0.237\n",
            "Validation loss for lr = 0.0046, momentum = 0.633: 0.201\n",
            "Validation loss for lr = 0.0046, momentum = 0.767: 0.157\n",
            "Validation loss for lr = 0.0046, momentum = 0.900: 0.088\n",
            "Validation loss for lr = 0.0215, momentum = 0.500: 0.100\n",
            "Validation loss for lr = 0.0215, momentum = 0.633: 0.085\n",
            "Validation loss for lr = 0.0215, momentum = 0.767: 0.075\n",
            "Validation loss for lr = 0.0215, momentum = 0.900: 0.070\n",
            "Validation loss for lr = 0.1000, momentum = 0.500: 0.068\n",
            "Validation loss for lr = 0.1000, momentum = 0.633: 0.077\n",
            "Validation loss for lr = 0.1000, momentum = 0.767: 0.073\n",
            "Validation loss for lr = 0.1000, momentum = 0.900: 0.114\n"
          ]
        }
      ],
      "source": [
        "torch.manual_seed(42) # setting seed for reporducibility\n",
        "\n",
        "# defining learning rates and decays for grid search\n",
        "learning_rates = np.logspace(-3, -1, 4)\n",
        "momentums = np.linspace(0.5, 0.9, 4)\n",
        "\n",
        "criterion = nn.CrossEntropyLoss() # loss function\n",
        "for gamma in learning_rates:\n",
        "  for momentum in momentums:\n",
        "    net = Net().to(device) # defining net\n",
        "    backprop = torch.optim.SGD(net.parameters(), lr=gamma,\n",
        "                                   momentum = momentum, nesterov = True) # backprop SGD\n",
        "\n",
        "    # storing losses\n",
        "    losses = []\n",
        "    for epoch in range(epochs):\n",
        "      # going over training set in batches\n",
        "      for i, (image, label) in enumerate(train_data_loader):\n",
        "        image, label = image.to(device), label.to(device)\n",
        "\n",
        "        # optimizing\n",
        "        backprop.zero_grad()\n",
        "        outputs = net(image)\n",
        "        loss = criterion(outputs, label)\n",
        "        loss.backward()\n",
        "        backprop.step()\n",
        "        losses.append(loss.item())\n",
        "\n",
        "    # evaluating on the val set\n",
        "    test_losses = []\n",
        "    for i, (image, label) in enumerate(val_data_loader):\n",
        "      batch_loss = []\n",
        "      with torch.no_grad():\n",
        "        image, label = image.to(device), label.to(device)\n",
        "        val_loss = criterion(net(image), label)\n",
        "        batch_loss.append(val_loss.item())\n",
        "      test_losses.append(np.mean(batch_loss))\n",
        "    print(f\"Validation loss for lr = {format(gamma,'.4f')}, momentum = {format(momentum,'.3f')}: {format(np.mean(test_losses),'.3f')}\")"
      ]
    },
    {
      "cell_type": "markdown",
      "metadata": {
        "id": "82X4mLK6L4Ts"
      },
      "source": [
        "### Modeling"
      ]
    },
    {
      "cell_type": "markdown",
      "metadata": {
        "id": "hPwJVZehL4Ts"
      },
      "source": [
        "We first run forward gradient for the optimal hyperparameters."
      ]
    },
    {
      "cell_type": "code",
      "execution_count": 6,
      "metadata": {
        "colab": {
          "base_uri": "https://localhost:8080/"
        },
        "id": "O3wTtIghL4Tt",
        "outputId": "ff83ddfa-d386-4739-9016-f2c84efb3531"
      },
      "outputs": [
        {
          "name": "stdout",
          "output_type": "stream",
          "text": [
            "Test loss in epoch 1: 2.276317596435547\n",
            "Test loss in epoch 2: 2.2221546173095703\n",
            "Test loss in epoch 3: 2.2201828956604004\n",
            "Test loss in epoch 4: 2.124596357345581\n",
            "Test loss in epoch 5: 2.0300662517547607\n",
            "Test loss in epoch 6: 1.9918324947357178\n",
            "Test loss in epoch 7: 1.8493239879608154\n",
            "Test loss in epoch 8: 1.7068791389465332\n",
            "Test loss in epoch 9: 1.6936469078063965\n",
            "Test loss in epoch 10: 1.5462493896484375\n",
            "Test loss in epoch 11: 1.4705729484558105\n",
            "Test loss in epoch 12: 1.463754415512085\n",
            "Test loss in epoch 13: 1.0785850286483765\n",
            "Test loss in epoch 14: 1.4023302793502808\n",
            "Test loss in epoch 15: 0.870995283126831\n",
            "Test loss in epoch 16: 1.00474214553833\n",
            "Test loss in epoch 17: 0.8807178139686584\n",
            "Test loss in epoch 18: 1.2184250354766846\n",
            "Test loss in epoch 19: 0.7201191782951355\n",
            "Test loss in epoch 20: 0.8235723972320557\n",
            "Test loss in epoch 21: 0.5875415802001953\n",
            "Test loss in epoch 22: 0.3623698055744171\n",
            "Test loss in epoch 23: 1.3015860319137573\n",
            "Test loss in epoch 24: 0.5479764938354492\n",
            "Test loss in epoch 25: 0.413521409034729\n",
            "Test loss in epoch 26: 0.5334137678146362\n",
            "Test loss in epoch 27: 0.8162955045700073\n",
            "Test loss in epoch 28: 0.5027048587799072\n",
            "Test loss in epoch 29: 0.5902079343795776\n",
            "Test loss in epoch 30: 0.3502216637134552\n",
            "Test loss in epoch 31: 0.6699620485305786\n",
            "Test loss in epoch 32: 0.8531582355499268\n",
            "Test loss in epoch 33: 0.514047384262085\n",
            "Test loss in epoch 34: 0.4293031096458435\n",
            "Test loss in epoch 35: 0.20302344858646393\n",
            "Test loss in epoch 36: 0.622024416923523\n",
            "Test loss in epoch 37: 0.4775422215461731\n",
            "Test loss in epoch 38: 0.478412926197052\n",
            "Test loss in epoch 39: 0.6825674772262573\n",
            "Test loss in epoch 40: 0.7085933685302734\n",
            "Test loss in epoch 41: 0.6544255614280701\n",
            "Test loss in epoch 42: 0.4863940477371216\n",
            "Test loss in epoch 43: 0.2274630069732666\n",
            "Test loss in epoch 44: 0.25682634115219116\n",
            "Test loss in epoch 45: 0.17307734489440918\n",
            "Test loss in epoch 46: 0.7794525623321533\n",
            "Test loss in epoch 47: 0.216663658618927\n",
            "Test loss in epoch 48: 0.9805976152420044\n",
            "Test loss in epoch 49: 0.32957538962364197\n",
            "Test loss in epoch 50: 0.2682667374610901\n"
          ]
        }
      ],
      "source": [
        "# for reproducible purposes\n",
        "torch.manual_seed(42)\n",
        "\n",
        "net = Net().to(device) # defining net\n",
        "\n",
        "# using best lr and decay found in the optimizations above\n",
        "lr = 0.00032\n",
        "momentum = 0.367\n",
        "# making the net functional to run the code in functorch\n",
        "# for evaluating the Jacobian-vector product\n",
        "func, params = ft.make_functional(net)\n",
        "\n",
        "# removing requires gradient as it will not be used\n",
        "# for the forward AD\n",
        "for param in params:\n",
        "    param.requires_grad_(False)\n",
        "\n",
        "# defining our optimizer\n",
        "opt = ForwardSGD(func, functional_xent, params, lr=lr, momentum = momentum, nesterov = True, clip = 1)\n",
        "\n",
        "# running the code for e epochs\n",
        "losses_fwd = []\n",
        "epochs = 50\n",
        "test_losses_fwd = []\n",
        "for e in range(epochs):\n",
        "  # training\n",
        "  for j, (image, label) in enumerate(train_data_loader):\n",
        "    image, label = image.to(device), label.to(device)\n",
        "    params, loss, jvp = opt.step(image, label)\n",
        "    losses_fwd.append(loss.item())\n",
        "  # evaluating on the test set\n",
        "  for i, (image, label) in enumerate(test_data_loader):\n",
        "    with torch.no_grad():\n",
        "      batch_loss = []\n",
        "      image, label = image.to(device), label.to(device)\n",
        "      test_loss = functional_xent(params, func, image, label)\n",
        "      batch_loss.append(test_loss.item())\n",
        "  test_losses_fwd.append(np.mean(batch_loss))\n",
        "  print(f\"Test loss in epoch {e+1}: {(test_losses_fwd[-1])}\")\n"
      ]
    },
    {
      "cell_type": "markdown",
      "metadata": {
        "id": "_Kz_nhv7L4Tx"
      },
      "source": [
        "Backpropagation:"
      ]
    },
    {
      "cell_type": "code",
      "execution_count": 7,
      "metadata": {
        "colab": {
          "base_uri": "https://localhost:8080/"
        },
        "id": "NdH9zmOhL4Ty",
        "outputId": "ed17c298-d7a9-4028-b869-0ad7b14cd5d2"
      },
      "outputs": [
        {
          "name": "stdout",
          "output_type": "stream",
          "text": [
            "Test loss in epoch 1: 0.1315249800682068\n",
            "Test loss in epoch 2: 0.027862874791026115\n",
            "Test loss in epoch 3: 0.015424213372170925\n",
            "Test loss in epoch 4: 0.07659266144037247\n",
            "Test loss in epoch 5: 0.07654809951782227\n",
            "Test loss in epoch 6: 0.001847417326644063\n",
            "Test loss in epoch 7: 0.0005271852132864296\n",
            "Test loss in epoch 8: 0.1853225827217102\n",
            "Test loss in epoch 9: 0.00035277678398415446\n",
            "Test loss in epoch 10: 0.03044058382511139\n",
            "Test loss in epoch 11: 0.0014210273511707783\n",
            "Test loss in epoch 12: 0.0026413039304316044\n",
            "Test loss in epoch 13: 0.0003972149279434234\n",
            "Test loss in epoch 14: 0.1844155192375183\n",
            "Test loss in epoch 15: 0.02047288976609707\n",
            "Test loss in epoch 16: 0.13774517178535461\n",
            "Test loss in epoch 17: 0.0028007777873426676\n",
            "Test loss in epoch 18: 0.4754335880279541\n",
            "Test loss in epoch 19: 0.0006850249483250082\n",
            "Test loss in epoch 20: 0.0031849120277911425\n",
            "Test loss in epoch 21: 0.31692641973495483\n",
            "Test loss in epoch 22: 0.00020110580953769386\n",
            "Test loss in epoch 23: 0.5706037282943726\n",
            "Test loss in epoch 24: 0.06032004579901695\n",
            "Test loss in epoch 25: 5.66243272714928e-07\n",
            "Test loss in epoch 26: 0.003842685604467988\n",
            "Test loss in epoch 27: 0.02526336908340454\n",
            "Test loss in epoch 28: 3.385885793250054e-05\n",
            "Test loss in epoch 29: 7.624081627000123e-05\n",
            "Test loss in epoch 30: 2.6200610591331497e-05\n",
            "Test loss in epoch 31: 0.1766405552625656\n",
            "Test loss in epoch 32: 4.261667072569253e-06\n",
            "Test loss in epoch 33: 0.026638679206371307\n",
            "Test loss in epoch 34: 0.0050215465016663074\n",
            "Test loss in epoch 35: 8.066622103797272e-05\n",
            "Test loss in epoch 36: 0.011710288003087044\n",
            "Test loss in epoch 37: 3.959516834584065e-05\n",
            "Test loss in epoch 38: 0.00010487023973837495\n",
            "Test loss in epoch 39: 0.00029873568564653397\n",
            "Test loss in epoch 40: 0.016523588448762894\n",
            "Test loss in epoch 41: 4.261622052581515e-06\n",
            "Test loss in epoch 42: 0.0001557046634843573\n",
            "Test loss in epoch 43: 2.523819603084121e-05\n",
            "Test loss in epoch 44: 4.2468258243388846e-07\n",
            "Test loss in epoch 45: 4.4703338630824874e-07\n",
            "Test loss in epoch 46: 0.00014949592878110707\n",
            "Test loss in epoch 47: 1.557767973281443e-05\n",
            "Test loss in epoch 48: 0.0039092376828193665\n",
            "Test loss in epoch 49: 0.6672232747077942\n",
            "Test loss in epoch 50: 1.4020844901097007e-05\n"
          ]
        }
      ],
      "source": [
        "torch.manual_seed(42) # setting seed for reproducibility\n",
        "\n",
        "lr = 0.1\n",
        "momentum = 0.500\n",
        "epochs = 50\n",
        "lr_new = lr\n",
        "criterion = nn.CrossEntropyLoss() # loss function\n",
        "net = Net().to(device) # defining net\n",
        "backprop = torch.optim.SGD(net.parameters(), lr=lr_new,\n",
        "                               momentum = momentum, nesterov = True) # normal SGD in torch\n",
        "\n",
        "# storing losses\n",
        "losses = []\n",
        "test_losses = []\n",
        "for e in range(epochs):\n",
        "  # going over training set in batches\n",
        "  for i, (image, label) in enumerate(train_data_loader):\n",
        "    image, label = image.to(device), label.to(device)\n",
        "    backprop.zero_grad()\n",
        "    outputs = net(image)\n",
        "    loss = criterion(outputs, label)\n",
        "    loss.backward()\n",
        "    backprop.step()\n",
        "    losses.append(loss.item())\n",
        "  \n",
        "  # testing on test set\n",
        "  for i, (image, label) in enumerate(test_data_loader):\n",
        "    with torch.no_grad():\n",
        "      batch_loss = []\n",
        "      image, label = image.to(device), label.to(device)\n",
        "      test_loss = criterion(net(image), label)\n",
        "      batch_loss.append(test_loss.item())\n",
        "  test_losses.append(np.mean(batch_loss))\n",
        "  print(f\"Test loss in epoch {e+1}: {(test_losses[-1])}\")"
      ]
    },
    {
      "cell_type": "markdown",
      "metadata": {
        "id": "6VxF-ju4L4Tz"
      },
      "source": [
        "#### Comparing results"
      ]
    },
    {
      "cell_type": "code",
      "execution_count": 8,
      "metadata": {
        "colab": {
          "base_uri": "https://localhost:8080/",
          "height": 530
        },
        "id": "LkPEMYx8L4Tz",
        "outputId": "72ab07e8-9a22-4842-e1ab-8cd28d1ec735"
      },
      "outputs": [
        {
          "data": {
            "text/plain": [
              "<matplotlib.legend.Legend at 0x7f9c078eb290>"
            ]
          },
          "execution_count": 8,
          "metadata": {},
          "output_type": "execute_result"
        },
        {
          "data": {
            "image/png": "[encoded data removed]",
            "text/plain": [
              "<Figure size 1152x576 with 2 Axes>"
            ]
          },
          "metadata": {
            "needs_background": "light"
          },
          "output_type": "display_data"
        }
      ],
      "source": [
        "fig, ax = plt.subplots(1,2,figsize=(16,8))\n",
        "\n",
        "ax[0].plot(losses, color='r', label=\"Backprop\", alpha=.7)\n",
        "ax[0].set_xlabel(\"Iterations\")\n",
        "ax[0].set_ylabel(\"Loss\")\n",
        "ax[0].plot(losses_fwd, color='b', label='Forward gradient', alpha=.7)\n",
        "ax[0].set_title(\"Training loss for backprop and forward gradient\")\n",
        "ax[0].legend()\n",
        "\n",
        "ax[1].plot(test_losses, color='r', label=\"Backprop\", alpha=.7)\n",
        "ax[1].set_xlabel(\"Epochs\")\n",
        "ax[1].set_ylabel(\"Loss\")\n",
        "ax[1].plot(test_losses_fwd, color='b', label='Forward gradient', alpha=.7)\n",
        "ax[1].set_title(\"Validation loss for backprop and forward gradient\")\n",
        "ax[1].legend()"
      ]
    },
    {
      "cell_type": "markdown",
      "metadata": {
        "id": "kSye81ShLb53"
      },
      "source": [
        "# Convolutional Neural Network\n",
        "\n",
        "We then use a CNN. Code can be found in `models.py`."
      ]
    },
    {
      "cell_type": "markdown",
      "metadata": {
        "id": "O_S-PkJALZcx"
      },
      "source": [
        "## SGD"
      ]
    },
    {
      "cell_type": "markdown",
      "metadata": {
        "id": "ZSEsCszoLZdD"
      },
      "source": [
        "### Learning rate optimization\n",
        "\n",
        "The final search for learning rate is in a quite small interval as we earlier tried a wider search, but wanted to reduce the width to find a better optimum."
      ]
    },
    {
      "cell_type": "markdown",
      "metadata": {
        "id": "G6ev3OMeLZdE"
      },
      "source": [
        "Searching for best learning rate and learning rate decay for forward gradient."
      ]
    },
    {
      "cell_type": "code",
      "execution_count": null,
      "metadata": {
        "colab": {
          "base_uri": "https://localhost:8080/"
        },
        "id": "TXvxySDJLZdE",
        "outputId": "6d558c8a-bb6f-4a4c-bf00-0848478773ed"
      },
      "outputs": [
        {
          "name": "stdout",
          "output_type": "stream",
          "text": [
            "Validation loss for lr = 0.000010, decay = 0.000010: 2.303\n",
            "Validation loss for lr = 0.000010, decay = 0.000001: 2.302\n",
            "Validation loss for lr = 0.000025, decay = 0.000010: 2.302\n",
            "Validation loss for lr = 0.000025, decay = 0.000001: 2.304\n",
            "Validation loss for lr = 0.000063, decay = 0.000010: 2.301\n",
            "Validation loss for lr = 0.000063, decay = 0.000001: 2.302\n",
            "Validation loss for lr = 0.000158, decay = 0.000010: 2.301\n",
            "Validation loss for lr = 0.000158, decay = 0.000001: 2.299\n",
            "Validation loss for lr = 0.000398, decay = 0.000010: 2.275\n",
            "Validation loss for lr = 0.000398, decay = 0.000001: 2.284\n",
            "Validation loss for lr = 0.001000, decay = 0.000010: 14.432\n",
            "Validation loss for lr = 0.001000, decay = 0.000001: 14.368\n"
          ]
        }
      ],
      "source": [
        "torch.manual_seed(42) # setting seed for reproducibility\n",
        "\n",
        "# learning rate and decays grid search for forward gradient\n",
        "learning_rates = np.logspace(-5, -3, 6)\n",
        "decays = [1e-5, 1e-6]\n",
        "\n",
        "epochs = 10\n",
        "\n",
        "for gamma in learning_rates:\n",
        "  for lambda_ in decays:\n",
        "    net = ConvNet().to(device) # defining net\n",
        "\n",
        "    # making the net functional to run the code in functorch\n",
        "    # for evaluating the Jacobian-vector product\n",
        "    func, params = ft.make_functional(net)\n",
        "\n",
        "    # removing requires gradient as it will not be used\n",
        "    # for the forward AD\n",
        "    for param in params:\n",
        "        param.requires_grad_(False)\n",
        "\n",
        "    # defining our optimizer\n",
        "    opt = ForwardSGD(func, functional_xent, params, lr=gamma, momentum = False, decay=lambda_)\n",
        "\n",
        "    # training\n",
        "    for e in range(epochs):\n",
        "      for i, (image, label) in enumerate(train_data_loader):\n",
        "        image, label = image.to(device), label.to(device)\n",
        "        params, loss, jvp = opt.step(image, label) # one optimization step\n",
        "\n",
        "    # evaluating on the val set\n",
        "    test_losses = []\n",
        "    for i, (image, label) in enumerate(val_data_loader):\n",
        "      batch_loss = []\n",
        "      with torch.no_grad():\n",
        "        image, label = image.to(device), label.to(device)\n",
        "        val_loss = functional_xent(params, func,image, label)\n",
        "        batch_loss.append(val_loss.item())\n",
        "      test_losses.append(np.mean(batch_loss))\n",
        "    print(f\"Validation loss for lr = {format(gamma,'.6f')}, decay = {format(lambda_,'.6f')}: {format(np.mean(test_losses),'.3f')}\")"
      ]
    },
    {
      "cell_type": "markdown",
      "metadata": {
        "id": "sUUbHs1eLZdF"
      },
      "source": [
        "Searching for best learning rate and learning rate decay for backpropagation."
      ]
    },
    {
      "cell_type": "code",
      "execution_count": null,
      "metadata": {
        "colab": {
          "base_uri": "https://localhost:8080/"
        },
        "id": "odUiL5vGLZdF",
        "outputId": "839d3c49-67db-41c1-de50-bb5eb4cfdb73"
      },
      "outputs": [
        {
          "name": "stdout",
          "output_type": "stream",
          "text": [
            "Validation loss for lr = 0.001000, decay = 0.000000: 0.447\n",
            "Validation loss for lr = 0.002512, decay = 0.000000: 0.199\n",
            "Validation loss for lr = 0.006310, decay = 0.000000: 0.060\n",
            "Validation loss for lr = 0.015849, decay = 0.000000: 0.049\n",
            "Validation loss for lr = 0.039811, decay = 0.000000: 0.091\n",
            "Validation loss for lr = 0.100000, decay = 0.000000: 0.041\n"
          ]
        }
      ],
      "source": [
        "torch.manual_seed(42) # setting seed for reporducibility\n",
        "\n",
        "# defining learning rates and decays for grid search\n",
        "learning_rates = np.logspace(-3, -1, 6)\n",
        "decays = [0]\n",
        "\n",
        "criterion = nn.CrossEntropyLoss() # loss function\n",
        "for gamma in learning_rates:\n",
        "  for lambda_ in decays:\n",
        "    lr_new = gamma\n",
        "    net = ConvNet().to(device) # defining net\n",
        "\n",
        "    # storing losses\n",
        "    losses = []\n",
        "    steps = 0\n",
        "    for epoch in range(epochs):\n",
        "      # going over training set in batches\n",
        "      for i, (image, label) in enumerate(train_data_loader):\n",
        "        steps += 1\n",
        "        backprop = torch.optim.SGD(net.parameters(), lr=lr_new) # backprop SGD\n",
        "        image, label = image.to(device), label.to(device)\n",
        "\n",
        "        # optimizing\n",
        "        backprop.zero_grad()\n",
        "        outputs = net(image)\n",
        "        loss = criterion(outputs, label)\n",
        "        loss.backward()\n",
        "        backprop.step()\n",
        "        losses.append(loss.item())\n",
        "\n",
        "        # learning rate decay\n",
        "        lr_new = gamma * np.exp(-steps*lambda_)\n",
        "\n",
        "    # evaluating on the val set\n",
        "    test_losses = []\n",
        "    for i, (image, label) in enumerate(val_data_loader):\n",
        "      batch_loss = []\n",
        "      with torch.no_grad():\n",
        "        image, label = image.to(device), label.to(device)\n",
        "        val_loss = criterion(net(image), label)\n",
        "        batch_loss.append(val_loss.item())\n",
        "      test_losses.append(np.mean(batch_loss))\n",
        "    print(f\"Validation loss for lr = {format(gamma,'.6f')}, decay = {format(lambda_,'.6f')}: {format(np.mean(test_losses),'.3f')}\")"
      ]
    },
    {
      "cell_type": "markdown",
      "metadata": {
        "id": "IT5eD2MZLZdG"
      },
      "source": [
        "### Modeling"
      ]
    },
    {
      "cell_type": "markdown",
      "metadata": {
        "id": "-wwRWd0yLZdG"
      },
      "source": [
        "We first run forward gradient for the optimal hyperparameters."
      ]
    },
    {
      "cell_type": "code",
      "execution_count": null,
      "metadata": {
        "colab": {
          "base_uri": "https://localhost:8080/"
        },
        "id": "Gz0-4gC_LZdI",
        "outputId": "3a8b99dc-6fac-4fc6-eafd-899b62a09ba4"
      },
      "outputs": [
        {
          "name": "stdout",
          "output_type": "stream",
          "text": [
            "Test loss in epoch 1: 2.296\n",
            "Test loss in epoch 2: 2.298\n",
            "Test loss in epoch 3: 2.298\n",
            "Test loss in epoch 4: 2.298\n",
            "Test loss in epoch 5: 2.299\n",
            "Test loss in epoch 6: 2.296\n",
            "Test loss in epoch 7: 2.294\n",
            "Test loss in epoch 8: 2.290\n",
            "Test loss in epoch 9: 2.297\n",
            "Test loss in epoch 10: 2.299\n",
            "Test loss in epoch 11: 2.291\n",
            "Test loss in epoch 12: 2.289\n",
            "Test loss in epoch 13: 2.273\n",
            "Test loss in epoch 14: 2.262\n",
            "Test loss in epoch 15: 2.251\n",
            "Test loss in epoch 16: 2.196\n",
            "Test loss in epoch 17: 2.184\n",
            "Test loss in epoch 18: 2.132\n",
            "Test loss in epoch 19: 2.043\n",
            "Test loss in epoch 20: 1.838\n",
            "Test loss in epoch 21: 1.700\n",
            "Test loss in epoch 22: 1.619\n",
            "Test loss in epoch 23: 1.237\n",
            "Test loss in epoch 24: 1.109\n",
            "Test loss in epoch 25: 1.153\n",
            "Test loss in epoch 26: 0.922\n",
            "Test loss in epoch 27: 0.729\n",
            "Test loss in epoch 28: 0.846\n",
            "Test loss in epoch 29: 0.675\n",
            "Test loss in epoch 30: 0.783\n",
            "Test loss in epoch 31: 0.747\n",
            "Test loss in epoch 32: 0.655\n",
            "Test loss in epoch 33: 0.787\n",
            "Test loss in epoch 34: 0.661\n",
            "Test loss in epoch 35: 0.334\n",
            "Test loss in epoch 36: 0.579\n",
            "Test loss in epoch 37: 0.681\n",
            "Test loss in epoch 38: 0.597\n",
            "Test loss in epoch 39: 0.375\n",
            "Test loss in epoch 40: 0.532\n",
            "Test loss in epoch 41: 0.582\n",
            "Test loss in epoch 42: 0.609\n",
            "Test loss in epoch 43: 0.336\n",
            "Test loss in epoch 44: 0.852\n",
            "Test loss in epoch 45: 0.983\n",
            "Test loss in epoch 46: 1.103\n",
            "Test loss in epoch 47: 0.594\n",
            "Test loss in epoch 48: 1.437\n",
            "Test loss in epoch 49: 0.851\n",
            "Test loss in epoch 50: 0.548\n"
          ]
        }
      ],
      "source": [
        "torch.manual_seed(42) # setting seed for reproducibility\n",
        "\n",
        "net = ConvNet().to(device) # defining net\n",
        "\n",
        "# using best lr and decay found in the optimizations below\n",
        "lr = 0.000398\n",
        "decay = 1e-5\n",
        "# making the net functional to run the code in functorch\n",
        "# for evaluating the Jacobian-vector product\n",
        "func, params = ft.make_functional(net)\n",
        "\n",
        "# removing requires gradient as it will not be used\n",
        "# for the forward AD\n",
        "for param in params:\n",
        "    param.requires_grad_(False)\n",
        "\n",
        "# defining our optimizer\n",
        "opt = ForwardSGD(func, functional_xent, params, lr=lr, momentum = False, decay=decay, clip = 1)\n",
        "\n",
        "# training for e epochs\n",
        "losses_fwd = []\n",
        "norms = []\n",
        "epochs = 50\n",
        "test_losses_fwd = []\n",
        "for e in range(epochs):\n",
        "  for j, (image, label) in enumerate(train_data_loader):\n",
        "    image, label = image.to(device), label.to(device)\n",
        "    params, loss, norm = opt.step(image, label)\n",
        "    try:\n",
        "      norms.append(norm.item())\n",
        "    except:\n",
        "      norms.append(norm)\n",
        "    losses_fwd.append(loss.item())\n",
        "\n",
        "  # evaluating on the test set\n",
        "  for i, (image, label) in enumerate(test_data_loader):\n",
        "    with torch.no_grad():\n",
        "      batch_loss = []\n",
        "      image, label = image.to(device), label.to(device)\n",
        "      test_loss = functional_xent(params, func, image, label)\n",
        "      batch_loss.append(test_loss.item())\n",
        "  test_losses_fwd.append(np.mean(batch_loss))\n",
        "  print(f\"Test loss in epoch {e+1}: {format(test_losses_fwd[-1], '.3f')}\")\n"
      ]
    },
    {
      "cell_type": "markdown",
      "metadata": {
        "id": "OCYxr--mLZdJ"
      },
      "source": [
        "Backpropagation:"
      ]
    },
    {
      "cell_type": "code",
      "execution_count": null,
      "metadata": {
        "colab": {
          "base_uri": "https://localhost:8080/"
        },
        "id": "hDgs-JJPLZdJ",
        "outputId": "5c8772f1-8827-4472-f9d7-719db0aa2fd8"
      },
      "outputs": [
        {
          "name": "stdout",
          "output_type": "stream",
          "text": [
            "Test loss in epoch 1: 0.011456367559731007\n",
            "Test loss in epoch 2: 0.000898439553566277\n",
            "Test loss in epoch 3: 0.08411397784948349\n",
            "Test loss in epoch 4: 0.07168854027986526\n",
            "Test loss in epoch 5: 0.0018400436965748668\n",
            "Test loss in epoch 6: 0.00031653069891035557\n",
            "Test loss in epoch 7: 0.0018646365497261286\n",
            "Test loss in epoch 8: 3.0781575333094224e-05\n",
            "Test loss in epoch 9: 0.0026352398563176394\n",
            "Test loss in epoch 10: 1.7440714145777747e-05\n",
            "Test loss in epoch 11: 0.057991791516542435\n",
            "Test loss in epoch 12: 1.3655467228090856e-05\n",
            "Test loss in epoch 13: 1.4901159417490817e-08\n",
            "Test loss in epoch 14: 9.102375770453364e-05\n",
            "Test loss in epoch 15: 9.39462915994227e-06\n",
            "Test loss in epoch 16: 3.9487952108174795e-07\n",
            "Test loss in epoch 17: 4.650418122764677e-05\n",
            "Test loss in epoch 18: 0.00023462824174202979\n",
            "Test loss in epoch 19: 0.009191622026264668\n",
            "Test loss in epoch 20: 9.23866139146412e-07\n",
            "Test loss in epoch 21: 6.857820699224249e-05\n",
            "Test loss in epoch 22: 2.7864550702361157e-06\n",
            "Test loss in epoch 23: 0.023174162954092026\n",
            "Test loss in epoch 24: 1.713631121447179e-07\n",
            "Test loss in epoch 25: 7.346020720433444e-05\n",
            "Test loss in epoch 26: 1.2069825743310503e-06\n",
            "Test loss in epoch 27: 1.1383509445295203e-05\n",
            "Test loss in epoch 28: 1.533887188998051e-05\n",
            "Test loss in epoch 29: 5.9604616353681195e-08\n",
            "Test loss in epoch 30: 0.0\n",
            "Test loss in epoch 31: 4.0380841710430104e-06\n",
            "Test loss in epoch 32: 0.0\n",
            "Test loss in epoch 33: 0.0011697087902575731\n",
            "Test loss in epoch 34: 0.0\n",
            "Test loss in epoch 35: 2.7417536330176517e-06\n",
            "Test loss in epoch 36: 8.605595212429762e-05\n",
            "Test loss in epoch 37: 0.29730451107025146\n",
            "Test loss in epoch 38: 0.0\n",
            "Test loss in epoch 39: 0.0\n",
            "Test loss in epoch 40: 1.586954226695525e-06\n",
            "Test loss in epoch 41: 0.08480363339185715\n",
            "Test loss in epoch 42: 1.1175862368872913e-07\n",
            "Test loss in epoch 43: 7.674050834793888e-07\n",
            "Test loss in epoch 44: 2.2351738238057806e-08\n",
            "Test loss in epoch 45: 7.450580152834618e-09\n",
            "Test loss in epoch 46: 0.0001592396729392931\n",
            "Test loss in epoch 47: 0.0\n",
            "Test loss in epoch 48: 0.0016337363049387932\n",
            "Test loss in epoch 49: 3.024211218871642e-05\n",
            "Test loss in epoch 50: 0.0\n"
          ]
        }
      ],
      "source": [
        "torch.manual_seed(42) # setting seed for reproducibility\n",
        "\n",
        "lr = 0.1\n",
        "decay = 0\n",
        "epochs = 50\n",
        "lr_new = lr\n",
        "criterion = nn.CrossEntropyLoss() # loss function\n",
        "net = ConvNet().to(device) # defining net\n",
        "\n",
        "# storing losses\n",
        "losses = []\n",
        "test_losses = []\n",
        "steps = 0\n",
        "for e in range(epochs):\n",
        "  # going over training set in batches\n",
        "  for i, (image, label) in enumerate(train_data_loader):\n",
        "    steps += 1\n",
        "    backprop = torch.optim.SGD(net.parameters(), lr=lr_new) # normal SGD in torch\n",
        "    image, label = image.to(device), label.to(device)\n",
        "    backprop.zero_grad()\n",
        "    outputs = net(image)\n",
        "    loss = criterion(outputs, label)\n",
        "    loss.backward()\n",
        "    backprop.step()\n",
        "    losses.append(loss.item())\n",
        "    lr_new = lr * np.exp(-steps*decay)\n",
        "  \n",
        "  # testing on test set\n",
        "  for i, (image, label) in enumerate(test_data_loader):\n",
        "    with torch.no_grad():\n",
        "      batch_loss = []\n",
        "      image, label = image.to(device), label.to(device)\n",
        "      test_loss = criterion(net(image), label)\n",
        "      batch_loss.append(test_loss.item())\n",
        "  test_losses.append(np.mean(batch_loss))\n",
        "  print(f\"Test loss in epoch {e+1}: {(test_losses[-1])}\")"
      ]
    },
    {
      "cell_type": "markdown",
      "metadata": {
        "id": "chXujDXQLZdJ"
      },
      "source": [
        "#### Comparing results"
      ]
    },
    {
      "cell_type": "code",
      "execution_count": null,
      "metadata": {
        "colab": {
          "base_uri": "https://localhost:8080/",
          "height": 530
        },
        "id": "njaXMYnwLZdK",
        "outputId": "4207bcdf-fabd-4819-8e78-f337f92c59ea"
      },
      "outputs": [
        {
          "data": {
            "text/plain": [
              "<matplotlib.legend.Legend at 0x7f24e16e7450>"
            ]
          },
          "execution_count": 22,
          "metadata": {},
          "output_type": "execute_result"
        },
        {
          "data": {
            "image/png": "[encoded data removed]",
            "text/plain": [
              "<Figure size 1152x576 with 2 Axes>"
            ]
          },
          "metadata": {
            "needs_background": "light"
          },
          "output_type": "display_data"
        }
      ],
      "source": [
        "fig, ax = plt.subplots(1,2,figsize=(16,8))\n",
        "\n",
        "ax[0].plot(losses, color='r', label=\"Backprop\", alpha=.7)\n",
        "ax[0].set_xlabel(\"Iterations\")\n",
        "ax[0].set_ylabel(\"Loss\")\n",
        "ax[0].plot(losses_fwd[:], color='b', label='Forward gradient', alpha=.7)\n",
        "ax[0].set_title(\"Training loss for backprop and forward gradient\")\n",
        "ax[0].legend()\n",
        "\n",
        "ax[1].plot(test_losses, color='r', label=\"Backprop\", alpha=.7)\n",
        "ax[1].set_xlabel(\"Epochs\")\n",
        "ax[1].set_ylabel(\"Loss\")\n",
        "ax[1].plot(test_losses_fwd, color='b', label='Forward gradient', alpha=.7)\n",
        "ax[1].set_title(\"Validation loss for backprop and forward gradient\")\n",
        "ax[1].legend()"
      ]
    },
    {
      "cell_type": "markdown",
      "metadata": {
        "id": "TkQCPFQ0ZH5Q"
      },
      "source": [
        "## SGD with Nesterov momentum\n",
        "\n",
        "We now incorporate SGD with Nesterov momentum."
      ]
    },
    {
      "cell_type": "markdown",
      "metadata": {
        "id": "M14-FCx3ZH5n"
      },
      "source": [
        "### Learning rate optimization\n",
        "\n",
        "The final search for learning rate is in a quite small interval as we earlier tried a wider search, but wanted to reduce the width to find a better optimum."
      ]
    },
    {
      "cell_type": "markdown",
      "metadata": {
        "id": "CHIK0xnEZH5o"
      },
      "source": [
        "Searching for best learning rate and momentum for forward gradient."
      ]
    },
    {
      "cell_type": "code",
      "execution_count": 10,
      "metadata": {
        "colab": {
          "base_uri": "https://localhost:8080/"
        },
        "id": "NkHhxVVpZH5o",
        "outputId": "493588bc-7c1b-4e86-ecf9-e14203ebb923"
      },
      "outputs": [
        {
          "name": "stdout",
          "output_type": "stream",
          "text": [
            "Validation loss for lr = 0.000010, Momentum = 0.300000: 2.303\n",
            "Validation loss for lr = 0.000010, Momentum = 0.600000: 2.303\n",
            "Validation loss for lr = 0.000010, Momentum = 0.900000: 2.302\n",
            "Validation loss for lr = 0.000100, Momentum = 0.300000: 2.300\n",
            "Validation loss for lr = 0.000100, Momentum = 0.600000: 2.297\n",
            "Validation loss for lr = 0.000100, Momentum = 0.900000: 0.914\n",
            "Validation loss for lr = 0.001000, Momentum = 0.300000: 0.647\n",
            "Validation loss for lr = 0.001000, Momentum = 0.600000: 4.427\n",
            "Validation loss for lr = 0.001000, Momentum = 0.900000: 12.893\n"
          ]
        }
      ],
      "source": [
        "torch.manual_seed(42) # setting seed for reproducibility\n",
        "\n",
        "# learning rate and momentum grid search for forward gradient\n",
        "learning_rates = np.logspace(-5, -3, 3)\n",
        "momentums = np.linspace(0.3, 0.9, 3)\n",
        "\n",
        "epochs = 20\n",
        "\n",
        "for gamma in learning_rates:\n",
        "  for momentum in momentums:\n",
        "    net = ConvNet().to(device) # defining net\n",
        "\n",
        "    # making the net functional to run the code in functorch\n",
        "    # for evaluating the Jacobian-vector product\n",
        "    func, params = ft.make_functional(net)\n",
        "\n",
        "    # removing requires gradient as it will not be used\n",
        "    # for the forward AD\n",
        "    for param in params:\n",
        "        param.requires_grad_(False)\n",
        "\n",
        "    # defining our optimizer\n",
        "    opt = ForwardSGD(func, functional_xent, params, lr=gamma,\n",
        "                     momentum = momentum, nesterov = True, decay=1e-4, clip=1)\n",
        "\n",
        "    # training\n",
        "    for e in range(epochs):\n",
        "      for i, (image, label) in enumerate(train_data_loader):\n",
        "        image, label = image.to(device), label.to(device)\n",
        "        params, loss, jvp = opt.step(image, label) # one optimization step\n",
        "\n",
        "    # evaluating on the val set\n",
        "    test_losses = []\n",
        "    for i, (image, label) in enumerate(val_data_loader):\n",
        "      batch_loss = []\n",
        "      with torch.no_grad():\n",
        "        image, label = image.to(device), label.to(device)\n",
        "        val_loss = functional_xent(params, func,image, label)\n",
        "        batch_loss.append(val_loss.item())\n",
        "      test_losses.append(np.mean(batch_loss))\n",
        "    print(f\"Validation loss for lr = {format(gamma,'.6f')}, Momentum = {format(momentum,'.6f')}: {format(np.mean(test_losses),'.3f')}\")"
      ]
    },
    {
      "cell_type": "markdown",
      "metadata": {
        "id": "VYnzGdWMZH5p"
      },
      "source": [
        "Searching for best learning rate and momentum for backpropagation."
      ]
    },
    {
      "cell_type": "code",
      "execution_count": null,
      "metadata": {
        "colab": {
          "base_uri": "https://localhost:8080/"
        },
        "id": "SkQgBqzVZH5q",
        "outputId": "8d0c4c87-fb31-42ac-d133-05e3b49fd10f"
      },
      "outputs": [
        {
          "name": "stdout",
          "output_type": "stream",
          "text": [
            "Validation loss for lr = 0.010000, Momentum = 0.700000: 0.065\n",
            "Validation loss for lr = 0.010000, Momentum = 0.783333: 0.038\n",
            "Validation loss for lr = 0.010000, Momentum = 0.866667: 0.039\n",
            "Validation loss for lr = 0.010000, Momentum = 0.950000: 0.067\n",
            "Validation loss for lr = 0.031623, Momentum = 0.700000: 0.047\n",
            "Validation loss for lr = 0.031623, Momentum = 0.783333: 0.044\n",
            "Validation loss for lr = 0.031623, Momentum = 0.866667: 0.040\n",
            "Validation loss for lr = 0.031623, Momentum = 0.950000: 0.067\n",
            "Validation loss for lr = 0.100000, Momentum = 0.700000: 0.039\n",
            "Validation loss for lr = 0.100000, Momentum = 0.783333: 0.033\n",
            "Validation loss for lr = 0.100000, Momentum = 0.866667: 2.305\n",
            "Validation loss for lr = 0.100000, Momentum = 0.950000: 2.309\n"
          ]
        }
      ],
      "source": [
        "torch.manual_seed(42) # setting seed for reporducibility\n",
        "\n",
        "# defining learning rates and decays for grid search\n",
        "learning_rates = np.logspace(-2, -1, 3)\n",
        "momentums = np.linspace(0.7, 0.95, 4)\n",
        "\n",
        "criterion = nn.CrossEntropyLoss() # loss function\n",
        "for gamma in learning_rates:\n",
        "  for momentum in momentums:\n",
        "    net = ConvNet().to(device) # defining net\n",
        "    backprop = torch.optim.SGD(net.parameters(), lr=gamma,\n",
        "                                   momentum = momentum, nesterov = True) # backprop SGD\n",
        "    # storing losses\n",
        "    losses = []\n",
        "    for epoch in range(epochs):\n",
        "      # going over training set in batches\n",
        "      for i, (image, label) in enumerate(train_data_loader):\n",
        "        image, label = image.to(device), label.to(device)\n",
        "\n",
        "        # optimizing\n",
        "        backprop.zero_grad()\n",
        "        outputs = net(image)\n",
        "        loss = criterion(outputs, label)\n",
        "        loss.backward()\n",
        "        backprop.step()\n",
        "        losses.append(loss.item())\n",
        "\n",
        "    # evaluating on the val set\n",
        "    test_losses = []\n",
        "    for i, (image, label) in enumerate(val_data_loader):\n",
        "      batch_loss = []\n",
        "      with torch.no_grad():\n",
        "        image, label = image.to(device), label.to(device)\n",
        "        val_loss = criterion(net(image), label)\n",
        "        batch_loss.append(val_loss.item())\n",
        "      test_losses.append(np.mean(batch_loss))\n",
        "    print(f\"Validation loss for lr = {format(gamma,'.6f')}, Momentum = {format(momentum,'.6f')}: {format(np.mean(test_losses),'.3f')}\")"
      ]
    },
    {
      "cell_type": "markdown",
      "metadata": {
        "id": "KsHp6O-1ZH5r"
      },
      "source": [
        "### Modeling"
      ]
    },
    {
      "cell_type": "markdown",
      "metadata": {
        "id": "USJNbhMLZH5r"
      },
      "source": [
        "We first run forward gradient for the optimal hyperparameters."
      ]
    },
    {
      "cell_type": "code",
      "execution_count": 14,
      "metadata": {
        "colab": {
          "base_uri": "https://localhost:8080/"
        },
        "id": "-UFGnwtMZH5r",
        "outputId": "1f857793-db8c-4194-f875-174319e4d30f"
      },
      "outputs": [
        {
          "name": "stdout",
          "output_type": "stream",
          "text": [
            "Test loss in epoch 1: 2.293980121612549\n",
            "Test loss in epoch 2: 2.2952094078063965\n",
            "Test loss in epoch 3: 2.304154396057129\n",
            "Test loss in epoch 4: 2.290764093399048\n",
            "Test loss in epoch 5: 2.2867608070373535\n",
            "Test loss in epoch 6: 2.2619686126708984\n",
            "Test loss in epoch 7: 2.2372543811798096\n",
            "Test loss in epoch 8: 2.2206125259399414\n",
            "Test loss in epoch 9: 2.1331124305725098\n",
            "Test loss in epoch 10: 1.9237395524978638\n",
            "Test loss in epoch 11: 1.7503767013549805\n",
            "Test loss in epoch 12: 1.434783697128296\n",
            "Test loss in epoch 13: 1.151145339012146\n",
            "Test loss in epoch 14: 1.1734180450439453\n",
            "Test loss in epoch 15: 0.9243830442428589\n",
            "Test loss in epoch 16: 0.4465095102787018\n",
            "Test loss in epoch 17: 0.9454644918441772\n",
            "Test loss in epoch 18: 0.8502824306488037\n",
            "Test loss in epoch 19: 0.7681668400764465\n",
            "Test loss in epoch 20: 0.4545000195503235\n",
            "Test loss in epoch 21: 0.6109587550163269\n",
            "Test loss in epoch 22: 1.0090630054473877\n",
            "Test loss in epoch 23: 0.5103486180305481\n",
            "Test loss in epoch 24: 0.3720456659793854\n",
            "Test loss in epoch 25: 0.5368702411651611\n",
            "Test loss in epoch 26: 0.6598037481307983\n",
            "Test loss in epoch 27: 0.3861733675003052\n",
            "Test loss in epoch 28: 0.6498630046844482\n",
            "Test loss in epoch 29: 0.3906327486038208\n",
            "Test loss in epoch 30: 0.5908405780792236\n",
            "Test loss in epoch 31: 0.42512843012809753\n",
            "Test loss in epoch 32: 0.6575015783309937\n",
            "Test loss in epoch 33: 0.5765669941902161\n",
            "Test loss in epoch 34: 0.47130540013313293\n",
            "Test loss in epoch 35: 0.30510836839675903\n",
            "Test loss in epoch 36: 0.420329749584198\n",
            "Test loss in epoch 37: 0.3969268798828125\n",
            "Test loss in epoch 38: 0.66153484582901\n",
            "Test loss in epoch 39: 0.34110862016677856\n",
            "Test loss in epoch 40: 0.4980435371398926\n",
            "Test loss in epoch 41: 0.36156269907951355\n",
            "Test loss in epoch 42: 0.5822352170944214\n",
            "Test loss in epoch 43: 0.29176539182662964\n",
            "Test loss in epoch 44: 0.5730734467506409\n",
            "Test loss in epoch 45: 0.798991858959198\n",
            "Test loss in epoch 46: 0.9014820456504822\n",
            "Test loss in epoch 47: 0.25695645809173584\n",
            "Test loss in epoch 48: 1.0188324451446533\n",
            "Test loss in epoch 49: 0.7156280279159546\n",
            "Test loss in epoch 50: 0.5590976476669312\n"
          ]
        }
      ],
      "source": [
        "# for reproducible purposes\n",
        "torch.manual_seed(42)\n",
        "\n",
        "net = ConvNet().to(device) # defining net\n",
        "\n",
        "# using best lr and decay found in the optimizations below\n",
        "# the one giving best value was found to be unstable\n",
        "# so we chose the best with 1e-4 in learning rate\n",
        "lr = 0.000100\n",
        "momentum = 0.900\n",
        "# making the net functional to run the code in functorch\n",
        "# for evaluating the Jacobian-vector product\n",
        "func, params = ft.make_functional(net)\n",
        "\n",
        "# removing requires gradient as it will not be used\n",
        "# for the forward AD\n",
        "for param in params:\n",
        "    param.requires_grad_(False)\n",
        "\n",
        "# defining our optimizer\n",
        "opt = ForwardSGD(func, functional_xent, params, lr=lr, momentum = momentum, decay=1e-4, nesterov = True, clip = 1)\n",
        "\n",
        "# running the code for e epochs\n",
        "losses_fwd = []\n",
        "epochs = 50\n",
        "test_losses_fwd = []\n",
        "for e in range(epochs):\n",
        "  # training\n",
        "  for j, (image, label) in enumerate(train_data_loader):\n",
        "    image, label = image.to(device), label.to(device)\n",
        "    params, loss, jvp = opt.step(image, label)\n",
        "    losses_fwd.append(loss.item())\n",
        "  # evaluating on the test set\n",
        "  for i, (image, label) in enumerate(test_data_loader):\n",
        "    with torch.no_grad():\n",
        "      batch_loss = []\n",
        "      image, label = image.to(device), label.to(device)\n",
        "      test_loss = functional_xent(params, func, image, label)\n",
        "      batch_loss.append(test_loss.item())\n",
        "  test_losses_fwd.append(np.mean(batch_loss))\n",
        "  print(f\"Test loss in epoch {e+1}: {(test_losses_fwd[-1])}\")\n"
      ]
    },
    {
      "cell_type": "markdown",
      "metadata": {
        "id": "L7be6NA4ZH5s"
      },
      "source": [
        "Backpropagation:"
      ]
    },
    {
      "cell_type": "code",
      "execution_count": 11,
      "metadata": {
        "colab": {
          "base_uri": "https://localhost:8080/"
        },
        "id": "ahBD1Zo7ZH5s",
        "outputId": "e91ce47d-c022-4d1a-f929-ffc9d425e99c"
      },
      "outputs": [
        {
          "name": "stdout",
          "output_type": "stream",
          "text": [
            "Test loss in epoch 1: 0.013984394259750843\n",
            "Test loss in epoch 2: 0.002277267863973975\n",
            "Test loss in epoch 3: 0.009719198569655418\n",
            "Test loss in epoch 4: 0.0057722171768546104\n",
            "Test loss in epoch 5: 0.010010404512286186\n",
            "Test loss in epoch 6: 0.00035383200156502426\n",
            "Test loss in epoch 7: 0.02034526690840721\n",
            "Test loss in epoch 8: 0.001686809933744371\n",
            "Test loss in epoch 9: 0.001692623132839799\n",
            "Test loss in epoch 10: 0.0010761108715087175\n",
            "Test loss in epoch 11: 0.024556422606110573\n",
            "Test loss in epoch 12: 4.917242222290952e-06\n",
            "Test loss in epoch 13: 7.525058549617825e-07\n",
            "Test loss in epoch 14: 0.0002828693832270801\n",
            "Test loss in epoch 15: 0.00028416060376912355\n",
            "Test loss in epoch 16: 2.0935788143106038e-06\n",
            "Test loss in epoch 17: 0.00012849144695792347\n",
            "Test loss in epoch 18: 5.3412120905704796e-05\n",
            "Test loss in epoch 19: 0.22871695458889008\n",
            "Test loss in epoch 20: 7.078015755723754e-07\n",
            "Test loss in epoch 21: 9.074167792277876e-06\n",
            "Test loss in epoch 22: 6.474384008470224e-06\n",
            "Test loss in epoch 23: 0.0004012884746771306\n",
            "Test loss in epoch 24: 8.866155667419662e-07\n",
            "Test loss in epoch 25: 1.2113874618080445e-05\n",
            "Test loss in epoch 26: 0.00013909654808230698\n",
            "Test loss in epoch 27: 1.4891958926455118e-05\n",
            "Test loss in epoch 28: 1.1175860947787442e-07\n",
            "Test loss in epoch 29: 2.2351711947976582e-07\n",
            "Test loss in epoch 30: 0.0\n",
            "Test loss in epoch 31: 0.0002931919298134744\n",
            "Test loss in epoch 32: 2.9802318834981634e-08\n",
            "Test loss in epoch 33: 0.03260640799999237\n",
            "Test loss in epoch 34: 5.960463411724959e-08\n",
            "Test loss in epoch 35: 8.419099231105065e-07\n",
            "Test loss in epoch 36: 0.02078208699822426\n",
            "Test loss in epoch 37: 0.019920412451028824\n",
            "Test loss in epoch 38: 1.2069873491782346e-06\n",
            "Test loss in epoch 39: 0.0\n",
            "Test loss in epoch 40: 6.600868800887838e-06\n",
            "Test loss in epoch 41: 0.018740864470601082\n",
            "Test loss in epoch 42: 0.0\n",
            "Test loss in epoch 43: 1.0281721642968478e-06\n",
            "Test loss in epoch 44: 0.0\n",
            "Test loss in epoch 45: 0.0005549146444536746\n",
            "Test loss in epoch 46: 0.0001873102446552366\n",
            "Test loss in epoch 47: 6.332961675070692e-07\n",
            "Test loss in epoch 48: 0.006938359700143337\n",
            "Test loss in epoch 49: 3.1739025416754885e-06\n",
            "Test loss in epoch 50: 0.0\n"
          ]
        }
      ],
      "source": [
        "torch.manual_seed(42) # setting seed for reproducibility\n",
        "\n",
        "lr = 0.010000\n",
        "momentum = 0.783\n",
        "epochs = 50\n",
        "lr_new = lr\n",
        "criterion = nn.CrossEntropyLoss() # loss function\n",
        "net = ConvNet().to(device) # defining net\n",
        "backprop = torch.optim.SGD(net.parameters(), lr=lr_new,\n",
        "                               momentum = momentum, nesterov = True) # normal SGD in torch\n",
        "\n",
        "# storing losses\n",
        "losses = []\n",
        "test_losses = []\n",
        "for e in range(epochs):\n",
        "  # going over training set in batches\n",
        "  for i, (image, label) in enumerate(train_data_loader):\n",
        "    image, label = image.to(device), label.to(device)\n",
        "    backprop.zero_grad()\n",
        "    outputs = net(image)\n",
        "    loss = criterion(outputs, label)\n",
        "    loss.backward()\n",
        "    backprop.step()\n",
        "    losses.append(loss.item())\n",
        "  \n",
        "  # testing on test set\n",
        "  for i, (image, label) in enumerate(test_data_loader):\n",
        "    with torch.no_grad():\n",
        "      batch_loss = []\n",
        "      image, label = image.to(device), label.to(device)\n",
        "      test_loss = criterion(net(image), label)\n",
        "      batch_loss.append(test_loss.item())\n",
        "  test_losses.append(np.mean(batch_loss))\n",
        "  print(f\"Test loss in epoch {e+1}: {(test_losses[-1])}\")"
      ]
    },
    {
      "cell_type": "markdown",
      "metadata": {
        "id": "7M0UhU8RZH5s"
      },
      "source": [
        "#### Comparing results"
      ]
    },
    {
      "cell_type": "code",
      "execution_count": 15,
      "metadata": {
        "colab": {
          "base_uri": "https://localhost:8080/",
          "height": 530
        },
        "id": "p3Kfs77DZH5t",
        "outputId": "8c1d337b-f3b7-49b2-9a14-320223498eea"
      },
      "outputs": [
        {
          "data": {
            "text/plain": [
              "<matplotlib.legend.Legend at 0x7f9bcabe1110>"
            ]
          },
          "execution_count": 15,
          "metadata": {},
          "output_type": "execute_result"
        },
        {
          "data": {
            "image/png": "[encoded data removed]",
            "text/plain": [
              "<Figure size 1152x576 with 2 Axes>"
            ]
          },
          "metadata": {
            "needs_background": "light"
          },
          "output_type": "display_data"
        }
      ],
      "source": [
        "fig, ax = plt.subplots(1,2,figsize=(16,8))\n",
        "\n",
        "ax[0].plot(losses, color='r', label=\"Backprop\", alpha=.7)\n",
        "ax[0].set_xlabel(\"Iterations\")\n",
        "ax[0].set_ylabel(\"Loss\")\n",
        "ax[0].plot(losses_fwd[:], color='b', label='Forward gradient', alpha=.7)\n",
        "ax[0].set_title(\"Training loss for backprop and forward gradient\")\n",
        "ax[0].legend()\n",
        "\n",
        "ax[1].plot(test_losses, color='r', label=\"Backprop\", alpha=.7)\n",
        "ax[1].set_xlabel(\"Epochs\")\n",
        "ax[1].set_ylabel(\"Loss\")\n",
        "ax[1].plot(test_losses_fwd, color='b', label='Forward gradient', alpha=.7)\n",
        "ax[1].set_title(\"Validation loss for backprop and forward gradient\")\n",
        "ax[1].legend()"
      ]
    },
    {
      "cell_type": "code",
      "execution_count": null,
      "metadata": {
        "id": "mx3n4GqKwlPz"
      },
      "outputs": [],
      "source": []
    }
  ],
  "metadata": {
    "accelerator": "GPU",
    "colab": {
      "collapsed_sections": [
        "Vvt5q3XaqbUc",
        "_qH5VOIWwAQG",
        "ixUBfiPVvy3v",
        "O_S-PkJALZcx",
        "ZSEsCszoLZdD",
        "IT5eD2MZLZdG"
      ],
      "name": "MNIST.ipynb",
      "provenance": []
    },
    "kernelspec": {
      "display_name": "Python 3",
      "name": "python3"
    },
    "language_info": {
      "name": "python"
    },
    "widgets": {
      "application/vnd.jupyter.widget-state+json": {
        "00d7f3bba1f04cc6ab57a395e9cea9bc": {
          "model_module": "@jupyter-widgets/controls",
          "model_module_version": "1.5.0",
          "model_name": "HTMLModel",
          "state": {
            "_dom_classes": [],
            "_model_module": "@jupyter-widgets/controls",
            "_model_module_version": "1.5.0",
            "_model_name": "HTMLModel",
            "_view_count": null,
            "_view_module": "@jupyter-widgets/controls",
            "_view_module_version": "1.5.0",
            "_view_name": "HTMLView",
            "description": "",
            "description_tooltip": null,
            "layout": "IPY_MODEL_d07a3d9688cf41719b012b6b940d9e54",
            "placeholder": "​",
            "style": "IPY_MODEL_fd665a19029d450abf229cccd48014df",
            "value": " 5120/? [00:00&lt;00:00, 145742.30it/s]"
          }
        },
        "0228aee4912e4664ad724db89110851a": {
          "model_module": "@jupyter-widgets/base",
          "model_module_version": "1.2.0",
          "model_name": "LayoutModel",
          "state": {
            "_model_module": "@jupyter-widgets/base",
            "_model_module_version": "1.2.0",
            "_model_name": "LayoutModel",
            "_view_count": null,
            "_view_module": "@jupyter-widgets/base",
            "_view_module_version": "1.2.0",
            "_view_name": "LayoutView",
            "align_content": null,
            "align_items": null,
            "align_self": null,
            "border": null,
            "bottom": null,
            "display": null,
            "flex": null,
            "flex_flow": null,
            "grid_area": null,
            "grid_auto_columns": null,
            "grid_auto_flow": null,
            "grid_auto_rows": null,
            "grid_column": null,
            "grid_gap": null,
            "grid_row": null,
            "grid_template_areas": null,
            "grid_template_columns": null,
            "grid_template_rows": null,
            "height": null,
            "justify_content": null,
            "justify_items": null,
            "left": null,
            "margin": null,
            "max_height": null,
            "max_width": null,
            "min_height": null,
            "min_width": null,
            "object_fit": null,
            "object_position": null,
            "order": null,
            "overflow": null,
            "overflow_x": null,
            "overflow_y": null,
            "padding": null,
            "right": null,
            "top": null,
            "visibility": null,
            "width": null
          }
        },
        "053749491af44f50af75d47624f9521c": {
          "model_module": "@jupyter-widgets/controls",
          "model_module_version": "1.5.0",
          "model_name": "ProgressStyleModel",
          "state": {
            "_model_module": "@jupyter-widgets/controls",
            "_model_module_version": "1.5.0",
            "_model_name": "ProgressStyleModel",
            "_view_count": null,
            "_view_module": "@jupyter-widgets/base",
            "_view_module_version": "1.2.0",
            "_view_name": "StyleView",
            "bar_color": null,
            "description_width": ""
          }
        },
        "066462e0701c49b1839b28480761ce66": {
          "model_module": "@jupyter-widgets/base",
          "model_module_version": "1.2.0",
          "model_name": "LayoutModel",
          "state": {
            "_model_module": "@jupyter-widgets/base",
            "_model_module_version": "1.2.0",
            "_model_name": "LayoutModel",
            "_view_count": null,
            "_view_module": "@jupyter-widgets/base",
            "_view_module_version": "1.2.0",
            "_view_name": "LayoutView",
            "align_content": null,
            "align_items": null,
            "align_self": null,
            "border": null,
            "bottom": null,
            "display": null,
            "flex": null,
            "flex_flow": null,
            "grid_area": null,
            "grid_auto_columns": null,
            "grid_auto_flow": null,
            "grid_auto_rows": null,
            "grid_column": null,
            "grid_gap": null,
            "grid_row": null,
            "grid_template_areas": null,
            "grid_template_columns": null,
            "grid_template_rows": null,
            "height": null,
            "justify_content": null,
            "justify_items": null,
            "left": null,
            "margin": null,
            "max_height": null,
            "max_width": null,
            "min_height": null,
            "min_width": null,
            "object_fit": null,
            "object_position": null,
            "order": null,
            "overflow": null,
            "overflow_x": null,
            "overflow_y": null,
            "padding": null,
            "right": null,
            "top": null,
            "visibility": null,
            "width": null
          }
        },
        "06926aa1fbe2426e8e5ecc1233e1b37e": {
          "model_module": "@jupyter-widgets/controls",
          "model_module_version": "1.5.0",
          "model_name": "FloatProgressModel",
          "state": {
            "_dom_classes": [],
            "_model_module": "@jupyter-widgets/controls",
            "_model_module_version": "1.5.0",
            "_model_name": "FloatProgressModel",
            "_view_count": null,
            "_view_module": "@jupyter-widgets/controls",
            "_view_module_version": "1.5.0",
            "_view_name": "ProgressView",
            "bar_style": "success",
            "description": "",
            "description_tooltip": null,
            "layout": "IPY_MODEL_5d53ecb326e64fff9e7ef5878098d6c1",
            "max": 28881,
            "min": 0,
            "orientation": "horizontal",
            "style": "IPY_MODEL_053749491af44f50af75d47624f9521c",
            "value": 28881
          }
        },
        "0923a53cf70744fcae49da13e6733ea3": {
          "model_module": "@jupyter-widgets/controls",
          "model_module_version": "1.5.0",
          "model_name": "DescriptionStyleModel",
          "state": {
            "_model_module": "@jupyter-widgets/controls",
            "_model_module_version": "1.5.0",
            "_model_name": "DescriptionStyleModel",
            "_view_count": null,
            "_view_module": "@jupyter-widgets/base",
            "_view_module_version": "1.2.0",
            "_view_name": "StyleView",
            "description_width": ""
          }
        },
        "0df138b2d73d47a0bc8350af73359436": {
          "model_module": "@jupyter-widgets/controls",
          "model_module_version": "1.5.0",
          "model_name": "HTMLModel",
          "state": {
            "_dom_classes": [],
            "_model_module": "@jupyter-widgets/controls",
            "_model_module_version": "1.5.0",
            "_model_name": "HTMLModel",
            "_view_count": null,
            "_view_module": "@jupyter-widgets/controls",
            "_view_module_version": "1.5.0",
            "_view_name": "HTMLView",
            "description": "",
            "description_tooltip": null,
            "layout": "IPY_MODEL_282de52e451b4a53837bdaa098fda8e7",
            "placeholder": "​",
            "style": "IPY_MODEL_17bb4b9be38a4f48aa360116cf569499",
            "value": ""
          }
        },
        "0e32b483bc2b4b8b906fbda899dfc20c": {
          "model_module": "@jupyter-widgets/base",
          "model_module_version": "1.2.0",
          "model_name": "LayoutModel",
          "state": {
            "_model_module": "@jupyter-widgets/base",
            "_model_module_version": "1.2.0",
            "_model_name": "LayoutModel",
            "_view_count": null,
            "_view_module": "@jupyter-widgets/base",
            "_view_module_version": "1.2.0",
            "_view_name": "LayoutView",
            "align_content": null,
            "align_items": null,
            "align_self": null,
            "border": null,
            "bottom": null,
            "display": null,
            "flex": null,
            "flex_flow": null,
            "grid_area": null,
            "grid_auto_columns": null,
            "grid_auto_flow": null,
            "grid_auto_rows": null,
            "grid_column": null,
            "grid_gap": null,
            "grid_row": null,
            "grid_template_areas": null,
            "grid_template_columns": null,
            "grid_template_rows": null,
            "height": null,
            "justify_content": null,
            "justify_items": null,
            "left": null,
            "margin": null,
            "max_height": null,
            "max_width": null,
            "min_height": null,
            "min_width": null,
            "object_fit": null,
            "object_position": null,
            "order": null,
            "overflow": null,
            "overflow_x": null,
            "overflow_y": null,
            "padding": null,
            "right": null,
            "top": null,
            "visibility": null,
            "width": null
          }
        },
        "0f6e0d3105124b36917b6a845d81a0be": {
          "model_module": "@jupyter-widgets/base",
          "model_module_version": "1.2.0",
          "model_name": "LayoutModel",
          "state": {
            "_model_module": "@jupyter-widgets/base",
            "_model_module_version": "1.2.0",
            "_model_name": "LayoutModel",
            "_view_count": null,
            "_view_module": "@jupyter-widgets/base",
            "_view_module_version": "1.2.0",
            "_view_name": "LayoutView",
            "align_content": null,
            "align_items": null,
            "align_self": null,
            "border": null,
            "bottom": null,
            "display": null,
            "flex": null,
            "flex_flow": null,
            "grid_area": null,
            "grid_auto_columns": null,
            "grid_auto_flow": null,
            "grid_auto_rows": null,
            "grid_column": null,
            "grid_gap": null,
            "grid_row": null,
            "grid_template_areas": null,
            "grid_template_columns": null,
            "grid_template_rows": null,
            "height": null,
            "justify_content": null,
            "justify_items": null,
            "left": null,
            "margin": null,
            "max_height": null,
            "max_width": null,
            "min_height": null,
            "min_width": null,
            "object_fit": null,
            "object_position": null,
            "order": null,
            "overflow": null,
            "overflow_x": null,
            "overflow_y": null,
            "padding": null,
            "right": null,
            "top": null,
            "visibility": null,
            "width": null
          }
        },
        "17bb4b9be38a4f48aa360116cf569499": {
          "model_module": "@jupyter-widgets/controls",
          "model_module_version": "1.5.0",
          "model_name": "DescriptionStyleModel",
          "state": {
            "_model_module": "@jupyter-widgets/controls",
            "_model_module_version": "1.5.0",
            "_model_name": "DescriptionStyleModel",
            "_view_count": null,
            "_view_module": "@jupyter-widgets/base",
            "_view_module_version": "1.2.0",
            "_view_name": "StyleView",
            "description_width": ""
          }
        },
        "191540f352cb43edac2824553e00507a": {
          "model_module": "@jupyter-widgets/base",
          "model_module_version": "1.2.0",
          "model_name": "LayoutModel",
          "state": {
            "_model_module": "@jupyter-widgets/base",
            "_model_module_version": "1.2.0",
            "_model_name": "LayoutModel",
            "_view_count": null,
            "_view_module": "@jupyter-widgets/base",
            "_view_module_version": "1.2.0",
            "_view_name": "LayoutView",
            "align_content": null,
            "align_items": null,
            "align_self": null,
            "border": null,
            "bottom": null,
            "display": null,
            "flex": null,
            "flex_flow": null,
            "grid_area": null,
            "grid_auto_columns": null,
            "grid_auto_flow": null,
            "grid_auto_rows": null,
            "grid_column": null,
            "grid_gap": null,
            "grid_row": null,
            "grid_template_areas": null,
            "grid_template_columns": null,
            "grid_template_rows": null,
            "height": null,
            "justify_content": null,
            "justify_items": null,
            "left": null,
            "margin": null,
            "max_height": null,
            "max_width": null,
            "min_height": null,
            "min_width": null,
            "object_fit": null,
            "object_position": null,
            "order": null,
            "overflow": null,
            "overflow_x": null,
            "overflow_y": null,
            "padding": null,
            "right": null,
            "top": null,
            "visibility": null,
            "width": null
          }
        },
        "1afbdef4cebb46da9d4ba8131d49e26e": {
          "model_module": "@jupyter-widgets/controls",
          "model_module_version": "1.5.0",
          "model_name": "FloatProgressModel",
          "state": {
            "_dom_classes": [],
            "_model_module": "@jupyter-widgets/controls",
            "_model_module_version": "1.5.0",
            "_model_name": "FloatProgressModel",
            "_view_count": null,
            "_view_module": "@jupyter-widgets/controls",
            "_view_module_version": "1.5.0",
            "_view_name": "ProgressView",
            "bar_style": "success",
            "description": "",
            "description_tooltip": null,
            "layout": "IPY_MODEL_861b246a55ca49f6a89b20a0814930e0",
            "max": 4542,
            "min": 0,
            "orientation": "horizontal",
            "style": "IPY_MODEL_5d874caf39c4408281dd9c6d251f644b",
            "value": 4542
          }
        },
        "26092981618b4c2ea7bc1c99417eb06d": {
          "model_module": "@jupyter-widgets/base",
          "model_module_version": "1.2.0",
          "model_name": "LayoutModel",
          "state": {
            "_model_module": "@jupyter-widgets/base",
            "_model_module_version": "1.2.0",
            "_model_name": "LayoutModel",
            "_view_count": null,
            "_view_module": "@jupyter-widgets/base",
            "_view_module_version": "1.2.0",
            "_view_name": "LayoutView",
            "align_content": null,
            "align_items": null,
            "align_self": null,
            "border": null,
            "bottom": null,
            "display": null,
            "flex": null,
            "flex_flow": null,
            "grid_area": null,
            "grid_auto_columns": null,
            "grid_auto_flow": null,
            "grid_auto_rows": null,
            "grid_column": null,
            "grid_gap": null,
            "grid_row": null,
            "grid_template_areas": null,
            "grid_template_columns": null,
            "grid_template_rows": null,
            "height": null,
            "justify_content": null,
            "justify_items": null,
            "left": null,
            "margin": null,
            "max_height": null,
            "max_width": null,
            "min_height": null,
            "min_width": null,
            "object_fit": null,
            "object_position": null,
            "order": null,
            "overflow": null,
            "overflow_x": null,
            "overflow_y": null,
            "padding": null,
            "right": null,
            "top": null,
            "visibility": null,
            "width": null
          }
        },
        "282de52e451b4a53837bdaa098fda8e7": {
          "model_module": "@jupyter-widgets/base",
          "model_module_version": "1.2.0",
          "model_name": "LayoutModel",
          "state": {
            "_model_module": "@jupyter-widgets/base",
            "_model_module_version": "1.2.0",
            "_model_name": "LayoutModel",
            "_view_count": null,
            "_view_module": "@jupyter-widgets/base",
            "_view_module_version": "1.2.0",
            "_view_name": "LayoutView",
            "align_content": null,
            "align_items": null,
            "align_self": null,
            "border": null,
            "bottom": null,
            "display": null,
            "flex": null,
            "flex_flow": null,
            "grid_area": null,
            "grid_auto_columns": null,
            "grid_auto_flow": null,
            "grid_auto_rows": null,
            "grid_column": null,
            "grid_gap": null,
            "grid_row": null,
            "grid_template_areas": null,
            "grid_template_columns": null,
            "grid_template_rows": null,
            "height": null,
            "justify_content": null,
            "justify_items": null,
            "left": null,
            "margin": null,
            "max_height": null,
            "max_width": null,
            "min_height": null,
            "min_width": null,
            "object_fit": null,
            "object_position": null,
            "order": null,
            "overflow": null,
            "overflow_x": null,
            "overflow_y": null,
            "padding": null,
            "right": null,
            "top": null,
            "visibility": null,
            "width": null
          }
        },
        "2f7f1706a87b4abdb882ef0dd2e95443": {
          "model_module": "@jupyter-widgets/controls",
          "model_module_version": "1.5.0",
          "model_name": "DescriptionStyleModel",
          "state": {
            "_model_module": "@jupyter-widgets/controls",
            "_model_module_version": "1.5.0",
            "_model_name": "DescriptionStyleModel",
            "_view_count": null,
            "_view_module": "@jupyter-widgets/base",
            "_view_module_version": "1.2.0",
            "_view_name": "StyleView",
            "description_width": ""
          }
        },
        "30768df70889412dbbfe072584abc074": {
          "model_module": "@jupyter-widgets/controls",
          "model_module_version": "1.5.0",
          "model_name": "DescriptionStyleModel",
          "state": {
            "_model_module": "@jupyter-widgets/controls",
            "_model_module_version": "1.5.0",
            "_model_name": "DescriptionStyleModel",
            "_view_count": null,
            "_view_module": "@jupyter-widgets/base",
            "_view_module_version": "1.2.0",
            "_view_name": "StyleView",
            "description_width": ""
          }
        },
        "339f36ad609e4f44b5919facd5e81e45": {
          "model_module": "@jupyter-widgets/controls",
          "model_module_version": "1.5.0",
          "model_name": "HTMLModel",
          "state": {
            "_dom_classes": [],
            "_model_module": "@jupyter-widgets/controls",
            "_model_module_version": "1.5.0",
            "_model_name": "HTMLModel",
            "_view_count": null,
            "_view_module": "@jupyter-widgets/controls",
            "_view_module_version": "1.5.0",
            "_view_name": "HTMLView",
            "description": "",
            "description_tooltip": null,
            "layout": "IPY_MODEL_ef8478d3e6f34d7d81763659af0ff3fe",
            "placeholder": "​",
            "style": "IPY_MODEL_b2d658fefbc5435b801dc489f833f57d",
            "value": ""
          }
        },
        "37d71db432af4490ad7ba825af632c16": {
          "model_module": "@jupyter-widgets/controls",
          "model_module_version": "1.5.0",
          "model_name": "HBoxModel",
          "state": {
            "_dom_classes": [],
            "_model_module": "@jupyter-widgets/controls",
            "_model_module_version": "1.5.0",
            "_model_name": "HBoxModel",
            "_view_count": null,
            "_view_module": "@jupyter-widgets/controls",
            "_view_module_version": "1.5.0",
            "_view_name": "HBoxView",
            "box_style": "",
            "children": [
              "IPY_MODEL_0df138b2d73d47a0bc8350af73359436",
              "IPY_MODEL_ab20151aea0e40e4bee3821178d9e3ce",
              "IPY_MODEL_e05962e084f742b6910093081d5ab4bc"
            ],
            "layout": "IPY_MODEL_191540f352cb43edac2824553e00507a"
          }
        },
        "3b4f95260b664d0abc31b5f122e3faca": {
          "model_module": "@jupyter-widgets/controls",
          "model_module_version": "1.5.0",
          "model_name": "ProgressStyleModel",
          "state": {
            "_model_module": "@jupyter-widgets/controls",
            "_model_module_version": "1.5.0",
            "_model_name": "ProgressStyleModel",
            "_view_count": null,
            "_view_module": "@jupyter-widgets/base",
            "_view_module_version": "1.2.0",
            "_view_name": "StyleView",
            "bar_color": null,
            "description_width": ""
          }
        },
        "3cf67734e261438585013bddf6f67b97": {
          "model_module": "@jupyter-widgets/controls",
          "model_module_version": "1.5.0",
          "model_name": "ProgressStyleModel",
          "state": {
            "_model_module": "@jupyter-widgets/controls",
            "_model_module_version": "1.5.0",
            "_model_name": "ProgressStyleModel",
            "_view_count": null,
            "_view_module": "@jupyter-widgets/base",
            "_view_module_version": "1.2.0",
            "_view_name": "StyleView",
            "bar_color": null,
            "description_width": ""
          }
        },
        "5afa5c78be01446581373559ed21208a": {
          "model_module": "@jupyter-widgets/controls",
          "model_module_version": "1.5.0",
          "model_name": "FloatProgressModel",
          "state": {
            "_dom_classes": [],
            "_model_module": "@jupyter-widgets/controls",
            "_model_module_version": "1.5.0",
            "_model_name": "FloatProgressModel",
            "_view_count": null,
            "_view_module": "@jupyter-widgets/controls",
            "_view_module_version": "1.5.0",
            "_view_name": "ProgressView",
            "bar_style": "success",
            "description": "",
            "description_tooltip": null,
            "layout": "IPY_MODEL_0228aee4912e4664ad724db89110851a",
            "max": 9912422,
            "min": 0,
            "orientation": "horizontal",
            "style": "IPY_MODEL_3cf67734e261438585013bddf6f67b97",
            "value": 9912422
          }
        },
        "5d53ecb326e64fff9e7ef5878098d6c1": {
          "model_module": "@jupyter-widgets/base",
          "model_module_version": "1.2.0",
          "model_name": "LayoutModel",
          "state": {
            "_model_module": "@jupyter-widgets/base",
            "_model_module_version": "1.2.0",
            "_model_name": "LayoutModel",
            "_view_count": null,
            "_view_module": "@jupyter-widgets/base",
            "_view_module_version": "1.2.0",
            "_view_name": "LayoutView",
            "align_content": null,
            "align_items": null,
            "align_self": null,
            "border": null,
            "bottom": null,
            "display": null,
            "flex": null,
            "flex_flow": null,
            "grid_area": null,
            "grid_auto_columns": null,
            "grid_auto_flow": null,
            "grid_auto_rows": null,
            "grid_column": null,
            "grid_gap": null,
            "grid_row": null,
            "grid_template_areas": null,
            "grid_template_columns": null,
            "grid_template_rows": null,
            "height": null,
            "justify_content": null,
            "justify_items": null,
            "left": null,
            "margin": null,
            "max_height": null,
            "max_width": null,
            "min_height": null,
            "min_width": null,
            "object_fit": null,
            "object_position": null,
            "order": null,
            "overflow": null,
            "overflow_x": null,
            "overflow_y": null,
            "padding": null,
            "right": null,
            "top": null,
            "visibility": null,
            "width": null
          }
        },
        "5d874caf39c4408281dd9c6d251f644b": {
          "model_module": "@jupyter-widgets/controls",
          "model_module_version": "1.5.0",
          "model_name": "ProgressStyleModel",
          "state": {
            "_model_module": "@jupyter-widgets/controls",
            "_model_module_version": "1.5.0",
            "_model_name": "ProgressStyleModel",
            "_view_count": null,
            "_view_module": "@jupyter-widgets/base",
            "_view_module_version": "1.2.0",
            "_view_name": "StyleView",
            "bar_color": null,
            "description_width": ""
          }
        },
        "6daa11c5f117470a969874655a8fe314": {
          "model_module": "@jupyter-widgets/base",
          "model_module_version": "1.2.0",
          "model_name": "LayoutModel",
          "state": {
            "_model_module": "@jupyter-widgets/base",
            "_model_module_version": "1.2.0",
            "_model_name": "LayoutModel",
            "_view_count": null,
            "_view_module": "@jupyter-widgets/base",
            "_view_module_version": "1.2.0",
            "_view_name": "LayoutView",
            "align_content": null,
            "align_items": null,
            "align_self": null,
            "border": null,
            "bottom": null,
            "display": null,
            "flex": null,
            "flex_flow": null,
            "grid_area": null,
            "grid_auto_columns": null,
            "grid_auto_flow": null,
            "grid_auto_rows": null,
            "grid_column": null,
            "grid_gap": null,
            "grid_row": null,
            "grid_template_areas": null,
            "grid_template_columns": null,
            "grid_template_rows": null,
            "height": null,
            "justify_content": null,
            "justify_items": null,
            "left": null,
            "margin": null,
            "max_height": null,
            "max_width": null,
            "min_height": null,
            "min_width": null,
            "object_fit": null,
            "object_position": null,
            "order": null,
            "overflow": null,
            "overflow_x": null,
            "overflow_y": null,
            "padding": null,
            "right": null,
            "top": null,
            "visibility": null,
            "width": null
          }
        },
        "858f89c68ea844b281237850d355719d": {
          "model_module": "@jupyter-widgets/controls",
          "model_module_version": "1.5.0",
          "model_name": "HBoxModel",
          "state": {
            "_dom_classes": [],
            "_model_module": "@jupyter-widgets/controls",
            "_model_module_version": "1.5.0",
            "_model_name": "HBoxModel",
            "_view_count": null,
            "_view_module": "@jupyter-widgets/controls",
            "_view_module_version": "1.5.0",
            "_view_name": "HBoxView",
            "box_style": "",
            "children": [
              "IPY_MODEL_ca0fb2ca98984a38b090ca6426e2e247",
              "IPY_MODEL_5afa5c78be01446581373559ed21208a",
              "IPY_MODEL_8f864976509541b0a670b9ac7af6a165"
            ],
            "layout": "IPY_MODEL_6daa11c5f117470a969874655a8fe314"
          }
        },
        "861b246a55ca49f6a89b20a0814930e0": {
          "model_module": "@jupyter-widgets/base",
          "model_module_version": "1.2.0",
          "model_name": "LayoutModel",
          "state": {
            "_model_module": "@jupyter-widgets/base",
            "_model_module_version": "1.2.0",
            "_model_name": "LayoutModel",
            "_view_count": null,
            "_view_module": "@jupyter-widgets/base",
            "_view_module_version": "1.2.0",
            "_view_name": "LayoutView",
            "align_content": null,
            "align_items": null,
            "align_self": null,
            "border": null,
            "bottom": null,
            "display": null,
            "flex": null,
            "flex_flow": null,
            "grid_area": null,
            "grid_auto_columns": null,
            "grid_auto_flow": null,
            "grid_auto_rows": null,
            "grid_column": null,
            "grid_gap": null,
            "grid_row": null,
            "grid_template_areas": null,
            "grid_template_columns": null,
            "grid_template_rows": null,
            "height": null,
            "justify_content": null,
            "justify_items": null,
            "left": null,
            "margin": null,
            "max_height": null,
            "max_width": null,
            "min_height": null,
            "min_width": null,
            "object_fit": null,
            "object_position": null,
            "order": null,
            "overflow": null,
            "overflow_x": null,
            "overflow_y": null,
            "padding": null,
            "right": null,
            "top": null,
            "visibility": null,
            "width": null
          }
        },
        "8f864976509541b0a670b9ac7af6a165": {
          "model_module": "@jupyter-widgets/controls",
          "model_module_version": "1.5.0",
          "model_name": "HTMLModel",
          "state": {
            "_dom_classes": [],
            "_model_module": "@jupyter-widgets/controls",
            "_model_module_version": "1.5.0",
            "_model_name": "HTMLModel",
            "_view_count": null,
            "_view_module": "@jupyter-widgets/controls",
            "_view_module_version": "1.5.0",
            "_view_name": "HTMLView",
            "description": "",
            "description_tooltip": null,
            "layout": "IPY_MODEL_a66c7047aeed430a817368941fe902be",
            "placeholder": "​",
            "style": "IPY_MODEL_2f7f1706a87b4abdb882ef0dd2e95443",
            "value": " 9913344/? [00:00&lt;00:00, 19566715.38it/s]"
          }
        },
        "972fd9de985a4c1e9bb6e922a6ac7180": {
          "model_module": "@jupyter-widgets/controls",
          "model_module_version": "1.5.0",
          "model_name": "HBoxModel",
          "state": {
            "_dom_classes": [],
            "_model_module": "@jupyter-widgets/controls",
            "_model_module_version": "1.5.0",
            "_model_name": "HBoxModel",
            "_view_count": null,
            "_view_module": "@jupyter-widgets/controls",
            "_view_module_version": "1.5.0",
            "_view_name": "HBoxView",
            "box_style": "",
            "children": [
              "IPY_MODEL_339f36ad609e4f44b5919facd5e81e45",
              "IPY_MODEL_06926aa1fbe2426e8e5ecc1233e1b37e",
              "IPY_MODEL_facfe4bc39e341d78edd41f870f87774"
            ],
            "layout": "IPY_MODEL_066462e0701c49b1839b28480761ce66"
          }
        },
        "9acdfb26b5634ac5a8bc527f2371fb6b": {
          "model_module": "@jupyter-widgets/controls",
          "model_module_version": "1.5.0",
          "model_name": "DescriptionStyleModel",
          "state": {
            "_model_module": "@jupyter-widgets/controls",
            "_model_module_version": "1.5.0",
            "_model_name": "DescriptionStyleModel",
            "_view_count": null,
            "_view_module": "@jupyter-widgets/base",
            "_view_module_version": "1.2.0",
            "_view_name": "StyleView",
            "description_width": ""
          }
        },
        "a534d83e54954acba970a097b795b32f": {
          "model_module": "@jupyter-widgets/controls",
          "model_module_version": "1.5.0",
          "model_name": "DescriptionStyleModel",
          "state": {
            "_model_module": "@jupyter-widgets/controls",
            "_model_module_version": "1.5.0",
            "_model_name": "DescriptionStyleModel",
            "_view_count": null,
            "_view_module": "@jupyter-widgets/base",
            "_view_module_version": "1.2.0",
            "_view_name": "StyleView",
            "description_width": ""
          }
        },
        "a66c7047aeed430a817368941fe902be": {
          "model_module": "@jupyter-widgets/base",
          "model_module_version": "1.2.0",
          "model_name": "LayoutModel",
          "state": {
            "_model_module": "@jupyter-widgets/base",
            "_model_module_version": "1.2.0",
            "_model_name": "LayoutModel",
            "_view_count": null,
            "_view_module": "@jupyter-widgets/base",
            "_view_module_version": "1.2.0",
            "_view_name": "LayoutView",
            "align_content": null,
            "align_items": null,
            "align_self": null,
            "border": null,
            "bottom": null,
            "display": null,
            "flex": null,
            "flex_flow": null,
            "grid_area": null,
            "grid_auto_columns": null,
            "grid_auto_flow": null,
            "grid_auto_rows": null,
            "grid_column": null,
            "grid_gap": null,
            "grid_row": null,
            "grid_template_areas": null,
            "grid_template_columns": null,
            "grid_template_rows": null,
            "height": null,
            "justify_content": null,
            "justify_items": null,
            "left": null,
            "margin": null,
            "max_height": null,
            "max_width": null,
            "min_height": null,
            "min_width": null,
            "object_fit": null,
            "object_position": null,
            "order": null,
            "overflow": null,
            "overflow_x": null,
            "overflow_y": null,
            "padding": null,
            "right": null,
            "top": null,
            "visibility": null,
            "width": null
          }
        },
        "ab20151aea0e40e4bee3821178d9e3ce": {
          "model_module": "@jupyter-widgets/controls",
          "model_module_version": "1.5.0",
          "model_name": "FloatProgressModel",
          "state": {
            "_dom_classes": [],
            "_model_module": "@jupyter-widgets/controls",
            "_model_module_version": "1.5.0",
            "_model_name": "FloatProgressModel",
            "_view_count": null,
            "_view_module": "@jupyter-widgets/controls",
            "_view_module_version": "1.5.0",
            "_view_name": "ProgressView",
            "bar_style": "success",
            "description": "",
            "description_tooltip": null,
            "layout": "IPY_MODEL_f426ba0a8e9744f79132d43c9e9d2b38",
            "max": 1648877,
            "min": 0,
            "orientation": "horizontal",
            "style": "IPY_MODEL_3b4f95260b664d0abc31b5f122e3faca",
            "value": 1648877
          }
        },
        "b2d658fefbc5435b801dc489f833f57d": {
          "model_module": "@jupyter-widgets/controls",
          "model_module_version": "1.5.0",
          "model_name": "DescriptionStyleModel",
          "state": {
            "_model_module": "@jupyter-widgets/controls",
            "_model_module_version": "1.5.0",
            "_model_name": "DescriptionStyleModel",
            "_view_count": null,
            "_view_module": "@jupyter-widgets/base",
            "_view_module_version": "1.2.0",
            "_view_name": "StyleView",
            "description_width": ""
          }
        },
        "b6ef853baf984a3f932fbb26d2001634": {
          "model_module": "@jupyter-widgets/base",
          "model_module_version": "1.2.0",
          "model_name": "LayoutModel",
          "state": {
            "_model_module": "@jupyter-widgets/base",
            "_model_module_version": "1.2.0",
            "_model_name": "LayoutModel",
            "_view_count": null,
            "_view_module": "@jupyter-widgets/base",
            "_view_module_version": "1.2.0",
            "_view_name": "LayoutView",
            "align_content": null,
            "align_items": null,
            "align_self": null,
            "border": null,
            "bottom": null,
            "display": null,
            "flex": null,
            "flex_flow": null,
            "grid_area": null,
            "grid_auto_columns": null,
            "grid_auto_flow": null,
            "grid_auto_rows": null,
            "grid_column": null,
            "grid_gap": null,
            "grid_row": null,
            "grid_template_areas": null,
            "grid_template_columns": null,
            "grid_template_rows": null,
            "height": null,
            "justify_content": null,
            "justify_items": null,
            "left": null,
            "margin": null,
            "max_height": null,
            "max_width": null,
            "min_height": null,
            "min_width": null,
            "object_fit": null,
            "object_position": null,
            "order": null,
            "overflow": null,
            "overflow_x": null,
            "overflow_y": null,
            "padding": null,
            "right": null,
            "top": null,
            "visibility": null,
            "width": null
          }
        },
        "ca0fb2ca98984a38b090ca6426e2e247": {
          "model_module": "@jupyter-widgets/controls",
          "model_module_version": "1.5.0",
          "model_name": "HTMLModel",
          "state": {
            "_dom_classes": [],
            "_model_module": "@jupyter-widgets/controls",
            "_model_module_version": "1.5.0",
            "_model_name": "HTMLModel",
            "_view_count": null,
            "_view_module": "@jupyter-widgets/controls",
            "_view_module_version": "1.5.0",
            "_view_name": "HTMLView",
            "description": "",
            "description_tooltip": null,
            "layout": "IPY_MODEL_de8b5bf9b9284c9f9fb1096da78e380b",
            "placeholder": "​",
            "style": "IPY_MODEL_9acdfb26b5634ac5a8bc527f2371fb6b",
            "value": ""
          }
        },
        "d07a3d9688cf41719b012b6b940d9e54": {
          "model_module": "@jupyter-widgets/base",
          "model_module_version": "1.2.0",
          "model_name": "LayoutModel",
          "state": {
            "_model_module": "@jupyter-widgets/base",
            "_model_module_version": "1.2.0",
            "_model_name": "LayoutModel",
            "_view_count": null,
            "_view_module": "@jupyter-widgets/base",
            "_view_module_version": "1.2.0",
            "_view_name": "LayoutView",
            "align_content": null,
            "align_items": null,
            "align_self": null,
            "border": null,
            "bottom": null,
            "display": null,
            "flex": null,
            "flex_flow": null,
            "grid_area": null,
            "grid_auto_columns": null,
            "grid_auto_flow": null,
            "grid_auto_rows": null,
            "grid_column": null,
            "grid_gap": null,
            "grid_row": null,
            "grid_template_areas": null,
            "grid_template_columns": null,
            "grid_template_rows": null,
            "height": null,
            "justify_content": null,
            "justify_items": null,
            "left": null,
            "margin": null,
            "max_height": null,
            "max_width": null,
            "min_height": null,
            "min_width": null,
            "object_fit": null,
            "object_position": null,
            "order": null,
            "overflow": null,
            "overflow_x": null,
            "overflow_y": null,
            "padding": null,
            "right": null,
            "top": null,
            "visibility": null,
            "width": null
          }
        },
        "de8b5bf9b9284c9f9fb1096da78e380b": {
          "model_module": "@jupyter-widgets/base",
          "model_module_version": "1.2.0",
          "model_name": "LayoutModel",
          "state": {
            "_model_module": "@jupyter-widgets/base",
            "_model_module_version": "1.2.0",
            "_model_name": "LayoutModel",
            "_view_count": null,
            "_view_module": "@jupyter-widgets/base",
            "_view_module_version": "1.2.0",
            "_view_name": "LayoutView",
            "align_content": null,
            "align_items": null,
            "align_self": null,
            "border": null,
            "bottom": null,
            "display": null,
            "flex": null,
            "flex_flow": null,
            "grid_area": null,
            "grid_auto_columns": null,
            "grid_auto_flow": null,
            "grid_auto_rows": null,
            "grid_column": null,
            "grid_gap": null,
            "grid_row": null,
            "grid_template_areas": null,
            "grid_template_columns": null,
            "grid_template_rows": null,
            "height": null,
            "justify_content": null,
            "justify_items": null,
            "left": null,
            "margin": null,
            "max_height": null,
            "max_width": null,
            "min_height": null,
            "min_width": null,
            "object_fit": null,
            "object_position": null,
            "order": null,
            "overflow": null,
            "overflow_x": null,
            "overflow_y": null,
            "padding": null,
            "right": null,
            "top": null,
            "visibility": null,
            "width": null
          }
        },
        "e05962e084f742b6910093081d5ab4bc": {
          "model_module": "@jupyter-widgets/controls",
          "model_module_version": "1.5.0",
          "model_name": "HTMLModel",
          "state": {
            "_dom_classes": [],
            "_model_module": "@jupyter-widgets/controls",
            "_model_module_version": "1.5.0",
            "_model_name": "HTMLModel",
            "_view_count": null,
            "_view_module": "@jupyter-widgets/controls",
            "_view_module_version": "1.5.0",
            "_view_name": "HTMLView",
            "description": "",
            "description_tooltip": null,
            "layout": "IPY_MODEL_0f6e0d3105124b36917b6a845d81a0be",
            "placeholder": "​",
            "style": "IPY_MODEL_30768df70889412dbbfe072584abc074",
            "value": " 1649664/? [00:00&lt;00:00, 17503958.62it/s]"
          }
        },
        "e296cdeea678440abfde291efbc0fc25": {
          "model_module": "@jupyter-widgets/controls",
          "model_module_version": "1.5.0",
          "model_name": "HTMLModel",
          "state": {
            "_dom_classes": [],
            "_model_module": "@jupyter-widgets/controls",
            "_model_module_version": "1.5.0",
            "_model_name": "HTMLModel",
            "_view_count": null,
            "_view_module": "@jupyter-widgets/controls",
            "_view_module_version": "1.5.0",
            "_view_name": "HTMLView",
            "description": "",
            "description_tooltip": null,
            "layout": "IPY_MODEL_b6ef853baf984a3f932fbb26d2001634",
            "placeholder": "​",
            "style": "IPY_MODEL_a534d83e54954acba970a097b795b32f",
            "value": ""
          }
        },
        "ef8478d3e6f34d7d81763659af0ff3fe": {
          "model_module": "@jupyter-widgets/base",
          "model_module_version": "1.2.0",
          "model_name": "LayoutModel",
          "state": {
            "_model_module": "@jupyter-widgets/base",
            "_model_module_version": "1.2.0",
            "_model_name": "LayoutModel",
            "_view_count": null,
            "_view_module": "@jupyter-widgets/base",
            "_view_module_version": "1.2.0",
            "_view_name": "LayoutView",
            "align_content": null,
            "align_items": null,
            "align_self": null,
            "border": null,
            "bottom": null,
            "display": null,
            "flex": null,
            "flex_flow": null,
            "grid_area": null,
            "grid_auto_columns": null,
            "grid_auto_flow": null,
            "grid_auto_rows": null,
            "grid_column": null,
            "grid_gap": null,
            "grid_row": null,
            "grid_template_areas": null,
            "grid_template_columns": null,
            "grid_template_rows": null,
            "height": null,
            "justify_content": null,
            "justify_items": null,
            "left": null,
            "margin": null,
            "max_height": null,
            "max_width": null,
            "min_height": null,
            "min_width": null,
            "object_fit": null,
            "object_position": null,
            "order": null,
            "overflow": null,
            "overflow_x": null,
            "overflow_y": null,
            "padding": null,
            "right": null,
            "top": null,
            "visibility": null,
            "width": null
          }
        },
        "f426ba0a8e9744f79132d43c9e9d2b38": {
          "model_module": "@jupyter-widgets/base",
          "model_module_version": "1.2.0",
          "model_name": "LayoutModel",
          "state": {
            "_model_module": "@jupyter-widgets/base",
            "_model_module_version": "1.2.0",
            "_model_name": "LayoutModel",
            "_view_count": null,
            "_view_module": "@jupyter-widgets/base",
            "_view_module_version": "1.2.0",
            "_view_name": "LayoutView",
            "align_content": null,
            "align_items": null,
            "align_self": null,
            "border": null,
            "bottom": null,
            "display": null,
            "flex": null,
            "flex_flow": null,
            "grid_area": null,
            "grid_auto_columns": null,
            "grid_auto_flow": null,
            "grid_auto_rows": null,
            "grid_column": null,
            "grid_gap": null,
            "grid_row": null,
            "grid_template_areas": null,
            "grid_template_columns": null,
            "grid_template_rows": null,
            "height": null,
            "justify_content": null,
            "justify_items": null,
            "left": null,
            "margin": null,
            "max_height": null,
            "max_width": null,
            "min_height": null,
            "min_width": null,
            "object_fit": null,
            "object_position": null,
            "order": null,
            "overflow": null,
            "overflow_x": null,
            "overflow_y": null,
            "padding": null,
            "right": null,
            "top": null,
            "visibility": null,
            "width": null
          }
        },
        "f439fa392798465cac21b210afb7099c": {
          "model_module": "@jupyter-widgets/controls",
          "model_module_version": "1.5.0",
          "model_name": "HBoxModel",
          "state": {
            "_dom_classes": [],
            "_model_module": "@jupyter-widgets/controls",
            "_model_module_version": "1.5.0",
            "_model_name": "HBoxModel",
            "_view_count": null,
            "_view_module": "@jupyter-widgets/controls",
            "_view_module_version": "1.5.0",
            "_view_name": "HBoxView",
            "box_style": "",
            "children": [
              "IPY_MODEL_e296cdeea678440abfde291efbc0fc25",
              "IPY_MODEL_1afbdef4cebb46da9d4ba8131d49e26e",
              "IPY_MODEL_00d7f3bba1f04cc6ab57a395e9cea9bc"
            ],
            "layout": "IPY_MODEL_26092981618b4c2ea7bc1c99417eb06d"
          }
        },
        "facfe4bc39e341d78edd41f870f87774": {
          "model_module": "@jupyter-widgets/controls",
          "model_module_version": "1.5.0",
          "model_name": "HTMLModel",
          "state": {
            "_dom_classes": [],
            "_model_module": "@jupyter-widgets/controls",
            "_model_module_version": "1.5.0",
            "_model_name": "HTMLModel",
            "_view_count": null,
            "_view_module": "@jupyter-widgets/controls",
            "_view_module_version": "1.5.0",
            "_view_name": "HTMLView",
            "description": "",
            "description_tooltip": null,
            "layout": "IPY_MODEL_0e32b483bc2b4b8b906fbda899dfc20c",
            "placeholder": "​",
            "style": "IPY_MODEL_0923a53cf70744fcae49da13e6733ea3",
            "value": " 29696/? [00:00&lt;00:00, 343997.84it/s]"
          }
        },
        "fd665a19029d450abf229cccd48014df": {
          "model_module": "@jupyter-widgets/controls",
          "model_module_version": "1.5.0",
          "model_name": "DescriptionStyleModel",
          "state": {
            "_model_module": "@jupyter-widgets/controls",
            "_model_module_version": "1.5.0",
            "_model_name": "DescriptionStyleModel",
            "_view_count": null,
            "_view_module": "@jupyter-widgets/base",
            "_view_module_version": "1.2.0",
            "_view_name": "StyleView",
            "description_width": ""
          }
        }
      }
    }
  },
  "nbformat": 4,
  "nbformat_minor": 0
}

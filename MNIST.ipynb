{
  "nbformat": 4,
  "nbformat_minor": 0,
  "metadata": {
    "colab": {
      "name": "MNIST.ipynb",
      "provenance": [],
      "collapsed_sections": [
        "JmBQQnpWoJrd",
        "Vvt5q3XaqbUc",
        "xnoi5RW9qm5U",
        "_qH5VOIWwAQG",
        "ixUBfiPVvy3v",
        "Zm-4Tf1FJHhe",
        "W8s201wxL4Tm",
        "kSye81ShLb53",
        "O_S-PkJALZcx",
        "TkQCPFQ0ZH5Q",
        "M14-FCx3ZH5n"
      ]
    },
    "kernelspec": {
      "name": "python3",
      "display_name": "Python 3"
    },
    "language_info": {
      "name": "python"
    }
  },
  "cells": [
    {
      "cell_type": "markdown",
      "source": [
        "# MNIST\n",
        "\n",
        "This notebook contains our experiements comparing forward gradient and backpropagation with neural networks and Convolutional nets for the MNIST dataset"
      ],
      "metadata": {
        "id": "SpgPiFcBm1hX"
      }
    },
    {
      "cell_type": "markdown",
      "source": [
        "#### Setup"
      ],
      "metadata": {
        "id": "JmBQQnpWoJrd"
      }
    },
    {
      "cell_type": "code",
      "execution_count": 1,
      "metadata": {
        "colab": {
          "base_uri": "https://localhost:8080/"
        },
        "id": "XnA7qJ4F78Gr",
        "outputId": "78b95ae1-4b4f-4625-c1ce-7faaa7648598"
      },
      "outputs": [
        {
          "output_type": "stream",
          "name": "stdout",
          "text": [
            "Looking in indexes: https://pypi.org/simple, https://us-python.pkg.dev/colab-wheels/public/simple/\n",
            "Looking in links: https://download.pytorch.org/whl/nightly/cpu/torch_nightly.html\n",
            "Requirement already satisfied: torch in /usr/local/lib/python3.7/dist-packages (1.11.0+cu113)\n",
            "Collecting torch\n",
            "  Downloading https://download.pytorch.org/whl/nightly/cpu/torch-1.13.0.dev20220611%2Bcpu-cp37-cp37m-linux_x86_64.whl (190.7 MB)\n",
            "\u001b[K     |████████████████████████████████| 190.7 MB 93 kB/s \n",
            "\u001b[?25hRequirement already satisfied: typing-extensions in /usr/local/lib/python3.7/dist-packages (from torch) (4.2.0)\n",
            "Installing collected packages: torch\n",
            "  Attempting uninstall: torch\n",
            "    Found existing installation: torch 1.11.0+cu113\n",
            "    Uninstalling torch-1.11.0+cu113:\n",
            "      Successfully uninstalled torch-1.11.0+cu113\n",
            "\u001b[31mERROR: pip's dependency resolver does not currently take into account all the packages that are installed. This behaviour is the source of the following dependency conflicts.\n",
            "torchvision 0.12.0+cu113 requires torch==1.11.0, but you have torch 1.13.0.dev20220611+cpu which is incompatible.\n",
            "torchtext 0.12.0 requires torch==1.11.0, but you have torch 1.13.0.dev20220611+cpu which is incompatible.\n",
            "torchaudio 0.11.0+cu113 requires torch==1.11.0, but you have torch 1.13.0.dev20220611+cpu which is incompatible.\u001b[0m\n",
            "Successfully installed torch-1.13.0.dev20220611+cpu\n",
            "Looking in indexes: https://pypi.org/simple, https://us-python.pkg.dev/colab-wheels/public/simple/\n",
            "Collecting functorch\n",
            "  Downloading functorch-0.1.1-cp37-cp37m-manylinux1_x86_64.whl (21.4 MB)\n",
            "\u001b[K     |████████████████████████████████| 21.4 MB 1.4 MB/s \n",
            "\u001b[?25hCollecting torch<1.12,>=1.11\n",
            "  Downloading torch-1.11.0-cp37-cp37m-manylinux1_x86_64.whl (750.6 MB)\n",
            "\u001b[K     |████████████████████████████████| 750.6 MB 11 kB/s \n",
            "\u001b[?25hRequirement already satisfied: typing-extensions in /usr/local/lib/python3.7/dist-packages (from torch<1.12,>=1.11->functorch) (4.2.0)\n",
            "Installing collected packages: torch, functorch\n",
            "  Attempting uninstall: torch\n",
            "    Found existing installation: torch 1.13.0.dev20220611+cpu\n",
            "    Uninstalling torch-1.13.0.dev20220611+cpu:\n",
            "      Successfully uninstalled torch-1.13.0.dev20220611+cpu\n",
            "Successfully installed functorch-0.1.1 torch-1.11.0\n",
            "--> Restarting colab instance\n"
          ]
        },
        {
          "output_type": "execute_result",
          "data": {
            "text/plain": [
              "{'restart': True, 'status': 'ok'}"
            ]
          },
          "metadata": {},
          "execution_count": 1
        }
      ],
      "source": [
        "# Run once\n",
        "# CPU only: !pip install torch==1.11.0 torchvision==0.12.0 torchaudio==0.11.0 -f https://download.pytorch.org/whl/cpu/torch_stable.html\n",
        "!pip install --pre torch -f https://download.pytorch.org/whl/nightly/cpu/torch_nightly.html --upgrade\n",
        "!pip install functorch\n",
        "print(\"--> Restarting colab instance\") \n",
        "get_ipython().kernel.do_shutdown(True)"
      ]
    },
    {
      "cell_type": "code",
      "source": [
        "!git clone https://github.com/benjaminrike1/forward_gradient"
      ],
      "metadata": {
        "colab": {
          "base_uri": "https://localhost:8080/"
        },
        "id": "w16dKpsQbsXH",
        "outputId": "8aae5724-e185-43a3-cf77-4407b2d34196"
      },
      "execution_count": 1,
      "outputs": [
        {
          "output_type": "stream",
          "name": "stdout",
          "text": [
            "Cloning into 'forward_gradient'...\n",
            "remote: Enumerating objects: 76, done.\u001b[K\n",
            "remote: Counting objects: 100% (76/76), done.\u001b[K\n",
            "remote: Compressing objects: 100% (58/58), done.\u001b[K\n",
            "remote: Total 76 (delta 31), reused 52 (delta 17), pack-reused 0\u001b[K\n",
            "Unpacking objects: 100% (76/76), done.\n"
          ]
        }
      ]
    },
    {
      "cell_type": "code",
      "source": [
        "cd forward_gradient"
      ],
      "metadata": {
        "colab": {
          "base_uri": "https://localhost:8080/"
        },
        "id": "H7a4RrKbmuKQ",
        "outputId": "c438913c-1ca7-4a75-efa0-8f1741ab66f4"
      },
      "execution_count": 2,
      "outputs": [
        {
          "output_type": "stream",
          "name": "stdout",
          "text": [
            "/content/forward_gradient\n"
          ]
        }
      ]
    },
    {
      "cell_type": "code",
      "execution_count": 1,
      "metadata": {
        "colab": {
          "base_uri": "https://localhost:8080/",
          "height": 374
        },
        "id": "ngzkoQhx8SHI",
        "outputId": "506fba35-843f-4603-b734-e5b1e5c560a3"
      },
      "outputs": [
        {
          "output_type": "error",
          "ename": "ModuleNotFoundError",
          "evalue": "ignored",
          "traceback": [
            "\u001b[0;31m---------------------------------------------------------------------------\u001b[0m",
            "\u001b[0;31mModuleNotFoundError\u001b[0m                       Traceback (most recent call last)",
            "\u001b[0;32m<ipython-input-1-8b9fa5e59af2>\u001b[0m in \u001b[0;36m<module>\u001b[0;34m()\u001b[0m\n\u001b[1;32m      4\u001b[0m \u001b[0;34m\u001b[0m\u001b[0m\n\u001b[1;32m      5\u001b[0m \u001b[0;32mimport\u001b[0m \u001b[0mtorchvision\u001b[0m\u001b[0;34m\u001b[0m\u001b[0;34m\u001b[0m\u001b[0m\n\u001b[0;32m----> 6\u001b[0;31m \u001b[0;32mimport\u001b[0m \u001b[0mfunctorch\u001b[0m \u001b[0;32mas\u001b[0m \u001b[0mft\u001b[0m\u001b[0;34m\u001b[0m\u001b[0;34m\u001b[0m\u001b[0m\n\u001b[0m\u001b[1;32m      7\u001b[0m \u001b[0;34m\u001b[0m\u001b[0m\n\u001b[1;32m      8\u001b[0m \u001b[0;32mimport\u001b[0m \u001b[0mnumpy\u001b[0m \u001b[0;32mas\u001b[0m \u001b[0mnp\u001b[0m\u001b[0;34m\u001b[0m\u001b[0;34m\u001b[0m\u001b[0m\n",
            "\u001b[0;31mModuleNotFoundError\u001b[0m: No module named 'functorch'",
            "",
            "\u001b[0;31m---------------------------------------------------------------------------\u001b[0;32m\nNOTE: If your import is failing due to a missing package, you can\nmanually install dependencies using either !pip or !apt.\n\nTo view examples of installing some common dependencies, click the\n\"Open Examples\" button below.\n\u001b[0;31m---------------------------------------------------------------------------\u001b[0m\n"
          ],
          "errorDetails": {
            "actions": [
              {
                "action": "open_url",
                "actionText": "Open Examples",
                "url": "/notebooks/snippets/importing_libraries.ipynb"
              }
            ]
          }
        }
      ],
      "source": [
        "import torch\n",
        "import torch.nn as nn\n",
        "import torch.nn.functional as F\n",
        "\n",
        "import torchvision\n",
        "import functorch as ft\n",
        "\n",
        "import numpy as np\n",
        "from functools import partial\n",
        "\n",
        "import matplotlib.pyplot as plt\n",
        "import seaborn as sns\n",
        "\n",
        "from loss import functional_xent, softmax, clamp_probs, _xent\n",
        "from optimizers import ForwardSGD, ForwardAdam\n",
        "from models import Net, ConvNet, LogisticRegression\n",
        "\n",
        "torch.manual_seed(0)\n",
        "device = torch.device(\"cuda\" if torch.cuda.is_available() else \"cpu\")\n"
      ]
    },
    {
      "cell_type": "markdown",
      "source": [
        "## MNIST"
      ],
      "metadata": {
        "id": "Vvt5q3XaqbUc"
      }
    },
    {
      "cell_type": "markdown",
      "source": [
        "Importing the data from torchvision."
      ],
      "metadata": {
        "id": "Vy2UKEhnqexi"
      }
    },
    {
      "cell_type": "code",
      "source": [
        "# transforming images to tensors\n",
        "transform = torchvision.transforms.Compose([\n",
        "    torchvision.transforms.ToTensor()\n",
        "])\n",
        "\n",
        "\n",
        "mnist_train = torchvision.datasets.MNIST(\n",
        "    '/tmp/data',\n",
        "    train=True, \n",
        "    download=True, \n",
        "    transform=transform\n",
        ")\n",
        "\n",
        "# splitting into training and validation set\n",
        "train, val = torch.utils.data.random_split(mnist_train, [50000, 10000])\n",
        "\n",
        "train_data_loader = torch.utils.data.DataLoader(train, \n",
        "                                          batch_size=64, \n",
        "                                          shuffle=True)\n",
        "\n",
        "val_data_loader = torch.utils.data.DataLoader(val, \n",
        "                                          batch_size=64, \n",
        "                                          shuffle=True)\n",
        "\n",
        "# loading test set\n",
        "mnist_test = torchvision.datasets.MNIST(\n",
        "    '/tmp/data',\n",
        "    train=False, \n",
        "    download=True, \n",
        "    transform=transform\n",
        ")\n",
        "test_data_loader = torch.utils.data.DataLoader(mnist_test, \n",
        "                                              batch_size=64,\n",
        "                                              shuffle=True)"
      ],
      "metadata": {
        "id": "fnfSMWT8qajP"
      },
      "execution_count": 4,
      "outputs": []
    },
    {
      "cell_type": "markdown",
      "source": [
        "# Neural Network\n",
        "\n",
        "We first use a vanilla feedforward network for the optimization. The net can be found in `models.py`"
      ],
      "metadata": {
        "id": "xnoi5RW9qm5U"
      }
    },
    {
      "cell_type": "markdown",
      "source": [
        "## SGD"
      ],
      "metadata": {
        "id": "_qH5VOIWwAQG"
      }
    },
    {
      "cell_type": "markdown",
      "source": [
        "### Learning rate optimization\n",
        "\n",
        "The final search for learning rate is in a quite small interval as we earlier tried a wider search, but wanted to reduce the width to find a better optimum."
      ],
      "metadata": {
        "id": "ixUBfiPVvy3v"
      }
    },
    {
      "cell_type": "markdown",
      "source": [
        "Searching for best learning rate and learning rate decay for forward gradient."
      ],
      "metadata": {
        "id": "C2uEbFKbIy73"
      }
    },
    {
      "cell_type": "code",
      "source": [
        "torch.manual_seed(42) # setting seed for reproducibility\n",
        "\n",
        "# learning rate and decays grid search for forward gradient\n",
        "learning_rates = np.logspace(-5, -3, 6)\n",
        "decays = np.append(np.logspace(-6, -5, 2), 0)\n",
        "\n",
        "epochs = 10\n",
        "\n",
        "for gamma in learning_rates:\n",
        "  for lambda_ in decays:\n",
        "    net = Net().to(device) # defining net\n",
        "\n",
        "    # making the net functional to run the code in functorch\n",
        "    # for evaluating the Jacobian-vector product\n",
        "    func, params = ft.make_functional(net)\n",
        "\n",
        "    # removing requires gradient as it will not be used\n",
        "    # for the forward AD\n",
        "    for param in params:\n",
        "        param.requires_grad_(False)\n",
        "\n",
        "    # defining our optimizer\n",
        "    opt = ForwardSGD(func, functional_xent, params, lr=gamma, momentum = False, decay=lambda_)\n",
        "\n",
        "    # training\n",
        "    for e in range(epochs):\n",
        "      for i, (image, label) in enumerate(train_data_loader):\n",
        "        image, label = image.to(device), label.to(device)\n",
        "        params, loss, jvp = opt.step(image, label) # one optimization step\n",
        "\n",
        "    # evaluating on the val set\n",
        "    test_losses = []\n",
        "    for i, (image, label) in enumerate(val_data_loader):\n",
        "      batch_loss = []\n",
        "      with torch.no_grad():\n",
        "        image, label = image.to(device), label.to(device)\n",
        "        val_loss = functional_xent(params, func,image, label)\n",
        "        batch_loss.append(val_loss.item())\n",
        "      test_losses.append(np.mean(batch_loss))\n",
        "    print(f\"Validation loss for lr = {format(gamma,'.6f')}, decay = {format(lambda_,'.6f')}: {format(np.mean(test_losses),'.3f')}\")"
      ],
      "metadata": {
        "id": "b1G1P4OWwEk2",
        "colab": {
          "base_uri": "https://localhost:8080/"
        },
        "outputId": "e848a1da-79e4-4b45-f5c9-76a25cd57447"
      },
      "execution_count": null,
      "outputs": [
        {
          "output_type": "stream",
          "name": "stdout",
          "text": [
            "Validation loss for lr = 0.000010, decay = 0.000001: 2.3024049260813717\n",
            "Validation loss for lr = 0.000010, decay = 0.000010: 2.2973024814751497\n",
            "Validation loss for lr = 0.000010, decay = 0.000100: 2.2996652141498153\n",
            "Validation loss for lr = 0.000025, decay = 0.000001: 2.294420749518522\n",
            "Validation loss for lr = 0.000025, decay = 0.000010: 2.291391800922953\n",
            "Validation loss for lr = 0.000025, decay = 0.000100: 2.2962763840985145\n",
            "Validation loss for lr = 0.000063, decay = 0.000001: 2.2722129396572233\n",
            "Validation loss for lr = 0.000063, decay = 0.000010: 2.2714145836556794\n",
            "Validation loss for lr = 0.000063, decay = 0.000100: 2.2774636350619564\n",
            "Validation loss for lr = 0.000158, decay = 0.000001: 2.20808955210789\n",
            "Validation loss for lr = 0.000158, decay = 0.000010: 2.2020661982761065\n",
            "Validation loss for lr = 0.000158, decay = 0.000100: 2.2419782489728015\n",
            "Validation loss for lr = 0.000398, decay = 0.000001: 1.348107600667674\n",
            "Validation loss for lr = 0.000398, decay = 0.000010: 1.5226576108082084\n",
            "Validation loss for lr = 0.000398, decay = 0.000100: 1.9661041171687423\n",
            "Validation loss for lr = 0.001000, decay = 0.000001: 14.220899314637396\n",
            "Validation loss for lr = 0.001000, decay = 0.000010: 14.78996992414924\n",
            "Validation loss for lr = 0.001000, decay = 0.000100: 13.946541494624629\n"
          ]
        }
      ]
    },
    {
      "cell_type": "markdown",
      "source": [
        "Searching for best learning rate and learning rate decay for backpropagation."
      ],
      "metadata": {
        "id": "Waw7JQjzI4Zy"
      }
    },
    {
      "cell_type": "code",
      "source": [
        "torch.manual_seed(42) # setting seed for reporducibility\n",
        "\n",
        "# defining learning rates and decays for grid search\n",
        "learning_rates = np.logspace(-4, -2, 6)\n",
        "decays = np.append(np.logspace(-6, -5, 2), 0)\n",
        "\n",
        "criterion = nn.CrossEntropyLoss() # loss function\n",
        "for gamma in learning_rates:\n",
        "  for lambda_ in decays:\n",
        "    lr_new = gamma\n",
        "    net = Net().to(device) # defining net\n",
        "\n",
        "    # storing losses\n",
        "    losses = []\n",
        "    steps = 0\n",
        "    for epoch in range(epochs):\n",
        "      # going over training set in batches\n",
        "      for i, (image, label) in enumerate(train_data_loader):\n",
        "        steps += 1\n",
        "        backprop = torch.optim.SGD(net.parameters(), lr=lr_new) # backprop SGD\n",
        "        image, label = image.to(device), label.to(device)\n",
        "\n",
        "        # optimizing\n",
        "        backprop.zero_grad()\n",
        "        outputs = net(image)\n",
        "        loss = criterion(outputs, label)\n",
        "        loss.backward()\n",
        "        backprop.step()\n",
        "        losses.append(loss.item())\n",
        "\n",
        "        # learning rate decay\n",
        "        lr_new = gamma * np.exp(-steps*lambda_)\n",
        "\n",
        "    # evaluating on the val set\n",
        "    test_losses = []\n",
        "    for i, (image, label) in enumerate(val_data_loader):\n",
        "      batch_loss = []\n",
        "      with torch.no_grad():\n",
        "        image, label = image.to(device), label.to(device)\n",
        "        val_loss = criterion(net(image), label)\n",
        "        batch_loss.append(val_loss.item())\n",
        "      test_losses.append(np.mean(batch_loss))\n",
        "    print(f\"Validation loss for lr = {format(gamma,'.6f')}, decay = {format(lambda_,'.6f')}: {format(np.mean(test_losses),'.3f')}\")"
      ],
      "metadata": {
        "colab": {
          "base_uri": "https://localhost:8080/"
        },
        "id": "cmHuS91UjuMk",
        "outputId": "b9560846-4314-4851-cd0c-f95dd9714b8b"
      },
      "execution_count": null,
      "outputs": [
        {
          "output_type": "stream",
          "name": "stdout",
          "text": [
            "Validation loss for lr = 0.000100, decay = 0.000001: 2.254\n",
            "Validation loss for lr = 0.000100, decay = 0.000010: 2.249\n",
            "Validation loss for lr = 0.000100, decay = 0.000000: 2.250\n",
            "Validation loss for lr = 0.000251, decay = 0.000001: 2.126\n",
            "Validation loss for lr = 0.000251, decay = 0.000010: 2.137\n",
            "Validation loss for lr = 0.000251, decay = 0.000000: 2.123\n",
            "Validation loss for lr = 0.000631, decay = 0.000001: 1.252\n",
            "Validation loss for lr = 0.000631, decay = 0.000010: 1.306\n",
            "Validation loss for lr = 0.000631, decay = 0.000000: 1.279\n",
            "Validation loss for lr = 0.001585, decay = 0.000001: 0.486\n",
            "Validation loss for lr = 0.001585, decay = 0.000010: 0.503\n",
            "Validation loss for lr = 0.001585, decay = 0.000000: 0.492\n",
            "Validation loss for lr = 0.003981, decay = 0.000001: 0.322\n",
            "Validation loss for lr = 0.003981, decay = 0.000010: 0.326\n",
            "Validation loss for lr = 0.003981, decay = 0.000000: 0.323\n",
            "Validation loss for lr = 0.010000, decay = 0.000001: 0.226\n",
            "Validation loss for lr = 0.010000, decay = 0.000010: 0.231\n",
            "Validation loss for lr = 0.010000, decay = 0.000000: 0.231\n"
          ]
        }
      ]
    },
    {
      "cell_type": "markdown",
      "source": [
        "### Modeling"
      ],
      "metadata": {
        "id": "Zm-4Tf1FJHhe"
      }
    },
    {
      "cell_type": "markdown",
      "source": [
        "We first run forward gradient for the optimal hyperparameters."
      ],
      "metadata": {
        "id": "tZoeCtSnJPpp"
      }
    },
    {
      "cell_type": "code",
      "source": [
        "# for reproducible purposes\n",
        "torch.manual_seed(42)\n",
        "\n",
        "net = Net().to(device) # defining net\n",
        "\n",
        "# using best lr and decay found in the optimizations below\n",
        "lr = 0.000398\n",
        "decay = 1e-6\n",
        "# making the net functional to run the code in functorch\n",
        "# for evaluating the Jacobian-vector product\n",
        "func, params = ft.make_functional(net)\n",
        "\n",
        "# removing requires gradient as it will not be used\n",
        "# for the forward AD\n",
        "for param in params:\n",
        "    param.requires_grad_(False)\n",
        "\n",
        "# defining our optimizer\n",
        "opt = ForwardSGD(func, functional_xent, params, lr=lr, momentum = False, decay=decay)\n",
        "\n",
        "# running the code for e epochs\n",
        "losses_fwd = []\n",
        "norms = []\n",
        "epochs = 25\n",
        "test_losses_fwd = []\n",
        "for e in range(epochs):\n",
        "  # training\n",
        "  for j, (image, label) in enumerate(train_data_loader):\n",
        "    image, label = image.to(device), label.to(device)\n",
        "    params, loss, norm = opt.step(image, label)\n",
        "    try:\n",
        "      norms.append(np.abs(norm.item()))\n",
        "    except:\n",
        "      norms.append(np.abs(norm))\n",
        "    losses_fwd.append(loss.item())\n",
        "  # evaluating on the test set\n",
        "  for i, (image, label) in enumerate(test_data_loader):\n",
        "    with torch.no_grad():\n",
        "      batch_loss = []\n",
        "      image, label = image.to(device), label.to(device)\n",
        "      test_loss = functional_xent(params, func, image, label)\n",
        "      batch_loss.append(test_loss.item())\n",
        "  test_losses_fwd.append(np.mean(batch_loss))\n",
        "  print(f\"Test loss in epoch {e+1}: {(test_losses_fwd[-1])}\")\n"
      ],
      "metadata": {
        "id": "D7BcefWeqh_P",
        "colab": {
          "base_uri": "https://localhost:8080/"
        },
        "outputId": "ca0f997a-3d2e-4637-9e16-b791ca31c8c6"
      },
      "execution_count": 20,
      "outputs": [
        {
          "output_type": "stream",
          "name": "stdout",
          "text": [
            "Test loss in epoch 1: 2.2803077697753906\n",
            "Test loss in epoch 2: 2.2389345169067383\n",
            "Test loss in epoch 3: 2.2608096599578857\n",
            "Test loss in epoch 4: 2.1828293800354004\n",
            "Test loss in epoch 5: 2.091196060180664\n",
            "Test loss in epoch 6: 2.085883617401123\n",
            "Test loss in epoch 7: 1.954644799232483\n",
            "Test loss in epoch 8: 1.8109370470046997\n",
            "Test loss in epoch 9: 1.7350102663040161\n",
            "Test loss in epoch 10: 1.4522006511688232\n",
            "Test loss in epoch 11: 1.1871819496154785\n",
            "Test loss in epoch 12: 1.3281726837158203\n",
            "Test loss in epoch 13: 0.785765528678894\n",
            "Test loss in epoch 14: 4.64847469329834\n",
            "Test loss in epoch 15: 12.214798927307129\n",
            "Test loss in epoch 16: 11.956789016723633\n",
            "Test loss in epoch 17: 10.960390090942383\n",
            "Test loss in epoch 18: 9.963991165161133\n",
            "Test loss in epoch 19: 11.956789016723633\n",
            "Test loss in epoch 20: 14.945985794067383\n",
            "Test loss in epoch 21: 9.963991165161133\n",
            "Test loss in epoch 22: 11.956789016723633\n",
            "Test loss in epoch 23: 10.960390090942383\n",
            "Test loss in epoch 24: 14.945985794067383\n",
            "Test loss in epoch 25: 14.945985794067383\n"
          ]
        }
      ]
    },
    {
      "cell_type": "code",
      "source": [
        "plt.plot(norms)\n",
        "plt.xlabel(\"Iteration\")\n",
        "plt.ylabel(\"Jacobian vector norm (L2)\")\n",
        "plt.title(\"Jacobian vector norm per iteration\")"
      ],
      "metadata": {
        "colab": {
          "base_uri": "https://localhost:8080/",
          "height": 312
        },
        "id": "_kFD16L8vBSj",
        "outputId": "2b87d057-5254-4f5c-86df-0d54fe52af29"
      },
      "execution_count": 9,
      "outputs": [
        {
          "output_type": "execute_result",
          "data": {
            "text/plain": [
              "Text(0.5, 1.0, 'Gradient norm per iteration')"
            ]
          },
          "metadata": {},
          "execution_count": 9
        },
        {
          "output_type": "display_data",
          "data": {
            "text/plain": [
              "<Figure size 432x288 with 1 Axes>"
            ],
            "image/png": "[encoded data removed]"
          },
          "metadata": {
            "needs_background": "light"
          }
        }
      ]
    },
    {
      "cell_type": "code",
      "source": [
        "print(np.max(norms[:10000])); print(np.max(norms)); print(np.max(norms[:11000]))\n",
        "print(np.mean(norms[:10000]))\n",
        "print(np.std(norms[:10000]))"
      ],
      "metadata": {
        "colab": {
          "base_uri": "https://localhost:8080/"
        },
        "id": "zLCr2cf0xrMf",
        "outputId": "56eec4df-1dc5-4e41-a98f-55cca76b0fae"
      },
      "execution_count": 22,
      "outputs": [
        {
          "output_type": "stream",
          "name": "stdout",
          "text": [
            "12.824639320373535\n",
            "778.9630737304688\n",
            "50.662010192871094\n",
            "1.0627178527846932\n",
            "1.2274392424986016\n"
          ]
        }
      ]
    },
    {
      "cell_type": "markdown",
      "source": [
        "As can be seen, we deal with exploding gradients. To mitigate this, we utilize gradient clipping. Specifically, we impose that the norm of the Jacobian vector product must be less than 1."
      ],
      "metadata": {
        "id": "_y1k5q-S_cjW"
      }
    },
    {
      "cell_type": "code",
      "source": [
        "torch.manual_seed(42) # setting seed for reproducibility\n",
        "\n",
        "net = Net().to(device) # defining net\n",
        "\n",
        "# using best lr and decay found in the optimizations below\n",
        "lr = 0.000398\n",
        "decay = 1e-6\n",
        "# making the net functional to run the code in functorch\n",
        "# for evaluating the Jacobian-vector product\n",
        "func, params = ft.make_functional(net)\n",
        "\n",
        "# removing requires gradient as it will not be used\n",
        "# for the forward AD\n",
        "for param in params:\n",
        "    param.requires_grad_(False)\n",
        "\n",
        "# defining our optimizer\n",
        "opt = ForwardSGD(func, functional_xent, params, lr=lr, momentum = False, decay=decay, clip = 1)\n",
        "\n",
        "# training for e epochs\n",
        "losses_fwd = []\n",
        "norms = []\n",
        "epochs = 50\n",
        "test_losses_fwd = []\n",
        "for e in range(epochs):\n",
        "  for j, (image, label) in enumerate(train_data_loader):\n",
        "    image, label = image.to(device), label.to(device)\n",
        "    params, loss, norm = opt.step(image, label)\n",
        "    try:\n",
        "      norms.append(norm.item())\n",
        "    except:\n",
        "      norms.append(norm)\n",
        "    losses_fwd.append(loss.item())\n",
        "\n",
        "  # evaluating on the test set\n",
        "  for i, (image, label) in enumerate(test_data_loader):\n",
        "    with torch.no_grad():\n",
        "      batch_loss = []\n",
        "      image, label = image.to(device), label.to(device)\n",
        "      test_loss = functional_xent(params, func, image, label)\n",
        "      batch_loss.append(test_loss.item())\n",
        "  test_losses_fwd.append(np.mean(batch_loss))\n",
        "  print(f\"Test loss in epoch {e+1}: {format(test_losses_fwd[-1], '.3f')}\")\n"
      ],
      "metadata": {
        "colab": {
          "base_uri": "https://localhost:8080/"
        },
        "id": "zLfRPaSuyHEQ",
        "outputId": "758510c5-2d5a-4a30-b6eb-3f68794461a6"
      },
      "execution_count": 24,
      "outputs": [
        {
          "output_type": "stream",
          "name": "stdout",
          "text": [
            "Test loss in epoch 1: 2.2803077697753906\n",
            "Test loss in epoch 2: 2.2389345169067383\n",
            "Test loss in epoch 3: 2.2608096599578857\n",
            "Test loss in epoch 4: 2.1828293800354004\n",
            "Test loss in epoch 5: 2.091196060180664\n",
            "Test loss in epoch 6: 2.085883617401123\n",
            "Test loss in epoch 7: 1.954644799232483\n",
            "Test loss in epoch 8: 1.8096802234649658\n",
            "Test loss in epoch 9: 1.7340152263641357\n",
            "Test loss in epoch 10: 1.4683746099472046\n",
            "Test loss in epoch 11: 1.2674752473831177\n",
            "Test loss in epoch 12: 1.2817819118499756\n",
            "Test loss in epoch 13: 0.8228669762611389\n",
            "Test loss in epoch 14: 1.0629976987838745\n",
            "Test loss in epoch 15: 0.6376643180847168\n",
            "Test loss in epoch 16: 0.888964831829071\n",
            "Test loss in epoch 17: 0.882891833782196\n",
            "Test loss in epoch 18: 1.6762107610702515\n",
            "Test loss in epoch 19: 0.5479592084884644\n",
            "Test loss in epoch 20: 0.964219331741333\n",
            "Test loss in epoch 21: 1.7357947826385498\n",
            "Test loss in epoch 22: 0.8664765357971191\n",
            "Test loss in epoch 23: 3.1643218994140625\n",
            "Test loss in epoch 24: 1.9507195949554443\n",
            "Test loss in epoch 25: 1.0715372562408447\n",
            "Test loss in epoch 26: 2.0675392150878906\n",
            "Test loss in epoch 27: 3.860059976577759\n",
            "Test loss in epoch 28: 3.807645559310913\n",
            "Test loss in epoch 29: 1.9311426877975464\n",
            "Test loss in epoch 30: 2.2671773433685303\n",
            "Test loss in epoch 31: 3.285940408706665\n",
            "Test loss in epoch 32: 4.279500484466553\n",
            "Test loss in epoch 33: 2.636590003967285\n",
            "Test loss in epoch 34: 2.4249958992004395\n",
            "Test loss in epoch 35: 4.404993057250977\n",
            "Test loss in epoch 36: 4.659512519836426\n",
            "Test loss in epoch 37: 4.388706207275391\n",
            "Test loss in epoch 38: 4.088622093200684\n",
            "Test loss in epoch 39: 3.5629711151123047\n",
            "Test loss in epoch 40: 5.32919979095459\n",
            "Test loss in epoch 41: 4.814703941345215\n",
            "Test loss in epoch 42: 4.025480270385742\n",
            "Test loss in epoch 43: 3.241786003112793\n",
            "Test loss in epoch 44: 2.9935925006866455\n",
            "Test loss in epoch 45: 4.801151275634766\n",
            "Test loss in epoch 46: 4.896653175354004\n",
            "Test loss in epoch 47: 6.297211647033691\n",
            "Test loss in epoch 48: 5.154310703277588\n",
            "Test loss in epoch 49: 4.521142482757568\n",
            "Test loss in epoch 50: 2.9131791591644287\n"
          ]
        }
      ]
    },
    {
      "cell_type": "code",
      "source": [
        "plt.plot(norms)\n",
        "plt.xlabel(\"Iteration\")\n",
        "plt.ylabel(\"Jacobian vector norm (L2)\")\n",
        "plt.title(\"Jacboian vector norm per iteration\")"
      ],
      "metadata": {
        "colab": {
          "base_uri": "https://localhost:8080/",
          "height": 312
        },
        "id": "ZgTkAbap_hP5",
        "outputId": "97f7abea-ff33-426f-9014-429c8dc495ff"
      },
      "execution_count": 14,
      "outputs": [
        {
          "output_type": "execute_result",
          "data": {
            "text/plain": [
              "Text(0.5, 1.0, 'Gradient norm per iteration')"
            ]
          },
          "metadata": {},
          "execution_count": 14
        },
        {
          "output_type": "display_data",
          "data": {
            "text/plain": [
              "<Figure size 432x288 with 1 Axes>"
            ],
            "image/png": "[encoded data removed]"
          },
          "metadata": {
            "needs_background": "light"
          }
        }
      ]
    },
    {
      "cell_type": "markdown",
      "source": [
        "Backpropagation:"
      ],
      "metadata": {
        "id": "G4WpUezcqr4V"
      }
    },
    {
      "cell_type": "code",
      "source": [
        "torch.manual_seed(42) # setting seed for reproducibility\n",
        "\n",
        "lr = 0.010000\n",
        "decay = 1e-6\n",
        "epochs = 50\n",
        "lr_new = lr\n",
        "criterion = nn.CrossEntropyLoss() # loss function\n",
        "net = Net().to(device) # defining net\n",
        "\n",
        "# storing losses\n",
        "losses = []\n",
        "test_losses = []\n",
        "steps = 0\n",
        "for e in range(epochs):\n",
        "  # going over training set in batches\n",
        "  for i, (image, label) in enumerate(train_data_loader):\n",
        "    steps += 1\n",
        "    backprop = torch.optim.SGD(net.parameters(), lr=lr_new) # normal SGD in torch\n",
        "    image, label = image.to(device), label.to(device)\n",
        "    backprop.zero_grad()\n",
        "    outputs = net(image)\n",
        "    loss = criterion(outputs, label)\n",
        "    loss.backward()\n",
        "    backprop.step()\n",
        "    losses.append(loss.item())\n",
        "    lr_new = lr * np.exp(-steps*decay)\n",
        "  \n",
        "  # testing on test set\n",
        "  for i, (image, label) in enumerate(test_data_loader):\n",
        "    with torch.no_grad():\n",
        "      batch_loss = []\n",
        "      image, label = image.to(device), label.to(device)\n",
        "      test_loss = criterion(net(image), label)\n",
        "      batch_loss.append(test_loss.item())\n",
        "  test_losses.append(np.mean(batch_loss))\n",
        "  print(f\"Test loss in epoch {e+1}: {(test_losses[-1])}\")"
      ],
      "metadata": {
        "id": "Id8vMur6qrcM",
        "colab": {
          "base_uri": "https://localhost:8080/"
        },
        "outputId": "6bc5e7f1-95f4-4730-8079-e54ea18cf435"
      },
      "execution_count": 17,
      "outputs": [
        {
          "output_type": "stream",
          "name": "stdout",
          "text": [
            "Test loss in epoch 50: 0.7351681590080261\n",
            "Test loss in epoch 50: 0.14682911336421967\n",
            "Test loss in epoch 50: 0.6396335959434509\n",
            "Test loss in epoch 50: 0.27114662528038025\n",
            "Test loss in epoch 50: 0.21662768721580505\n",
            "Test loss in epoch 50: 0.17748135328292847\n",
            "Test loss in epoch 50: 0.07071450352668762\n",
            "Test loss in epoch 50: 0.24497507512569427\n",
            "Test loss in epoch 50: 0.4674259126186371\n",
            "Test loss in epoch 50: 0.28199830651283264\n",
            "Test loss in epoch 50: 0.1205604076385498\n",
            "Test loss in epoch 50: 0.2431039959192276\n",
            "Test loss in epoch 50: 0.07322549819946289\n",
            "Test loss in epoch 50: 0.5181852579116821\n",
            "Test loss in epoch 50: 0.047042958438396454\n",
            "Test loss in epoch 50: 0.5721909999847412\n",
            "Test loss in epoch 50: 0.15358933806419373\n",
            "Test loss in epoch 50: 0.4720466136932373\n",
            "Test loss in epoch 50: 0.2051210254430771\n",
            "Test loss in epoch 50: 0.07038883864879608\n",
            "Test loss in epoch 50: 0.26860225200653076\n",
            "Test loss in epoch 50: 0.03980583697557449\n",
            "Test loss in epoch 50: 0.652442455291748\n",
            "Test loss in epoch 50: 0.031372904777526855\n",
            "Test loss in epoch 50: 0.008869863115251064\n",
            "Test loss in epoch 50: 0.07215658575296402\n",
            "Test loss in epoch 50: 0.1402837485074997\n",
            "Test loss in epoch 50: 0.021554410457611084\n",
            "Test loss in epoch 50: 0.025377413257956505\n",
            "Test loss in epoch 50: 0.027832750231027603\n",
            "Test loss in epoch 50: 0.23867787420749664\n",
            "Test loss in epoch 50: 0.05718863382935524\n",
            "Test loss in epoch 50: 0.06515231728553772\n",
            "Test loss in epoch 50: 0.03917749971151352\n",
            "Test loss in epoch 50: 0.01917281374335289\n",
            "Test loss in epoch 50: 0.027488823980093002\n",
            "Test loss in epoch 50: 0.02184654399752617\n",
            "Test loss in epoch 50: 0.127301424741745\n",
            "Test loss in epoch 50: 0.03537985682487488\n",
            "Test loss in epoch 50: 0.37975820899009705\n",
            "Test loss in epoch 50: 0.006942368112504482\n",
            "Test loss in epoch 50: 0.04106500744819641\n",
            "Test loss in epoch 50: 0.004280462395399809\n",
            "Test loss in epoch 50: 0.003378429915755987\n",
            "Test loss in epoch 50: 0.002645540051162243\n",
            "Test loss in epoch 50: 0.0800180435180664\n",
            "Test loss in epoch 50: 0.010571097955107689\n",
            "Test loss in epoch 50: 0.06507871299982071\n",
            "Test loss in epoch 50: 0.1963678002357483\n",
            "Test loss in epoch 50: 0.007504474371671677\n"
          ]
        }
      ]
    },
    {
      "cell_type": "markdown",
      "source": [
        "#### Comparing results"
      ],
      "metadata": {
        "id": "j7wyih5wrNzK"
      }
    },
    {
      "cell_type": "code",
      "source": [
        "fig, ax = plt.subplots(1,2,figsize=(16,8))\n",
        "\n",
        "ax[0].plot(losses, color='r', label=\"Backprop\", alpha=.7)\n",
        "ax[0].set_xlabel(\"Iterations\")\n",
        "ax[0].set_ylabel(\"Loss\")\n",
        "ax[0].plot(losses_fwd[:], color='b', label='Forward gradient', alpha=.7)\n",
        "ax[0].set_title(\"Training loss for backprop and forward gradient\")\n",
        "ax[0].legend()\n",
        "\n",
        "ax[1].plot(test_losses, color='r', label=\"Backprop\", alpha=.7)\n",
        "ax[1].set_xlabel(\"Epochs\")\n",
        "ax[1].set_ylabel(\"Loss\")\n",
        "ax[1].plot(test_losses_fwd, color='b', label='Forward gradient', alpha=.7)\n",
        "ax[1].set_title(\"Validation loss for backprop and forward gradient\")\n",
        "ax[1].legend()"
      ],
      "metadata": {
        "id": "d1Az9_GcrQC9",
        "colab": {
          "base_uri": "https://localhost:8080/",
          "height": 514
        },
        "outputId": "84c80b46-970c-4709-9f08-3548d69cffdd"
      },
      "execution_count": 19,
      "outputs": [
        {
          "output_type": "execute_result",
          "data": {
            "text/plain": [
              "<matplotlib.legend.Legend at 0x7f0f799561d0>"
            ]
          },
          "metadata": {},
          "execution_count": 19
        },
        {
          "output_type": "display_data",
          "data": {
            "text/plain": [
              "<Figure size 1152x576 with 2 Axes>"
            ],
            "image/png": "[encoded data removed]"
          },
          "metadata": {
            "needs_background": "light"
          }
        }
      ]
    },
    {
      "cell_type": "markdown",
      "source": [
        "## SGD with Nesterov momentum\n",
        "\n",
        "We now incorporate SGD with Nesterov momentum."
      ],
      "metadata": {
        "id": "W8s201wxL4Tm"
      }
    },
    {
      "cell_type": "markdown",
      "source": [
        "### Learning rate optimization\n",
        "\n",
        "The final search for learning rate is in a quite small interval as we earlier tried a wider search, but wanted to reduce the width to find a better optimum."
      ],
      "metadata": {
        "id": "2PgR4xV8L4Tn"
      }
    },
    {
      "cell_type": "markdown",
      "source": [
        "Searching for best learning rate and momentum for forward gradient."
      ],
      "metadata": {
        "id": "SJGZi2-XL4To"
      }
    },
    {
      "cell_type": "code",
      "source": [
        "torch.manual_seed(42) # setting seed for reproducibility\n",
        "\n",
        "# learning rate and momentum grid search for forward gradient\n",
        "learning_rates = np.logspace(-5, -3, 6)\n",
        "momentums = np.append(np.logspace(-6, -5, 2), 0)\n",
        "\n",
        "epochs = 10\n",
        "\n",
        "for gamma in learning_rates:\n",
        "  for momentum in momentums:\n",
        "    net = Net().to(device) # defining net\n",
        "\n",
        "    # making the net functional to run the code in functorch\n",
        "    # for evaluating the Jacobian-vector product\n",
        "    func, params = ft.make_functional(net)\n",
        "\n",
        "    # removing requires gradient as it will not be used\n",
        "    # for the forward AD\n",
        "    for param in params:\n",
        "        param.requires_grad_(False)\n",
        "\n",
        "    # defining our optimizer\n",
        "    opt = ForwardSGD(func, functional_xent, params, lr=gamma,\n",
        "                     momentum = momentum, nesterov = True, decay=0, clip=1)\n",
        "\n",
        "    # training\n",
        "    for e in range(epochs):\n",
        "      for i, (image, label) in enumerate(train_data_loader):\n",
        "        image, label = image.to(device), label.to(device)\n",
        "        params, loss, jvp = opt.step(image, label) # one optimization step\n",
        "\n",
        "    # evaluating on the val set\n",
        "    test_losses = []\n",
        "    for i, (image, label) in enumerate(val_data_loader):\n",
        "      batch_loss = []\n",
        "      with torch.no_grad():\n",
        "        image, label = image.to(device), label.to(device)\n",
        "        val_loss = functional_xent(params, func,image, label)\n",
        "        batch_loss.append(val_loss.item())\n",
        "      test_losses.append(np.mean(batch_loss))\n",
        "    print(f\"Validation loss for lr = {format(gamma,'.6f')}, decay = {format(lambda_,'.6f')}: {format(np.mean(test_losses),'.3f')}\")"
      ],
      "metadata": {
        "colab": {
          "base_uri": "https://localhost:8080/"
        },
        "outputId": "e848a1da-79e4-4b45-f5c9-76a25cd57447",
        "id": "FU90751EL4To"
      },
      "execution_count": null,
      "outputs": [
        {
          "output_type": "stream",
          "name": "stdout",
          "text": [
            "Validation loss for lr = 0.000010, decay = 0.000001: 2.3024049260813717\n",
            "Validation loss for lr = 0.000010, decay = 0.000010: 2.2973024814751497\n",
            "Validation loss for lr = 0.000010, decay = 0.000100: 2.2996652141498153\n",
            "Validation loss for lr = 0.000025, decay = 0.000001: 2.294420749518522\n",
            "Validation loss for lr = 0.000025, decay = 0.000010: 2.291391800922953\n",
            "Validation loss for lr = 0.000025, decay = 0.000100: 2.2962763840985145\n",
            "Validation loss for lr = 0.000063, decay = 0.000001: 2.2722129396572233\n",
            "Validation loss for lr = 0.000063, decay = 0.000010: 2.2714145836556794\n",
            "Validation loss for lr = 0.000063, decay = 0.000100: 2.2774636350619564\n",
            "Validation loss for lr = 0.000158, decay = 0.000001: 2.20808955210789\n",
            "Validation loss for lr = 0.000158, decay = 0.000010: 2.2020661982761065\n",
            "Validation loss for lr = 0.000158, decay = 0.000100: 2.2419782489728015\n",
            "Validation loss for lr = 0.000398, decay = 0.000001: 1.348107600667674\n",
            "Validation loss for lr = 0.000398, decay = 0.000010: 1.5226576108082084\n",
            "Validation loss for lr = 0.000398, decay = 0.000100: 1.9661041171687423\n",
            "Validation loss for lr = 0.001000, decay = 0.000001: 14.220899314637396\n",
            "Validation loss for lr = 0.001000, decay = 0.000010: 14.78996992414924\n",
            "Validation loss for lr = 0.001000, decay = 0.000100: 13.946541494624629\n"
          ]
        }
      ]
    },
    {
      "cell_type": "markdown",
      "source": [
        "Searching for best learning rate and momentum for backpropagation."
      ],
      "metadata": {
        "id": "gGE2XBLzL4Tq"
      }
    },
    {
      "cell_type": "code",
      "source": [
        "torch.manual_seed(42) # setting seed for reporducibility\n",
        "\n",
        "# defining learning rates and decays for grid search\n",
        "learning_rates = np.logspace(-4, -2, 6)\n",
        "momentums = np.append(np.logspace(-6, -5, 2), 0)\n",
        "\n",
        "criterion = nn.CrossEntropyLoss() # loss function\n",
        "for gamma in learning_rates:\n",
        "  for momentum in momentums:\n",
        "    net = Net().to(device) # defining net\n",
        "\n",
        "    # storing losses\n",
        "    losses = []\n",
        "    for epoch in range(epochs):\n",
        "      # going over training set in batches\n",
        "      for i, (image, label) in enumerate(train_data_loader):\n",
        "        backprop = torch.optim.SGD(net.parameters(), lr=gamma,\n",
        "                                   momentum = momentum, nesterov = True) # backprop SGD\n",
        "        image, label = image.to(device), label.to(device)\n",
        "\n",
        "        # optimizing\n",
        "        backprop.zero_grad()\n",
        "        outputs = net(image)\n",
        "        loss = criterion(outputs, label)\n",
        "        loss.backward()\n",
        "        backprop.step()\n",
        "        losses.append(loss.item())\n",
        "\n",
        "    # evaluating on the val set\n",
        "    test_losses = []\n",
        "    for i, (image, label) in enumerate(val_data_loader):\n",
        "      batch_loss = []\n",
        "      with torch.no_grad():\n",
        "        image, label = image.to(device), label.to(device)\n",
        "        val_loss = criterion(net(image), label)\n",
        "        batch_loss.append(val_loss.item())\n",
        "      test_losses.append(np.mean(batch_loss))\n",
        "    print(f\"Validation loss for lr = {format(gamma,'.6f')}, decay = {format(lambda_,'.6f')}: {format(np.mean(test_losses),'.3f')}\")"
      ],
      "metadata": {
        "colab": {
          "base_uri": "https://localhost:8080/"
        },
        "outputId": "b9560846-4314-4851-cd0c-f95dd9714b8b",
        "id": "qS9wgdThL4Tr"
      },
      "execution_count": null,
      "outputs": [
        {
          "output_type": "stream",
          "name": "stdout",
          "text": [
            "Validation loss for lr = 0.000100, decay = 0.000001: 2.254\n",
            "Validation loss for lr = 0.000100, decay = 0.000010: 2.249\n",
            "Validation loss for lr = 0.000100, decay = 0.000000: 2.250\n",
            "Validation loss for lr = 0.000251, decay = 0.000001: 2.126\n",
            "Validation loss for lr = 0.000251, decay = 0.000010: 2.137\n",
            "Validation loss for lr = 0.000251, decay = 0.000000: 2.123\n",
            "Validation loss for lr = 0.000631, decay = 0.000001: 1.252\n",
            "Validation loss for lr = 0.000631, decay = 0.000010: 1.306\n",
            "Validation loss for lr = 0.000631, decay = 0.000000: 1.279\n",
            "Validation loss for lr = 0.001585, decay = 0.000001: 0.486\n",
            "Validation loss for lr = 0.001585, decay = 0.000010: 0.503\n",
            "Validation loss for lr = 0.001585, decay = 0.000000: 0.492\n",
            "Validation loss for lr = 0.003981, decay = 0.000001: 0.322\n",
            "Validation loss for lr = 0.003981, decay = 0.000010: 0.326\n",
            "Validation loss for lr = 0.003981, decay = 0.000000: 0.323\n",
            "Validation loss for lr = 0.010000, decay = 0.000001: 0.226\n",
            "Validation loss for lr = 0.010000, decay = 0.000010: 0.231\n",
            "Validation loss for lr = 0.010000, decay = 0.000000: 0.231\n"
          ]
        }
      ]
    },
    {
      "cell_type": "markdown",
      "source": [
        "### Modeling"
      ],
      "metadata": {
        "id": "82X4mLK6L4Ts"
      }
    },
    {
      "cell_type": "markdown",
      "source": [
        "We first run forward gradient for the optimal hyperparameters."
      ],
      "metadata": {
        "id": "hPwJVZehL4Ts"
      }
    },
    {
      "cell_type": "code",
      "source": [
        "# for reproducible purposes\n",
        "torch.manual_seed(42)\n",
        "\n",
        "net = Net().to(device) # defining net\n",
        "\n",
        "# using best lr and decay found in the optimizations below\n",
        "lr = 0.000398\n",
        "momentum = 0.3\n",
        "# making the net functional to run the code in functorch\n",
        "# for evaluating the Jacobian-vector product\n",
        "func, params = ft.make_functional(net)\n",
        "\n",
        "# removing requires gradient as it will not be used\n",
        "# for the forward AD\n",
        "for param in params:\n",
        "    param.requires_grad_(False)\n",
        "\n",
        "# defining our optimizer\n",
        "opt = ForwardSGD(func, functional_xent, params, lr=lr, momentum = momentum, nesterov = True, clip = 1)\n",
        "\n",
        "# running the code for e epochs\n",
        "losses_fwd = []\n",
        "epochs = 25\n",
        "test_losses_fwd = []\n",
        "for e in range(epochs):\n",
        "  # training\n",
        "  for j, (image, label) in enumerate(train_data_loader):\n",
        "    image, label = image.to(device), label.to(device)\n",
        "    params, loss, jvp = opt.step(image, label)\n",
        "  # evaluating on the test set\n",
        "  for i, (image, label) in enumerate(test_data_loader):\n",
        "    with torch.no_grad():\n",
        "      batch_loss = []\n",
        "      image, label = image.to(device), label.to(device)\n",
        "      test_loss = functional_xent(params, func, image, label)\n",
        "      batch_loss.append(test_loss.item())\n",
        "  test_losses_fwd.append(np.mean(batch_loss))\n",
        "  print(f\"Test loss in epoch {e+1}: {(test_losses_fwd[-1])}\")\n"
      ],
      "metadata": {
        "colab": {
          "base_uri": "https://localhost:8080/"
        },
        "outputId": "ca0f997a-3d2e-4637-9e16-b791ca31c8c6",
        "id": "O3wTtIghL4Tt"
      },
      "execution_count": null,
      "outputs": [
        {
          "output_type": "stream",
          "name": "stdout",
          "text": [
            "Test loss in epoch 1: 2.2803077697753906\n",
            "Test loss in epoch 2: 2.2389345169067383\n",
            "Test loss in epoch 3: 2.2608096599578857\n",
            "Test loss in epoch 4: 2.1828293800354004\n",
            "Test loss in epoch 5: 2.091196060180664\n",
            "Test loss in epoch 6: 2.085883617401123\n",
            "Test loss in epoch 7: 1.954644799232483\n",
            "Test loss in epoch 8: 1.8109370470046997\n",
            "Test loss in epoch 9: 1.7350102663040161\n",
            "Test loss in epoch 10: 1.4522006511688232\n",
            "Test loss in epoch 11: 1.1871819496154785\n",
            "Test loss in epoch 12: 1.3281726837158203\n",
            "Test loss in epoch 13: 0.785765528678894\n",
            "Test loss in epoch 14: 4.64847469329834\n",
            "Test loss in epoch 15: 12.214798927307129\n",
            "Test loss in epoch 16: 11.956789016723633\n",
            "Test loss in epoch 17: 10.960390090942383\n",
            "Test loss in epoch 18: 9.963991165161133\n",
            "Test loss in epoch 19: 11.956789016723633\n",
            "Test loss in epoch 20: 14.945985794067383\n",
            "Test loss in epoch 21: 9.963991165161133\n",
            "Test loss in epoch 22: 11.956789016723633\n",
            "Test loss in epoch 23: 10.960390090942383\n",
            "Test loss in epoch 24: 14.945985794067383\n",
            "Test loss in epoch 25: 14.945985794067383\n"
          ]
        }
      ]
    },
    {
      "cell_type": "markdown",
      "source": [
        "Backpropagation:"
      ],
      "metadata": {
        "id": "_Kz_nhv7L4Tx"
      }
    },
    {
      "cell_type": "code",
      "source": [
        "torch.manual_seed(42) # setting seed for reproducibility\n",
        "\n",
        "lr = 0.010000\n",
        "decay = 1e-6\n",
        "epochs = 50\n",
        "lr_new = lr\n",
        "criterion = nn.CrossEntropyLoss() # loss function\n",
        "net = Net().to(device) # defining net\n",
        "\n",
        "# storing losses\n",
        "losses = []\n",
        "test_losses = []\n",
        "for e in range(epochs):\n",
        "  # going over training set in batches\n",
        "  for i, (image, label) in enumerate(train_data_loader):\n",
        "    backprop = torch.optim.SGD(net.parameters(), lr=lr_new,\n",
        "                               momentum = momentum, nesterov = True) # normal SGD in torch\n",
        "    image, label = image.to(device), label.to(device)\n",
        "    backprop.zero_grad()\n",
        "    outputs = net(image)\n",
        "    loss = criterion(outputs, label)\n",
        "    loss.backward()\n",
        "    backprop.step()\n",
        "    losses.append(loss.item())\n",
        "  \n",
        "  # testing on test set\n",
        "  for i, (image, label) in enumerate(test_data_loader):\n",
        "    with torch.no_grad():\n",
        "      batch_loss = []\n",
        "      image, label = image.to(device), label.to(device)\n",
        "      test_loss = criterion(net(image), label)\n",
        "      batch_loss.append(test_loss.item())\n",
        "  test_losses.append(np.mean(batch_loss))\n",
        "  print(f\"Test loss in epoch {e+1}: {(test_losses[-1])}\")"
      ],
      "metadata": {
        "colab": {
          "base_uri": "https://localhost:8080/"
        },
        "outputId": "6bc5e7f1-95f4-4730-8079-e54ea18cf435",
        "id": "NdH9zmOhL4Ty"
      },
      "execution_count": null,
      "outputs": [
        {
          "output_type": "stream",
          "name": "stdout",
          "text": [
            "Test loss in epoch 50: 0.7351681590080261\n",
            "Test loss in epoch 50: 0.14682911336421967\n",
            "Test loss in epoch 50: 0.6396335959434509\n",
            "Test loss in epoch 50: 0.27114662528038025\n",
            "Test loss in epoch 50: 0.21662768721580505\n",
            "Test loss in epoch 50: 0.17748135328292847\n",
            "Test loss in epoch 50: 0.07071450352668762\n",
            "Test loss in epoch 50: 0.24497507512569427\n",
            "Test loss in epoch 50: 0.4674259126186371\n",
            "Test loss in epoch 50: 0.28199830651283264\n",
            "Test loss in epoch 50: 0.1205604076385498\n",
            "Test loss in epoch 50: 0.2431039959192276\n",
            "Test loss in epoch 50: 0.07322549819946289\n",
            "Test loss in epoch 50: 0.5181852579116821\n",
            "Test loss in epoch 50: 0.047042958438396454\n",
            "Test loss in epoch 50: 0.5721909999847412\n",
            "Test loss in epoch 50: 0.15358933806419373\n",
            "Test loss in epoch 50: 0.4720466136932373\n",
            "Test loss in epoch 50: 0.2051210254430771\n",
            "Test loss in epoch 50: 0.07038883864879608\n",
            "Test loss in epoch 50: 0.26860225200653076\n",
            "Test loss in epoch 50: 0.03980583697557449\n",
            "Test loss in epoch 50: 0.652442455291748\n",
            "Test loss in epoch 50: 0.031372904777526855\n",
            "Test loss in epoch 50: 0.008869863115251064\n",
            "Test loss in epoch 50: 0.07215658575296402\n",
            "Test loss in epoch 50: 0.1402837485074997\n",
            "Test loss in epoch 50: 0.021554410457611084\n",
            "Test loss in epoch 50: 0.025377413257956505\n",
            "Test loss in epoch 50: 0.027832750231027603\n",
            "Test loss in epoch 50: 0.23867787420749664\n",
            "Test loss in epoch 50: 0.05718863382935524\n",
            "Test loss in epoch 50: 0.06515231728553772\n",
            "Test loss in epoch 50: 0.03917749971151352\n",
            "Test loss in epoch 50: 0.01917281374335289\n",
            "Test loss in epoch 50: 0.027488823980093002\n",
            "Test loss in epoch 50: 0.02184654399752617\n",
            "Test loss in epoch 50: 0.127301424741745\n",
            "Test loss in epoch 50: 0.03537985682487488\n",
            "Test loss in epoch 50: 0.37975820899009705\n",
            "Test loss in epoch 50: 0.006942368112504482\n",
            "Test loss in epoch 50: 0.04106500744819641\n",
            "Test loss in epoch 50: 0.004280462395399809\n",
            "Test loss in epoch 50: 0.003378429915755987\n",
            "Test loss in epoch 50: 0.002645540051162243\n",
            "Test loss in epoch 50: 0.0800180435180664\n",
            "Test loss in epoch 50: 0.010571097955107689\n",
            "Test loss in epoch 50: 0.06507871299982071\n",
            "Test loss in epoch 50: 0.1963678002357483\n",
            "Test loss in epoch 50: 0.007504474371671677\n"
          ]
        }
      ]
    },
    {
      "cell_type": "markdown",
      "source": [
        "#### Comparing results"
      ],
      "metadata": {
        "id": "6VxF-ju4L4Tz"
      }
    },
    {
      "cell_type": "code",
      "source": [
        "fig, ax = plt.subplots(1,2,figsize=(16,8))\n",
        "\n",
        "ax[0].plot(losses, color='r', label=\"Backprop\", alpha=.7)\n",
        "ax[0].set_xlabel(\"Iterations\")\n",
        "ax[0].set_ylabel(\"Loss\")\n",
        "ax[0].plot(losses_fwd[:], color='b', label='Forward gradient', alpha=.7)\n",
        "ax[0].set_title(\"Training loss for backprop and forward gradient\")\n",
        "ax[0].legend()\n",
        "\n",
        "ax[1].plot(test_losses, color='r', label=\"Backprop\", alpha=.7)\n",
        "ax[1].set_xlabel(\"Epochs\")\n",
        "ax[1].set_ylabel(\"Loss\")\n",
        "ax[1].plot(test_losses_fwd, color='b', label='Forward gradient', alpha=.7)\n",
        "ax[1].set_title(\"Validation loss for backprop and forward gradient\")\n",
        "ax[1].legend()"
      ],
      "metadata": {
        "colab": {
          "base_uri": "https://localhost:8080/",
          "height": 514
        },
        "outputId": "84c80b46-970c-4709-9f08-3548d69cffdd",
        "id": "LkPEMYx8L4Tz"
      },
      "execution_count": null,
      "outputs": [
        {
          "output_type": "execute_result",
          "data": {
            "text/plain": [
              "<matplotlib.legend.Legend at 0x7f0f799561d0>"
            ]
          },
          "metadata": {},
          "execution_count": 19
        },
        {
          "output_type": "display_data",
          "data": {
            "text/plain": [
              "<Figure size 1152x576 with 2 Axes>"
            ],
            "image/png": "[encoded data removed]"
          },
          "metadata": {
            "needs_background": "light"
          }
        }
      ]
    },
    {
      "cell_type": "markdown",
      "source": [
        "# Convolutional Neural Network\n",
        "\n",
        "We then use a CNN. Code can be found in `models.py`."
      ],
      "metadata": {
        "id": "kSye81ShLb53"
      }
    },
    {
      "cell_type": "markdown",
      "source": [
        "## SGD"
      ],
      "metadata": {
        "id": "O_S-PkJALZcx"
      }
    },
    {
      "cell_type": "markdown",
      "source": [
        "### Learning rate optimization\n",
        "\n",
        "The final search for learning rate is in a quite small interval as we earlier tried a wider search, but wanted to reduce the width to find a better optimum."
      ],
      "metadata": {
        "id": "ZSEsCszoLZdD"
      }
    },
    {
      "cell_type": "markdown",
      "source": [
        "Searching for best learning rate and learning rate decay for forward gradient."
      ],
      "metadata": {
        "id": "G6ev3OMeLZdE"
      }
    },
    {
      "cell_type": "code",
      "source": [
        "torch.manual_seed(42) # setting seed for reproducibility\n",
        "\n",
        "# learning rate and decays grid search for forward gradient\n",
        "learning_rates = np.logspace(-5, -3, 6)\n",
        "decays = np.append(np.logspace(-6, -5, 2), 0)\n",
        "\n",
        "epochs = 10\n",
        "\n",
        "for gamma in learning_rates:\n",
        "  for lambda_ in decays:\n",
        "    net = ConvNet().to(device) # defining net\n",
        "\n",
        "    # making the net functional to run the code in functorch\n",
        "    # for evaluating the Jacobian-vector product\n",
        "    func, params = ft.make_functional(net)\n",
        "\n",
        "    # removing requires gradient as it will not be used\n",
        "    # for the forward AD\n",
        "    for param in params:\n",
        "        param.requires_grad_(False)\n",
        "\n",
        "    # defining our optimizer\n",
        "    opt = ForwardSGD(func, functional_xent, params, lr=gamma, momentum = False, decay=lambda_)\n",
        "\n",
        "    # training\n",
        "    for e in range(epochs):\n",
        "      for i, (image, label) in enumerate(train_data_loader):\n",
        "        image, label = image.to(device), label.to(device)\n",
        "        params, loss = opt.step(image, label) # one optimization step\n",
        "\n",
        "    # evaluating on the val set\n",
        "    test_losses = []\n",
        "    for i, (image, label) in enumerate(val_data_loader):\n",
        "      batch_loss = []\n",
        "      with torch.no_grad():\n",
        "        image, label = image.to(device), label.to(device)\n",
        "        val_loss = functional_xent(params, func,image, label)\n",
        "        batch_loss.append(val_loss.item())\n",
        "      test_losses.append(np.mean(batch_loss))\n",
        "    print(f\"Validation loss for lr = {format(gamma,'.6f')}, decay = {format(lambda_,'.6f')}: {format(np.mean(test_losses),'.3f')}\")"
      ],
      "metadata": {
        "colab": {
          "base_uri": "https://localhost:8080/"
        },
        "outputId": "e848a1da-79e4-4b45-f5c9-76a25cd57447",
        "id": "TXvxySDJLZdE"
      },
      "execution_count": null,
      "outputs": [
        {
          "output_type": "stream",
          "name": "stdout",
          "text": [
            "Validation loss for lr = 0.000010, decay = 0.000001: 2.3024049260813717\n",
            "Validation loss for lr = 0.000010, decay = 0.000010: 2.2973024814751497\n",
            "Validation loss for lr = 0.000010, decay = 0.000100: 2.2996652141498153\n",
            "Validation loss for lr = 0.000025, decay = 0.000001: 2.294420749518522\n",
            "Validation loss for lr = 0.000025, decay = 0.000010: 2.291391800922953\n",
            "Validation loss for lr = 0.000025, decay = 0.000100: 2.2962763840985145\n",
            "Validation loss for lr = 0.000063, decay = 0.000001: 2.2722129396572233\n",
            "Validation loss for lr = 0.000063, decay = 0.000010: 2.2714145836556794\n",
            "Validation loss for lr = 0.000063, decay = 0.000100: 2.2774636350619564\n",
            "Validation loss for lr = 0.000158, decay = 0.000001: 2.20808955210789\n",
            "Validation loss for lr = 0.000158, decay = 0.000010: 2.2020661982761065\n",
            "Validation loss for lr = 0.000158, decay = 0.000100: 2.2419782489728015\n",
            "Validation loss for lr = 0.000398, decay = 0.000001: 1.348107600667674\n",
            "Validation loss for lr = 0.000398, decay = 0.000010: 1.5226576108082084\n",
            "Validation loss for lr = 0.000398, decay = 0.000100: 1.9661041171687423\n",
            "Validation loss for lr = 0.001000, decay = 0.000001: 14.220899314637396\n",
            "Validation loss for lr = 0.001000, decay = 0.000010: 14.78996992414924\n",
            "Validation loss for lr = 0.001000, decay = 0.000100: 13.946541494624629\n"
          ]
        }
      ]
    },
    {
      "cell_type": "markdown",
      "source": [
        "Searching for best learning rate and learning rate decay for backpropagation."
      ],
      "metadata": {
        "id": "sUUbHs1eLZdF"
      }
    },
    {
      "cell_type": "code",
      "source": [
        "torch.manual_seed(42) # setting seed for reporducibility\n",
        "\n",
        "# defining learning rates and decays for grid search\n",
        "learning_rates = np.logspace(-4, -2, 6)\n",
        "decays = np.append(np.logspace(-6, -5, 2), 0)\n",
        "\n",
        "criterion = nn.CrossEntropyLoss() # loss function\n",
        "for gamma in learning_rates:\n",
        "  for lambda_ in decays:\n",
        "    lr_new = gamma\n",
        "    net = ConvNet().to(device) # defining net\n",
        "\n",
        "    # storing losses\n",
        "    losses = []\n",
        "    steps = 0\n",
        "    for epoch in range(epochs):\n",
        "      # going over training set in batches\n",
        "      for i, (image, label) in enumerate(train_data_loader):\n",
        "        steps += 1\n",
        "        backprop = torch.optim.SGD(net.parameters(), lr=lr_new) # backprop SGD\n",
        "        image, label = image.to(device), label.to(device)\n",
        "\n",
        "        # optimizing\n",
        "        backprop.zero_grad()\n",
        "        outputs = net(image)\n",
        "        loss = criterion(outputs, label)\n",
        "        loss.backward()\n",
        "        backprop.step()\n",
        "        losses.append(loss.item())\n",
        "\n",
        "        # learning rate decay\n",
        "        lr_new = gamma * np.exp(-steps*lambda_)\n",
        "\n",
        "    # evaluating on the val set\n",
        "    test_losses = []\n",
        "    for i, (image, label) in enumerate(val_data_loader):\n",
        "      batch_loss = []\n",
        "      with torch.no_grad():\n",
        "        image, label = image.to(device), label.to(device)\n",
        "        val_loss = criterion(net(image), label)\n",
        "        batch_loss.append(val_loss.item())\n",
        "      test_losses.append(np.mean(batch_loss))\n",
        "    print(f\"Validation loss for lr = {format(gamma,'.6f')}, decay = {format(lambda_,'.6f')}: {format(np.mean(test_losses),'.3f')}\")"
      ],
      "metadata": {
        "colab": {
          "base_uri": "https://localhost:8080/"
        },
        "outputId": "b9560846-4314-4851-cd0c-f95dd9714b8b",
        "id": "odUiL5vGLZdF"
      },
      "execution_count": null,
      "outputs": [
        {
          "output_type": "stream",
          "name": "stdout",
          "text": [
            "Validation loss for lr = 0.000100, decay = 0.000001: 2.254\n",
            "Validation loss for lr = 0.000100, decay = 0.000010: 2.249\n",
            "Validation loss for lr = 0.000100, decay = 0.000000: 2.250\n",
            "Validation loss for lr = 0.000251, decay = 0.000001: 2.126\n",
            "Validation loss for lr = 0.000251, decay = 0.000010: 2.137\n",
            "Validation loss for lr = 0.000251, decay = 0.000000: 2.123\n",
            "Validation loss for lr = 0.000631, decay = 0.000001: 1.252\n",
            "Validation loss for lr = 0.000631, decay = 0.000010: 1.306\n",
            "Validation loss for lr = 0.000631, decay = 0.000000: 1.279\n",
            "Validation loss for lr = 0.001585, decay = 0.000001: 0.486\n",
            "Validation loss for lr = 0.001585, decay = 0.000010: 0.503\n",
            "Validation loss for lr = 0.001585, decay = 0.000000: 0.492\n",
            "Validation loss for lr = 0.003981, decay = 0.000001: 0.322\n",
            "Validation loss for lr = 0.003981, decay = 0.000010: 0.326\n",
            "Validation loss for lr = 0.003981, decay = 0.000000: 0.323\n",
            "Validation loss for lr = 0.010000, decay = 0.000001: 0.226\n",
            "Validation loss for lr = 0.010000, decay = 0.000010: 0.231\n",
            "Validation loss for lr = 0.010000, decay = 0.000000: 0.231\n"
          ]
        }
      ]
    },
    {
      "cell_type": "markdown",
      "source": [
        "### Modeling"
      ],
      "metadata": {
        "id": "IT5eD2MZLZdG"
      }
    },
    {
      "cell_type": "markdown",
      "source": [
        "We first run forward gradient for the optimal hyperparameters."
      ],
      "metadata": {
        "id": "-wwRWd0yLZdG"
      }
    },
    {
      "cell_type": "code",
      "source": [
        "torch.manual_seed(42) # setting seed for reproducibility\n",
        "\n",
        "net = ConvNet().to(device) # defining net\n",
        "\n",
        "# using best lr and decay found in the optimizations below\n",
        "lr = 0.000398\n",
        "decay = 1e-6\n",
        "# making the net functional to run the code in functorch\n",
        "# for evaluating the Jacobian-vector product\n",
        "func, params = ft.make_functional(net)\n",
        "\n",
        "# removing requires gradient as it will not be used\n",
        "# for the forward AD\n",
        "for param in params:\n",
        "    param.requires_grad_(False)\n",
        "\n",
        "# defining our optimizer\n",
        "opt = ForwardSGD(func, functional_xent, params, lr=lr, momentum = False, decay=decay, clip = 1)\n",
        "\n",
        "# training for e epochs\n",
        "losses_fwd = []\n",
        "norms = []\n",
        "epochs = 50\n",
        "test_losses_fwd = []\n",
        "for e in range(epochs):\n",
        "  for j, (image, label) in enumerate(train_data_loader):\n",
        "    image, label = image.to(device), label.to(device)\n",
        "    params, loss, norm = opt.step(image, label)\n",
        "    try:\n",
        "      norms.append(norm.item())\n",
        "    except:\n",
        "      norms.append(norm)\n",
        "    losses_fwd.append(loss.item())\n",
        "\n",
        "  # evaluating on the test set\n",
        "  for i, (image, label) in enumerate(test_data_loader):\n",
        "    with torch.no_grad():\n",
        "      batch_loss = []\n",
        "      image, label = image.to(device), label.to(device)\n",
        "      test_loss = functional_xent(params, func, image, label)\n",
        "      batch_loss.append(test_loss.item())\n",
        "  test_losses_fwd.append(np.mean(batch_loss))\n",
        "  print(f\"Test loss in epoch {e+1}: {format(test_losses_fwd[-1], '.3f')}\")\n"
      ],
      "metadata": {
        "colab": {
          "base_uri": "https://localhost:8080/"
        },
        "outputId": "758510c5-2d5a-4a30-b6eb-3f68794461a6",
        "id": "Gz0-4gC_LZdI"
      },
      "execution_count": null,
      "outputs": [
        {
          "output_type": "stream",
          "name": "stdout",
          "text": [
            "Test loss in epoch 1: 2.2803077697753906\n",
            "Test loss in epoch 2: 2.2389345169067383\n",
            "Test loss in epoch 3: 2.2608096599578857\n",
            "Test loss in epoch 4: 2.1828293800354004\n",
            "Test loss in epoch 5: 2.091196060180664\n",
            "Test loss in epoch 6: 2.085883617401123\n",
            "Test loss in epoch 7: 1.954644799232483\n",
            "Test loss in epoch 8: 1.8096802234649658\n",
            "Test loss in epoch 9: 1.7340152263641357\n",
            "Test loss in epoch 10: 1.4683746099472046\n",
            "Test loss in epoch 11: 1.2674752473831177\n",
            "Test loss in epoch 12: 1.2817819118499756\n",
            "Test loss in epoch 13: 0.8228669762611389\n",
            "Test loss in epoch 14: 1.0629976987838745\n",
            "Test loss in epoch 15: 0.6376643180847168\n",
            "Test loss in epoch 16: 0.888964831829071\n",
            "Test loss in epoch 17: 0.882891833782196\n",
            "Test loss in epoch 18: 1.6762107610702515\n",
            "Test loss in epoch 19: 0.5479592084884644\n",
            "Test loss in epoch 20: 0.964219331741333\n",
            "Test loss in epoch 21: 1.7357947826385498\n",
            "Test loss in epoch 22: 0.8664765357971191\n",
            "Test loss in epoch 23: 3.1643218994140625\n",
            "Test loss in epoch 24: 1.9507195949554443\n",
            "Test loss in epoch 25: 1.0715372562408447\n",
            "Test loss in epoch 26: 2.0675392150878906\n",
            "Test loss in epoch 27: 3.860059976577759\n",
            "Test loss in epoch 28: 3.807645559310913\n",
            "Test loss in epoch 29: 1.9311426877975464\n",
            "Test loss in epoch 30: 2.2671773433685303\n",
            "Test loss in epoch 31: 3.285940408706665\n",
            "Test loss in epoch 32: 4.279500484466553\n",
            "Test loss in epoch 33: 2.636590003967285\n",
            "Test loss in epoch 34: 2.4249958992004395\n",
            "Test loss in epoch 35: 4.404993057250977\n",
            "Test loss in epoch 36: 4.659512519836426\n",
            "Test loss in epoch 37: 4.388706207275391\n",
            "Test loss in epoch 38: 4.088622093200684\n",
            "Test loss in epoch 39: 3.5629711151123047\n",
            "Test loss in epoch 40: 5.32919979095459\n",
            "Test loss in epoch 41: 4.814703941345215\n",
            "Test loss in epoch 42: 4.025480270385742\n",
            "Test loss in epoch 43: 3.241786003112793\n",
            "Test loss in epoch 44: 2.9935925006866455\n",
            "Test loss in epoch 45: 4.801151275634766\n",
            "Test loss in epoch 46: 4.896653175354004\n",
            "Test loss in epoch 47: 6.297211647033691\n",
            "Test loss in epoch 48: 5.154310703277588\n",
            "Test loss in epoch 49: 4.521142482757568\n",
            "Test loss in epoch 50: 2.9131791591644287\n"
          ]
        }
      ]
    },
    {
      "cell_type": "markdown",
      "source": [
        "Backpropagation:"
      ],
      "metadata": {
        "id": "OCYxr--mLZdJ"
      }
    },
    {
      "cell_type": "code",
      "source": [
        "torch.manual_seed(42) # setting seed for reproducibility\n",
        "\n",
        "lr = 0.010000\n",
        "decay = 1e-6\n",
        "epochs = 50\n",
        "lr_new = lr\n",
        "criterion = nn.CrossEntropyLoss() # loss function\n",
        "net = ConvNet().to(device) # defining net\n",
        "\n",
        "# storing losses\n",
        "losses = []\n",
        "test_losses = []\n",
        "steps = 0\n",
        "for e in range(epochs):\n",
        "  # going over training set in batches\n",
        "  for i, (image, label) in enumerate(train_data_loader):\n",
        "    steps += 1\n",
        "    backprop = torch.optim.SGD(net.parameters(), lr=lr_new) # normal SGD in torch\n",
        "    image, label = image.to(device), label.to(device)\n",
        "    backprop.zero_grad()\n",
        "    outputs = net(image)\n",
        "    loss = criterion(outputs, label)\n",
        "    loss.backward()\n",
        "    backprop.step()\n",
        "    losses.append(loss.item())\n",
        "    lr_new = lr * np.exp(-steps*decay)\n",
        "  \n",
        "  # testing on test set\n",
        "  for i, (image, label) in enumerate(test_data_loader):\n",
        "    with torch.no_grad():\n",
        "      batch_loss = []\n",
        "      image, label = image.to(device), label.to(device)\n",
        "      test_loss = criterion(net(image), label)\n",
        "      batch_loss.append(test_loss.item())\n",
        "  test_losses.append(np.mean(batch_loss))\n",
        "  print(f\"Test loss in epoch {e+1}: {(test_losses[-1])}\")"
      ],
      "metadata": {
        "colab": {
          "base_uri": "https://localhost:8080/"
        },
        "outputId": "6bc5e7f1-95f4-4730-8079-e54ea18cf435",
        "id": "hDgs-JJPLZdJ"
      },
      "execution_count": null,
      "outputs": [
        {
          "output_type": "stream",
          "name": "stdout",
          "text": [
            "Test loss in epoch 50: 0.7351681590080261\n",
            "Test loss in epoch 50: 0.14682911336421967\n",
            "Test loss in epoch 50: 0.6396335959434509\n",
            "Test loss in epoch 50: 0.27114662528038025\n",
            "Test loss in epoch 50: 0.21662768721580505\n",
            "Test loss in epoch 50: 0.17748135328292847\n",
            "Test loss in epoch 50: 0.07071450352668762\n",
            "Test loss in epoch 50: 0.24497507512569427\n",
            "Test loss in epoch 50: 0.4674259126186371\n",
            "Test loss in epoch 50: 0.28199830651283264\n",
            "Test loss in epoch 50: 0.1205604076385498\n",
            "Test loss in epoch 50: 0.2431039959192276\n",
            "Test loss in epoch 50: 0.07322549819946289\n",
            "Test loss in epoch 50: 0.5181852579116821\n",
            "Test loss in epoch 50: 0.047042958438396454\n",
            "Test loss in epoch 50: 0.5721909999847412\n",
            "Test loss in epoch 50: 0.15358933806419373\n",
            "Test loss in epoch 50: 0.4720466136932373\n",
            "Test loss in epoch 50: 0.2051210254430771\n",
            "Test loss in epoch 50: 0.07038883864879608\n",
            "Test loss in epoch 50: 0.26860225200653076\n",
            "Test loss in epoch 50: 0.03980583697557449\n",
            "Test loss in epoch 50: 0.652442455291748\n",
            "Test loss in epoch 50: 0.031372904777526855\n",
            "Test loss in epoch 50: 0.008869863115251064\n",
            "Test loss in epoch 50: 0.07215658575296402\n",
            "Test loss in epoch 50: 0.1402837485074997\n",
            "Test loss in epoch 50: 0.021554410457611084\n",
            "Test loss in epoch 50: 0.025377413257956505\n",
            "Test loss in epoch 50: 0.027832750231027603\n",
            "Test loss in epoch 50: 0.23867787420749664\n",
            "Test loss in epoch 50: 0.05718863382935524\n",
            "Test loss in epoch 50: 0.06515231728553772\n",
            "Test loss in epoch 50: 0.03917749971151352\n",
            "Test loss in epoch 50: 0.01917281374335289\n",
            "Test loss in epoch 50: 0.027488823980093002\n",
            "Test loss in epoch 50: 0.02184654399752617\n",
            "Test loss in epoch 50: 0.127301424741745\n",
            "Test loss in epoch 50: 0.03537985682487488\n",
            "Test loss in epoch 50: 0.37975820899009705\n",
            "Test loss in epoch 50: 0.006942368112504482\n",
            "Test loss in epoch 50: 0.04106500744819641\n",
            "Test loss in epoch 50: 0.004280462395399809\n",
            "Test loss in epoch 50: 0.003378429915755987\n",
            "Test loss in epoch 50: 0.002645540051162243\n",
            "Test loss in epoch 50: 0.0800180435180664\n",
            "Test loss in epoch 50: 0.010571097955107689\n",
            "Test loss in epoch 50: 0.06507871299982071\n",
            "Test loss in epoch 50: 0.1963678002357483\n",
            "Test loss in epoch 50: 0.007504474371671677\n"
          ]
        }
      ]
    },
    {
      "cell_type": "markdown",
      "source": [
        "#### Comparing results"
      ],
      "metadata": {
        "id": "chXujDXQLZdJ"
      }
    },
    {
      "cell_type": "code",
      "source": [
        "fig, ax = plt.subplots(1,2,figsize=(16,8))\n",
        "\n",
        "ax[0].plot(losses, color='r', label=\"Backprop\", alpha=.7)\n",
        "ax[0].set_xlabel(\"Iterations\")\n",
        "ax[0].set_ylabel(\"Loss\")\n",
        "ax[0].plot(losses_fwd[:], color='b', label='Forward gradient', alpha=.7)\n",
        "ax[0].set_title(\"Training loss for backprop and forward gradient\")\n",
        "ax[0].legend()\n",
        "\n",
        "ax[1].plot(test_losses, color='r', label=\"Backprop\", alpha=.7)\n",
        "ax[1].set_xlabel(\"Epochs\")\n",
        "ax[1].set_ylabel(\"Loss\")\n",
        "ax[1].plot(test_losses_fwd, color='b', label='Forward gradient', alpha=.7)\n",
        "ax[1].set_title(\"Validation loss for backprop and forward gradient\")\n",
        "ax[1].legend()"
      ],
      "metadata": {
        "colab": {
          "base_uri": "https://localhost:8080/",
          "height": 514
        },
        "outputId": "84c80b46-970c-4709-9f08-3548d69cffdd",
        "id": "njaXMYnwLZdK"
      },
      "execution_count": null,
      "outputs": [
        {
          "output_type": "execute_result",
          "data": {
            "text/plain": [
              "<matplotlib.legend.Legend at 0x7f0f799561d0>"
            ]
          },
          "metadata": {},
          "execution_count": 19
        },
        {
          "output_type": "display_data",
          "data": {
            "text/plain": [
              "<Figure size 1152x576 with 2 Axes>"
            ],
            "image/png": "[encoded data removed]"
          },
          "metadata": {
            "needs_background": "light"
          }
        }
      ]
    },
    {
      "cell_type": "markdown",
      "source": [
        "## SGD with Nesterov momentum\n",
        "\n",
        "We now incorporate SGD with Nesterov momentum."
      ],
      "metadata": {
        "id": "TkQCPFQ0ZH5Q"
      }
    },
    {
      "cell_type": "markdown",
      "source": [
        "### Learning rate optimization\n",
        "\n",
        "The final search for learning rate is in a quite small interval as we earlier tried a wider search, but wanted to reduce the width to find a better optimum."
      ],
      "metadata": {
        "id": "M14-FCx3ZH5n"
      }
    },
    {
      "cell_type": "markdown",
      "source": [
        "Searching for best learning rate and momentum for forward gradient."
      ],
      "metadata": {
        "id": "CHIK0xnEZH5o"
      }
    },
    {
      "cell_type": "code",
      "source": [
        "torch.manual_seed(42) # setting seed for reproducibility\n",
        "\n",
        "# learning rate and momentum grid search for forward gradient\n",
        "learning_rates = np.logspace(-5, -3, 6)\n",
        "momentums = np.append(np.logspace(-6, -5, 2), 0)\n",
        "\n",
        "epochs = 10\n",
        "\n",
        "for gamma in learning_rates:\n",
        "  for momentum in momentums:\n",
        "    net = ConvNet().to(device) # defining net\n",
        "\n",
        "    # making the net functional to run the code in functorch\n",
        "    # for evaluating the Jacobian-vector product\n",
        "    func, params = ft.make_functional(net)\n",
        "\n",
        "    # removing requires gradient as it will not be used\n",
        "    # for the forward AD\n",
        "    for param in params:\n",
        "        param.requires_grad_(False)\n",
        "\n",
        "    # defining our optimizer\n",
        "    opt = ForwardSGD(func, functional_xent, params, lr=gamma,\n",
        "                     momentum = momentum, nesterov = True, decay=0, clip=1)\n",
        "\n",
        "    # training\n",
        "    for e in range(epochs):\n",
        "      for i, (image, label) in enumerate(train_data_loader):\n",
        "        image, label = image.to(device), label.to(device)\n",
        "        params, loss, jvp = opt.step(image, label) # one optimization step\n",
        "\n",
        "    # evaluating on the val set\n",
        "    test_losses = []\n",
        "    for i, (image, label) in enumerate(val_data_loader):\n",
        "      batch_loss = []\n",
        "      with torch.no_grad():\n",
        "        image, label = image.to(device), label.to(device)\n",
        "        val_loss = functional_xent(params, func,image, label)\n",
        "        batch_loss.append(val_loss.item())\n",
        "      test_losses.append(np.mean(batch_loss))\n",
        "    print(f\"Validation loss for lr = {format(gamma,'.6f')}, decay = {format(lambda_,'.6f')}: {format(np.mean(test_losses),'.3f')}\")"
      ],
      "metadata": {
        "colab": {
          "base_uri": "https://localhost:8080/"
        },
        "outputId": "e848a1da-79e4-4b45-f5c9-76a25cd57447",
        "id": "NkHhxVVpZH5o"
      },
      "execution_count": null,
      "outputs": [
        {
          "output_type": "stream",
          "name": "stdout",
          "text": [
            "Validation loss for lr = 0.000010, decay = 0.000001: 2.3024049260813717\n",
            "Validation loss for lr = 0.000010, decay = 0.000010: 2.2973024814751497\n",
            "Validation loss for lr = 0.000010, decay = 0.000100: 2.2996652141498153\n",
            "Validation loss for lr = 0.000025, decay = 0.000001: 2.294420749518522\n",
            "Validation loss for lr = 0.000025, decay = 0.000010: 2.291391800922953\n",
            "Validation loss for lr = 0.000025, decay = 0.000100: 2.2962763840985145\n",
            "Validation loss for lr = 0.000063, decay = 0.000001: 2.2722129396572233\n",
            "Validation loss for lr = 0.000063, decay = 0.000010: 2.2714145836556794\n",
            "Validation loss for lr = 0.000063, decay = 0.000100: 2.2774636350619564\n",
            "Validation loss for lr = 0.000158, decay = 0.000001: 2.20808955210789\n",
            "Validation loss for lr = 0.000158, decay = 0.000010: 2.2020661982761065\n",
            "Validation loss for lr = 0.000158, decay = 0.000100: 2.2419782489728015\n",
            "Validation loss for lr = 0.000398, decay = 0.000001: 1.348107600667674\n",
            "Validation loss for lr = 0.000398, decay = 0.000010: 1.5226576108082084\n",
            "Validation loss for lr = 0.000398, decay = 0.000100: 1.9661041171687423\n",
            "Validation loss for lr = 0.001000, decay = 0.000001: 14.220899314637396\n",
            "Validation loss for lr = 0.001000, decay = 0.000010: 14.78996992414924\n",
            "Validation loss for lr = 0.001000, decay = 0.000100: 13.946541494624629\n"
          ]
        }
      ]
    },
    {
      "cell_type": "markdown",
      "source": [
        "Searching for best learning rate and momentum for backpropagation."
      ],
      "metadata": {
        "id": "VYnzGdWMZH5p"
      }
    },
    {
      "cell_type": "code",
      "source": [
        "torch.manual_seed(42) # setting seed for reporducibility\n",
        "\n",
        "# defining learning rates and decays for grid search\n",
        "learning_rates = np.logspace(-4, -2, 6)\n",
        "momentums = np.append(np.logspace(-6, -5, 2), 0)\n",
        "\n",
        "criterion = nn.CrossEntropyLoss() # loss function\n",
        "for gamma in learning_rates:\n",
        "  for momentum in momentums:\n",
        "    net = ConvNet().to(device) # defining net\n",
        "\n",
        "    # storing losses\n",
        "    losses = []\n",
        "    for epoch in range(epochs):\n",
        "      # going over training set in batches\n",
        "      for i, (image, label) in enumerate(train_data_loader):\n",
        "        backprop = torch.optim.SGD(net.parameters(), lr=gamma,\n",
        "                                   momentum = momentum, nesterov = True) # backprop SGD\n",
        "        image, label = image.to(device), label.to(device)\n",
        "\n",
        "        # optimizing\n",
        "        backprop.zero_grad()\n",
        "        outputs = net(image)\n",
        "        loss = criterion(outputs, label)\n",
        "        loss.backward()\n",
        "        backprop.step()\n",
        "        losses.append(loss.item())\n",
        "\n",
        "    # evaluating on the val set\n",
        "    test_losses = []\n",
        "    for i, (image, label) in enumerate(val_data_loader):\n",
        "      batch_loss = []\n",
        "      with torch.no_grad():\n",
        "        image, label = image.to(device), label.to(device)\n",
        "        val_loss = criterion(net(image), label)\n",
        "        batch_loss.append(val_loss.item())\n",
        "      test_losses.append(np.mean(batch_loss))\n",
        "    print(f\"Validation loss for lr = {format(gamma,'.6f')}, decay = {format(lambda_,'.6f')}: {format(np.mean(test_losses),'.3f')}\")"
      ],
      "metadata": {
        "colab": {
          "base_uri": "https://localhost:8080/"
        },
        "outputId": "b9560846-4314-4851-cd0c-f95dd9714b8b",
        "id": "SkQgBqzVZH5q"
      },
      "execution_count": null,
      "outputs": [
        {
          "output_type": "stream",
          "name": "stdout",
          "text": [
            "Validation loss for lr = 0.000100, decay = 0.000001: 2.254\n",
            "Validation loss for lr = 0.000100, decay = 0.000010: 2.249\n",
            "Validation loss for lr = 0.000100, decay = 0.000000: 2.250\n",
            "Validation loss for lr = 0.000251, decay = 0.000001: 2.126\n",
            "Validation loss for lr = 0.000251, decay = 0.000010: 2.137\n",
            "Validation loss for lr = 0.000251, decay = 0.000000: 2.123\n",
            "Validation loss for lr = 0.000631, decay = 0.000001: 1.252\n",
            "Validation loss for lr = 0.000631, decay = 0.000010: 1.306\n",
            "Validation loss for lr = 0.000631, decay = 0.000000: 1.279\n",
            "Validation loss for lr = 0.001585, decay = 0.000001: 0.486\n",
            "Validation loss for lr = 0.001585, decay = 0.000010: 0.503\n",
            "Validation loss for lr = 0.001585, decay = 0.000000: 0.492\n",
            "Validation loss for lr = 0.003981, decay = 0.000001: 0.322\n",
            "Validation loss for lr = 0.003981, decay = 0.000010: 0.326\n",
            "Validation loss for lr = 0.003981, decay = 0.000000: 0.323\n",
            "Validation loss for lr = 0.010000, decay = 0.000001: 0.226\n",
            "Validation loss for lr = 0.010000, decay = 0.000010: 0.231\n",
            "Validation loss for lr = 0.010000, decay = 0.000000: 0.231\n"
          ]
        }
      ]
    },
    {
      "cell_type": "markdown",
      "source": [
        "### Modeling"
      ],
      "metadata": {
        "id": "KsHp6O-1ZH5r"
      }
    },
    {
      "cell_type": "markdown",
      "source": [
        "We first run forward gradient for the optimal hyperparameters."
      ],
      "metadata": {
        "id": "USJNbhMLZH5r"
      }
    },
    {
      "cell_type": "code",
      "source": [
        "# for reproducible purposes\n",
        "torch.manual_seed(42)\n",
        "\n",
        "net = ConvNet().to(device) # defining net\n",
        "\n",
        "# using best lr and decay found in the optimizations below\n",
        "lr = 0.000398\n",
        "momentum = 0.3\n",
        "# making the net functional to run the code in functorch\n",
        "# for evaluating the Jacobian-vector product\n",
        "func, params = ft.make_functional(net)\n",
        "\n",
        "# removing requires gradient as it will not be used\n",
        "# for the forward AD\n",
        "for param in params:\n",
        "    param.requires_grad_(False)\n",
        "\n",
        "# defining our optimizer\n",
        "opt = ForwardSGD(func, functional_xent, params, lr=lr, momentum = momentum, nesterov = True, clip = 1)\n",
        "\n",
        "# running the code for e epochs\n",
        "losses_fwd = []\n",
        "epochs = 25\n",
        "test_losses_fwd = []\n",
        "for e in range(epochs):\n",
        "  # training\n",
        "  for j, (image, label) in enumerate(train_data_loader):\n",
        "    image, label = image.to(device), label.to(device)\n",
        "    params, loss, jvp = opt.step(image, label)\n",
        "  # evaluating on the test set\n",
        "  for i, (image, label) in enumerate(test_data_loader):\n",
        "    with torch.no_grad():\n",
        "      batch_loss = []\n",
        "      image, label = image.to(device), label.to(device)\n",
        "      test_loss = functional_xent(params, func, image, label)\n",
        "      batch_loss.append(test_loss.item())\n",
        "  test_losses_fwd.append(np.mean(batch_loss))\n",
        "  print(f\"Test loss in epoch {e+1}: {(test_losses_fwd[-1])}\")\n"
      ],
      "metadata": {
        "colab": {
          "base_uri": "https://localhost:8080/"
        },
        "outputId": "ca0f997a-3d2e-4637-9e16-b791ca31c8c6",
        "id": "-UFGnwtMZH5r"
      },
      "execution_count": null,
      "outputs": [
        {
          "output_type": "stream",
          "name": "stdout",
          "text": [
            "Test loss in epoch 1: 2.2803077697753906\n",
            "Test loss in epoch 2: 2.2389345169067383\n",
            "Test loss in epoch 3: 2.2608096599578857\n",
            "Test loss in epoch 4: 2.1828293800354004\n",
            "Test loss in epoch 5: 2.091196060180664\n",
            "Test loss in epoch 6: 2.085883617401123\n",
            "Test loss in epoch 7: 1.954644799232483\n",
            "Test loss in epoch 8: 1.8109370470046997\n",
            "Test loss in epoch 9: 1.7350102663040161\n",
            "Test loss in epoch 10: 1.4522006511688232\n",
            "Test loss in epoch 11: 1.1871819496154785\n",
            "Test loss in epoch 12: 1.3281726837158203\n",
            "Test loss in epoch 13: 0.785765528678894\n",
            "Test loss in epoch 14: 4.64847469329834\n",
            "Test loss in epoch 15: 12.214798927307129\n",
            "Test loss in epoch 16: 11.956789016723633\n",
            "Test loss in epoch 17: 10.960390090942383\n",
            "Test loss in epoch 18: 9.963991165161133\n",
            "Test loss in epoch 19: 11.956789016723633\n",
            "Test loss in epoch 20: 14.945985794067383\n",
            "Test loss in epoch 21: 9.963991165161133\n",
            "Test loss in epoch 22: 11.956789016723633\n",
            "Test loss in epoch 23: 10.960390090942383\n",
            "Test loss in epoch 24: 14.945985794067383\n",
            "Test loss in epoch 25: 14.945985794067383\n"
          ]
        }
      ]
    },
    {
      "cell_type": "markdown",
      "source": [
        "Backpropagation:"
      ],
      "metadata": {
        "id": "L7be6NA4ZH5s"
      }
    },
    {
      "cell_type": "code",
      "source": [
        "torch.manual_seed(42) # setting seed for reproducibility\n",
        "\n",
        "lr = 0.010000\n",
        "decay = 1e-6\n",
        "epochs = 50\n",
        "lr_new = lr\n",
        "criterion = nn.CrossEntropyLoss() # loss function\n",
        "net = ConvNet().to(device) # defining net\n",
        "\n",
        "# storing losses\n",
        "losses = []\n",
        "test_losses = []\n",
        "for e in range(epochs):\n",
        "  # going over training set in batches\n",
        "  for i, (image, label) in enumerate(train_data_loader):\n",
        "    backprop = torch.optim.SGD(net.parameters(), lr=lr_new,\n",
        "                               momentum = momentum, nesterov = True) # normal SGD in torch\n",
        "    image, label = image.to(device), label.to(device)\n",
        "    backprop.zero_grad()\n",
        "    outputs = net(image)\n",
        "    loss = criterion(outputs, label)\n",
        "    loss.backward()\n",
        "    backprop.step()\n",
        "    losses.append(loss.item())\n",
        "  \n",
        "  # testing on test set\n",
        "  for i, (image, label) in enumerate(test_data_loader):\n",
        "    with torch.no_grad():\n",
        "      batch_loss = []\n",
        "      image, label = image.to(device), label.to(device)\n",
        "      test_loss = criterion(net(image), label)\n",
        "      batch_loss.append(test_loss.item())\n",
        "  test_losses.append(np.mean(batch_loss))\n",
        "  print(f\"Test loss in epoch {e+1}: {(test_losses[-1])}\")"
      ],
      "metadata": {
        "colab": {
          "base_uri": "https://localhost:8080/"
        },
        "outputId": "6bc5e7f1-95f4-4730-8079-e54ea18cf435",
        "id": "ahBD1Zo7ZH5s"
      },
      "execution_count": null,
      "outputs": [
        {
          "output_type": "stream",
          "name": "stdout",
          "text": [
            "Test loss in epoch 50: 0.7351681590080261\n",
            "Test loss in epoch 50: 0.14682911336421967\n",
            "Test loss in epoch 50: 0.6396335959434509\n",
            "Test loss in epoch 50: 0.27114662528038025\n",
            "Test loss in epoch 50: 0.21662768721580505\n",
            "Test loss in epoch 50: 0.17748135328292847\n",
            "Test loss in epoch 50: 0.07071450352668762\n",
            "Test loss in epoch 50: 0.24497507512569427\n",
            "Test loss in epoch 50: 0.4674259126186371\n",
            "Test loss in epoch 50: 0.28199830651283264\n",
            "Test loss in epoch 50: 0.1205604076385498\n",
            "Test loss in epoch 50: 0.2431039959192276\n",
            "Test loss in epoch 50: 0.07322549819946289\n",
            "Test loss in epoch 50: 0.5181852579116821\n",
            "Test loss in epoch 50: 0.047042958438396454\n",
            "Test loss in epoch 50: 0.5721909999847412\n",
            "Test loss in epoch 50: 0.15358933806419373\n",
            "Test loss in epoch 50: 0.4720466136932373\n",
            "Test loss in epoch 50: 0.2051210254430771\n",
            "Test loss in epoch 50: 0.07038883864879608\n",
            "Test loss in epoch 50: 0.26860225200653076\n",
            "Test loss in epoch 50: 0.03980583697557449\n",
            "Test loss in epoch 50: 0.652442455291748\n",
            "Test loss in epoch 50: 0.031372904777526855\n",
            "Test loss in epoch 50: 0.008869863115251064\n",
            "Test loss in epoch 50: 0.07215658575296402\n",
            "Test loss in epoch 50: 0.1402837485074997\n",
            "Test loss in epoch 50: 0.021554410457611084\n",
            "Test loss in epoch 50: 0.025377413257956505\n",
            "Test loss in epoch 50: 0.027832750231027603\n",
            "Test loss in epoch 50: 0.23867787420749664\n",
            "Test loss in epoch 50: 0.05718863382935524\n",
            "Test loss in epoch 50: 0.06515231728553772\n",
            "Test loss in epoch 50: 0.03917749971151352\n",
            "Test loss in epoch 50: 0.01917281374335289\n",
            "Test loss in epoch 50: 0.027488823980093002\n",
            "Test loss in epoch 50: 0.02184654399752617\n",
            "Test loss in epoch 50: 0.127301424741745\n",
            "Test loss in epoch 50: 0.03537985682487488\n",
            "Test loss in epoch 50: 0.37975820899009705\n",
            "Test loss in epoch 50: 0.006942368112504482\n",
            "Test loss in epoch 50: 0.04106500744819641\n",
            "Test loss in epoch 50: 0.004280462395399809\n",
            "Test loss in epoch 50: 0.003378429915755987\n",
            "Test loss in epoch 50: 0.002645540051162243\n",
            "Test loss in epoch 50: 0.0800180435180664\n",
            "Test loss in epoch 50: 0.010571097955107689\n",
            "Test loss in epoch 50: 0.06507871299982071\n",
            "Test loss in epoch 50: 0.1963678002357483\n",
            "Test loss in epoch 50: 0.007504474371671677\n"
          ]
        }
      ]
    },
    {
      "cell_type": "markdown",
      "source": [
        "#### Comparing results"
      ],
      "metadata": {
        "id": "7M0UhU8RZH5s"
      }
    },
    {
      "cell_type": "code",
      "source": [
        "fig, ax = plt.subplots(1,2,figsize=(16,8))\n",
        "\n",
        "ax[0].plot(losses, color='r', label=\"Backprop\", alpha=.7)\n",
        "ax[0].set_xlabel(\"Iterations\")\n",
        "ax[0].set_ylabel(\"Loss\")\n",
        "ax[0].plot(losses_fwd[:], color='b', label='Forward gradient', alpha=.7)\n",
        "ax[0].set_title(\"Training loss for backprop and forward gradient\")\n",
        "ax[0].legend()\n",
        "\n",
        "ax[1].plot(test_losses, color='r', label=\"Backprop\", alpha=.7)\n",
        "ax[1].set_xlabel(\"Epochs\")\n",
        "ax[1].set_ylabel(\"Loss\")\n",
        "ax[1].plot(test_losses_fwd, color='b', label='Forward gradient', alpha=.7)\n",
        "ax[1].set_title(\"Validation loss for backprop and forward gradient\")\n",
        "ax[1].legend()"
      ],
      "metadata": {
        "colab": {
          "base_uri": "https://localhost:8080/",
          "height": 514
        },
        "outputId": "84c80b46-970c-4709-9f08-3548d69cffdd",
        "id": "p3Kfs77DZH5t"
      },
      "execution_count": null,
      "outputs": [
        {
          "output_type": "execute_result",
          "data": {
            "text/plain": [
              "<matplotlib.legend.Legend at 0x7f0f799561d0>"
            ]
          },
          "metadata": {},
          "execution_count": 19
        },
        {
          "output_type": "display_data",
          "data": {
            "text/plain": [
              "<Figure size 1152x576 with 2 Axes>"
            ],
            "image/png": "[encoded data removed]"
          },
          "metadata": {
            "needs_background": "light"
          }
        }
      ]
    }
  ]
}